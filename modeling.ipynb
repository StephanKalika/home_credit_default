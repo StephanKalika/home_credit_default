{
 "cells": [
  {
   "cell_type": "markdown",
   "metadata": {},
   "source": [
    "# Home Credit Modeling"
   ]
  },
  {
   "cell_type": "code",
   "execution_count": 65,
   "metadata": {},
   "outputs": [
    {
     "name": "stdout",
     "output_type": "stream",
     "text": [
      "The autotime extension is already loaded. To reload it, use:\n",
      "  %reload_ext autotime\n",
      "time: 5.06 ms\n"
     ]
    }
   ],
   "source": [
    "import numpy as np\n",
    "import pandas as pd\n",
    "import seaborn as sns\n",
    "import matplotlib.pyplot as plt\n",
    "from scipy.stats import iqr, randint, uniform\n",
    "import lightgbm as lgb\n",
    "from sklearn.tree import DecisionTreeClassifier\n",
    "from sklearn.ensemble import RandomForestClassifier\n",
    "from sklearn.linear_model import LogisticRegressionCV\n",
    "from sklearn.preprocessing import Imputer, StandardScaler, RobustScaler\n",
    "from sklearn.model_selection import RandomizedSearchCV, GridSearchCV, train_test_split, cross_val_score\n",
    "from sklearn.metrics import roc_auc_score\n",
    "from skopt import gp_minimize\n",
    "from skopt.plots import plot_convergence, plot_objective\n",
    "import pickle\n",
    "import gc\n",
    "\n",
    "%load_ext autotime\n",
    "\n",
    "gc.enable()\n",
    "np.random.seed(235)\n",
    "\n",
    "path = \"/Users/dsaxton/home_credit_default/\""
   ]
  },
  {
   "cell_type": "markdown",
   "metadata": {},
   "source": [
    "#### Load the data"
   ]
  },
  {
   "cell_type": "code",
   "execution_count": 85,
   "metadata": {},
   "outputs": [
    {
     "name": "stdout",
     "output_type": "stream",
     "text": [
      "time: 26.9 s\n"
     ]
    }
   ],
   "source": [
    "df = pd.read_csv(path + \"preprocessed_train.csv\")"
   ]
  },
  {
   "cell_type": "code",
   "execution_count": 86,
   "metadata": {},
   "outputs": [
    {
     "name": "stdout",
     "output_type": "stream",
     "text": [
      "time: 887 ms\n"
     ]
    }
   ],
   "source": [
    "sk_id_curr = df.pop(\"SK_ID_CURR\")\n",
    "y = df.pop(\"TARGET\")"
   ]
  },
  {
   "cell_type": "markdown",
   "metadata": {},
   "source": [
    "#### Select features"
   ]
  },
  {
   "cell_type": "code",
   "execution_count": 87,
   "metadata": {},
   "outputs": [
    {
     "data": {
      "text/plain": [
       "480"
      ]
     },
     "execution_count": 87,
     "metadata": {},
     "output_type": "execute_result"
    },
    {
     "name": "stdout",
     "output_type": "stream",
     "text": [
      "time: 2min 14s\n"
     ]
    }
   ],
   "source": [
    "clf = lgb.LGBMClassifier(n_estimators=1000, num_leaves=23, subsample=0.5)\n",
    "clf.fit(df, y)\n",
    "\n",
    "lgb_cols = df.columns[clf.feature_importances_ > 0]\n",
    "len(lgb_cols)"
   ]
  },
  {
   "cell_type": "code",
   "execution_count": 88,
   "metadata": {},
   "outputs": [
    {
     "name": "stdout",
     "output_type": "stream",
     "text": [
      "time: 4.96 ms\n"
     ]
    }
   ],
   "source": [
    "var_imp = pd.DataFrame({\"Feature\": df.columns, \"Importance\": clf.feature_importances_})[[\"Feature\", \"Importance\"]].sort_values(\"Importance\", ascending=False)"
   ]
  },
  {
   "cell_type": "markdown",
   "metadata": {},
   "source": [
    "#### View important features"
   ]
  },
  {
   "cell_type": "code",
   "execution_count": 95,
   "metadata": {},
   "outputs": [
    {
     "data": {
      "text/html": [
       "<div>\n",
       "<style scoped>\n",
       "    .dataframe tbody tr th:only-of-type {\n",
       "        vertical-align: middle;\n",
       "    }\n",
       "\n",
       "    .dataframe tbody tr th {\n",
       "        vertical-align: top;\n",
       "    }\n",
       "\n",
       "    .dataframe thead th {\n",
       "        text-align: right;\n",
       "    }\n",
       "</style>\n",
       "<table border=\"1\" class=\"dataframe\">\n",
       "  <thead>\n",
       "    <tr style=\"text-align: right;\">\n",
       "      <th></th>\n",
       "      <th>Feature</th>\n",
       "      <th>Importance</th>\n",
       "    </tr>\n",
       "  </thead>\n",
       "  <tbody>\n",
       "    <tr>\n",
       "      <th>31</th>\n",
       "      <td>EXT_SOURCE_3</td>\n",
       "      <td>391</td>\n",
       "    </tr>\n",
       "    <tr>\n",
       "      <th>30</th>\n",
       "      <td>EXT_SOURCE_2</td>\n",
       "      <td>359</td>\n",
       "    </tr>\n",
       "    <tr>\n",
       "      <th>339</th>\n",
       "      <td>AMT_CREDIT_DIV_AMT_ANNUITY</td>\n",
       "      <td>305</td>\n",
       "    </tr>\n",
       "    <tr>\n",
       "      <th>375</th>\n",
       "      <td>EXT_SOURCE_1_DIV_DAYS_BIRTH</td>\n",
       "      <td>228</td>\n",
       "    </tr>\n",
       "    <tr>\n",
       "      <th>8</th>\n",
       "      <td>DAYS_BIRTH</td>\n",
       "      <td>220</td>\n",
       "    </tr>\n",
       "    <tr>\n",
       "      <th>363</th>\n",
       "      <td>DAYS_REGISTRATION_DIV_DAYS_LAST_PHONE_CHANGE</td>\n",
       "      <td>205</td>\n",
       "    </tr>\n",
       "    <tr>\n",
       "      <th>9</th>\n",
       "      <td>DAYS_EMPLOYED</td>\n",
       "      <td>180</td>\n",
       "    </tr>\n",
       "    <tr>\n",
       "      <th>342</th>\n",
       "      <td>EXT_SOURCE_PROD</td>\n",
       "      <td>174</td>\n",
       "    </tr>\n",
       "    <tr>\n",
       "      <th>11</th>\n",
       "      <td>DAYS_ID_PUBLISH</td>\n",
       "      <td>172</td>\n",
       "    </tr>\n",
       "    <tr>\n",
       "      <th>333</th>\n",
       "      <td>TOTAL_AMT_CREDIT_SUM_POS_DAYS_DIV_SUM_DAYS_CRE...</td>\n",
       "      <td>170</td>\n",
       "    </tr>\n",
       "    <tr>\n",
       "      <th>336</th>\n",
       "      <td>AMT_CREDIT_DIV_AMT_GOODS_PRICE</td>\n",
       "      <td>166</td>\n",
       "    </tr>\n",
       "    <tr>\n",
       "      <th>234</th>\n",
       "      <td>DAYS_SINCE_APPLIED</td>\n",
       "      <td>163</td>\n",
       "    </tr>\n",
       "    <tr>\n",
       "      <th>360</th>\n",
       "      <td>AMT_ANNUITY_DIV_DAYS_EMPLOYED</td>\n",
       "      <td>162</td>\n",
       "    </tr>\n",
       "    <tr>\n",
       "      <th>328</th>\n",
       "      <td>MIN_DAYS_ENTRY_PAYMENT_DIFF_DAYS_INSTALMENT_12M</td>\n",
       "      <td>160</td>\n",
       "    </tr>\n",
       "    <tr>\n",
       "      <th>332</th>\n",
       "      <td>TOTAL_AMT_CREDIT_SUM_DIV_SUM_DAYS_CREDIT_ENDDATE</td>\n",
       "      <td>159</td>\n",
       "    </tr>\n",
       "    <tr>\n",
       "      <th>125</th>\n",
       "      <td>MIN_PREV_AMT_CREDIT_DIV_ANNUITY</td>\n",
       "      <td>157</td>\n",
       "    </tr>\n",
       "    <tr>\n",
       "      <th>5</th>\n",
       "      <td>AMT_ANNUITY</td>\n",
       "      <td>156</td>\n",
       "    </tr>\n",
       "    <tr>\n",
       "      <th>352</th>\n",
       "      <td>AMT_INCOME_TOTAL_DIV_DAYS_BIRTH</td>\n",
       "      <td>155</td>\n",
       "    </tr>\n",
       "    <tr>\n",
       "      <th>184</th>\n",
       "      <td>MAX_BUREAU_UTILIZATION_6M</td>\n",
       "      <td>155</td>\n",
       "    </tr>\n",
       "    <tr>\n",
       "      <th>362</th>\n",
       "      <td>DAYS_REGISTRATION_DIV_DAYS_ID_PUBLISH</td>\n",
       "      <td>154</td>\n",
       "    </tr>\n",
       "    <tr>\n",
       "      <th>235</th>\n",
       "      <td>SUM_INVERSE_DAYS_CREDIT</td>\n",
       "      <td>145</td>\n",
       "    </tr>\n",
       "    <tr>\n",
       "      <th>327</th>\n",
       "      <td>MAX_DAYS_ENTRY_PAYMENT_DIFF_DAYS_INSTALMENT_12M</td>\n",
       "      <td>145</td>\n",
       "    </tr>\n",
       "    <tr>\n",
       "      <th>150</th>\n",
       "      <td>AVG_PREV_PROP_APPROVED</td>\n",
       "      <td>143</td>\n",
       "    </tr>\n",
       "    <tr>\n",
       "      <th>251</th>\n",
       "      <td>TOTAL_AMT_CREDIT_SUM</td>\n",
       "      <td>141</td>\n",
       "    </tr>\n",
       "    <tr>\n",
       "      <th>224</th>\n",
       "      <td>MIN_DAYS_CREDIT_ENDDATE</td>\n",
       "      <td>139</td>\n",
       "    </tr>\n",
       "    <tr>\n",
       "      <th>226</th>\n",
       "      <td>SUM_DAYS_CREDIT_ENDDATE</td>\n",
       "      <td>138</td>\n",
       "    </tr>\n",
       "    <tr>\n",
       "      <th>151</th>\n",
       "      <td>MAX_PREV_PROP_APPROVED</td>\n",
       "      <td>135</td>\n",
       "    </tr>\n",
       "    <tr>\n",
       "      <th>185</th>\n",
       "      <td>MAX_BUREAU_UTILIZATION_12M</td>\n",
       "      <td>134</td>\n",
       "    </tr>\n",
       "    <tr>\n",
       "      <th>320</th>\n",
       "      <td>RANGE_DAYS_ENTRY_PAYMENT</td>\n",
       "      <td>133</td>\n",
       "    </tr>\n",
       "    <tr>\n",
       "      <th>109</th>\n",
       "      <td>AVG_SYNTH_TARGET_12M</td>\n",
       "      <td>133</td>\n",
       "    </tr>\n",
       "    <tr>\n",
       "      <th>344</th>\n",
       "      <td>DAYS_EMPLOYED_PLUS_DAYS_REGISTRATION_PLUS_DAYS...</td>\n",
       "      <td>131</td>\n",
       "    </tr>\n",
       "    <tr>\n",
       "      <th>170</th>\n",
       "      <td>MIN_SYNTH_TARGET</td>\n",
       "      <td>131</td>\n",
       "    </tr>\n",
       "    <tr>\n",
       "      <th>359</th>\n",
       "      <td>AMT_ANNUITY_DIV_DAYS_BIRTH</td>\n",
       "      <td>131</td>\n",
       "    </tr>\n",
       "    <tr>\n",
       "      <th>249</th>\n",
       "      <td>DAYS_CREDIT_RANGE</td>\n",
       "      <td>130</td>\n",
       "    </tr>\n",
       "    <tr>\n",
       "      <th>113</th>\n",
       "      <td>MAX_PREV_PROP_APPROVED_24M</td>\n",
       "      <td>130</td>\n",
       "    </tr>\n",
       "    <tr>\n",
       "      <th>358</th>\n",
       "      <td>OWN_CAR_AGE_PLUS_DAYS_BIRTH</td>\n",
       "      <td>129</td>\n",
       "    </tr>\n",
       "    <tr>\n",
       "      <th>111</th>\n",
       "      <td>AVG_PREV_PROP_APPROVED_24M</td>\n",
       "      <td>128</td>\n",
       "    </tr>\n",
       "    <tr>\n",
       "      <th>324</th>\n",
       "      <td>SUM_PAYMENT_DIFF_6M_12M</td>\n",
       "      <td>126</td>\n",
       "    </tr>\n",
       "    <tr>\n",
       "      <th>146</th>\n",
       "      <td>AVG_PREV_RATE_DOWNPAYMENT_WEIGHTED</td>\n",
       "      <td>126</td>\n",
       "    </tr>\n",
       "    <tr>\n",
       "      <th>337</th>\n",
       "      <td>AMT_CREDIT_DIV_SUM_PAYMENT</td>\n",
       "      <td>125</td>\n",
       "    </tr>\n",
       "    <tr>\n",
       "      <th>340</th>\n",
       "      <td>AMT_CREDIT_DIV_AVG_PREV_REQ_AMOUNT</td>\n",
       "      <td>124</td>\n",
       "    </tr>\n",
       "    <tr>\n",
       "      <th>303</th>\n",
       "      <td>MIN_PAYMENT_SIZE_6M</td>\n",
       "      <td>124</td>\n",
       "    </tr>\n",
       "    <tr>\n",
       "      <th>314</th>\n",
       "      <td>MIN_PAYMENT_SIZE</td>\n",
       "      <td>123</td>\n",
       "    </tr>\n",
       "    <tr>\n",
       "      <th>338</th>\n",
       "      <td>AMT_GOODS_PRICE_DIV_AMT_INCOME_TOTAL</td>\n",
       "      <td>123</td>\n",
       "    </tr>\n",
       "    <tr>\n",
       "      <th>169</th>\n",
       "      <td>MAX_SYNTH_TARGET</td>\n",
       "      <td>122</td>\n",
       "    </tr>\n",
       "    <tr>\n",
       "      <th>79</th>\n",
       "      <td>DAYS_LAST_PHONE_CHANGE</td>\n",
       "      <td>122</td>\n",
       "    </tr>\n",
       "    <tr>\n",
       "      <th>302</th>\n",
       "      <td>MAX_PAYMENT_SIZE_12M</td>\n",
       "      <td>121</td>\n",
       "    </tr>\n",
       "    <tr>\n",
       "      <th>313</th>\n",
       "      <td>MIN_PAYMENT_SIZE_WEIGHTED</td>\n",
       "      <td>121</td>\n",
       "    </tr>\n",
       "    <tr>\n",
       "      <th>10</th>\n",
       "      <td>DAYS_REGISTRATION</td>\n",
       "      <td>121</td>\n",
       "    </tr>\n",
       "    <tr>\n",
       "      <th>247</th>\n",
       "      <td>MAX_DAYS_CREDIT_UPDATE</td>\n",
       "      <td>120</td>\n",
       "    </tr>\n",
       "  </tbody>\n",
       "</table>\n",
       "</div>"
      ],
      "text/plain": [
       "                                               Feature  Importance\n",
       "31                                        EXT_SOURCE_3         391\n",
       "30                                        EXT_SOURCE_2         359\n",
       "339                         AMT_CREDIT_DIV_AMT_ANNUITY         305\n",
       "375                        EXT_SOURCE_1_DIV_DAYS_BIRTH         228\n",
       "8                                           DAYS_BIRTH         220\n",
       "363       DAYS_REGISTRATION_DIV_DAYS_LAST_PHONE_CHANGE         205\n",
       "9                                        DAYS_EMPLOYED         180\n",
       "342                                    EXT_SOURCE_PROD         174\n",
       "11                                     DAYS_ID_PUBLISH         172\n",
       "333  TOTAL_AMT_CREDIT_SUM_POS_DAYS_DIV_SUM_DAYS_CRE...         170\n",
       "336                     AMT_CREDIT_DIV_AMT_GOODS_PRICE         166\n",
       "234                                 DAYS_SINCE_APPLIED         163\n",
       "360                      AMT_ANNUITY_DIV_DAYS_EMPLOYED         162\n",
       "328    MIN_DAYS_ENTRY_PAYMENT_DIFF_DAYS_INSTALMENT_12M         160\n",
       "332   TOTAL_AMT_CREDIT_SUM_DIV_SUM_DAYS_CREDIT_ENDDATE         159\n",
       "125                    MIN_PREV_AMT_CREDIT_DIV_ANNUITY         157\n",
       "5                                          AMT_ANNUITY         156\n",
       "352                    AMT_INCOME_TOTAL_DIV_DAYS_BIRTH         155\n",
       "184                          MAX_BUREAU_UTILIZATION_6M         155\n",
       "362              DAYS_REGISTRATION_DIV_DAYS_ID_PUBLISH         154\n",
       "235                            SUM_INVERSE_DAYS_CREDIT         145\n",
       "327    MAX_DAYS_ENTRY_PAYMENT_DIFF_DAYS_INSTALMENT_12M         145\n",
       "150                             AVG_PREV_PROP_APPROVED         143\n",
       "251                               TOTAL_AMT_CREDIT_SUM         141\n",
       "224                            MIN_DAYS_CREDIT_ENDDATE         139\n",
       "226                            SUM_DAYS_CREDIT_ENDDATE         138\n",
       "151                             MAX_PREV_PROP_APPROVED         135\n",
       "185                         MAX_BUREAU_UTILIZATION_12M         134\n",
       "320                           RANGE_DAYS_ENTRY_PAYMENT         133\n",
       "109                               AVG_SYNTH_TARGET_12M         133\n",
       "344  DAYS_EMPLOYED_PLUS_DAYS_REGISTRATION_PLUS_DAYS...         131\n",
       "170                                   MIN_SYNTH_TARGET         131\n",
       "359                         AMT_ANNUITY_DIV_DAYS_BIRTH         131\n",
       "249                                  DAYS_CREDIT_RANGE         130\n",
       "113                         MAX_PREV_PROP_APPROVED_24M         130\n",
       "358                        OWN_CAR_AGE_PLUS_DAYS_BIRTH         129\n",
       "111                         AVG_PREV_PROP_APPROVED_24M         128\n",
       "324                            SUM_PAYMENT_DIFF_6M_12M         126\n",
       "146                 AVG_PREV_RATE_DOWNPAYMENT_WEIGHTED         126\n",
       "337                         AMT_CREDIT_DIV_SUM_PAYMENT         125\n",
       "340                 AMT_CREDIT_DIV_AVG_PREV_REQ_AMOUNT         124\n",
       "303                                MIN_PAYMENT_SIZE_6M         124\n",
       "314                                   MIN_PAYMENT_SIZE         123\n",
       "338               AMT_GOODS_PRICE_DIV_AMT_INCOME_TOTAL         123\n",
       "169                                   MAX_SYNTH_TARGET         122\n",
       "79                              DAYS_LAST_PHONE_CHANGE         122\n",
       "302                               MAX_PAYMENT_SIZE_12M         121\n",
       "313                          MIN_PAYMENT_SIZE_WEIGHTED         121\n",
       "10                                   DAYS_REGISTRATION         121\n",
       "247                             MAX_DAYS_CREDIT_UPDATE         120"
      ]
     },
     "execution_count": 95,
     "metadata": {},
     "output_type": "execute_result"
    },
    {
     "name": "stdout",
     "output_type": "stream",
     "text": [
      "time: 12.2 ms\n"
     ]
    }
   ],
   "source": [
    "var_imp.head(50)"
   ]
  },
  {
   "cell_type": "markdown",
   "metadata": {},
   "source": [
    "#### Average importance over non-zero importance features"
   ]
  },
  {
   "cell_type": "code",
   "execution_count": 90,
   "metadata": {},
   "outputs": [
    {
     "data": {
      "text/plain": [
       "45"
      ]
     },
     "execution_count": 90,
     "metadata": {},
     "output_type": "execute_result"
    },
    {
     "name": "stdout",
     "output_type": "stream",
     "text": [
      "time: 6.15 ms\n"
     ]
    }
   ],
   "source": [
    "int(np.nanmean(var_imp[\"Importance\"].where(var_imp[\"Importance\"] > 0)))"
   ]
  },
  {
   "cell_type": "markdown",
   "metadata": {},
   "source": [
    "#### Importance of selected features"
   ]
  },
  {
   "cell_type": "code",
   "execution_count": 91,
   "metadata": {},
   "outputs": [
    {
     "data": {
      "text/html": [
       "<div>\n",
       "<style scoped>\n",
       "    .dataframe tbody tr th:only-of-type {\n",
       "        vertical-align: middle;\n",
       "    }\n",
       "\n",
       "    .dataframe tbody tr th {\n",
       "        vertical-align: top;\n",
       "    }\n",
       "\n",
       "    .dataframe thead th {\n",
       "        text-align: right;\n",
       "    }\n",
       "</style>\n",
       "<table border=\"1\" class=\"dataframe\">\n",
       "  <thead>\n",
       "    <tr style=\"text-align: right;\">\n",
       "      <th></th>\n",
       "      <th>Feature</th>\n",
       "      <th>Importance</th>\n",
       "    </tr>\n",
       "  </thead>\n",
       "  <tbody>\n",
       "  </tbody>\n",
       "</table>\n",
       "</div>"
      ],
      "text/plain": [
       "Empty DataFrame\n",
       "Columns: [Feature, Importance]\n",
       "Index: []"
      ]
     },
     "execution_count": 91,
     "metadata": {},
     "output_type": "execute_result"
    },
    {
     "name": "stdout",
     "output_type": "stream",
     "text": [
      "time: 6.43 ms\n"
     ]
    }
   ],
   "source": [
    "features = []\n",
    "\n",
    "var_imp[var_imp[\"Feature\"].isin(features)]"
   ]
  },
  {
   "cell_type": "markdown",
   "metadata": {},
   "source": [
    "#### Features with zero importance"
   ]
  },
  {
   "cell_type": "code",
   "execution_count": 92,
   "metadata": {},
   "outputs": [
    {
     "data": {
      "text/html": [
       "<div>\n",
       "<style scoped>\n",
       "    .dataframe tbody tr th:only-of-type {\n",
       "        vertical-align: middle;\n",
       "    }\n",
       "\n",
       "    .dataframe tbody tr th {\n",
       "        vertical-align: top;\n",
       "    }\n",
       "\n",
       "    .dataframe thead th {\n",
       "        text-align: right;\n",
       "    }\n",
       "</style>\n",
       "<table border=\"1\" class=\"dataframe\">\n",
       "  <thead>\n",
       "    <tr style=\"text-align: right;\">\n",
       "      <th></th>\n",
       "      <th>Feature</th>\n",
       "      <th>Importance</th>\n",
       "    </tr>\n",
       "  </thead>\n",
       "  <tbody>\n",
       "    <tr>\n",
       "      <th>85</th>\n",
       "      <td>FLAG_DOCUMENT_7</td>\n",
       "      <td>0</td>\n",
       "    </tr>\n",
       "    <tr>\n",
       "      <th>411</th>\n",
       "      <td>NAME_FAMILY_STATUS_Unknown</td>\n",
       "      <td>0</td>\n",
       "    </tr>\n",
       "    <tr>\n",
       "      <th>471</th>\n",
       "      <td>ORGANIZATION_TYPE_Industry:_type_6</td>\n",
       "      <td>0</td>\n",
       "    </tr>\n",
       "    <tr>\n",
       "      <th>511</th>\n",
       "      <td>FONDKAPREMONT_MODE_nan</td>\n",
       "      <td>0</td>\n",
       "    </tr>\n",
       "    <tr>\n",
       "      <th>505</th>\n",
       "      <td>ORGANIZATION_TYPE_XNA</td>\n",
       "      <td>0</td>\n",
       "    </tr>\n",
       "    <tr>\n",
       "      <th>504</th>\n",
       "      <td>ORGANIZATION_TYPE_University</td>\n",
       "      <td>0</td>\n",
       "    </tr>\n",
       "    <tr>\n",
       "      <th>88</th>\n",
       "      <td>FLAG_DOCUMENT_10</td>\n",
       "      <td>0</td>\n",
       "    </tr>\n",
       "    <tr>\n",
       "      <th>506</th>\n",
       "      <td>ORGANIZATION_TYPE_nan</td>\n",
       "      <td>0</td>\n",
       "    </tr>\n",
       "    <tr>\n",
       "      <th>82</th>\n",
       "      <td>FLAG_DOCUMENT_4</td>\n",
       "      <td>0</td>\n",
       "    </tr>\n",
       "    <tr>\n",
       "      <th>512</th>\n",
       "      <td>HOUSETYPE_MODE_block_of_flats</td>\n",
       "      <td>0</td>\n",
       "    </tr>\n",
       "    <tr>\n",
       "      <th>406</th>\n",
       "      <td>NAME_EDUCATION_TYPE_nan</td>\n",
       "      <td>0</td>\n",
       "    </tr>\n",
       "    <tr>\n",
       "      <th>514</th>\n",
       "      <td>HOUSETYPE_MODE_terraced_house</td>\n",
       "      <td>0</td>\n",
       "    </tr>\n",
       "    <tr>\n",
       "      <th>80</th>\n",
       "      <td>FLAG_DOCUMENT_2</td>\n",
       "      <td>0</td>\n",
       "    </tr>\n",
       "    <tr>\n",
       "      <th>413</th>\n",
       "      <td>NAME_FAMILY_STATUS_nan</td>\n",
       "      <td>0</td>\n",
       "    </tr>\n",
       "    <tr>\n",
       "      <th>420</th>\n",
       "      <td>NAME_HOUSING_TYPE_nan</td>\n",
       "      <td>0</td>\n",
       "    </tr>\n",
       "    <tr>\n",
       "      <th>447</th>\n",
       "      <td>WEEKDAY_APPR_PROCESS_START_nan</td>\n",
       "      <td>0</td>\n",
       "    </tr>\n",
       "    <tr>\n",
       "      <th>16</th>\n",
       "      <td>FLAG_CONT_MOBILE</td>\n",
       "      <td>0</td>\n",
       "    </tr>\n",
       "    <tr>\n",
       "      <th>428</th>\n",
       "      <td>OCCUPATION_TYPE_IT_staff</td>\n",
       "      <td>0</td>\n",
       "    </tr>\n",
       "    <tr>\n",
       "      <th>14</th>\n",
       "      <td>FLAG_EMP_PHONE</td>\n",
       "      <td>0</td>\n",
       "    </tr>\n",
       "    <tr>\n",
       "      <th>13</th>\n",
       "      <td>FLAG_MOBIL</td>\n",
       "      <td>0</td>\n",
       "    </tr>\n",
       "    <tr>\n",
       "      <th>90</th>\n",
       "      <td>FLAG_DOCUMENT_12</td>\n",
       "      <td>0</td>\n",
       "    </tr>\n",
       "    <tr>\n",
       "      <th>93</th>\n",
       "      <td>FLAG_DOCUMENT_15</td>\n",
       "      <td>0</td>\n",
       "    </tr>\n",
       "    <tr>\n",
       "      <th>500</th>\n",
       "      <td>ORGANIZATION_TYPE_Transport:_type_1</td>\n",
       "      <td>0</td>\n",
       "    </tr>\n",
       "    <tr>\n",
       "      <th>463</th>\n",
       "      <td>ORGANIZATION_TYPE_Industry:_type_10</td>\n",
       "      <td>0</td>\n",
       "    </tr>\n",
       "    <tr>\n",
       "      <th>473</th>\n",
       "      <td>ORGANIZATION_TYPE_Industry:_type_8</td>\n",
       "      <td>0</td>\n",
       "    </tr>\n",
       "    <tr>\n",
       "      <th>394</th>\n",
       "      <td>NAME_INCOME_TYPE_Maternity_leave</td>\n",
       "      <td>0</td>\n",
       "    </tr>\n",
       "    <tr>\n",
       "      <th>395</th>\n",
       "      <td>NAME_INCOME_TYPE_Pensioner</td>\n",
       "      <td>0</td>\n",
       "    </tr>\n",
       "    <tr>\n",
       "      <th>392</th>\n",
       "      <td>NAME_INCOME_TYPE_Businessman</td>\n",
       "      <td>0</td>\n",
       "    </tr>\n",
       "    <tr>\n",
       "      <th>397</th>\n",
       "      <td>NAME_INCOME_TYPE_Student</td>\n",
       "      <td>0</td>\n",
       "    </tr>\n",
       "    <tr>\n",
       "      <th>466</th>\n",
       "      <td>ORGANIZATION_TYPE_Industry:_type_13</td>\n",
       "      <td>0</td>\n",
       "    </tr>\n",
       "    <tr>\n",
       "      <th>398</th>\n",
       "      <td>NAME_INCOME_TYPE_Unemployed</td>\n",
       "      <td>0</td>\n",
       "    </tr>\n",
       "    <tr>\n",
       "      <th>386</th>\n",
       "      <td>NAME_TYPE_SUITE_Group_of_people</td>\n",
       "      <td>0</td>\n",
       "    </tr>\n",
       "    <tr>\n",
       "      <th>400</th>\n",
       "      <td>NAME_INCOME_TYPE_nan</td>\n",
       "      <td>0</td>\n",
       "    </tr>\n",
       "    <tr>\n",
       "      <th>383</th>\n",
       "      <td>CODE_GENDER_nan</td>\n",
       "      <td>0</td>\n",
       "    </tr>\n",
       "    <tr>\n",
       "      <th>485</th>\n",
       "      <td>ORGANIZATION_TYPE_Religion</td>\n",
       "      <td>0</td>\n",
       "    </tr>\n",
       "    <tr>\n",
       "      <th>95</th>\n",
       "      <td>FLAG_DOCUMENT_17</td>\n",
       "      <td>0</td>\n",
       "    </tr>\n",
       "    <tr>\n",
       "      <th>379</th>\n",
       "      <td>NAME_CONTRACT_TYPE_nan</td>\n",
       "      <td>0</td>\n",
       "    </tr>\n",
       "    <tr>\n",
       "      <th>222</th>\n",
       "      <td>SUM_LEN_BUREAU_BALANCE</td>\n",
       "      <td>0</td>\n",
       "    </tr>\n",
       "    <tr>\n",
       "      <th>195</th>\n",
       "      <td>BUREAU_SUM_DEBT_DIFF_12M_24M</td>\n",
       "      <td>0</td>\n",
       "    </tr>\n",
       "    <tr>\n",
       "      <th>192</th>\n",
       "      <td>BUREAU_UTILIZATION_DIFF_6M_12M</td>\n",
       "      <td>0</td>\n",
       "    </tr>\n",
       "    <tr>\n",
       "      <th>458</th>\n",
       "      <td>ORGANIZATION_TYPE_Emergency</td>\n",
       "      <td>0</td>\n",
       "    </tr>\n",
       "    <tr>\n",
       "      <th>98</th>\n",
       "      <td>FLAG_DOCUMENT_20</td>\n",
       "      <td>0</td>\n",
       "    </tr>\n",
       "    <tr>\n",
       "      <th>457</th>\n",
       "      <td>ORGANIZATION_TYPE_Electricity</td>\n",
       "      <td>0</td>\n",
       "    </tr>\n",
       "    <tr>\n",
       "      <th>456</th>\n",
       "      <td>ORGANIZATION_TYPE_Culture</td>\n",
       "      <td>0</td>\n",
       "    </tr>\n",
       "    <tr>\n",
       "      <th>496</th>\n",
       "      <td>ORGANIZATION_TYPE_Trade:_type_4</td>\n",
       "      <td>0</td>\n",
       "    </tr>\n",
       "    <tr>\n",
       "      <th>497</th>\n",
       "      <td>ORGANIZATION_TYPE_Trade:_type_5</td>\n",
       "      <td>0</td>\n",
       "    </tr>\n",
       "    <tr>\n",
       "      <th>382</th>\n",
       "      <td>CODE_GENDER_XNA</td>\n",
       "      <td>0</td>\n",
       "    </tr>\n",
       "  </tbody>\n",
       "</table>\n",
       "</div>"
      ],
      "text/plain": [
       "                                 Feature  Importance\n",
       "85                       FLAG_DOCUMENT_7           0\n",
       "411           NAME_FAMILY_STATUS_Unknown           0\n",
       "471   ORGANIZATION_TYPE_Industry:_type_6           0\n",
       "511               FONDKAPREMONT_MODE_nan           0\n",
       "505                ORGANIZATION_TYPE_XNA           0\n",
       "504         ORGANIZATION_TYPE_University           0\n",
       "88                      FLAG_DOCUMENT_10           0\n",
       "506                ORGANIZATION_TYPE_nan           0\n",
       "82                       FLAG_DOCUMENT_4           0\n",
       "512        HOUSETYPE_MODE_block_of_flats           0\n",
       "406              NAME_EDUCATION_TYPE_nan           0\n",
       "514        HOUSETYPE_MODE_terraced_house           0\n",
       "80                       FLAG_DOCUMENT_2           0\n",
       "413               NAME_FAMILY_STATUS_nan           0\n",
       "420                NAME_HOUSING_TYPE_nan           0\n",
       "447       WEEKDAY_APPR_PROCESS_START_nan           0\n",
       "16                      FLAG_CONT_MOBILE           0\n",
       "428             OCCUPATION_TYPE_IT_staff           0\n",
       "14                        FLAG_EMP_PHONE           0\n",
       "13                            FLAG_MOBIL           0\n",
       "90                      FLAG_DOCUMENT_12           0\n",
       "93                      FLAG_DOCUMENT_15           0\n",
       "500  ORGANIZATION_TYPE_Transport:_type_1           0\n",
       "463  ORGANIZATION_TYPE_Industry:_type_10           0\n",
       "473   ORGANIZATION_TYPE_Industry:_type_8           0\n",
       "394     NAME_INCOME_TYPE_Maternity_leave           0\n",
       "395           NAME_INCOME_TYPE_Pensioner           0\n",
       "392         NAME_INCOME_TYPE_Businessman           0\n",
       "397             NAME_INCOME_TYPE_Student           0\n",
       "466  ORGANIZATION_TYPE_Industry:_type_13           0\n",
       "398          NAME_INCOME_TYPE_Unemployed           0\n",
       "386      NAME_TYPE_SUITE_Group_of_people           0\n",
       "400                 NAME_INCOME_TYPE_nan           0\n",
       "383                      CODE_GENDER_nan           0\n",
       "485           ORGANIZATION_TYPE_Religion           0\n",
       "95                      FLAG_DOCUMENT_17           0\n",
       "379               NAME_CONTRACT_TYPE_nan           0\n",
       "222               SUM_LEN_BUREAU_BALANCE           0\n",
       "195         BUREAU_SUM_DEBT_DIFF_12M_24M           0\n",
       "192       BUREAU_UTILIZATION_DIFF_6M_12M           0\n",
       "458          ORGANIZATION_TYPE_Emergency           0\n",
       "98                      FLAG_DOCUMENT_20           0\n",
       "457        ORGANIZATION_TYPE_Electricity           0\n",
       "456            ORGANIZATION_TYPE_Culture           0\n",
       "496      ORGANIZATION_TYPE_Trade:_type_4           0\n",
       "497      ORGANIZATION_TYPE_Trade:_type_5           0\n",
       "382                      CODE_GENDER_XNA           0"
      ]
     },
     "execution_count": 92,
     "metadata": {},
     "output_type": "execute_result"
    },
    {
     "name": "stdout",
     "output_type": "stream",
     "text": [
      "time: 12.9 ms\n"
     ]
    }
   ],
   "source": [
    "var_imp.query(\"Importance == 0\")"
   ]
  },
  {
   "cell_type": "markdown",
   "metadata": {},
   "source": [
    "#### LightGBM CV"
   ]
  },
  {
   "cell_type": "code",
   "execution_count": null,
   "metadata": {},
   "outputs": [
    {
     "name": "stderr",
     "output_type": "stream",
     "text": [
      "/Users/dsaxton/anaconda3/lib/python3.6/site-packages/lightgbm/engine.py:390: UserWarning: Found `n_estimators` in params. Will use it instead of argument\n",
      "  warnings.warn(\"Found `{}` in params. Will use it instead of argument\".format(alias))\n"
     ]
    },
    {
     "name": "stdout",
     "output_type": "stream",
     "text": [
      "[100]\tcv_agg's auc: 0.759285 + 0.00299913\n",
      "[200]\tcv_agg's auc: 0.762315 + 0.00295487\n",
      "[300]\tcv_agg's auc: 0.764759 + 0.00284802\n",
      "[400]\tcv_agg's auc: 0.766687 + 0.00286511\n",
      "[500]\tcv_agg's auc: 0.768483 + 0.00276088\n",
      "[600]\tcv_agg's auc: 0.770183 + 0.00261199\n",
      "[700]\tcv_agg's auc: 0.771775 + 0.00256216\n",
      "[800]\tcv_agg's auc: 0.773383 + 0.00249986\n",
      "[900]\tcv_agg's auc: 0.774775 + 0.00243562\n",
      "[1000]\tcv_agg's auc: 0.775892 + 0.00241433\n",
      "[1100]\tcv_agg's auc: 0.777092 + 0.00228844\n",
      "[1200]\tcv_agg's auc: 0.778086 + 0.00225557\n",
      "[1300]\tcv_agg's auc: 0.779087 + 0.00220852\n",
      "[1400]\tcv_agg's auc: 0.779953 + 0.00217685\n",
      "[1500]\tcv_agg's auc: 0.780741 + 0.00213519\n",
      "[1600]\tcv_agg's auc: 0.781505 + 0.0020762\n",
      "[1700]\tcv_agg's auc: 0.782161 + 0.00203971\n",
      "[1800]\tcv_agg's auc: 0.78279 + 0.00200276\n",
      "[1900]\tcv_agg's auc: 0.783375 + 0.00199682\n",
      "[2000]\tcv_agg's auc: 0.783941 + 0.00196246\n",
      "[2100]\tcv_agg's auc: 0.784435 + 0.00197084\n",
      "[2200]\tcv_agg's auc: 0.784918 + 0.00197256\n",
      "[2300]\tcv_agg's auc: 0.785375 + 0.00197646\n",
      "[2400]\tcv_agg's auc: 0.785808 + 0.00198021\n",
      "[2500]\tcv_agg's auc: 0.786156 + 0.00200313\n",
      "[2600]\tcv_agg's auc: 0.786488 + 0.00201482\n",
      "[2700]\tcv_agg's auc: 0.786803 + 0.00200658\n"
     ]
    }
   ],
   "source": [
    "params = {\"n_estimators\": 20000, \n",
    "          \"num_leaves\": 113, \n",
    "          \"max_depth\": 13,\n",
    "          \"learning_rate\": 0.003, \n",
    "          \"subsample\": 0.5, \n",
    "          \"colsample_bytree\": 0.5, \n",
    "          \"reg_lambda\": 0.8}\n",
    "\n",
    "lgb_data = lgb.Dataset(data=df[lgb_cols], \n",
    "                       label=y)\n",
    "\n",
    "cv_result = lgb.cv(params=params, \n",
    "                   train_set=lgb_data, \n",
    "                   nfold=5, \n",
    "                   metrics=\"auc\", \n",
    "                   early_stopping_rounds=200, \n",
    "                   stratified=True, \n",
    "                   shuffle=True, \n",
    "                   verbose_eval=100, \n",
    "                   show_stdv=True, \n",
    "                   seed=123)\n",
    "\n",
    "cv_result = pd.DataFrame(cv_result)"
   ]
  },
  {
   "cell_type": "code",
   "execution_count": null,
   "metadata": {},
   "outputs": [],
   "source": [
    "cv_result.tail()"
   ]
  },
  {
   "cell_type": "markdown",
   "metadata": {},
   "source": [
    "#### Fit chosen model\n",
    "\n",
    "CV mean:  0.790438"
   ]
  },
  {
   "cell_type": "code",
   "execution_count": 78,
   "metadata": {},
   "outputs": [
    {
     "data": {
      "text/plain": [
       "LGBMClassifier(boosting_type='gbdt', class_weight=None, colsample_bytree=0.5,\n",
       "        learning_rate=0.0025, max_depth=10, min_child_samples=20,\n",
       "        min_child_weight=0.001, min_split_gain=0.0, n_estimators=6876,\n",
       "        n_jobs=-1, num_leaves=113, objective=None, random_state=None,\n",
       "        reg_alpha=0.0, reg_lambda=0.8, silent=True, subsample=0.5,\n",
       "        subsample_for_bin=200000, subsample_freq=1)"
      ]
     },
     "execution_count": 78,
     "metadata": {},
     "output_type": "execute_result"
    },
    {
     "name": "stdout",
     "output_type": "stream",
     "text": [
      "time: 30min 31s\n"
     ]
    }
   ],
   "source": [
    "lgb_model = lgb.LGBMClassifier(n_estimators=6876, \n",
    "                         num_leaves=113, \n",
    "                         max_depth=10,\n",
    "                         learning_rate=0.0025, \n",
    "                         subsample=0.5, \n",
    "                         colsample_bytree=0.5, \n",
    "                         reg_lambda=0.8)\n",
    "\n",
    "lgb_model.fit(df[lgb_cols], y)"
   ]
  },
  {
   "cell_type": "markdown",
   "metadata": {},
   "source": [
    "#### Score test data and generate submission"
   ]
  },
  {
   "cell_type": "code",
   "execution_count": 79,
   "metadata": {},
   "outputs": [
    {
     "name": "stdout",
     "output_type": "stream",
     "text": [
      "time: 4.26 s\n"
     ]
    }
   ],
   "source": [
    "df = pd.read_csv(path + \"preprocessed_test.csv\")"
   ]
  },
  {
   "cell_type": "code",
   "execution_count": 80,
   "metadata": {},
   "outputs": [
    {
     "name": "stdout",
     "output_type": "stream",
     "text": [
      "time: 10 ms\n"
     ]
    }
   ],
   "source": [
    "df[\"NAME_INCOME_TYPE_Maternity_leave\"] = 0"
   ]
  },
  {
   "cell_type": "code",
   "execution_count": 81,
   "metadata": {},
   "outputs": [
    {
     "data": {
      "text/html": [
       "<div>\n",
       "<style scoped>\n",
       "    .dataframe tbody tr th:only-of-type {\n",
       "        vertical-align: middle;\n",
       "    }\n",
       "\n",
       "    .dataframe tbody tr th {\n",
       "        vertical-align: top;\n",
       "    }\n",
       "\n",
       "    .dataframe thead th {\n",
       "        text-align: right;\n",
       "    }\n",
       "</style>\n",
       "<table border=\"1\" class=\"dataframe\">\n",
       "  <thead>\n",
       "    <tr style=\"text-align: right;\">\n",
       "      <th></th>\n",
       "      <th>SK_ID_CURR</th>\n",
       "      <th>TARGET</th>\n",
       "    </tr>\n",
       "  </thead>\n",
       "  <tbody>\n",
       "    <tr>\n",
       "      <th>0</th>\n",
       "      <td>100001</td>\n",
       "      <td>0.033505</td>\n",
       "    </tr>\n",
       "    <tr>\n",
       "      <th>1</th>\n",
       "      <td>100005</td>\n",
       "      <td>0.123829</td>\n",
       "    </tr>\n",
       "    <tr>\n",
       "      <th>2</th>\n",
       "      <td>100013</td>\n",
       "      <td>0.026391</td>\n",
       "    </tr>\n",
       "    <tr>\n",
       "      <th>3</th>\n",
       "      <td>100028</td>\n",
       "      <td>0.033826</td>\n",
       "    </tr>\n",
       "    <tr>\n",
       "      <th>4</th>\n",
       "      <td>100038</td>\n",
       "      <td>0.170974</td>\n",
       "    </tr>\n",
       "  </tbody>\n",
       "</table>\n",
       "</div>"
      ],
      "text/plain": [
       "   SK_ID_CURR    TARGET\n",
       "0      100001  0.033505\n",
       "1      100005  0.123829\n",
       "2      100013  0.026391\n",
       "3      100028  0.033826\n",
       "4      100038  0.170974"
      ]
     },
     "execution_count": 81,
     "metadata": {},
     "output_type": "execute_result"
    },
    {
     "name": "stdout",
     "output_type": "stream",
     "text": [
      "time: 26.3 s\n"
     ]
    }
   ],
   "source": [
    "submission = pd.DataFrame({\"SK_ID_CURR\": df[\"SK_ID_CURR\"], \n",
    "                           \"TARGET\": lgb_model.predict_proba(df[lgb_cols])[:,1]})\n",
    "\n",
    "submission.head()"
   ]
  },
  {
   "cell_type": "code",
   "execution_count": 82,
   "metadata": {},
   "outputs": [
    {
     "name": "stdout",
     "output_type": "stream",
     "text": [
      "time: 176 ms\n"
     ]
    }
   ],
   "source": [
    "submission.to_csv(path + \"submission.csv\", index=False)"
   ]
  }
 ],
 "metadata": {
  "kernelspec": {
   "display_name": "Python 3",
   "language": "python",
   "name": "python3"
  },
  "language_info": {
   "codemirror_mode": {
    "name": "ipython",
    "version": 3
   },
   "file_extension": ".py",
   "mimetype": "text/x-python",
   "name": "python",
   "nbconvert_exporter": "python",
   "pygments_lexer": "ipython3",
   "version": "3.6.5"
  }
 },
 "nbformat": 4,
 "nbformat_minor": 2
}
