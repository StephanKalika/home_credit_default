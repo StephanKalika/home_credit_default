{
 "cells": [
  {
   "cell_type": "markdown",
   "metadata": {},
   "source": [
    "# Home Credit Modeling"
   ]
  },
  {
   "cell_type": "code",
   "execution_count": 149,
   "metadata": {},
   "outputs": [
    {
     "name": "stdout",
     "output_type": "stream",
     "text": [
      "The autotime extension is already loaded. To reload it, use:\n",
      "  %reload_ext autotime\n",
      "time: 78.9 ms\n"
     ]
    }
   ],
   "source": [
    "import numpy as np\n",
    "import pandas as pd\n",
    "import seaborn as sns\n",
    "import matplotlib.pyplot as plt\n",
    "from scipy.stats import iqr, randint, uniform\n",
    "import lightgbm as lgb\n",
    "from sklearn.tree import DecisionTreeClassifier\n",
    "from sklearn.ensemble import RandomForestClassifier\n",
    "from sklearn.linear_model import LogisticRegressionCV\n",
    "from sklearn.naive_bayes import GaussianNB\n",
    "from sklearn.preprocessing import Imputer, StandardScaler, RobustScaler\n",
    "from sklearn.model_selection import RandomizedSearchCV, GridSearchCV, train_test_split, cross_val_score\n",
    "from sklearn.metrics import roc_auc_score\n",
    "from skopt import gp_minimize\n",
    "from skopt.plots import plot_convergence, plot_objective\n",
    "import pickle\n",
    "import gc\n",
    "\n",
    "%load_ext autotime\n",
    "\n",
    "gc.enable()\n",
    "np.random.seed(235)\n",
    "\n",
    "path = \"/Users/dsaxton/home_credit_default/\""
   ]
  },
  {
   "cell_type": "markdown",
   "metadata": {},
   "source": [
    "#### Load the data"
   ]
  },
  {
   "cell_type": "code",
   "execution_count": 183,
   "metadata": {},
   "outputs": [
    {
     "name": "stdout",
     "output_type": "stream",
     "text": [
      "time: 36.6 s\n"
     ]
    }
   ],
   "source": [
    "df = pd.read_csv(path + \"train.csv\")"
   ]
  },
  {
   "cell_type": "code",
   "execution_count": 184,
   "metadata": {},
   "outputs": [
    {
     "name": "stdout",
     "output_type": "stream",
     "text": [
      "time: 455 ms\n"
     ]
    }
   ],
   "source": [
    "sk_id_curr = df.pop(\"SK_ID_CURR\")\n",
    "y = df.pop(\"TARGET\")"
   ]
  },
  {
   "cell_type": "markdown",
   "metadata": {},
   "source": [
    "#### Select features"
   ]
  },
  {
   "cell_type": "code",
   "execution_count": 185,
   "metadata": {},
   "outputs": [
    {
     "data": {
      "text/plain": [
       "462"
      ]
     },
     "execution_count": 185,
     "metadata": {},
     "output_type": "execute_result"
    },
    {
     "name": "stdout",
     "output_type": "stream",
     "text": [
      "time: 3min 23s\n"
     ]
    }
   ],
   "source": [
    "clf = lgb.LGBMClassifier(n_estimators=1000, num_leaves=23, subsample=0.5)\n",
    "clf.fit(df, y)\n",
    "\n",
    "lgb_cols = df.columns[clf.feature_importances_ > 0]\n",
    "len(lgb_cols)"
   ]
  },
  {
   "cell_type": "code",
   "execution_count": 186,
   "metadata": {},
   "outputs": [
    {
     "name": "stdout",
     "output_type": "stream",
     "text": [
      "time: 16.8 ms\n"
     ]
    }
   ],
   "source": [
    "var_imp = pd.DataFrame({\"Feature\": df.columns, \"Importance\": clf.feature_importances_})[[\"Feature\", \"Importance\"]].sort_values(\"Importance\", ascending=False)"
   ]
  },
  {
   "cell_type": "markdown",
   "metadata": {},
   "source": [
    "#### View important features"
   ]
  },
  {
   "cell_type": "code",
   "execution_count": 187,
   "metadata": {},
   "outputs": [
    {
     "data": {
      "text/html": [
       "<div>\n",
       "<style scoped>\n",
       "    .dataframe tbody tr th:only-of-type {\n",
       "        vertical-align: middle;\n",
       "    }\n",
       "\n",
       "    .dataframe tbody tr th {\n",
       "        vertical-align: top;\n",
       "    }\n",
       "\n",
       "    .dataframe thead th {\n",
       "        text-align: right;\n",
       "    }\n",
       "</style>\n",
       "<table border=\"1\" class=\"dataframe\">\n",
       "  <thead>\n",
       "    <tr style=\"text-align: right;\">\n",
       "      <th></th>\n",
       "      <th>Feature</th>\n",
       "      <th>Importance</th>\n",
       "    </tr>\n",
       "  </thead>\n",
       "  <tbody>\n",
       "    <tr>\n",
       "      <th>32</th>\n",
       "      <td>EXT_SOURCE_3</td>\n",
       "      <td>386</td>\n",
       "    </tr>\n",
       "    <tr>\n",
       "      <th>31</th>\n",
       "      <td>EXT_SOURCE_2</td>\n",
       "      <td>379</td>\n",
       "    </tr>\n",
       "    <tr>\n",
       "      <th>367</th>\n",
       "      <td>AMT_CREDIT_DIV_AMT_ANNUITY</td>\n",
       "      <td>277</td>\n",
       "    </tr>\n",
       "    <tr>\n",
       "      <th>407</th>\n",
       "      <td>EXT_SOURCE_1_DIV_DAYS_BIRTH</td>\n",
       "      <td>248</td>\n",
       "    </tr>\n",
       "    <tr>\n",
       "      <th>8</th>\n",
       "      <td>DAYS_BIRTH</td>\n",
       "      <td>203</td>\n",
       "    </tr>\n",
       "    <tr>\n",
       "      <th>409</th>\n",
       "      <td>AVG_AGG_SYNTHETIC_TARGET</td>\n",
       "      <td>198</td>\n",
       "    </tr>\n",
       "    <tr>\n",
       "      <th>395</th>\n",
       "      <td>DAYS_REGISTRATION_DIV_DAYS_LAST_PHONE_CHANGE</td>\n",
       "      <td>186</td>\n",
       "    </tr>\n",
       "    <tr>\n",
       "      <th>350</th>\n",
       "      <td>MIN_DAYS_ENTRY_PAYMENT_DIFF_DAYS_INSTALMENT_12M</td>\n",
       "      <td>180</td>\n",
       "    </tr>\n",
       "    <tr>\n",
       "      <th>364</th>\n",
       "      <td>AMT_CREDIT_DIV_AMT_GOODS_PRICE</td>\n",
       "      <td>171</td>\n",
       "    </tr>\n",
       "    <tr>\n",
       "      <th>11</th>\n",
       "      <td>DAYS_ID_PUBLISH</td>\n",
       "      <td>165</td>\n",
       "    </tr>\n",
       "    <tr>\n",
       "      <th>392</th>\n",
       "      <td>AMT_ANNUITY_DIV_DAYS_EMPLOYED</td>\n",
       "      <td>159</td>\n",
       "    </tr>\n",
       "    <tr>\n",
       "      <th>370</th>\n",
       "      <td>EXT_SOURCE_PROD</td>\n",
       "      <td>157</td>\n",
       "    </tr>\n",
       "    <tr>\n",
       "      <th>391</th>\n",
       "      <td>AMT_ANNUITY_DIV_DAYS_BIRTH</td>\n",
       "      <td>151</td>\n",
       "    </tr>\n",
       "    <tr>\n",
       "      <th>372</th>\n",
       "      <td>DAYS_EMPLOYED_PLUS_DAYS_REGISTRATION_PLUS_DAYS...</td>\n",
       "      <td>150</td>\n",
       "    </tr>\n",
       "    <tr>\n",
       "      <th>360</th>\n",
       "      <td>TOTAL_AMT_CREDIT_SUM_POS_DAYS_DIV_SUM_DAYS_CRE...</td>\n",
       "      <td>150</td>\n",
       "    </tr>\n",
       "    <tr>\n",
       "      <th>9</th>\n",
       "      <td>DAYS_EMPLOYED</td>\n",
       "      <td>149</td>\n",
       "    </tr>\n",
       "    <tr>\n",
       "      <th>243</th>\n",
       "      <td>MAX_DAYS_CREDIT_ENDDATE</td>\n",
       "      <td>145</td>\n",
       "    </tr>\n",
       "    <tr>\n",
       "      <th>349</th>\n",
       "      <td>MAX_DAYS_ENTRY_PAYMENT_DIFF_DAYS_INSTALMENT_12M</td>\n",
       "      <td>145</td>\n",
       "    </tr>\n",
       "    <tr>\n",
       "      <th>5</th>\n",
       "      <td>AMT_ANNUITY</td>\n",
       "      <td>143</td>\n",
       "    </tr>\n",
       "    <tr>\n",
       "      <th>351</th>\n",
       "      <td>INSTALLMENT_AGG_SYNTHETIC_TARGET</td>\n",
       "      <td>141</td>\n",
       "    </tr>\n",
       "  </tbody>\n",
       "</table>\n",
       "</div>"
      ],
      "text/plain": [
       "                                               Feature  Importance\n",
       "32                                        EXT_SOURCE_3         386\n",
       "31                                        EXT_SOURCE_2         379\n",
       "367                         AMT_CREDIT_DIV_AMT_ANNUITY         277\n",
       "407                        EXT_SOURCE_1_DIV_DAYS_BIRTH         248\n",
       "8                                           DAYS_BIRTH         203\n",
       "409                           AVG_AGG_SYNTHETIC_TARGET         198\n",
       "395       DAYS_REGISTRATION_DIV_DAYS_LAST_PHONE_CHANGE         186\n",
       "350    MIN_DAYS_ENTRY_PAYMENT_DIFF_DAYS_INSTALMENT_12M         180\n",
       "364                     AMT_CREDIT_DIV_AMT_GOODS_PRICE         171\n",
       "11                                     DAYS_ID_PUBLISH         165\n",
       "392                      AMT_ANNUITY_DIV_DAYS_EMPLOYED         159\n",
       "370                                    EXT_SOURCE_PROD         157\n",
       "391                         AMT_ANNUITY_DIV_DAYS_BIRTH         151\n",
       "372  DAYS_EMPLOYED_PLUS_DAYS_REGISTRATION_PLUS_DAYS...         150\n",
       "360  TOTAL_AMT_CREDIT_SUM_POS_DAYS_DIV_SUM_DAYS_CRE...         150\n",
       "9                                        DAYS_EMPLOYED         149\n",
       "243                            MAX_DAYS_CREDIT_ENDDATE         145\n",
       "349    MAX_DAYS_ENTRY_PAYMENT_DIFF_DAYS_INSTALMENT_12M         145\n",
       "5                                          AMT_ANNUITY         143\n",
       "351                   INSTALLMENT_AGG_SYNTHETIC_TARGET         141"
      ]
     },
     "execution_count": 187,
     "metadata": {},
     "output_type": "execute_result"
    },
    {
     "name": "stdout",
     "output_type": "stream",
     "text": [
      "time: 21.3 ms\n"
     ]
    }
   ],
   "source": [
    "var_imp.head(20)"
   ]
  },
  {
   "cell_type": "markdown",
   "metadata": {},
   "source": [
    "#### LightGBM CV"
   ]
  },
  {
   "cell_type": "code",
   "execution_count": null,
   "metadata": {},
   "outputs": [
    {
     "name": "stderr",
     "output_type": "stream",
     "text": [
      "/Users/dsaxton/anaconda3/lib/python3.6/site-packages/lightgbm/engine.py:390: UserWarning: Found `n_estimators` in params. Will use it instead of argument\n",
      "  warnings.warn(\"Found `{}` in params. Will use it instead of argument\".format(alias))\n"
     ]
    },
    {
     "name": "stdout",
     "output_type": "stream",
     "text": [
      "[100]\tcv_agg's auc: 0.766751 + 0.00198604\n",
      "[200]\tcv_agg's auc: 0.770629 + 0.00192756\n",
      "[300]\tcv_agg's auc: 0.774286 + 0.00188278\n",
      "[400]\tcv_agg's auc: 0.777267 + 0.00189604\n",
      "[500]\tcv_agg's auc: 0.779887 + 0.00179658\n",
      "[600]\tcv_agg's auc: 0.782038 + 0.00171513\n",
      "[700]\tcv_agg's auc: 0.783698 + 0.00170026\n",
      "[800]\tcv_agg's auc: 0.785083 + 0.00169543\n",
      "[900]\tcv_agg's auc: 0.786334 + 0.00175759\n",
      "[1000]\tcv_agg's auc: 0.787358 + 0.0017759\n",
      "[1100]\tcv_agg's auc: 0.788115 + 0.00187658\n",
      "[1200]\tcv_agg's auc: 0.788781 + 0.00191058\n",
      "[1300]\tcv_agg's auc: 0.789424 + 0.0019506\n",
      "[1400]\tcv_agg's auc: 0.789955 + 0.00195543\n",
      "[1500]\tcv_agg's auc: 0.790368 + 0.00199909\n",
      "[1600]\tcv_agg's auc: 0.790743 + 0.00202863\n",
      "[1700]\tcv_agg's auc: 0.791074 + 0.00200372\n",
      "[1800]\tcv_agg's auc: 0.79137 + 0.0019819\n",
      "[1900]\tcv_agg's auc: 0.791605 + 0.00206319\n",
      "[2000]\tcv_agg's auc: 0.791788 + 0.00203985\n",
      "[2100]\tcv_agg's auc: 0.79194 + 0.00205392\n",
      "[2200]\tcv_agg's auc: 0.79208 + 0.00204907\n",
      "[2300]\tcv_agg's auc: 0.792201 + 0.00207151\n",
      "[2400]\tcv_agg's auc: 0.792305 + 0.0020812\n",
      "[2500]\tcv_agg's auc: 0.792444 + 0.00211458\n",
      "[2600]\tcv_agg's auc: 0.792499 + 0.00216328\n",
      "[2700]\tcv_agg's auc: 0.792552 + 0.00215128\n",
      "[2800]\tcv_agg's auc: 0.792597 + 0.00211977\n",
      "[2900]\tcv_agg's auc: 0.792628 + 0.00212385\n",
      "[3000]\tcv_agg's auc: 0.792657 + 0.00215599\n",
      "[3100]\tcv_agg's auc: 0.792668 + 0.00213588\n",
      "[3200]\tcv_agg's auc: 0.792667 + 0.00216759\n",
      "[3300]\tcv_agg's auc: 0.792677 + 0.00218008\n",
      "[3400]\tcv_agg's auc: 0.792668 + 0.00217434\n"
     ]
    }
   ],
   "source": [
    "params = {\"n_estimators\": 20000, \n",
    "          \"num_leaves\": 500, \n",
    "          \"min_data_in_leaf\": 1000,\n",
    "          \"learning_rate\": 0.005, \n",
    "          \"bagging_fraction\": 0.5, \n",
    "          \"bagging_freq\": 1, \n",
    "          \"feature_fraction\": 0.5, \n",
    "          \"lambda_l2\": 1.2}\n",
    "\n",
    "lgb_data = lgb.Dataset(data=df, \n",
    "                       label=y)\n",
    "\n",
    "cv_result = lgb.cv(params=params, \n",
    "                   train_set=lgb_data, \n",
    "                   nfold=5, \n",
    "                   metrics=\"auc\", \n",
    "                   early_stopping_rounds=200, \n",
    "                   stratified=True, \n",
    "                   shuffle=True, \n",
    "                   verbose_eval=100, \n",
    "                   show_stdv=True, \n",
    "                   seed=2357)\n",
    "\n",
    "cv_result = pd.DataFrame(cv_result)"
   ]
  },
  {
   "cell_type": "code",
   "execution_count": null,
   "metadata": {},
   "outputs": [],
   "source": [
    "cv_result.tail()"
   ]
  },
  {
   "cell_type": "markdown",
   "metadata": {},
   "source": [
    "CV mean: 0.792743\n",
    "\n",
    "```\n",
    "params = {\"n_estimators\": 3183, \n",
    "          \"num_leaves\": 500, \n",
    "          \"min_data_in_leaf\": 1000,\n",
    "          \"learning_rate\": 0.005, \n",
    "          \"bagging_fraction\": 0.5, \n",
    "          \"bagging_freq\": 1, \n",
    "          \"feature_fraction\": 0.5, \n",
    "          \"lambda_l2\": 1}\n",
    "```"
   ]
  },
  {
   "cell_type": "markdown",
   "metadata": {},
   "source": [
    "#### Fit chosen model"
   ]
  },
  {
   "cell_type": "code",
   "execution_count": 176,
   "metadata": {},
   "outputs": [
    {
     "data": {
      "text/plain": [
       "LGBMClassifier(bagging_fraction=0.5, boosting_type='gbdt', class_weight=None,\n",
       "        colsample_bytree=1.0, feature_fraction=0.5, lambda_l2=0.8,\n",
       "        learning_rate=0.005, max_depth=-1, min_child_samples=20,\n",
       "        min_child_weight=0.001, min_data_in_leaf=1000, min_split_gain=0.0,\n",
       "        n_estimators=2767, n_jobs=-1, num_leaves=500, objective=None,\n",
       "        random_state=None, reg_alpha=0.0, reg_lambda=0.0, silent=True,\n",
       "        subsample=1.0, subsample_for_bin=200000, subsample_freq=1)"
      ]
     },
     "execution_count": 176,
     "metadata": {},
     "output_type": "execute_result"
    },
    {
     "name": "stdout",
     "output_type": "stream",
     "text": [
      "time: 17min 56s\n"
     ]
    }
   ],
   "source": [
    "lgb_model = lgb.LGBMClassifier(n_estimators=2767, \n",
    "                         num_leaves=500, \n",
    "                         min_data_in_leaf=1000,\n",
    "                         learning_rate=0.005, \n",
    "                         bagging_fraction=0.5, \n",
    "                         feature_fraction=0.5, \n",
    "                         lambda_l2=0.8)\n",
    "\n",
    "lgb_model.fit(df[lgb_cols], y)"
   ]
  },
  {
   "cell_type": "markdown",
   "metadata": {},
   "source": [
    "#### Score test data and generate submission"
   ]
  },
  {
   "cell_type": "code",
   "execution_count": 177,
   "metadata": {},
   "outputs": [
    {
     "name": "stdout",
     "output_type": "stream",
     "text": [
      "time: 4.12 s\n"
     ]
    }
   ],
   "source": [
    "df = pd.read_csv(path + \"test.csv\")"
   ]
  },
  {
   "cell_type": "code",
   "execution_count": 178,
   "metadata": {},
   "outputs": [
    {
     "data": {
      "text/html": [
       "<div>\n",
       "<style scoped>\n",
       "    .dataframe tbody tr th:only-of-type {\n",
       "        vertical-align: middle;\n",
       "    }\n",
       "\n",
       "    .dataframe tbody tr th {\n",
       "        vertical-align: top;\n",
       "    }\n",
       "\n",
       "    .dataframe thead th {\n",
       "        text-align: right;\n",
       "    }\n",
       "</style>\n",
       "<table border=\"1\" class=\"dataframe\">\n",
       "  <thead>\n",
       "    <tr style=\"text-align: right;\">\n",
       "      <th></th>\n",
       "      <th>SK_ID_CURR</th>\n",
       "      <th>TARGET</th>\n",
       "    </tr>\n",
       "  </thead>\n",
       "  <tbody>\n",
       "    <tr>\n",
       "      <th>0</th>\n",
       "      <td>100001</td>\n",
       "      <td>0.043615</td>\n",
       "    </tr>\n",
       "    <tr>\n",
       "      <th>1</th>\n",
       "      <td>100005</td>\n",
       "      <td>0.136380</td>\n",
       "    </tr>\n",
       "    <tr>\n",
       "      <th>2</th>\n",
       "      <td>100013</td>\n",
       "      <td>0.023205</td>\n",
       "    </tr>\n",
       "    <tr>\n",
       "      <th>3</th>\n",
       "      <td>100028</td>\n",
       "      <td>0.035034</td>\n",
       "    </tr>\n",
       "    <tr>\n",
       "      <th>4</th>\n",
       "      <td>100038</td>\n",
       "      <td>0.222979</td>\n",
       "    </tr>\n",
       "  </tbody>\n",
       "</table>\n",
       "</div>"
      ],
      "text/plain": [
       "   SK_ID_CURR    TARGET\n",
       "0      100001  0.043615\n",
       "1      100005  0.136380\n",
       "2      100013  0.023205\n",
       "3      100028  0.035034\n",
       "4      100038  0.222979"
      ]
     },
     "execution_count": 178,
     "metadata": {},
     "output_type": "execute_result"
    },
    {
     "name": "stdout",
     "output_type": "stream",
     "text": [
      "time: 8.85 s\n"
     ]
    }
   ],
   "source": [
    "submission = pd.DataFrame({\"SK_ID_CURR\": df[\"SK_ID_CURR\"], \n",
    "                           \"TARGET\": lgb_model.predict_proba(df[lgb_cols])[:,1]})\n",
    "\n",
    "submission.head()"
   ]
  },
  {
   "cell_type": "code",
   "execution_count": 179,
   "metadata": {},
   "outputs": [
    {
     "name": "stdout",
     "output_type": "stream",
     "text": [
      "time: 178 ms\n"
     ]
    }
   ],
   "source": [
    "submission.to_csv(path + \"submission.csv\", index=False)"
   ]
  }
 ],
 "metadata": {
  "kernelspec": {
   "display_name": "Python 3",
   "language": "python",
   "name": "python3"
  },
  "language_info": {
   "codemirror_mode": {
    "name": "ipython",
    "version": 3
   },
   "file_extension": ".py",
   "mimetype": "text/x-python",
   "name": "python",
   "nbconvert_exporter": "python",
   "pygments_lexer": "ipython3",
   "version": "3.6.5"
  }
 },
 "nbformat": 4,
 "nbformat_minor": 2
}
