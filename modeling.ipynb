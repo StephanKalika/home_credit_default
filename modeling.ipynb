{
 "cells": [
  {
   "cell_type": "markdown",
   "metadata": {},
   "source": [
    "# Home Credit Modeling"
   ]
  },
  {
   "cell_type": "code",
   "execution_count": 2,
   "metadata": {},
   "outputs": [],
   "source": [
    "import numpy as np\n",
    "import pandas as pd\n",
    "import seaborn as sns\n",
    "import matplotlib.pyplot as plt\n",
    "from scipy.stats import iqr, randint, uniform\n",
    "import lightgbm as lgb\n",
    "from sklearn.tree import DecisionTreeClassifier\n",
    "from sklearn.ensemble import RandomForestClassifier\n",
    "from sklearn.linear_model import LogisticRegressionCV\n",
    "from sklearn.preprocessing import Imputer, StandardScaler, RobustScaler\n",
    "from sklearn.model_selection import RandomizedSearchCV, GridSearchCV, train_test_split, cross_val_score\n",
    "from sklearn.metrics import roc_auc_score\n",
    "from skopt import gp_minimize\n",
    "from skopt.plots import plot_convergence, plot_objective\n",
    "import pickle\n",
    "import gc\n",
    "\n",
    "%load_ext autotime\n",
    "\n",
    "gc.enable()\n",
    "np.random.seed(235)\n",
    "\n",
    "path = \"/Users/dsaxton/home_credit_default/\""
   ]
  },
  {
   "cell_type": "markdown",
   "metadata": {},
   "source": [
    "#### Load the data"
   ]
  },
  {
   "cell_type": "code",
   "execution_count": 3,
   "metadata": {},
   "outputs": [
    {
     "name": "stdout",
     "output_type": "stream",
     "text": [
      "time: 24.7 s\n"
     ]
    }
   ],
   "source": [
    "df = pd.read_csv(path + \"preprocessed_train.csv\")"
   ]
  },
  {
   "cell_type": "code",
   "execution_count": 4,
   "metadata": {},
   "outputs": [
    {
     "name": "stdout",
     "output_type": "stream",
     "text": [
      "time: 653 ms\n"
     ]
    }
   ],
   "source": [
    "sk_id_curr = df.pop(\"SK_ID_CURR\")\n",
    "y = df.pop(\"TARGET\")"
   ]
  },
  {
   "cell_type": "markdown",
   "metadata": {},
   "source": [
    "#### Select features"
   ]
  },
  {
   "cell_type": "code",
   "execution_count": 5,
   "metadata": {},
   "outputs": [
    {
     "data": {
      "text/plain": [
       "453"
      ]
     },
     "execution_count": 5,
     "metadata": {},
     "output_type": "execute_result"
    },
    {
     "name": "stdout",
     "output_type": "stream",
     "text": [
      "time: 1min 53s\n"
     ]
    }
   ],
   "source": [
    "clf = lgb.LGBMClassifier(n_estimators=1000, num_leaves=23, subsample=0.5)\n",
    "clf.fit(df, y)\n",
    "\n",
    "lgb_cols = df.columns[clf.feature_importances_ > 0]\n",
    "len(lgb_cols)"
   ]
  },
  {
   "cell_type": "code",
   "execution_count": 6,
   "metadata": {},
   "outputs": [
    {
     "name": "stdout",
     "output_type": "stream",
     "text": [
      "time: 17 ms\n"
     ]
    }
   ],
   "source": [
    "var_imp = pd.DataFrame({\"Feature\": df.columns, \"Importance\": clf.feature_importances_})[[\"Feature\", \"Importance\"]].sort_values(\"Importance\", ascending=False)"
   ]
  },
  {
   "cell_type": "markdown",
   "metadata": {},
   "source": [
    "#### View important features"
   ]
  },
  {
   "cell_type": "code",
   "execution_count": 35,
   "metadata": {},
   "outputs": [
    {
     "data": {
      "text/html": [
       "<div>\n",
       "<style scoped>\n",
       "    .dataframe tbody tr th:only-of-type {\n",
       "        vertical-align: middle;\n",
       "    }\n",
       "\n",
       "    .dataframe tbody tr th {\n",
       "        vertical-align: top;\n",
       "    }\n",
       "\n",
       "    .dataframe thead th {\n",
       "        text-align: right;\n",
       "    }\n",
       "</style>\n",
       "<table border=\"1\" class=\"dataframe\">\n",
       "  <thead>\n",
       "    <tr style=\"text-align: right;\">\n",
       "      <th></th>\n",
       "      <th>Feature</th>\n",
       "      <th>Importance</th>\n",
       "    </tr>\n",
       "  </thead>\n",
       "  <tbody>\n",
       "    <tr>\n",
       "      <th>110</th>\n",
       "      <td>MAX_PREV_PROP_APPROVED_24M</td>\n",
       "      <td>133</td>\n",
       "    </tr>\n",
       "    <tr>\n",
       "      <th>217</th>\n",
       "      <td>MAX_DAYS_CREDIT_ENDDATE</td>\n",
       "      <td>130</td>\n",
       "    </tr>\n",
       "    <tr>\n",
       "      <th>304</th>\n",
       "      <td>RANGE_DAYS_ENTRY_PAYMENT</td>\n",
       "      <td>130</td>\n",
       "    </tr>\n",
       "    <tr>\n",
       "      <th>218</th>\n",
       "      <td>SUM_DAYS_CREDIT_ENDDATE</td>\n",
       "      <td>129</td>\n",
       "    </tr>\n",
       "    <tr>\n",
       "      <th>297</th>\n",
       "      <td>MIN_PAYMENT_SIZE_WEIGHTED</td>\n",
       "      <td>129</td>\n",
       "    </tr>\n",
       "    <tr>\n",
       "      <th>313</th>\n",
       "      <td>AMT_CREDIT_DIV_SUM_PAYMENT</td>\n",
       "      <td>129</td>\n",
       "    </tr>\n",
       "    <tr>\n",
       "      <th>161</th>\n",
       "      <td>AVG_SYNTH_TARGET</td>\n",
       "      <td>128</td>\n",
       "    </tr>\n",
       "    <tr>\n",
       "      <th>10</th>\n",
       "      <td>DAYS_REGISTRATION</td>\n",
       "      <td>128</td>\n",
       "    </tr>\n",
       "    <tr>\n",
       "      <th>340</th>\n",
       "      <td>REGION_RATING_CLIENT_W_CITY_DIV_REGION_POPULAT...</td>\n",
       "      <td>127</td>\n",
       "    </tr>\n",
       "    <tr>\n",
       "      <th>239</th>\n",
       "      <td>MAX_DAYS_CREDIT_UPDATE</td>\n",
       "      <td>127</td>\n",
       "    </tr>\n",
       "    <tr>\n",
       "      <th>319</th>\n",
       "      <td>DAYS_EMPLOYED_DIV_DAYS_BIRTH</td>\n",
       "      <td>126</td>\n",
       "    </tr>\n",
       "    <tr>\n",
       "      <th>300</th>\n",
       "      <td>SUM_PAYMENT</td>\n",
       "      <td>125</td>\n",
       "    </tr>\n",
       "    <tr>\n",
       "      <th>124</th>\n",
       "      <td>AVG_PREV_AMT_CREDIT_DIV_ANNUITY</td>\n",
       "      <td>125</td>\n",
       "    </tr>\n",
       "    <tr>\n",
       "      <th>130</th>\n",
       "      <td>MAX_PREV_AMT_ANNUITY_WEIGHTED</td>\n",
       "      <td>125</td>\n",
       "    </tr>\n",
       "    <tr>\n",
       "      <th>177</th>\n",
       "      <td>MAX_BUREAU_UTILIZATION_12M</td>\n",
       "      <td>125</td>\n",
       "    </tr>\n",
       "    <tr>\n",
       "      <th>165</th>\n",
       "      <td>MIN_SYNTH_TARGET</td>\n",
       "      <td>124</td>\n",
       "    </tr>\n",
       "    <tr>\n",
       "      <th>79</th>\n",
       "      <td>DAYS_LAST_PHONE_CHANGE</td>\n",
       "      <td>124</td>\n",
       "    </tr>\n",
       "    <tr>\n",
       "      <th>296</th>\n",
       "      <td>MAX_PAYMENT_SIZE</td>\n",
       "      <td>124</td>\n",
       "    </tr>\n",
       "    <tr>\n",
       "      <th>334</th>\n",
       "      <td>OWN_CAR_AGE_PLUS_DAYS_BIRTH</td>\n",
       "      <td>123</td>\n",
       "    </tr>\n",
       "    <tr>\n",
       "      <th>316</th>\n",
       "      <td>AMT_CREDIT_DIV_AVG_PREV_REQ_AMOUNT</td>\n",
       "      <td>120</td>\n",
       "    </tr>\n",
       "  </tbody>\n",
       "</table>\n",
       "</div>"
      ],
      "text/plain": [
       "                                               Feature  Importance\n",
       "110                         MAX_PREV_PROP_APPROVED_24M         133\n",
       "217                            MAX_DAYS_CREDIT_ENDDATE         130\n",
       "304                           RANGE_DAYS_ENTRY_PAYMENT         130\n",
       "218                            SUM_DAYS_CREDIT_ENDDATE         129\n",
       "297                          MIN_PAYMENT_SIZE_WEIGHTED         129\n",
       "313                         AMT_CREDIT_DIV_SUM_PAYMENT         129\n",
       "161                                   AVG_SYNTH_TARGET         128\n",
       "10                                   DAYS_REGISTRATION         128\n",
       "340  REGION_RATING_CLIENT_W_CITY_DIV_REGION_POPULAT...         127\n",
       "239                             MAX_DAYS_CREDIT_UPDATE         127\n",
       "319                       DAYS_EMPLOYED_DIV_DAYS_BIRTH         126\n",
       "300                                        SUM_PAYMENT         125\n",
       "124                    AVG_PREV_AMT_CREDIT_DIV_ANNUITY         125\n",
       "130                      MAX_PREV_AMT_ANNUITY_WEIGHTED         125\n",
       "177                         MAX_BUREAU_UTILIZATION_12M         125\n",
       "165                                   MIN_SYNTH_TARGET         124\n",
       "79                              DAYS_LAST_PHONE_CHANGE         124\n",
       "296                                   MAX_PAYMENT_SIZE         124\n",
       "334                        OWN_CAR_AGE_PLUS_DAYS_BIRTH         123\n",
       "316                 AMT_CREDIT_DIV_AVG_PREV_REQ_AMOUNT         120"
      ]
     },
     "execution_count": 35,
     "metadata": {},
     "output_type": "execute_result"
    },
    {
     "name": "stdout",
     "output_type": "stream",
     "text": [
      "time: 7.22 ms\n"
     ]
    }
   ],
   "source": [
    "var_imp.head(60).tail(20)"
   ]
  },
  {
   "cell_type": "markdown",
   "metadata": {},
   "source": [
    "#### Average importance over non-zero importance features"
   ]
  },
  {
   "cell_type": "code",
   "execution_count": 8,
   "metadata": {},
   "outputs": [
    {
     "data": {
      "text/plain": [
       "48"
      ]
     },
     "execution_count": 8,
     "metadata": {},
     "output_type": "execute_result"
    },
    {
     "name": "stdout",
     "output_type": "stream",
     "text": [
      "time: 210 ms\n"
     ]
    }
   ],
   "source": [
    "int(np.nanmean(var_imp[\"Importance\"].where(var_imp[\"Importance\"] > 0)))"
   ]
  },
  {
   "cell_type": "markdown",
   "metadata": {},
   "source": [
    "#### Importance of selected features"
   ]
  },
  {
   "cell_type": "code",
   "execution_count": 33,
   "metadata": {},
   "outputs": [
    {
     "data": {
      "text/html": [
       "<div>\n",
       "<style scoped>\n",
       "    .dataframe tbody tr th:only-of-type {\n",
       "        vertical-align: middle;\n",
       "    }\n",
       "\n",
       "    .dataframe tbody tr th {\n",
       "        vertical-align: top;\n",
       "    }\n",
       "\n",
       "    .dataframe thead th {\n",
       "        text-align: right;\n",
       "    }\n",
       "</style>\n",
       "<table border=\"1\" class=\"dataframe\">\n",
       "  <thead>\n",
       "    <tr style=\"text-align: right;\">\n",
       "      <th></th>\n",
       "      <th>Feature</th>\n",
       "      <th>Importance</th>\n",
       "    </tr>\n",
       "  </thead>\n",
       "  <tbody>\n",
       "    <tr>\n",
       "      <th>286</th>\n",
       "      <td>MAX_PAYMENT_SIZE_12M</td>\n",
       "      <td>172</td>\n",
       "    </tr>\n",
       "  </tbody>\n",
       "</table>\n",
       "</div>"
      ],
      "text/plain": [
       "                  Feature  Importance\n",
       "286  MAX_PAYMENT_SIZE_12M         172"
      ]
     },
     "execution_count": 33,
     "metadata": {},
     "output_type": "execute_result"
    },
    {
     "name": "stdout",
     "output_type": "stream",
     "text": [
      "time: 6.6 ms\n"
     ]
    }
   ],
   "source": [
    "features = [\"MAX_PAYMENT_SIZE_12M\"]\n",
    "\n",
    "var_imp[var_imp[\"Feature\"].isin(features)]"
   ]
  },
  {
   "cell_type": "markdown",
   "metadata": {},
   "source": [
    "#### Features with zero importance"
   ]
  },
  {
   "cell_type": "code",
   "execution_count": 10,
   "metadata": {},
   "outputs": [
    {
     "data": {
      "text/html": [
       "<div>\n",
       "<style scoped>\n",
       "    .dataframe tbody tr th:only-of-type {\n",
       "        vertical-align: middle;\n",
       "    }\n",
       "\n",
       "    .dataframe tbody tr th {\n",
       "        vertical-align: top;\n",
       "    }\n",
       "\n",
       "    .dataframe thead th {\n",
       "        text-align: right;\n",
       "    }\n",
       "</style>\n",
       "<table border=\"1\" class=\"dataframe\">\n",
       "  <thead>\n",
       "    <tr style=\"text-align: right;\">\n",
       "      <th></th>\n",
       "      <th>Feature</th>\n",
       "      <th>Importance</th>\n",
       "    </tr>\n",
       "  </thead>\n",
       "  <tbody>\n",
       "    <tr>\n",
       "      <th>370</th>\n",
       "      <td>NAME_INCOME_TYPE_Maternity_leave</td>\n",
       "      <td>0</td>\n",
       "    </tr>\n",
       "    <tr>\n",
       "      <th>368</th>\n",
       "      <td>NAME_INCOME_TYPE_Businessman</td>\n",
       "      <td>0</td>\n",
       "    </tr>\n",
       "    <tr>\n",
       "      <th>442</th>\n",
       "      <td>ORGANIZATION_TYPE_Industry:_type_13</td>\n",
       "      <td>0</td>\n",
       "    </tr>\n",
       "    <tr>\n",
       "      <th>488</th>\n",
       "      <td>HOUSETYPE_MODE_block_of_flats</td>\n",
       "      <td>0</td>\n",
       "    </tr>\n",
       "    <tr>\n",
       "      <th>481</th>\n",
       "      <td>ORGANIZATION_TYPE_XNA</td>\n",
       "      <td>0</td>\n",
       "    </tr>\n",
       "    <tr>\n",
       "      <th>359</th>\n",
       "      <td>CODE_GENDER_nan</td>\n",
       "      <td>0</td>\n",
       "    </tr>\n",
       "    <tr>\n",
       "      <th>80</th>\n",
       "      <td>FLAG_DOCUMENT_2</td>\n",
       "      <td>0</td>\n",
       "    </tr>\n",
       "    <tr>\n",
       "      <th>82</th>\n",
       "      <td>FLAG_DOCUMENT_4</td>\n",
       "      <td>0</td>\n",
       "    </tr>\n",
       "    <tr>\n",
       "      <th>482</th>\n",
       "      <td>ORGANIZATION_TYPE_nan</td>\n",
       "      <td>0</td>\n",
       "    </tr>\n",
       "    <tr>\n",
       "      <th>373</th>\n",
       "      <td>NAME_INCOME_TYPE_Student</td>\n",
       "      <td>0</td>\n",
       "    </tr>\n",
       "    <tr>\n",
       "      <th>371</th>\n",
       "      <td>NAME_INCOME_TYPE_Pensioner</td>\n",
       "      <td>0</td>\n",
       "    </tr>\n",
       "    <tr>\n",
       "      <th>476</th>\n",
       "      <td>ORGANIZATION_TYPE_Transport:_type_1</td>\n",
       "      <td>0</td>\n",
       "    </tr>\n",
       "    <tr>\n",
       "      <th>374</th>\n",
       "      <td>NAME_INCOME_TYPE_Unemployed</td>\n",
       "      <td>0</td>\n",
       "    </tr>\n",
       "    <tr>\n",
       "      <th>494</th>\n",
       "      <td>WALLSMATERIAL_MODE_Monolithic</td>\n",
       "      <td>0</td>\n",
       "    </tr>\n",
       "    <tr>\n",
       "      <th>16</th>\n",
       "      <td>FLAG_CONT_MOBILE</td>\n",
       "      <td>0</td>\n",
       "    </tr>\n",
       "    <tr>\n",
       "      <th>14</th>\n",
       "      <td>FLAG_EMP_PHONE</td>\n",
       "      <td>0</td>\n",
       "    </tr>\n",
       "    <tr>\n",
       "      <th>13</th>\n",
       "      <td>FLAG_MOBIL</td>\n",
       "      <td>0</td>\n",
       "    </tr>\n",
       "    <tr>\n",
       "      <th>376</th>\n",
       "      <td>NAME_INCOME_TYPE_nan</td>\n",
       "      <td>0</td>\n",
       "    </tr>\n",
       "    <tr>\n",
       "      <th>382</th>\n",
       "      <td>NAME_EDUCATION_TYPE_nan</td>\n",
       "      <td>0</td>\n",
       "    </tr>\n",
       "    <tr>\n",
       "      <th>396</th>\n",
       "      <td>NAME_HOUSING_TYPE_nan</td>\n",
       "      <td>0</td>\n",
       "    </tr>\n",
       "    <tr>\n",
       "      <th>387</th>\n",
       "      <td>NAME_FAMILY_STATUS_Unknown</td>\n",
       "      <td>0</td>\n",
       "    </tr>\n",
       "    <tr>\n",
       "      <th>358</th>\n",
       "      <td>CODE_GENDER_XNA</td>\n",
       "      <td>0</td>\n",
       "    </tr>\n",
       "    <tr>\n",
       "      <th>354</th>\n",
       "      <td>NAME_CONTRACT_TYPE_Revolving_loans</td>\n",
       "      <td>0</td>\n",
       "    </tr>\n",
       "    <tr>\n",
       "      <th>355</th>\n",
       "      <td>NAME_CONTRACT_TYPE_nan</td>\n",
       "      <td>0</td>\n",
       "    </tr>\n",
       "    <tr>\n",
       "      <th>461</th>\n",
       "      <td>ORGANIZATION_TYPE_Religion</td>\n",
       "      <td>0</td>\n",
       "    </tr>\n",
       "    <tr>\n",
       "      <th>389</th>\n",
       "      <td>NAME_FAMILY_STATUS_nan</td>\n",
       "      <td>0</td>\n",
       "    </tr>\n",
       "    <tr>\n",
       "      <th>449</th>\n",
       "      <td>ORGANIZATION_TYPE_Industry:_type_8</td>\n",
       "      <td>0</td>\n",
       "    </tr>\n",
       "    <tr>\n",
       "      <th>99</th>\n",
       "      <td>FLAG_DOCUMENT_21</td>\n",
       "      <td>0</td>\n",
       "    </tr>\n",
       "    <tr>\n",
       "      <th>98</th>\n",
       "      <td>FLAG_DOCUMENT_20</td>\n",
       "      <td>0</td>\n",
       "    </tr>\n",
       "    <tr>\n",
       "      <th>434</th>\n",
       "      <td>ORGANIZATION_TYPE_Emergency</td>\n",
       "      <td>0</td>\n",
       "    </tr>\n",
       "    <tr>\n",
       "      <th>433</th>\n",
       "      <td>ORGANIZATION_TYPE_Electricity</td>\n",
       "      <td>0</td>\n",
       "    </tr>\n",
       "    <tr>\n",
       "      <th>95</th>\n",
       "      <td>FLAG_DOCUMENT_17</td>\n",
       "      <td>0</td>\n",
       "    </tr>\n",
       "    <tr>\n",
       "      <th>432</th>\n",
       "      <td>ORGANIZATION_TYPE_Culture</td>\n",
       "      <td>0</td>\n",
       "    </tr>\n",
       "    <tr>\n",
       "      <th>93</th>\n",
       "      <td>FLAG_DOCUMENT_15</td>\n",
       "      <td>0</td>\n",
       "    </tr>\n",
       "    <tr>\n",
       "      <th>92</th>\n",
       "      <td>FLAG_DOCUMENT_14</td>\n",
       "      <td>0</td>\n",
       "    </tr>\n",
       "    <tr>\n",
       "      <th>184</th>\n",
       "      <td>BUREAU_UTILIZATION_DIFF_6M_12M</td>\n",
       "      <td>0</td>\n",
       "    </tr>\n",
       "    <tr>\n",
       "      <th>90</th>\n",
       "      <td>FLAG_DOCUMENT_12</td>\n",
       "      <td>0</td>\n",
       "    </tr>\n",
       "    <tr>\n",
       "      <th>439</th>\n",
       "      <td>ORGANIZATION_TYPE_Industry:_type_10</td>\n",
       "      <td>0</td>\n",
       "    </tr>\n",
       "    <tr>\n",
       "      <th>187</th>\n",
       "      <td>BUREAU_SUM_DEBT_DIFF_12M_24M</td>\n",
       "      <td>0</td>\n",
       "    </tr>\n",
       "    <tr>\n",
       "      <th>88</th>\n",
       "      <td>FLAG_DOCUMENT_10</td>\n",
       "      <td>0</td>\n",
       "    </tr>\n",
       "    <tr>\n",
       "      <th>87</th>\n",
       "      <td>FLAG_DOCUMENT_9</td>\n",
       "      <td>0</td>\n",
       "    </tr>\n",
       "    <tr>\n",
       "      <th>85</th>\n",
       "      <td>FLAG_DOCUMENT_7</td>\n",
       "      <td>0</td>\n",
       "    </tr>\n",
       "    <tr>\n",
       "      <th>214</th>\n",
       "      <td>SUM_LEN_BUREAU_BALANCE</td>\n",
       "      <td>0</td>\n",
       "    </tr>\n",
       "    <tr>\n",
       "      <th>425</th>\n",
       "      <td>ORGANIZATION_TYPE_Agriculture</td>\n",
       "      <td>0</td>\n",
       "    </tr>\n",
       "    <tr>\n",
       "      <th>423</th>\n",
       "      <td>WEEKDAY_APPR_PROCESS_START_nan</td>\n",
       "      <td>0</td>\n",
       "    </tr>\n",
       "    <tr>\n",
       "      <th>470</th>\n",
       "      <td>ORGANIZATION_TYPE_Trade:_type_2</td>\n",
       "      <td>0</td>\n",
       "    </tr>\n",
       "    <tr>\n",
       "      <th>1</th>\n",
       "      <td>FLAG_OWN_REALTY</td>\n",
       "      <td>0</td>\n",
       "    </tr>\n",
       "    <tr>\n",
       "      <th>472</th>\n",
       "      <td>ORGANIZATION_TYPE_Trade:_type_4</td>\n",
       "      <td>0</td>\n",
       "    </tr>\n",
       "    <tr>\n",
       "      <th>473</th>\n",
       "      <td>ORGANIZATION_TYPE_Trade:_type_5</td>\n",
       "      <td>0</td>\n",
       "    </tr>\n",
       "    <tr>\n",
       "      <th>447</th>\n",
       "      <td>ORGANIZATION_TYPE_Industry:_type_6</td>\n",
       "      <td>0</td>\n",
       "    </tr>\n",
       "  </tbody>\n",
       "</table>\n",
       "</div>"
      ],
      "text/plain": [
       "                                 Feature  Importance\n",
       "370     NAME_INCOME_TYPE_Maternity_leave           0\n",
       "368         NAME_INCOME_TYPE_Businessman           0\n",
       "442  ORGANIZATION_TYPE_Industry:_type_13           0\n",
       "488        HOUSETYPE_MODE_block_of_flats           0\n",
       "481                ORGANIZATION_TYPE_XNA           0\n",
       "359                      CODE_GENDER_nan           0\n",
       "80                       FLAG_DOCUMENT_2           0\n",
       "82                       FLAG_DOCUMENT_4           0\n",
       "482                ORGANIZATION_TYPE_nan           0\n",
       "373             NAME_INCOME_TYPE_Student           0\n",
       "371           NAME_INCOME_TYPE_Pensioner           0\n",
       "476  ORGANIZATION_TYPE_Transport:_type_1           0\n",
       "374          NAME_INCOME_TYPE_Unemployed           0\n",
       "494        WALLSMATERIAL_MODE_Monolithic           0\n",
       "16                      FLAG_CONT_MOBILE           0\n",
       "14                        FLAG_EMP_PHONE           0\n",
       "13                            FLAG_MOBIL           0\n",
       "376                 NAME_INCOME_TYPE_nan           0\n",
       "382              NAME_EDUCATION_TYPE_nan           0\n",
       "396                NAME_HOUSING_TYPE_nan           0\n",
       "387           NAME_FAMILY_STATUS_Unknown           0\n",
       "358                      CODE_GENDER_XNA           0\n",
       "354   NAME_CONTRACT_TYPE_Revolving_loans           0\n",
       "355               NAME_CONTRACT_TYPE_nan           0\n",
       "461           ORGANIZATION_TYPE_Religion           0\n",
       "389               NAME_FAMILY_STATUS_nan           0\n",
       "449   ORGANIZATION_TYPE_Industry:_type_8           0\n",
       "99                      FLAG_DOCUMENT_21           0\n",
       "98                      FLAG_DOCUMENT_20           0\n",
       "434          ORGANIZATION_TYPE_Emergency           0\n",
       "433        ORGANIZATION_TYPE_Electricity           0\n",
       "95                      FLAG_DOCUMENT_17           0\n",
       "432            ORGANIZATION_TYPE_Culture           0\n",
       "93                      FLAG_DOCUMENT_15           0\n",
       "92                      FLAG_DOCUMENT_14           0\n",
       "184       BUREAU_UTILIZATION_DIFF_6M_12M           0\n",
       "90                      FLAG_DOCUMENT_12           0\n",
       "439  ORGANIZATION_TYPE_Industry:_type_10           0\n",
       "187         BUREAU_SUM_DEBT_DIFF_12M_24M           0\n",
       "88                      FLAG_DOCUMENT_10           0\n",
       "87                       FLAG_DOCUMENT_9           0\n",
       "85                       FLAG_DOCUMENT_7           0\n",
       "214               SUM_LEN_BUREAU_BALANCE           0\n",
       "425        ORGANIZATION_TYPE_Agriculture           0\n",
       "423       WEEKDAY_APPR_PROCESS_START_nan           0\n",
       "470      ORGANIZATION_TYPE_Trade:_type_2           0\n",
       "1                        FLAG_OWN_REALTY           0\n",
       "472      ORGANIZATION_TYPE_Trade:_type_4           0\n",
       "473      ORGANIZATION_TYPE_Trade:_type_5           0\n",
       "447   ORGANIZATION_TYPE_Industry:_type_6           0"
      ]
     },
     "execution_count": 10,
     "metadata": {},
     "output_type": "execute_result"
    },
    {
     "name": "stdout",
     "output_type": "stream",
     "text": [
      "time: 36.2 ms\n"
     ]
    }
   ],
   "source": [
    "var_imp.query(\"Importance == 0\")"
   ]
  },
  {
   "cell_type": "markdown",
   "metadata": {},
   "source": [
    "#### LightGBM CV"
   ]
  },
  {
   "cell_type": "code",
   "execution_count": 11,
   "metadata": {},
   "outputs": [
    {
     "name": "stderr",
     "output_type": "stream",
     "text": [
      "/Users/dsaxton/anaconda3/lib/python3.6/site-packages/lightgbm/engine.py:390: UserWarning: Found `n_estimators` in params. Will use it instead of argument\n",
      "  warnings.warn(\"Found `{}` in params. Will use it instead of argument\".format(alias))\n"
     ]
    },
    {
     "name": "stdout",
     "output_type": "stream",
     "text": [
      "[100]\tcv_agg's auc: 0.759608 + 0.00295035\n",
      "[200]\tcv_agg's auc: 0.76411 + 0.00284402\n",
      "[300]\tcv_agg's auc: 0.767375 + 0.00279802\n",
      "[400]\tcv_agg's auc: 0.770568 + 0.00266559\n",
      "[500]\tcv_agg's auc: 0.773288 + 0.00253967\n",
      "[600]\tcv_agg's auc: 0.775337 + 0.00249169\n",
      "[700]\tcv_agg's auc: 0.777158 + 0.00235195\n",
      "[800]\tcv_agg's auc: 0.778781 + 0.00226231\n",
      "[900]\tcv_agg's auc: 0.780095 + 0.00223199\n",
      "[1000]\tcv_agg's auc: 0.781267 + 0.00216614\n",
      "[1100]\tcv_agg's auc: 0.782298 + 0.00210299\n",
      "[1200]\tcv_agg's auc: 0.783181 + 0.00206149\n",
      "[1300]\tcv_agg's auc: 0.783987 + 0.00207398\n",
      "[1400]\tcv_agg's auc: 0.784603 + 0.00204576\n",
      "[1500]\tcv_agg's auc: 0.785203 + 0.00203132\n",
      "[1600]\tcv_agg's auc: 0.785651 + 0.00199863\n",
      "[1700]\tcv_agg's auc: 0.786083 + 0.00196518\n",
      "[1800]\tcv_agg's auc: 0.786514 + 0.00194148\n",
      "[1900]\tcv_agg's auc: 0.786878 + 0.0019564\n",
      "[2000]\tcv_agg's auc: 0.78716 + 0.00194898\n",
      "[2100]\tcv_agg's auc: 0.787399 + 0.00195082\n",
      "[2200]\tcv_agg's auc: 0.787612 + 0.00191704\n",
      "[2300]\tcv_agg's auc: 0.787814 + 0.00189904\n",
      "[2400]\tcv_agg's auc: 0.788005 + 0.00190658\n",
      "[2500]\tcv_agg's auc: 0.788111 + 0.00187685\n",
      "[2600]\tcv_agg's auc: 0.788248 + 0.00187301\n",
      "[2700]\tcv_agg's auc: 0.788378 + 0.00189588\n",
      "[2800]\tcv_agg's auc: 0.788473 + 0.00188183\n",
      "[2900]\tcv_agg's auc: 0.788535 + 0.00186961\n",
      "[3000]\tcv_agg's auc: 0.788616 + 0.0018886\n",
      "[3100]\tcv_agg's auc: 0.788644 + 0.00190084\n",
      "[3200]\tcv_agg's auc: 0.788678 + 0.00187445\n",
      "[3300]\tcv_agg's auc: 0.788701 + 0.00187699\n",
      "[3400]\tcv_agg's auc: 0.78876 + 0.00184531\n",
      "[3500]\tcv_agg's auc: 0.788807 + 0.00185776\n",
      "[3600]\tcv_agg's auc: 0.788839 + 0.00186275\n",
      "[3700]\tcv_agg's auc: 0.788894 + 0.00181768\n",
      "[3800]\tcv_agg's auc: 0.788919 + 0.0018233\n",
      "[3900]\tcv_agg's auc: 0.788981 + 0.00182909\n",
      "[4000]\tcv_agg's auc: 0.788991 + 0.00180494\n",
      "[4100]\tcv_agg's auc: 0.789001 + 0.00184359\n",
      "[4200]\tcv_agg's auc: 0.789036 + 0.00184617\n",
      "[4300]\tcv_agg's auc: 0.789073 + 0.00183851\n",
      "[4400]\tcv_agg's auc: 0.789068 + 0.00185255\n",
      "[4500]\tcv_agg's auc: 0.789099 + 0.00185394\n",
      "[4600]\tcv_agg's auc: 0.789088 + 0.00181206\n",
      "[4700]\tcv_agg's auc: 0.789098 + 0.00184653\n",
      "[4800]\tcv_agg's auc: 0.78912 + 0.00185761\n",
      "[4900]\tcv_agg's auc: 0.789144 + 0.00185352\n",
      "[5000]\tcv_agg's auc: 0.789183 + 0.00185487\n",
      "[5100]\tcv_agg's auc: 0.789189 + 0.00187434\n",
      "[5200]\tcv_agg's auc: 0.789173 + 0.00189683\n",
      "time: 1h 31min\n"
     ]
    }
   ],
   "source": [
    "params = {\"n_estimators\": 20000, \n",
    "          \"num_leaves\": 113, \n",
    "          \"learning_rate\": 0.005, \n",
    "          \"subsample\": 0.5, \n",
    "          \"colsample_bytree\": 0.5, \n",
    "          \"reg_lambda\": 0.9}\n",
    "\n",
    "lgb_data = lgb.Dataset(data=df[lgb_cols], \n",
    "                       label=y)\n",
    "\n",
    "cv_result = lgb.cv(params=params, \n",
    "                   train_set=lgb_data, \n",
    "                   nfold=5, \n",
    "                   metrics=\"auc\", \n",
    "                   early_stopping_rounds=200, \n",
    "                   stratified=True, \n",
    "                   shuffle=True, \n",
    "                   verbose_eval=100, \n",
    "                   show_stdv=True, \n",
    "                   seed=123)\n",
    "\n",
    "cv_result = pd.DataFrame(cv_result)"
   ]
  },
  {
   "cell_type": "code",
   "execution_count": 12,
   "metadata": {},
   "outputs": [
    {
     "data": {
      "text/html": [
       "<div>\n",
       "<style scoped>\n",
       "    .dataframe tbody tr th:only-of-type {\n",
       "        vertical-align: middle;\n",
       "    }\n",
       "\n",
       "    .dataframe tbody tr th {\n",
       "        vertical-align: top;\n",
       "    }\n",
       "\n",
       "    .dataframe thead th {\n",
       "        text-align: right;\n",
       "    }\n",
       "</style>\n",
       "<table border=\"1\" class=\"dataframe\">\n",
       "  <thead>\n",
       "    <tr style=\"text-align: right;\">\n",
       "      <th></th>\n",
       "      <th>auc-mean</th>\n",
       "      <th>auc-stdv</th>\n",
       "    </tr>\n",
       "  </thead>\n",
       "  <tbody>\n",
       "    <tr>\n",
       "      <th>5041</th>\n",
       "      <td>0.789198</td>\n",
       "      <td>0.001858</td>\n",
       "    </tr>\n",
       "    <tr>\n",
       "      <th>5042</th>\n",
       "      <td>0.789200</td>\n",
       "      <td>0.001855</td>\n",
       "    </tr>\n",
       "    <tr>\n",
       "      <th>5043</th>\n",
       "      <td>0.789199</td>\n",
       "      <td>0.001855</td>\n",
       "    </tr>\n",
       "    <tr>\n",
       "      <th>5044</th>\n",
       "      <td>0.789200</td>\n",
       "      <td>0.001857</td>\n",
       "    </tr>\n",
       "    <tr>\n",
       "      <th>5045</th>\n",
       "      <td>0.789202</td>\n",
       "      <td>0.001854</td>\n",
       "    </tr>\n",
       "  </tbody>\n",
       "</table>\n",
       "</div>"
      ],
      "text/plain": [
       "      auc-mean  auc-stdv\n",
       "5041  0.789198  0.001858\n",
       "5042  0.789200  0.001855\n",
       "5043  0.789199  0.001855\n",
       "5044  0.789200  0.001857\n",
       "5045  0.789202  0.001854"
      ]
     },
     "execution_count": 12,
     "metadata": {},
     "output_type": "execute_result"
    },
    {
     "name": "stdout",
     "output_type": "stream",
     "text": [
      "time: 19.1 ms\n"
     ]
    }
   ],
   "source": [
    "cv_result.tail()"
   ]
  },
  {
   "cell_type": "markdown",
   "metadata": {},
   "source": [
    "#### Fit chosen model"
   ]
  },
  {
   "cell_type": "code",
   "execution_count": 13,
   "metadata": {},
   "outputs": [
    {
     "data": {
      "text/plain": [
       "LGBMClassifier(boosting_type='gbdt', class_weight=None, colsample_bytree=0.5,\n",
       "        learning_rate=0.005, max_depth=-1, min_child_samples=20,\n",
       "        min_child_weight=0.001, min_split_gain=0.0, n_estimators=5045,\n",
       "        n_jobs=-1, num_leaves=113, objective=None, random_state=None,\n",
       "        reg_alpha=0.0, reg_lambda=0.9, silent=True, subsample=0.5,\n",
       "        subsample_for_bin=200000, subsample_freq=1)"
      ]
     },
     "execution_count": 13,
     "metadata": {},
     "output_type": "execute_result"
    },
    {
     "name": "stdout",
     "output_type": "stream",
     "text": [
      "time: 18min 40s\n"
     ]
    }
   ],
   "source": [
    "lgb_model = lgb.LGBMClassifier(n_estimators=5045, \n",
    "                         num_leaves=113, \n",
    "                         learning_rate=0.005, \n",
    "                         subsample=0.5, \n",
    "                         colsample_bytree=0.5, \n",
    "                         reg_lambda=0.9)\n",
    "\n",
    "lgb_model.fit(df[lgb_cols], y)"
   ]
  },
  {
   "cell_type": "markdown",
   "metadata": {},
   "source": [
    "#### Score test data and generate submission"
   ]
  },
  {
   "cell_type": "code",
   "execution_count": 14,
   "metadata": {},
   "outputs": [
    {
     "name": "stdout",
     "output_type": "stream",
     "text": [
      "time: 3.44 s\n"
     ]
    }
   ],
   "source": [
    "df = pd.read_csv(path + \"preprocessed_test.csv\")"
   ]
  },
  {
   "cell_type": "code",
   "execution_count": 15,
   "metadata": {},
   "outputs": [
    {
     "name": "stdout",
     "output_type": "stream",
     "text": [
      "time: 12.4 ms\n"
     ]
    }
   ],
   "source": [
    "df[\"NAME_INCOME_TYPE_Maternity_leave\"] = 0"
   ]
  },
  {
   "cell_type": "code",
   "execution_count": 16,
   "metadata": {},
   "outputs": [
    {
     "data": {
      "text/html": [
       "<div>\n",
       "<style scoped>\n",
       "    .dataframe tbody tr th:only-of-type {\n",
       "        vertical-align: middle;\n",
       "    }\n",
       "\n",
       "    .dataframe tbody tr th {\n",
       "        vertical-align: top;\n",
       "    }\n",
       "\n",
       "    .dataframe thead th {\n",
       "        text-align: right;\n",
       "    }\n",
       "</style>\n",
       "<table border=\"1\" class=\"dataframe\">\n",
       "  <thead>\n",
       "    <tr style=\"text-align: right;\">\n",
       "      <th></th>\n",
       "      <th>SK_ID_CURR</th>\n",
       "      <th>TARGET</th>\n",
       "    </tr>\n",
       "  </thead>\n",
       "  <tbody>\n",
       "    <tr>\n",
       "      <th>0</th>\n",
       "      <td>100001</td>\n",
       "      <td>0.028409</td>\n",
       "    </tr>\n",
       "    <tr>\n",
       "      <th>1</th>\n",
       "      <td>100005</td>\n",
       "      <td>0.131907</td>\n",
       "    </tr>\n",
       "    <tr>\n",
       "      <th>2</th>\n",
       "      <td>100013</td>\n",
       "      <td>0.022533</td>\n",
       "    </tr>\n",
       "    <tr>\n",
       "      <th>3</th>\n",
       "      <td>100028</td>\n",
       "      <td>0.034576</td>\n",
       "    </tr>\n",
       "    <tr>\n",
       "      <th>4</th>\n",
       "      <td>100038</td>\n",
       "      <td>0.182258</td>\n",
       "    </tr>\n",
       "  </tbody>\n",
       "</table>\n",
       "</div>"
      ],
      "text/plain": [
       "   SK_ID_CURR    TARGET\n",
       "0      100001  0.028409\n",
       "1      100005  0.131907\n",
       "2      100013  0.022533\n",
       "3      100028  0.034576\n",
       "4      100038  0.182258"
      ]
     },
     "execution_count": 16,
     "metadata": {},
     "output_type": "execute_result"
    },
    {
     "name": "stdout",
     "output_type": "stream",
     "text": [
      "time: 11.2 s\n"
     ]
    }
   ],
   "source": [
    "submission = pd.DataFrame({\"SK_ID_CURR\": df[\"SK_ID_CURR\"], \n",
    "                           \"TARGET\": lgb_model.predict_proba(df[lgb_cols])[:,1]})\n",
    "\n",
    "submission.head()"
   ]
  },
  {
   "cell_type": "code",
   "execution_count": 17,
   "metadata": {},
   "outputs": [
    {
     "name": "stdout",
     "output_type": "stream",
     "text": [
      "time: 163 ms\n"
     ]
    }
   ],
   "source": [
    "submission.to_csv(path + \"submission.csv\", index=False)"
   ]
  }
 ],
 "metadata": {
  "kernelspec": {
   "display_name": "Python 3",
   "language": "python",
   "name": "python3"
  },
  "language_info": {
   "codemirror_mode": {
    "name": "ipython",
    "version": 3
   },
   "file_extension": ".py",
   "mimetype": "text/x-python",
   "name": "python",
   "nbconvert_exporter": "python",
   "pygments_lexer": "ipython3",
   "version": "3.6.5"
  }
 },
 "nbformat": 4,
 "nbformat_minor": 2
}
