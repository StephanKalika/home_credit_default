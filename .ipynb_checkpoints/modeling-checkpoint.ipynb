{
 "cells": [
  {
   "cell_type": "markdown",
   "metadata": {},
   "source": [
    "# Home Credit Modeling"
   ]
  },
  {
   "cell_type": "code",
   "execution_count": 1,
   "metadata": {},
   "outputs": [],
   "source": [
    "import numpy as np\n",
    "import pandas as pd\n",
    "import seaborn as sns\n",
    "import matplotlib.pyplot as plt\n",
    "from scipy.stats import iqr, randint, uniform\n",
    "import lightgbm as lgb\n",
    "import xgboost as xgb\n",
    "from sklearn.naive_bayes import GaussianNB\n",
    "from sklearn.ensemble import RandomForestClassifier, ExtraTreesClassifier, GradientBoostingClassifier, BaggingClassifier, AdaBoostClassifier\n",
    "from sklearn.linear_model import LogisticRegressionCV, LogisticRegression, SGDClassifier\n",
    "from sklearn.preprocessing import Imputer, StandardScaler, QuantileTransformer\n",
    "from sklearn.model_selection import train_test_split, cross_val_score, StratifiedKFold\n",
    "from sklearn.discriminant_analysis import LinearDiscriminantAnalysis\n",
    "from sklearn.metrics import roc_auc_score\n",
    "from sklearn.feature_selection import SelectKBest, f_classif\n",
    "import pickle\n",
    "from skopt import gp_minimize\n",
    "from skopt.plots import plot_convergence\n",
    "import gc\n",
    "from IPython.display import display\n",
    "import warnings\n",
    "\n",
    "warnings.simplefilter(\"ignore\")\n",
    "\n",
    "pd.options.display.max_columns = None\n",
    "\n",
    "%load_ext autotime\n",
    "\n",
    "gc.enable()\n",
    "np.random.seed(235)\n",
    "\n",
    "path = \"/Users/dsaxton/home_credit_default/\"\n",
    "\n",
    "impute = Imputer(strategy=\"median\")\n",
    "quant = QuantileTransformer(output_distribution=\"normal\")\n",
    "stand = StandardScaler()\n",
    "\n",
    "def get_imp(clf, cols):\n",
    "    frame = (pd.DataFrame({\"Variable\": cols, \n",
    "                        \"Importance\": clf.feature_importances_}).\n",
    "             sort_values(by=\"Importance\", ascending=False).\n",
    "             reset_index(drop=True))\n",
    "    \n",
    "    return frame"
   ]
  },
  {
   "cell_type": "markdown",
   "metadata": {},
   "source": [
    "#### Load the data"
   ]
  },
  {
   "cell_type": "code",
   "execution_count": 2,
   "metadata": {},
   "outputs": [
    {
     "name": "stdout",
     "output_type": "stream",
     "text": [
      "time: 54.7 s\n"
     ]
    }
   ],
   "source": [
    "df = pd.read_csv(path + \"train.csv\")\n",
    "sk_id_curr = df.pop(\"SK_ID_CURR\")\n",
    "y = df.pop(\"TARGET\")"
   ]
  },
  {
   "cell_type": "markdown",
   "metadata": {},
   "source": [
    "# LightGBM"
   ]
  },
  {
   "cell_type": "markdown",
   "metadata": {},
   "source": [
    "#### Select features"
   ]
  },
  {
   "cell_type": "code",
   "execution_count": 3,
   "metadata": {},
   "outputs": [
    {
     "data": {
      "text/plain": [
       "519"
      ]
     },
     "execution_count": 3,
     "metadata": {},
     "output_type": "execute_result"
    },
    {
     "name": "stdout",
     "output_type": "stream",
     "text": [
      "time: 3min 31s\n"
     ]
    }
   ],
   "source": [
    "clf = lgb.LGBMClassifier(n_estimators=1000, num_leaves=23, subsample=0.5)\n",
    "clf.fit(df, y)\n",
    "\n",
    "lgb_cols = df.columns[clf.feature_importances_ > 0]\n",
    "len(lgb_cols)"
   ]
  },
  {
   "cell_type": "code",
   "execution_count": 4,
   "metadata": {},
   "outputs": [
    {
     "data": {
      "text/html": [
       "<div>\n",
       "<style scoped>\n",
       "    .dataframe tbody tr th:only-of-type {\n",
       "        vertical-align: middle;\n",
       "    }\n",
       "\n",
       "    .dataframe tbody tr th {\n",
       "        vertical-align: top;\n",
       "    }\n",
       "\n",
       "    .dataframe thead th {\n",
       "        text-align: right;\n",
       "    }\n",
       "</style>\n",
       "<table border=\"1\" class=\"dataframe\">\n",
       "  <thead>\n",
       "    <tr style=\"text-align: right;\">\n",
       "      <th></th>\n",
       "      <th>Variable</th>\n",
       "      <th>Importance</th>\n",
       "    </tr>\n",
       "  </thead>\n",
       "  <tbody>\n",
       "    <tr>\n",
       "      <th>0</th>\n",
       "      <td>EXT_SOURCE_3</td>\n",
       "      <td>325</td>\n",
       "    </tr>\n",
       "    <tr>\n",
       "      <th>1</th>\n",
       "      <td>EXT_SOURCE_2</td>\n",
       "      <td>320</td>\n",
       "    </tr>\n",
       "    <tr>\n",
       "      <th>2</th>\n",
       "      <td>EXT_SOURCE_1_DIV_DAYS_BIRTH</td>\n",
       "      <td>217</td>\n",
       "    </tr>\n",
       "    <tr>\n",
       "      <th>3</th>\n",
       "      <td>AMT_CREDIT_DIV_AMT_ANNUITY</td>\n",
       "      <td>210</td>\n",
       "    </tr>\n",
       "    <tr>\n",
       "      <th>4</th>\n",
       "      <td>AVG_AGG_SYNTHETIC_TARGET</td>\n",
       "      <td>194</td>\n",
       "    </tr>\n",
       "    <tr>\n",
       "      <th>5</th>\n",
       "      <td>DAYS_REGISTRATION_DIV_DAYS_LAST_PHONE_CHANGE</td>\n",
       "      <td>180</td>\n",
       "    </tr>\n",
       "    <tr>\n",
       "      <th>6</th>\n",
       "      <td>DAYS_ID_PUBLISH</td>\n",
       "      <td>153</td>\n",
       "    </tr>\n",
       "    <tr>\n",
       "      <th>7</th>\n",
       "      <td>MAX_AGG_SYNTHETIC_TARGET</td>\n",
       "      <td>143</td>\n",
       "    </tr>\n",
       "    <tr>\n",
       "      <th>8</th>\n",
       "      <td>EXT_SOURCE_PROD</td>\n",
       "      <td>138</td>\n",
       "    </tr>\n",
       "    <tr>\n",
       "      <th>9</th>\n",
       "      <td>MIN_DAYS_ENTRY_PAYMENT_DIFF_DAYS_INSTALMENT_12M</td>\n",
       "      <td>137</td>\n",
       "    </tr>\n",
       "    <tr>\n",
       "      <th>10</th>\n",
       "      <td>TOTAL_AMT_CREDIT_SUM_POS_DAYS_DIV_SUM_DAYS_CRE...</td>\n",
       "      <td>135</td>\n",
       "    </tr>\n",
       "    <tr>\n",
       "      <th>11</th>\n",
       "      <td>TOTAL_AMT_CREDIT_SUM_DIV_SUM_DAYS_CREDIT_ENDDATE</td>\n",
       "      <td>133</td>\n",
       "    </tr>\n",
       "    <tr>\n",
       "      <th>12</th>\n",
       "      <td>AMT_INCOME_TOTAL_DIV_DAYS_BIRTH</td>\n",
       "      <td>133</td>\n",
       "    </tr>\n",
       "    <tr>\n",
       "      <th>13</th>\n",
       "      <td>EXT_SOURCE_2_DIFF_EXT_SOURCE_3</td>\n",
       "      <td>130</td>\n",
       "    </tr>\n",
       "    <tr>\n",
       "      <th>14</th>\n",
       "      <td>AMT_ANNUITY_DIV_DAYS_BIRTH</td>\n",
       "      <td>128</td>\n",
       "    </tr>\n",
       "    <tr>\n",
       "      <th>15</th>\n",
       "      <td>PREVIOUS_AGG_SYNTHETIC_TARGET</td>\n",
       "      <td>128</td>\n",
       "    </tr>\n",
       "    <tr>\n",
       "      <th>16</th>\n",
       "      <td>AMT_CREDIT_DIFF_AMT_GOODS_PRICE</td>\n",
       "      <td>123</td>\n",
       "    </tr>\n",
       "    <tr>\n",
       "      <th>17</th>\n",
       "      <td>INSTALLMENT_AGG_COMP6</td>\n",
       "      <td>122</td>\n",
       "    </tr>\n",
       "    <tr>\n",
       "      <th>18</th>\n",
       "      <td>DAYS_SINCE_APPLIED</td>\n",
       "      <td>120</td>\n",
       "    </tr>\n",
       "    <tr>\n",
       "      <th>19</th>\n",
       "      <td>DAYS_BIRTH_DIFF_DAYS_ID_PUBLISH</td>\n",
       "      <td>120</td>\n",
       "    </tr>\n",
       "    <tr>\n",
       "      <th>20</th>\n",
       "      <td>AMT_ANNUITY_DIV_DAYS_EMPLOYED</td>\n",
       "      <td>120</td>\n",
       "    </tr>\n",
       "    <tr>\n",
       "      <th>21</th>\n",
       "      <td>MIN_AGG_SYNTHETIC_TARGET</td>\n",
       "      <td>118</td>\n",
       "    </tr>\n",
       "    <tr>\n",
       "      <th>22</th>\n",
       "      <td>SUM_INVERSE_DAYS_CREDIT</td>\n",
       "      <td>116</td>\n",
       "    </tr>\n",
       "    <tr>\n",
       "      <th>23</th>\n",
       "      <td>MAX_BUREAU_UTILIZATION_6M</td>\n",
       "      <td>115</td>\n",
       "    </tr>\n",
       "    <tr>\n",
       "      <th>24</th>\n",
       "      <td>DAYS_BIRTH</td>\n",
       "      <td>114</td>\n",
       "    </tr>\n",
       "    <tr>\n",
       "      <th>25</th>\n",
       "      <td>INSTALLMENT_AGG_SYNTHETIC_TARGET</td>\n",
       "      <td>113</td>\n",
       "    </tr>\n",
       "    <tr>\n",
       "      <th>26</th>\n",
       "      <td>DAYS_EMPLOYED</td>\n",
       "      <td>111</td>\n",
       "    </tr>\n",
       "    <tr>\n",
       "      <th>27</th>\n",
       "      <td>BUREAU_AGG_SYNTHETIC_TARGET</td>\n",
       "      <td>110</td>\n",
       "    </tr>\n",
       "    <tr>\n",
       "      <th>28</th>\n",
       "      <td>AVG_PREV_RATE_DOWNPAYMENT_WEIGHTED</td>\n",
       "      <td>109</td>\n",
       "    </tr>\n",
       "    <tr>\n",
       "      <th>29</th>\n",
       "      <td>MAX_DAYS_CREDIT_ENDDATE</td>\n",
       "      <td>108</td>\n",
       "    </tr>\n",
       "  </tbody>\n",
       "</table>\n",
       "</div>"
      ],
      "text/plain": [
       "                                             Variable  Importance\n",
       "0                                        EXT_SOURCE_3         325\n",
       "1                                        EXT_SOURCE_2         320\n",
       "2                         EXT_SOURCE_1_DIV_DAYS_BIRTH         217\n",
       "3                          AMT_CREDIT_DIV_AMT_ANNUITY         210\n",
       "4                            AVG_AGG_SYNTHETIC_TARGET         194\n",
       "5        DAYS_REGISTRATION_DIV_DAYS_LAST_PHONE_CHANGE         180\n",
       "6                                     DAYS_ID_PUBLISH         153\n",
       "7                            MAX_AGG_SYNTHETIC_TARGET         143\n",
       "8                                     EXT_SOURCE_PROD         138\n",
       "9     MIN_DAYS_ENTRY_PAYMENT_DIFF_DAYS_INSTALMENT_12M         137\n",
       "10  TOTAL_AMT_CREDIT_SUM_POS_DAYS_DIV_SUM_DAYS_CRE...         135\n",
       "11   TOTAL_AMT_CREDIT_SUM_DIV_SUM_DAYS_CREDIT_ENDDATE         133\n",
       "12                    AMT_INCOME_TOTAL_DIV_DAYS_BIRTH         133\n",
       "13                     EXT_SOURCE_2_DIFF_EXT_SOURCE_3         130\n",
       "14                         AMT_ANNUITY_DIV_DAYS_BIRTH         128\n",
       "15                      PREVIOUS_AGG_SYNTHETIC_TARGET         128\n",
       "16                    AMT_CREDIT_DIFF_AMT_GOODS_PRICE         123\n",
       "17                              INSTALLMENT_AGG_COMP6         122\n",
       "18                                 DAYS_SINCE_APPLIED         120\n",
       "19                    DAYS_BIRTH_DIFF_DAYS_ID_PUBLISH         120\n",
       "20                      AMT_ANNUITY_DIV_DAYS_EMPLOYED         120\n",
       "21                           MIN_AGG_SYNTHETIC_TARGET         118\n",
       "22                            SUM_INVERSE_DAYS_CREDIT         116\n",
       "23                          MAX_BUREAU_UTILIZATION_6M         115\n",
       "24                                         DAYS_BIRTH         114\n",
       "25                   INSTALLMENT_AGG_SYNTHETIC_TARGET         113\n",
       "26                                      DAYS_EMPLOYED         111\n",
       "27                        BUREAU_AGG_SYNTHETIC_TARGET         110\n",
       "28                 AVG_PREV_RATE_DOWNPAYMENT_WEIGHTED         109\n",
       "29                            MAX_DAYS_CREDIT_ENDDATE         108"
      ]
     },
     "execution_count": 4,
     "metadata": {},
     "output_type": "execute_result"
    },
    {
     "name": "stdout",
     "output_type": "stream",
     "text": [
      "time: 19.7 ms\n"
     ]
    }
   ],
   "source": [
    "var_imp = get_imp(clf, df.columns)\n",
    "var_imp.head(30)"
   ]
  },
  {
   "cell_type": "markdown",
   "metadata": {},
   "source": [
    "#### CV performance"
   ]
  },
  {
   "cell_type": "code",
   "execution_count": 7,
   "metadata": {},
   "outputs": [
    {
     "name": "stdout",
     "output_type": "stream",
     "text": [
      "[100]\tcv_agg's auc: 0.766159 + 0.00188907\n",
      "[200]\tcv_agg's auc: 0.770332 + 0.00179698\n",
      "[300]\tcv_agg's auc: 0.773809 + 0.00170017\n",
      "[400]\tcv_agg's auc: 0.776837 + 0.00163909\n",
      "[500]\tcv_agg's auc: 0.779574 + 0.00154527\n",
      "[600]\tcv_agg's auc: 0.781878 + 0.00153828\n",
      "[700]\tcv_agg's auc: 0.783813 + 0.00154874\n",
      "[800]\tcv_agg's auc: 0.78531 + 0.00156466\n",
      "[900]\tcv_agg's auc: 0.786513 + 0.00161063\n",
      "[1000]\tcv_agg's auc: 0.787528 + 0.00166976\n",
      "[1100]\tcv_agg's auc: 0.788349 + 0.00170645\n",
      "[1200]\tcv_agg's auc: 0.789056 + 0.0016812\n",
      "[1300]\tcv_agg's auc: 0.789642 + 0.00171239\n",
      "[1400]\tcv_agg's auc: 0.790128 + 0.00175635\n",
      "[1500]\tcv_agg's auc: 0.790589 + 0.00178924\n",
      "[1600]\tcv_agg's auc: 0.790974 + 0.00184189\n",
      "[1700]\tcv_agg's auc: 0.791278 + 0.00184899\n",
      "[1800]\tcv_agg's auc: 0.791487 + 0.00188318\n",
      "[1900]\tcv_agg's auc: 0.791665 + 0.00194512\n",
      "[2000]\tcv_agg's auc: 0.791853 + 0.00192957\n",
      "[2100]\tcv_agg's auc: 0.791966 + 0.00194539\n",
      "[2200]\tcv_agg's auc: 0.792127 + 0.00191808\n",
      "[2300]\tcv_agg's auc: 0.792259 + 0.00191052\n",
      "[2400]\tcv_agg's auc: 0.792338 + 0.00192129\n",
      "[2500]\tcv_agg's auc: 0.792406 + 0.00194077\n",
      "[2600]\tcv_agg's auc: 0.792508 + 0.00194979\n",
      "[2700]\tcv_agg's auc: 0.792551 + 0.00194514\n",
      "[2800]\tcv_agg's auc: 0.792616 + 0.0019657\n",
      "[2900]\tcv_agg's auc: 0.79264 + 0.00201173\n",
      "[3000]\tcv_agg's auc: 0.792646 + 0.00199641\n",
      "[3100]\tcv_agg's auc: 0.792664 + 0.00199159\n",
      "[3200]\tcv_agg's auc: 0.79269 + 0.00203433\n",
      "[3300]\tcv_agg's auc: 0.792634 + 0.00208003\n",
      "time: 2h 9min 55s\n"
     ]
    }
   ],
   "source": [
    "params = {\"n_estimators\": 5000, \n",
    "          \"num_leaves\": 500, \n",
    "          \"min_data_in_leaf\": 1000,\n",
    "          \"learning_rate\": 0.005, \n",
    "          \"bagging_fraction\": 0.5, \n",
    "          \"bagging_freq\": 1, \n",
    "          \"feature_fraction\": 0.5, \n",
    "          \"lambda_l2\": 1}\n",
    "\n",
    "to_drop = [c for c in df if \"PROJ\" in c]\n",
    "\n",
    "lgb_data = lgb.Dataset(data=df[lgb_cols].drop(to_drop, axis=1), \n",
    "                       label=y)\n",
    "\n",
    "cv_result = lgb.cv(params=params, \n",
    "                   train_set=lgb_data, \n",
    "                   nfold=5, \n",
    "                   metrics=\"auc\", \n",
    "                   early_stopping_rounds=200, \n",
    "                   stratified=True, \n",
    "                   shuffle=True, \n",
    "                   verbose_eval=100, \n",
    "                   show_stdv=True, \n",
    "                   seed=2357)\n",
    "\n",
    "cv_result = pd.DataFrame(cv_result)"
   ]
  },
  {
   "cell_type": "code",
   "execution_count": 8,
   "metadata": {},
   "outputs": [
    {
     "data": {
      "text/html": [
       "<div>\n",
       "<style scoped>\n",
       "    .dataframe tbody tr th:only-of-type {\n",
       "        vertical-align: middle;\n",
       "    }\n",
       "\n",
       "    .dataframe tbody tr th {\n",
       "        vertical-align: top;\n",
       "    }\n",
       "\n",
       "    .dataframe thead th {\n",
       "        text-align: right;\n",
       "    }\n",
       "</style>\n",
       "<table border=\"1\" class=\"dataframe\">\n",
       "  <thead>\n",
       "    <tr style=\"text-align: right;\">\n",
       "      <th></th>\n",
       "      <th>auc-mean</th>\n",
       "      <th>auc-stdv</th>\n",
       "    </tr>\n",
       "  </thead>\n",
       "  <tbody>\n",
       "    <tr>\n",
       "      <th>3133</th>\n",
       "      <td>0.792694</td>\n",
       "      <td>0.002002</td>\n",
       "    </tr>\n",
       "    <tr>\n",
       "      <th>3134</th>\n",
       "      <td>0.792696</td>\n",
       "      <td>0.002004</td>\n",
       "    </tr>\n",
       "    <tr>\n",
       "      <th>3135</th>\n",
       "      <td>0.792695</td>\n",
       "      <td>0.002001</td>\n",
       "    </tr>\n",
       "    <tr>\n",
       "      <th>3136</th>\n",
       "      <td>0.792696</td>\n",
       "      <td>0.002006</td>\n",
       "    </tr>\n",
       "    <tr>\n",
       "      <th>3137</th>\n",
       "      <td>0.792704</td>\n",
       "      <td>0.002006</td>\n",
       "    </tr>\n",
       "  </tbody>\n",
       "</table>\n",
       "</div>"
      ],
      "text/plain": [
       "      auc-mean  auc-stdv\n",
       "3133  0.792694  0.002002\n",
       "3134  0.792696  0.002004\n",
       "3135  0.792695  0.002001\n",
       "3136  0.792696  0.002006\n",
       "3137  0.792704  0.002006"
      ]
     },
     "execution_count": 8,
     "metadata": {},
     "output_type": "execute_result"
    },
    {
     "name": "stdout",
     "output_type": "stream",
     "text": [
      "time: 51.4 ms\n"
     ]
    }
   ],
   "source": [
    "cv_result.tail()"
   ]
  },
  {
   "cell_type": "markdown",
   "metadata": {},
   "source": [
    "#### Fit full models"
   ]
  },
  {
   "cell_type": "code",
   "execution_count": 6,
   "metadata": {},
   "outputs": [
    {
     "name": "stdout",
     "output_type": "stream",
     "text": [
      "Fitting model 1...\n",
      "Fitting model 2...\n",
      "Fitting model 3...\n",
      "Fitting model 4...\n"
     ]
    },
    {
     "data": {
      "text/plain": [
       "LGBMClassifier(bagging_fraction=0.5, bagging_freq=1, boosting_type='gbdt',\n",
       "        class_weight=None, colsample_bytree=1.0, feature_fraction=0.5,\n",
       "        lambda_l2=1, learning_rate=0.005, max_depth=-1,\n",
       "        min_child_samples=20, min_child_weight=0.001,\n",
       "        min_data_in_leaf=1000, min_split_gain=0.0, n_estimators=2500,\n",
       "        n_jobs=-1, num_leaves=500, objective=None, random_state=3572,\n",
       "        reg_alpha=0.0, reg_lambda=0.0, silent=True, subsample=1.0,\n",
       "        subsample_for_bin=200000, subsample_freq=1)"
      ]
     },
     "execution_count": 6,
     "metadata": {},
     "output_type": "execute_result"
    },
    {
     "name": "stdout",
     "output_type": "stream",
     "text": [
      "time: 1h 4min 24s\n"
     ]
    }
   ],
   "source": [
    "lgb1 = lgb.LGBMClassifier(n_estimators=2500, \n",
    "                               num_leaves=500, \n",
    "                               min_data_in_leaf=1000,\n",
    "                               learning_rate=0.005, \n",
    "                               bagging_fraction=0.5, \n",
    "                               bagging_freq=1, \n",
    "                               feature_fraction=0.5, \n",
    "                               lambda_l2=1, \n",
    "                               random_state=2357) \n",
    "\n",
    "print(\"Fitting model 1...\")\n",
    "lgb1.fit(df, y)\n",
    "\n",
    "lgb2 = lgb.LGBMClassifier(n_estimators=2500, \n",
    "                               num_leaves=500, \n",
    "                               min_data_in_leaf=1000,\n",
    "                               learning_rate=0.005, \n",
    "                               bagging_fraction=0.5, \n",
    "                               bagging_freq=1, \n",
    "                               feature_fraction=0.5, \n",
    "                               lambda_l2=1, \n",
    "                               random_state=7235) \n",
    "\n",
    "print(\"Fitting model 2...\")\n",
    "lgb2.fit(df, y)\n",
    "\n",
    "lgb3 = lgb.LGBMClassifier(n_estimators=2500, \n",
    "                               num_leaves=500, \n",
    "                               min_data_in_leaf=1000,\n",
    "                               learning_rate=0.005, \n",
    "                               bagging_fraction=0.5, \n",
    "                               bagging_freq=1, \n",
    "                               feature_fraction=0.5, \n",
    "                               lambda_l2=1, \n",
    "                               random_state=5723) \n",
    "\n",
    "print(\"Fitting model 3...\")\n",
    "lgb3.fit(df, y)\n",
    "\n",
    "lgb4 = lgb.LGBMClassifier(n_estimators=2500, \n",
    "                               num_leaves=500, \n",
    "                               min_data_in_leaf=1000,\n",
    "                               learning_rate=0.005, \n",
    "                               bagging_fraction=0.5, \n",
    "                               bagging_freq=1, \n",
    "                               feature_fraction=0.5, \n",
    "                               lambda_l2=1, \n",
    "                               random_state=3572) \n",
    "\n",
    "print(\"Fitting model 4...\")\n",
    "lgb4.fit(df, y)"
   ]
  },
  {
   "cell_type": "code",
   "execution_count": 7,
   "metadata": {},
   "outputs": [
    {
     "data": {
      "text/plain": [
       "110"
      ]
     },
     "execution_count": 7,
     "metadata": {},
     "output_type": "execute_result"
    },
    {
     "name": "stdout",
     "output_type": "stream",
     "text": [
      "time: 263 ms\n"
     ]
    }
   ],
   "source": [
    "del df\n",
    "gc.collect()"
   ]
  },
  {
   "cell_type": "code",
   "execution_count": 8,
   "metadata": {},
   "outputs": [
    {
     "name": "stdout",
     "output_type": "stream",
     "text": [
      "time: 4.36 s\n"
     ]
    }
   ],
   "source": [
    "test = pd.read_csv(path + \"test.csv\")"
   ]
  },
  {
   "cell_type": "code",
   "execution_count": 9,
   "metadata": {},
   "outputs": [
    {
     "name": "stdout",
     "output_type": "stream",
     "text": [
      "time: 30.4 s\n"
     ]
    }
   ],
   "source": [
    "sk_id_curr = test.pop(\"SK_ID_CURR\")\n",
    "\n",
    "scores = pd.DataFrame({\"SK_ID_CURR\": sk_id_curr, \n",
    "                      \"LGB_SCORE1\": lgb1.predict_proba(test)[:,1], \n",
    "                      \"LGB_SCORE2\": lgb2.predict_proba(test)[:,1], \n",
    "                      \"LGB_SCORE3\": lgb3.predict_proba(test)[:,1], \n",
    "                      \"LGB_SCORE4\": lgb4.predict_proba(test)[:,1]}, \n",
    "                     index=test.index)"
   ]
  },
  {
   "cell_type": "code",
   "execution_count": 19,
   "metadata": {},
   "outputs": [
    {
     "name": "stdout",
     "output_type": "stream",
     "text": [
      "time: 2.22 s\n"
     ]
    }
   ],
   "source": [
    "scores[\"TARGET\"] = scores[[\"LGB_SCORE\" + str(i+1) for i in range(4)]].rank().apply(np.mean, axis=1)"
   ]
  },
  {
   "cell_type": "code",
   "execution_count": 21,
   "metadata": {},
   "outputs": [
    {
     "name": "stdout",
     "output_type": "stream",
     "text": [
      "time: 187 ms\n"
     ]
    }
   ],
   "source": [
    "scores[[\"SK_ID_CURR\", \"TARGET\"]].to_csv(path + \"submission.csv\", index=False, header=True)"
   ]
  }
 ],
 "metadata": {
  "kernelspec": {
   "display_name": "Python 3",
   "language": "python",
   "name": "python3"
  },
  "language_info": {
   "codemirror_mode": {
    "name": "ipython",
    "version": 3
   },
   "file_extension": ".py",
   "mimetype": "text/x-python",
   "name": "python",
   "nbconvert_exporter": "python",
   "pygments_lexer": "ipython3",
   "version": "3.6.5"
  }
 },
 "nbformat": 4,
 "nbformat_minor": 2
}
