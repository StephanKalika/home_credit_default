{
 "cells": [
  {
   "cell_type": "markdown",
   "metadata": {},
   "source": [
    "# Home Credit Modeling"
   ]
  },
  {
   "cell_type": "code",
   "execution_count": 65,
   "metadata": {},
   "outputs": [
    {
     "name": "stdout",
     "output_type": "stream",
     "text": [
      "The autotime extension is already loaded. To reload it, use:\n",
      "  %reload_ext autotime\n",
      "time: 5.06 ms\n"
     ]
    }
   ],
   "source": [
    "import numpy as np\n",
    "import pandas as pd\n",
    "import seaborn as sns\n",
    "import matplotlib.pyplot as plt\n",
    "from scipy.stats import iqr, randint, uniform\n",
    "import lightgbm as lgb\n",
    "from sklearn.tree import DecisionTreeClassifier\n",
    "from sklearn.ensemble import RandomForestClassifier\n",
    "from sklearn.linear_model import LogisticRegressionCV\n",
    "from sklearn.preprocessing import Imputer, StandardScaler, RobustScaler\n",
    "from sklearn.model_selection import RandomizedSearchCV, GridSearchCV, train_test_split, cross_val_score\n",
    "from sklearn.metrics import roc_auc_score\n",
    "from skopt import gp_minimize\n",
    "from skopt.plots import plot_convergence, plot_objective\n",
    "import pickle\n",
    "import gc\n",
    "\n",
    "%load_ext autotime\n",
    "\n",
    "gc.enable()\n",
    "np.random.seed(235)\n",
    "\n",
    "path = \"/Users/dsaxton/home_credit_default/\""
   ]
  },
  {
   "cell_type": "markdown",
   "metadata": {},
   "source": [
    "#### Load the data"
   ]
  },
  {
   "cell_type": "code",
   "execution_count": 66,
   "metadata": {},
   "outputs": [
    {
     "name": "stdout",
     "output_type": "stream",
     "text": [
      "time: 24.8 s\n"
     ]
    }
   ],
   "source": [
    "df = pd.read_csv(path + \"preprocessed_train.csv\")"
   ]
  },
  {
   "cell_type": "code",
   "execution_count": 67,
   "metadata": {},
   "outputs": [
    {
     "name": "stdout",
     "output_type": "stream",
     "text": [
      "time: 569 ms\n"
     ]
    }
   ],
   "source": [
    "sk_id_curr = df.pop(\"SK_ID_CURR\")\n",
    "y = df.pop(\"TARGET\")"
   ]
  },
  {
   "cell_type": "markdown",
   "metadata": {},
   "source": [
    "#### Select features"
   ]
  },
  {
   "cell_type": "code",
   "execution_count": 68,
   "metadata": {},
   "outputs": [
    {
     "data": {
      "text/plain": [
       "471"
      ]
     },
     "execution_count": 68,
     "metadata": {},
     "output_type": "execute_result"
    },
    {
     "name": "stdout",
     "output_type": "stream",
     "text": [
      "time: 1min 39s\n"
     ]
    }
   ],
   "source": [
    "clf = lgb.LGBMClassifier(n_estimators=1000, num_leaves=23, subsample=0.5)\n",
    "clf.fit(df, y)\n",
    "\n",
    "lgb_cols = df.columns[clf.feature_importances_ > 0]\n",
    "len(lgb_cols)"
   ]
  },
  {
   "cell_type": "code",
   "execution_count": 69,
   "metadata": {},
   "outputs": [
    {
     "name": "stdout",
     "output_type": "stream",
     "text": [
      "time: 4.56 ms\n"
     ]
    }
   ],
   "source": [
    "var_imp = pd.DataFrame({\"Feature\": df.columns, \"Importance\": clf.feature_importances_})[[\"Feature\", \"Importance\"]].sort_values(\"Importance\", ascending=False)"
   ]
  },
  {
   "cell_type": "markdown",
   "metadata": {},
   "source": [
    "#### View important features"
   ]
  },
  {
   "cell_type": "code",
   "execution_count": 70,
   "metadata": {},
   "outputs": [
    {
     "data": {
      "text/html": [
       "<div>\n",
       "<style scoped>\n",
       "    .dataframe tbody tr th:only-of-type {\n",
       "        vertical-align: middle;\n",
       "    }\n",
       "\n",
       "    .dataframe tbody tr th {\n",
       "        vertical-align: top;\n",
       "    }\n",
       "\n",
       "    .dataframe thead th {\n",
       "        text-align: right;\n",
       "    }\n",
       "</style>\n",
       "<table border=\"1\" class=\"dataframe\">\n",
       "  <thead>\n",
       "    <tr style=\"text-align: right;\">\n",
       "      <th></th>\n",
       "      <th>Feature</th>\n",
       "      <th>Importance</th>\n",
       "    </tr>\n",
       "  </thead>\n",
       "  <tbody>\n",
       "    <tr>\n",
       "      <th>31</th>\n",
       "      <td>EXT_SOURCE_3</td>\n",
       "      <td>363</td>\n",
       "    </tr>\n",
       "    <tr>\n",
       "      <th>30</th>\n",
       "      <td>EXT_SOURCE_2</td>\n",
       "      <td>351</td>\n",
       "    </tr>\n",
       "    <tr>\n",
       "      <th>336</th>\n",
       "      <td>AMT_CREDIT_DIV_AMT_ANNUITY</td>\n",
       "      <td>294</td>\n",
       "    </tr>\n",
       "    <tr>\n",
       "      <th>372</th>\n",
       "      <td>EXT_SOURCE_1_DIV_DAYS_BIRTH</td>\n",
       "      <td>219</td>\n",
       "    </tr>\n",
       "    <tr>\n",
       "      <th>8</th>\n",
       "      <td>DAYS_BIRTH</td>\n",
       "      <td>213</td>\n",
       "    </tr>\n",
       "    <tr>\n",
       "      <th>360</th>\n",
       "      <td>DAYS_REGISTRATION_DIV_DAYS_LAST_PHONE_CHANGE</td>\n",
       "      <td>205</td>\n",
       "    </tr>\n",
       "    <tr>\n",
       "      <th>11</th>\n",
       "      <td>DAYS_ID_PUBLISH</td>\n",
       "      <td>199</td>\n",
       "    </tr>\n",
       "    <tr>\n",
       "      <th>9</th>\n",
       "      <td>DAYS_EMPLOYED</td>\n",
       "      <td>198</td>\n",
       "    </tr>\n",
       "    <tr>\n",
       "      <th>339</th>\n",
       "      <td>EXT_SOURCE_PROD</td>\n",
       "      <td>196</td>\n",
       "    </tr>\n",
       "    <tr>\n",
       "      <th>330</th>\n",
       "      <td>TOTAL_AMT_CREDIT_SUM_POS_DAYS_DIV_SUM_DAYS_CRE...</td>\n",
       "      <td>181</td>\n",
       "    </tr>\n",
       "    <tr>\n",
       "      <th>150</th>\n",
       "      <td>AVG_PREV_PROP_APPROVED</td>\n",
       "      <td>180</td>\n",
       "    </tr>\n",
       "    <tr>\n",
       "      <th>329</th>\n",
       "      <td>TOTAL_AMT_CREDIT_SUM_DIV_SUM_DAYS_CREDIT_ENDDATE</td>\n",
       "      <td>174</td>\n",
       "    </tr>\n",
       "    <tr>\n",
       "      <th>333</th>\n",
       "      <td>AMT_CREDIT_DIV_AMT_GOODS_PRICE</td>\n",
       "      <td>174</td>\n",
       "    </tr>\n",
       "    <tr>\n",
       "      <th>222</th>\n",
       "      <td>MIN_DAYS_CREDIT_ENDDATE</td>\n",
       "      <td>171</td>\n",
       "    </tr>\n",
       "    <tr>\n",
       "      <th>232</th>\n",
       "      <td>DAYS_SINCE_APPLIED</td>\n",
       "      <td>167</td>\n",
       "    </tr>\n",
       "    <tr>\n",
       "      <th>325</th>\n",
       "      <td>MIN_DAYS_ENTRY_PAYMENT_DIFF_DAYS_INSTALMENT_12M</td>\n",
       "      <td>162</td>\n",
       "    </tr>\n",
       "    <tr>\n",
       "      <th>349</th>\n",
       "      <td>AMT_INCOME_TOTAL_DIV_DAYS_BIRTH</td>\n",
       "      <td>160</td>\n",
       "    </tr>\n",
       "    <tr>\n",
       "      <th>357</th>\n",
       "      <td>AMT_ANNUITY_DIV_DAYS_EMPLOYED</td>\n",
       "      <td>159</td>\n",
       "    </tr>\n",
       "    <tr>\n",
       "      <th>324</th>\n",
       "      <td>MAX_DAYS_ENTRY_PAYMENT_DIFF_DAYS_INSTALMENT_12M</td>\n",
       "      <td>156</td>\n",
       "    </tr>\n",
       "    <tr>\n",
       "      <th>5</th>\n",
       "      <td>AMT_ANNUITY</td>\n",
       "      <td>151</td>\n",
       "    </tr>\n",
       "    <tr>\n",
       "      <th>109</th>\n",
       "      <td>AVG_SYNTH_TARGET_12M</td>\n",
       "      <td>150</td>\n",
       "    </tr>\n",
       "    <tr>\n",
       "      <th>356</th>\n",
       "      <td>AMT_ANNUITY_DIV_DAYS_BIRTH</td>\n",
       "      <td>149</td>\n",
       "    </tr>\n",
       "    <tr>\n",
       "      <th>125</th>\n",
       "      <td>MIN_PREV_AMT_CREDIT_DIV_ANNUITY</td>\n",
       "      <td>148</td>\n",
       "    </tr>\n",
       "    <tr>\n",
       "      <th>169</th>\n",
       "      <td>MAX_SYNTH_TARGET</td>\n",
       "      <td>148</td>\n",
       "    </tr>\n",
       "    <tr>\n",
       "      <th>182</th>\n",
       "      <td>MAX_BUREAU_UTILIZATION_6M</td>\n",
       "      <td>145</td>\n",
       "    </tr>\n",
       "    <tr>\n",
       "      <th>311</th>\n",
       "      <td>MIN_PAYMENT_SIZE</td>\n",
       "      <td>144</td>\n",
       "    </tr>\n",
       "    <tr>\n",
       "      <th>249</th>\n",
       "      <td>TOTAL_AMT_CREDIT_SUM</td>\n",
       "      <td>139</td>\n",
       "    </tr>\n",
       "    <tr>\n",
       "      <th>224</th>\n",
       "      <td>SUM_DAYS_CREDIT_ENDDATE</td>\n",
       "      <td>137</td>\n",
       "    </tr>\n",
       "    <tr>\n",
       "      <th>166</th>\n",
       "      <td>AVG_SYNTH_TARGET</td>\n",
       "      <td>136</td>\n",
       "    </tr>\n",
       "    <tr>\n",
       "      <th>309</th>\n",
       "      <td>MAX_PAYMENT_SIZE</td>\n",
       "      <td>136</td>\n",
       "    </tr>\n",
       "    <tr>\n",
       "      <th>359</th>\n",
       "      <td>DAYS_REGISTRATION_DIV_DAYS_ID_PUBLISH</td>\n",
       "      <td>135</td>\n",
       "    </tr>\n",
       "    <tr>\n",
       "      <th>344</th>\n",
       "      <td>AVG_PAYMENT_SIZE_DIV_AMT_ANNUITY</td>\n",
       "      <td>134</td>\n",
       "    </tr>\n",
       "    <tr>\n",
       "      <th>341</th>\n",
       "      <td>DAYS_EMPLOYED_PLUS_DAYS_REGISTRATION_PLUS_DAYS...</td>\n",
       "      <td>133</td>\n",
       "    </tr>\n",
       "    <tr>\n",
       "      <th>233</th>\n",
       "      <td>SUM_INVERSE_DAYS_CREDIT</td>\n",
       "      <td>131</td>\n",
       "    </tr>\n",
       "    <tr>\n",
       "      <th>342</th>\n",
       "      <td>AVG_PAYMENT_SIZE_DIV_AMT_INCOME_TOTAL</td>\n",
       "      <td>129</td>\n",
       "    </tr>\n",
       "    <tr>\n",
       "      <th>223</th>\n",
       "      <td>MAX_DAYS_CREDIT_ENDDATE</td>\n",
       "      <td>127</td>\n",
       "    </tr>\n",
       "    <tr>\n",
       "      <th>313</th>\n",
       "      <td>SUM_PAYMENT</td>\n",
       "      <td>127</td>\n",
       "    </tr>\n",
       "    <tr>\n",
       "      <th>183</th>\n",
       "      <td>MAX_BUREAU_UTILIZATION_12M</td>\n",
       "      <td>126</td>\n",
       "    </tr>\n",
       "    <tr>\n",
       "      <th>337</th>\n",
       "      <td>AMT_CREDIT_DIV_AVG_PREV_REQ_AMOUNT</td>\n",
       "      <td>126</td>\n",
       "    </tr>\n",
       "    <tr>\n",
       "      <th>146</th>\n",
       "      <td>AVG_PREV_RATE_DOWNPAYMENT_WEIGHTED</td>\n",
       "      <td>124</td>\n",
       "    </tr>\n",
       "    <tr>\n",
       "      <th>334</th>\n",
       "      <td>AMT_CREDIT_DIV_SUM_PAYMENT</td>\n",
       "      <td>123</td>\n",
       "    </tr>\n",
       "    <tr>\n",
       "      <th>299</th>\n",
       "      <td>MAX_PAYMENT_SIZE_12M</td>\n",
       "      <td>123</td>\n",
       "    </tr>\n",
       "    <tr>\n",
       "      <th>149</th>\n",
       "      <td>AVG_PREV_RATE_DOWNPAYMENT</td>\n",
       "      <td>123</td>\n",
       "    </tr>\n",
       "    <tr>\n",
       "      <th>151</th>\n",
       "      <td>MAX_PREV_PROP_APPROVED</td>\n",
       "      <td>123</td>\n",
       "    </tr>\n",
       "    <tr>\n",
       "      <th>321</th>\n",
       "      <td>SUM_PAYMENT_DIFF_6M_12M</td>\n",
       "      <td>122</td>\n",
       "    </tr>\n",
       "    <tr>\n",
       "      <th>177</th>\n",
       "      <td>SUM_AMT_CREDIT_SUM_DEBT_DIV_DAYS_CREDIT_ENDDAT...</td>\n",
       "      <td>122</td>\n",
       "    </tr>\n",
       "    <tr>\n",
       "      <th>335</th>\n",
       "      <td>AMT_GOODS_PRICE_DIV_AMT_INCOME_TOTAL</td>\n",
       "      <td>122</td>\n",
       "    </tr>\n",
       "    <tr>\n",
       "      <th>353</th>\n",
       "      <td>OWN_CAR_AGE_DIV_DAYS_BIRTH</td>\n",
       "      <td>122</td>\n",
       "    </tr>\n",
       "    <tr>\n",
       "      <th>245</th>\n",
       "      <td>MAX_DAYS_CREDIT_UPDATE</td>\n",
       "      <td>120</td>\n",
       "    </tr>\n",
       "    <tr>\n",
       "      <th>29</th>\n",
       "      <td>EXT_SOURCE_1</td>\n",
       "      <td>120</td>\n",
       "    </tr>\n",
       "  </tbody>\n",
       "</table>\n",
       "</div>"
      ],
      "text/plain": [
       "                                               Feature  Importance\n",
       "31                                        EXT_SOURCE_3         363\n",
       "30                                        EXT_SOURCE_2         351\n",
       "336                         AMT_CREDIT_DIV_AMT_ANNUITY         294\n",
       "372                        EXT_SOURCE_1_DIV_DAYS_BIRTH         219\n",
       "8                                           DAYS_BIRTH         213\n",
       "360       DAYS_REGISTRATION_DIV_DAYS_LAST_PHONE_CHANGE         205\n",
       "11                                     DAYS_ID_PUBLISH         199\n",
       "9                                        DAYS_EMPLOYED         198\n",
       "339                                    EXT_SOURCE_PROD         196\n",
       "330  TOTAL_AMT_CREDIT_SUM_POS_DAYS_DIV_SUM_DAYS_CRE...         181\n",
       "150                             AVG_PREV_PROP_APPROVED         180\n",
       "329   TOTAL_AMT_CREDIT_SUM_DIV_SUM_DAYS_CREDIT_ENDDATE         174\n",
       "333                     AMT_CREDIT_DIV_AMT_GOODS_PRICE         174\n",
       "222                            MIN_DAYS_CREDIT_ENDDATE         171\n",
       "232                                 DAYS_SINCE_APPLIED         167\n",
       "325    MIN_DAYS_ENTRY_PAYMENT_DIFF_DAYS_INSTALMENT_12M         162\n",
       "349                    AMT_INCOME_TOTAL_DIV_DAYS_BIRTH         160\n",
       "357                      AMT_ANNUITY_DIV_DAYS_EMPLOYED         159\n",
       "324    MAX_DAYS_ENTRY_PAYMENT_DIFF_DAYS_INSTALMENT_12M         156\n",
       "5                                          AMT_ANNUITY         151\n",
       "109                               AVG_SYNTH_TARGET_12M         150\n",
       "356                         AMT_ANNUITY_DIV_DAYS_BIRTH         149\n",
       "125                    MIN_PREV_AMT_CREDIT_DIV_ANNUITY         148\n",
       "169                                   MAX_SYNTH_TARGET         148\n",
       "182                          MAX_BUREAU_UTILIZATION_6M         145\n",
       "311                                   MIN_PAYMENT_SIZE         144\n",
       "249                               TOTAL_AMT_CREDIT_SUM         139\n",
       "224                            SUM_DAYS_CREDIT_ENDDATE         137\n",
       "166                                   AVG_SYNTH_TARGET         136\n",
       "309                                   MAX_PAYMENT_SIZE         136\n",
       "359              DAYS_REGISTRATION_DIV_DAYS_ID_PUBLISH         135\n",
       "344                   AVG_PAYMENT_SIZE_DIV_AMT_ANNUITY         134\n",
       "341  DAYS_EMPLOYED_PLUS_DAYS_REGISTRATION_PLUS_DAYS...         133\n",
       "233                            SUM_INVERSE_DAYS_CREDIT         131\n",
       "342              AVG_PAYMENT_SIZE_DIV_AMT_INCOME_TOTAL         129\n",
       "223                            MAX_DAYS_CREDIT_ENDDATE         127\n",
       "313                                        SUM_PAYMENT         127\n",
       "183                         MAX_BUREAU_UTILIZATION_12M         126\n",
       "337                 AMT_CREDIT_DIV_AVG_PREV_REQ_AMOUNT         126\n",
       "146                 AVG_PREV_RATE_DOWNPAYMENT_WEIGHTED         124\n",
       "334                         AMT_CREDIT_DIV_SUM_PAYMENT         123\n",
       "299                               MAX_PAYMENT_SIZE_12M         123\n",
       "149                          AVG_PREV_RATE_DOWNPAYMENT         123\n",
       "151                             MAX_PREV_PROP_APPROVED         123\n",
       "321                            SUM_PAYMENT_DIFF_6M_12M         122\n",
       "177  SUM_AMT_CREDIT_SUM_DEBT_DIV_DAYS_CREDIT_ENDDAT...         122\n",
       "335               AMT_GOODS_PRICE_DIV_AMT_INCOME_TOTAL         122\n",
       "353                         OWN_CAR_AGE_DIV_DAYS_BIRTH         122\n",
       "245                             MAX_DAYS_CREDIT_UPDATE         120\n",
       "29                                        EXT_SOURCE_1         120"
      ]
     },
     "execution_count": 70,
     "metadata": {},
     "output_type": "execute_result"
    },
    {
     "name": "stdout",
     "output_type": "stream",
     "text": [
      "time: 11.8 ms\n"
     ]
    }
   ],
   "source": [
    "var_imp.head(50)"
   ]
  },
  {
   "cell_type": "markdown",
   "metadata": {},
   "source": [
    "#### Average importance over non-zero importance features"
   ]
  },
  {
   "cell_type": "code",
   "execution_count": 71,
   "metadata": {},
   "outputs": [
    {
     "data": {
      "text/plain": [
       "46"
      ]
     },
     "execution_count": 71,
     "metadata": {},
     "output_type": "execute_result"
    },
    {
     "name": "stdout",
     "output_type": "stream",
     "text": [
      "time: 4.81 ms\n"
     ]
    }
   ],
   "source": [
    "int(np.nanmean(var_imp[\"Importance\"].where(var_imp[\"Importance\"] > 0)))"
   ]
  },
  {
   "cell_type": "markdown",
   "metadata": {},
   "source": [
    "#### Importance of selected features"
   ]
  },
  {
   "cell_type": "code",
   "execution_count": 72,
   "metadata": {},
   "outputs": [
    {
     "data": {
      "text/html": [
       "<div>\n",
       "<style scoped>\n",
       "    .dataframe tbody tr th:only-of-type {\n",
       "        vertical-align: middle;\n",
       "    }\n",
       "\n",
       "    .dataframe tbody tr th {\n",
       "        vertical-align: top;\n",
       "    }\n",
       "\n",
       "    .dataframe thead th {\n",
       "        text-align: right;\n",
       "    }\n",
       "</style>\n",
       "<table border=\"1\" class=\"dataframe\">\n",
       "  <thead>\n",
       "    <tr style=\"text-align: right;\">\n",
       "      <th></th>\n",
       "      <th>Feature</th>\n",
       "      <th>Importance</th>\n",
       "    </tr>\n",
       "  </thead>\n",
       "  <tbody>\n",
       "    <tr>\n",
       "      <th>108</th>\n",
       "      <td>MIN_PREV_PROP_APPROVED_12M</td>\n",
       "      <td>63</td>\n",
       "    </tr>\n",
       "  </tbody>\n",
       "</table>\n",
       "</div>"
      ],
      "text/plain": [
       "                        Feature  Importance\n",
       "108  MIN_PREV_PROP_APPROVED_12M          63"
      ]
     },
     "execution_count": 72,
     "metadata": {},
     "output_type": "execute_result"
    },
    {
     "name": "stdout",
     "output_type": "stream",
     "text": [
      "time: 11.3 ms\n"
     ]
    }
   ],
   "source": [
    "features = [\"MIN_PREV_PROP_APPROVED_12M\"]\n",
    "\n",
    "var_imp[var_imp[\"Feature\"].isin(features)]"
   ]
  },
  {
   "cell_type": "markdown",
   "metadata": {},
   "source": [
    "#### Features with zero importance"
   ]
  },
  {
   "cell_type": "code",
   "execution_count": 73,
   "metadata": {},
   "outputs": [
    {
     "data": {
      "text/html": [
       "<div>\n",
       "<style scoped>\n",
       "    .dataframe tbody tr th:only-of-type {\n",
       "        vertical-align: middle;\n",
       "    }\n",
       "\n",
       "    .dataframe tbody tr th {\n",
       "        vertical-align: top;\n",
       "    }\n",
       "\n",
       "    .dataframe thead th {\n",
       "        text-align: right;\n",
       "    }\n",
       "</style>\n",
       "<table border=\"1\" class=\"dataframe\">\n",
       "  <thead>\n",
       "    <tr style=\"text-align: right;\">\n",
       "      <th></th>\n",
       "      <th>Feature</th>\n",
       "      <th>Importance</th>\n",
       "    </tr>\n",
       "  </thead>\n",
       "  <tbody>\n",
       "    <tr>\n",
       "      <th>14</th>\n",
       "      <td>FLAG_EMP_PHONE</td>\n",
       "      <td>0</td>\n",
       "    </tr>\n",
       "    <tr>\n",
       "      <th>444</th>\n",
       "      <td>WEEKDAY_APPR_PROCESS_START_nan</td>\n",
       "      <td>0</td>\n",
       "    </tr>\n",
       "    <tr>\n",
       "      <th>392</th>\n",
       "      <td>NAME_INCOME_TYPE_Pensioner</td>\n",
       "      <td>0</td>\n",
       "    </tr>\n",
       "    <tr>\n",
       "      <th>497</th>\n",
       "      <td>ORGANIZATION_TYPE_Transport:_type_1</td>\n",
       "      <td>0</td>\n",
       "    </tr>\n",
       "    <tr>\n",
       "      <th>394</th>\n",
       "      <td>NAME_INCOME_TYPE_Student</td>\n",
       "      <td>0</td>\n",
       "    </tr>\n",
       "    <tr>\n",
       "      <th>85</th>\n",
       "      <td>FLAG_DOCUMENT_7</td>\n",
       "      <td>0</td>\n",
       "    </tr>\n",
       "    <tr>\n",
       "      <th>395</th>\n",
       "      <td>NAME_INCOME_TYPE_Unemployed</td>\n",
       "      <td>0</td>\n",
       "    </tr>\n",
       "    <tr>\n",
       "      <th>397</th>\n",
       "      <td>NAME_INCOME_TYPE_nan</td>\n",
       "      <td>0</td>\n",
       "    </tr>\n",
       "    <tr>\n",
       "      <th>502</th>\n",
       "      <td>ORGANIZATION_TYPE_XNA</td>\n",
       "      <td>0</td>\n",
       "    </tr>\n",
       "    <tr>\n",
       "      <th>503</th>\n",
       "      <td>ORGANIZATION_TYPE_nan</td>\n",
       "      <td>0</td>\n",
       "    </tr>\n",
       "    <tr>\n",
       "      <th>82</th>\n",
       "      <td>FLAG_DOCUMENT_4</td>\n",
       "      <td>0</td>\n",
       "    </tr>\n",
       "    <tr>\n",
       "      <th>417</th>\n",
       "      <td>NAME_HOUSING_TYPE_nan</td>\n",
       "      <td>0</td>\n",
       "    </tr>\n",
       "    <tr>\n",
       "      <th>80</th>\n",
       "      <td>FLAG_DOCUMENT_2</td>\n",
       "      <td>0</td>\n",
       "    </tr>\n",
       "    <tr>\n",
       "      <th>520</th>\n",
       "      <td>WALLSMATERIAL_MODE_nan</td>\n",
       "      <td>0</td>\n",
       "    </tr>\n",
       "    <tr>\n",
       "      <th>403</th>\n",
       "      <td>NAME_EDUCATION_TYPE_nan</td>\n",
       "      <td>0</td>\n",
       "    </tr>\n",
       "    <tr>\n",
       "      <th>494</th>\n",
       "      <td>ORGANIZATION_TYPE_Trade:_type_5</td>\n",
       "      <td>0</td>\n",
       "    </tr>\n",
       "    <tr>\n",
       "      <th>408</th>\n",
       "      <td>NAME_FAMILY_STATUS_Unknown</td>\n",
       "      <td>0</td>\n",
       "    </tr>\n",
       "    <tr>\n",
       "      <th>511</th>\n",
       "      <td>HOUSETYPE_MODE_terraced_house</td>\n",
       "      <td>0</td>\n",
       "    </tr>\n",
       "    <tr>\n",
       "      <th>512</th>\n",
       "      <td>HOUSETYPE_MODE_nan</td>\n",
       "      <td>0</td>\n",
       "    </tr>\n",
       "    <tr>\n",
       "      <th>410</th>\n",
       "      <td>NAME_FAMILY_STATUS_nan</td>\n",
       "      <td>0</td>\n",
       "    </tr>\n",
       "    <tr>\n",
       "      <th>13</th>\n",
       "      <td>FLAG_MOBIL</td>\n",
       "      <td>0</td>\n",
       "    </tr>\n",
       "    <tr>\n",
       "      <th>515</th>\n",
       "      <td>WALLSMATERIAL_MODE_Monolithic</td>\n",
       "      <td>0</td>\n",
       "    </tr>\n",
       "    <tr>\n",
       "      <th>495</th>\n",
       "      <td>ORGANIZATION_TYPE_Trade:_type_6</td>\n",
       "      <td>0</td>\n",
       "    </tr>\n",
       "    <tr>\n",
       "      <th>460</th>\n",
       "      <td>ORGANIZATION_TYPE_Industry:_type_10</td>\n",
       "      <td>0</td>\n",
       "    </tr>\n",
       "    <tr>\n",
       "      <th>493</th>\n",
       "      <td>ORGANIZATION_TYPE_Trade:_type_4</td>\n",
       "      <td>0</td>\n",
       "    </tr>\n",
       "    <tr>\n",
       "      <th>190</th>\n",
       "      <td>BUREAU_UTILIZATION_DIFF_6M_12M</td>\n",
       "      <td>0</td>\n",
       "    </tr>\n",
       "    <tr>\n",
       "      <th>463</th>\n",
       "      <td>ORGANIZATION_TYPE_Industry:_type_13</td>\n",
       "      <td>0</td>\n",
       "    </tr>\n",
       "    <tr>\n",
       "      <th>383</th>\n",
       "      <td>NAME_TYPE_SUITE_Group_of_people</td>\n",
       "      <td>0</td>\n",
       "    </tr>\n",
       "    <tr>\n",
       "      <th>380</th>\n",
       "      <td>CODE_GENDER_nan</td>\n",
       "      <td>0</td>\n",
       "    </tr>\n",
       "    <tr>\n",
       "      <th>379</th>\n",
       "      <td>CODE_GENDER_XNA</td>\n",
       "      <td>0</td>\n",
       "    </tr>\n",
       "    <tr>\n",
       "      <th>376</th>\n",
       "      <td>NAME_CONTRACT_TYPE_nan</td>\n",
       "      <td>0</td>\n",
       "    </tr>\n",
       "    <tr>\n",
       "      <th>468</th>\n",
       "      <td>ORGANIZATION_TYPE_Industry:_type_6</td>\n",
       "      <td>0</td>\n",
       "    </tr>\n",
       "    <tr>\n",
       "      <th>375</th>\n",
       "      <td>NAME_CONTRACT_TYPE_Revolving_loans</td>\n",
       "      <td>0</td>\n",
       "    </tr>\n",
       "    <tr>\n",
       "      <th>470</th>\n",
       "      <td>ORGANIZATION_TYPE_Industry:_type_8</td>\n",
       "      <td>0</td>\n",
       "    </tr>\n",
       "    <tr>\n",
       "      <th>472</th>\n",
       "      <td>ORGANIZATION_TYPE_Insurance</td>\n",
       "      <td>0</td>\n",
       "    </tr>\n",
       "    <tr>\n",
       "      <th>455</th>\n",
       "      <td>ORGANIZATION_TYPE_Emergency</td>\n",
       "      <td>0</td>\n",
       "    </tr>\n",
       "    <tr>\n",
       "      <th>220</th>\n",
       "      <td>SUM_LEN_BUREAU_BALANCE</td>\n",
       "      <td>0</td>\n",
       "    </tr>\n",
       "    <tr>\n",
       "      <th>193</th>\n",
       "      <td>BUREAU_SUM_DEBT_DIFF_12M_24M</td>\n",
       "      <td>0</td>\n",
       "    </tr>\n",
       "    <tr>\n",
       "      <th>100</th>\n",
       "      <td>AMT_REQ_CREDIT_BUREAU_HOUR</td>\n",
       "      <td>0</td>\n",
       "    </tr>\n",
       "    <tr>\n",
       "      <th>491</th>\n",
       "      <td>ORGANIZATION_TYPE_Trade:_type_2</td>\n",
       "      <td>0</td>\n",
       "    </tr>\n",
       "    <tr>\n",
       "      <th>453</th>\n",
       "      <td>ORGANIZATION_TYPE_Culture</td>\n",
       "      <td>0</td>\n",
       "    </tr>\n",
       "    <tr>\n",
       "      <th>98</th>\n",
       "      <td>FLAG_DOCUMENT_20</td>\n",
       "      <td>0</td>\n",
       "    </tr>\n",
       "    <tr>\n",
       "      <th>97</th>\n",
       "      <td>FLAG_DOCUMENT_19</td>\n",
       "      <td>0</td>\n",
       "    </tr>\n",
       "    <tr>\n",
       "      <th>482</th>\n",
       "      <td>ORGANIZATION_TYPE_Religion</td>\n",
       "      <td>0</td>\n",
       "    </tr>\n",
       "    <tr>\n",
       "      <th>95</th>\n",
       "      <td>FLAG_DOCUMENT_17</td>\n",
       "      <td>0</td>\n",
       "    </tr>\n",
       "    <tr>\n",
       "      <th>94</th>\n",
       "      <td>FLAG_DOCUMENT_16</td>\n",
       "      <td>0</td>\n",
       "    </tr>\n",
       "    <tr>\n",
       "      <th>93</th>\n",
       "      <td>FLAG_DOCUMENT_15</td>\n",
       "      <td>0</td>\n",
       "    </tr>\n",
       "    <tr>\n",
       "      <th>92</th>\n",
       "      <td>FLAG_DOCUMENT_14</td>\n",
       "      <td>0</td>\n",
       "    </tr>\n",
       "    <tr>\n",
       "      <th>389</th>\n",
       "      <td>NAME_INCOME_TYPE_Businessman</td>\n",
       "      <td>0</td>\n",
       "    </tr>\n",
       "    <tr>\n",
       "      <th>451</th>\n",
       "      <td>ORGANIZATION_TYPE_Cleaning</td>\n",
       "      <td>0</td>\n",
       "    </tr>\n",
       "    <tr>\n",
       "      <th>391</th>\n",
       "      <td>NAME_INCOME_TYPE_Maternity_leave</td>\n",
       "      <td>0</td>\n",
       "    </tr>\n",
       "    <tr>\n",
       "      <th>90</th>\n",
       "      <td>FLAG_DOCUMENT_12</td>\n",
       "      <td>0</td>\n",
       "    </tr>\n",
       "    <tr>\n",
       "      <th>88</th>\n",
       "      <td>FLAG_DOCUMENT_10</td>\n",
       "      <td>0</td>\n",
       "    </tr>\n",
       "  </tbody>\n",
       "</table>\n",
       "</div>"
      ],
      "text/plain": [
       "                                 Feature  Importance\n",
       "14                        FLAG_EMP_PHONE           0\n",
       "444       WEEKDAY_APPR_PROCESS_START_nan           0\n",
       "392           NAME_INCOME_TYPE_Pensioner           0\n",
       "497  ORGANIZATION_TYPE_Transport:_type_1           0\n",
       "394             NAME_INCOME_TYPE_Student           0\n",
       "85                       FLAG_DOCUMENT_7           0\n",
       "395          NAME_INCOME_TYPE_Unemployed           0\n",
       "397                 NAME_INCOME_TYPE_nan           0\n",
       "502                ORGANIZATION_TYPE_XNA           0\n",
       "503                ORGANIZATION_TYPE_nan           0\n",
       "82                       FLAG_DOCUMENT_4           0\n",
       "417                NAME_HOUSING_TYPE_nan           0\n",
       "80                       FLAG_DOCUMENT_2           0\n",
       "520               WALLSMATERIAL_MODE_nan           0\n",
       "403              NAME_EDUCATION_TYPE_nan           0\n",
       "494      ORGANIZATION_TYPE_Trade:_type_5           0\n",
       "408           NAME_FAMILY_STATUS_Unknown           0\n",
       "511        HOUSETYPE_MODE_terraced_house           0\n",
       "512                   HOUSETYPE_MODE_nan           0\n",
       "410               NAME_FAMILY_STATUS_nan           0\n",
       "13                            FLAG_MOBIL           0\n",
       "515        WALLSMATERIAL_MODE_Monolithic           0\n",
       "495      ORGANIZATION_TYPE_Trade:_type_6           0\n",
       "460  ORGANIZATION_TYPE_Industry:_type_10           0\n",
       "493      ORGANIZATION_TYPE_Trade:_type_4           0\n",
       "190       BUREAU_UTILIZATION_DIFF_6M_12M           0\n",
       "463  ORGANIZATION_TYPE_Industry:_type_13           0\n",
       "383      NAME_TYPE_SUITE_Group_of_people           0\n",
       "380                      CODE_GENDER_nan           0\n",
       "379                      CODE_GENDER_XNA           0\n",
       "376               NAME_CONTRACT_TYPE_nan           0\n",
       "468   ORGANIZATION_TYPE_Industry:_type_6           0\n",
       "375   NAME_CONTRACT_TYPE_Revolving_loans           0\n",
       "470   ORGANIZATION_TYPE_Industry:_type_8           0\n",
       "472          ORGANIZATION_TYPE_Insurance           0\n",
       "455          ORGANIZATION_TYPE_Emergency           0\n",
       "220               SUM_LEN_BUREAU_BALANCE           0\n",
       "193         BUREAU_SUM_DEBT_DIFF_12M_24M           0\n",
       "100           AMT_REQ_CREDIT_BUREAU_HOUR           0\n",
       "491      ORGANIZATION_TYPE_Trade:_type_2           0\n",
       "453            ORGANIZATION_TYPE_Culture           0\n",
       "98                      FLAG_DOCUMENT_20           0\n",
       "97                      FLAG_DOCUMENT_19           0\n",
       "482           ORGANIZATION_TYPE_Religion           0\n",
       "95                      FLAG_DOCUMENT_17           0\n",
       "94                      FLAG_DOCUMENT_16           0\n",
       "93                      FLAG_DOCUMENT_15           0\n",
       "92                      FLAG_DOCUMENT_14           0\n",
       "389         NAME_INCOME_TYPE_Businessman           0\n",
       "451           ORGANIZATION_TYPE_Cleaning           0\n",
       "391     NAME_INCOME_TYPE_Maternity_leave           0\n",
       "90                      FLAG_DOCUMENT_12           0\n",
       "88                      FLAG_DOCUMENT_10           0"
      ]
     },
     "execution_count": 73,
     "metadata": {},
     "output_type": "execute_result"
    },
    {
     "name": "stdout",
     "output_type": "stream",
     "text": [
      "time: 18.6 ms\n"
     ]
    }
   ],
   "source": [
    "var_imp.query(\"Importance == 0\")"
   ]
  },
  {
   "cell_type": "markdown",
   "metadata": {},
   "source": [
    "#### LightGBM CV"
   ]
  },
  {
   "cell_type": "code",
   "execution_count": null,
   "metadata": {},
   "outputs": [
    {
     "name": "stderr",
     "output_type": "stream",
     "text": [
      "/Users/dsaxton/anaconda3/lib/python3.6/site-packages/lightgbm/engine.py:390: UserWarning: Found `n_estimators` in params. Will use it instead of argument\n",
      "  warnings.warn(\"Found `{}` in params. Will use it instead of argument\".format(alias))\n"
     ]
    },
    {
     "name": "stdout",
     "output_type": "stream",
     "text": [
      "[100]\tcv_agg's auc: 0.759103 + 0.00282096\n",
      "[200]\tcv_agg's auc: 0.761337 + 0.00290497\n",
      "[300]\tcv_agg's auc: 0.76339 + 0.00288977\n",
      "[400]\tcv_agg's auc: 0.765298 + 0.00291369\n",
      "[500]\tcv_agg's auc: 0.766814 + 0.00288384\n",
      "[600]\tcv_agg's auc: 0.768504 + 0.00276155\n",
      "[700]\tcv_agg's auc: 0.770003 + 0.00265982\n"
     ]
    }
   ],
   "source": [
    "params = {\"n_estimators\": 20000, \n",
    "          \"num_leaves\": 113, \n",
    "          \"max_depth\": 10,\n",
    "          \"learning_rate\": 0.0025, \n",
    "          \"subsample\": 0.5, \n",
    "          \"colsample_bytree\": 0.5, \n",
    "          \"reg_lambda\": 0.8}\n",
    "\n",
    "lgb_data = lgb.Dataset(data=df[lgb_cols], \n",
    "                       label=y)\n",
    "\n",
    "cv_result = lgb.cv(params=params, \n",
    "                   train_set=lgb_data, \n",
    "                   nfold=5, \n",
    "                   metrics=\"auc\", \n",
    "                   early_stopping_rounds=200, \n",
    "                   stratified=True, \n",
    "                   shuffle=True, \n",
    "                   verbose_eval=100, \n",
    "                   show_stdv=True, \n",
    "                   seed=123)\n",
    "\n",
    "cv_result = pd.DataFrame(cv_result)"
   ]
  },
  {
   "cell_type": "code",
   "execution_count": null,
   "metadata": {},
   "outputs": [],
   "source": [
    "cv_result.tail()"
   ]
  },
  {
   "cell_type": "markdown",
   "metadata": {},
   "source": [
    "#### Fit chosen model"
   ]
  },
  {
   "cell_type": "code",
   "execution_count": 13,
   "metadata": {},
   "outputs": [
    {
     "data": {
      "text/plain": [
       "LGBMClassifier(boosting_type='gbdt', class_weight=None, colsample_bytree=0.5,\n",
       "        learning_rate=0.005, max_depth=-1, min_child_samples=20,\n",
       "        min_child_weight=0.001, min_split_gain=0.0, n_estimators=5045,\n",
       "        n_jobs=-1, num_leaves=113, objective=None, random_state=None,\n",
       "        reg_alpha=0.0, reg_lambda=0.9, silent=True, subsample=0.5,\n",
       "        subsample_for_bin=200000, subsample_freq=1)"
      ]
     },
     "execution_count": 13,
     "metadata": {},
     "output_type": "execute_result"
    },
    {
     "name": "stdout",
     "output_type": "stream",
     "text": [
      "time: 18min 40s\n"
     ]
    }
   ],
   "source": [
    "lgb_model = lgb.LGBMClassifier(n_estimators=11000, \n",
    "                         num_leaves=113, \n",
    "                         learning_rate=0.0025, \n",
    "                         subsample=0.5, \n",
    "                         colsample_bytree=0.5, \n",
    "                         reg_lambda=0.8)\n",
    "\n",
    "lgb_model.fit(df[lgb_cols], y)"
   ]
  },
  {
   "cell_type": "markdown",
   "metadata": {},
   "source": [
    "#### Score test data and generate submission"
   ]
  },
  {
   "cell_type": "code",
   "execution_count": 14,
   "metadata": {},
   "outputs": [
    {
     "name": "stdout",
     "output_type": "stream",
     "text": [
      "time: 3.44 s\n"
     ]
    }
   ],
   "source": [
    "df = pd.read_csv(path + \"preprocessed_test.csv\")"
   ]
  },
  {
   "cell_type": "code",
   "execution_count": 15,
   "metadata": {},
   "outputs": [
    {
     "name": "stdout",
     "output_type": "stream",
     "text": [
      "time: 12.4 ms\n"
     ]
    }
   ],
   "source": [
    "df[\"NAME_INCOME_TYPE_Maternity_leave\"] = 0"
   ]
  },
  {
   "cell_type": "code",
   "execution_count": 16,
   "metadata": {},
   "outputs": [
    {
     "data": {
      "text/html": [
       "<div>\n",
       "<style scoped>\n",
       "    .dataframe tbody tr th:only-of-type {\n",
       "        vertical-align: middle;\n",
       "    }\n",
       "\n",
       "    .dataframe tbody tr th {\n",
       "        vertical-align: top;\n",
       "    }\n",
       "\n",
       "    .dataframe thead th {\n",
       "        text-align: right;\n",
       "    }\n",
       "</style>\n",
       "<table border=\"1\" class=\"dataframe\">\n",
       "  <thead>\n",
       "    <tr style=\"text-align: right;\">\n",
       "      <th></th>\n",
       "      <th>SK_ID_CURR</th>\n",
       "      <th>TARGET</th>\n",
       "    </tr>\n",
       "  </thead>\n",
       "  <tbody>\n",
       "    <tr>\n",
       "      <th>0</th>\n",
       "      <td>100001</td>\n",
       "      <td>0.028409</td>\n",
       "    </tr>\n",
       "    <tr>\n",
       "      <th>1</th>\n",
       "      <td>100005</td>\n",
       "      <td>0.131907</td>\n",
       "    </tr>\n",
       "    <tr>\n",
       "      <th>2</th>\n",
       "      <td>100013</td>\n",
       "      <td>0.022533</td>\n",
       "    </tr>\n",
       "    <tr>\n",
       "      <th>3</th>\n",
       "      <td>100028</td>\n",
       "      <td>0.034576</td>\n",
       "    </tr>\n",
       "    <tr>\n",
       "      <th>4</th>\n",
       "      <td>100038</td>\n",
       "      <td>0.182258</td>\n",
       "    </tr>\n",
       "  </tbody>\n",
       "</table>\n",
       "</div>"
      ],
      "text/plain": [
       "   SK_ID_CURR    TARGET\n",
       "0      100001  0.028409\n",
       "1      100005  0.131907\n",
       "2      100013  0.022533\n",
       "3      100028  0.034576\n",
       "4      100038  0.182258"
      ]
     },
     "execution_count": 16,
     "metadata": {},
     "output_type": "execute_result"
    },
    {
     "name": "stdout",
     "output_type": "stream",
     "text": [
      "time: 11.2 s\n"
     ]
    }
   ],
   "source": [
    "submission = pd.DataFrame({\"SK_ID_CURR\": df[\"SK_ID_CURR\"], \n",
    "                           \"TARGET\": lgb_model.predict_proba(df[lgb_cols])[:,1]})\n",
    "\n",
    "submission.head()"
   ]
  },
  {
   "cell_type": "code",
   "execution_count": 17,
   "metadata": {},
   "outputs": [
    {
     "name": "stdout",
     "output_type": "stream",
     "text": [
      "time: 163 ms\n"
     ]
    }
   ],
   "source": [
    "submission.to_csv(path + \"submission.csv\", index=False)"
   ]
  }
 ],
 "metadata": {
  "kernelspec": {
   "display_name": "Python 3",
   "language": "python",
   "name": "python3"
  },
  "language_info": {
   "codemirror_mode": {
    "name": "ipython",
    "version": 3
   },
   "file_extension": ".py",
   "mimetype": "text/x-python",
   "name": "python",
   "nbconvert_exporter": "python",
   "pygments_lexer": "ipython3",
   "version": "3.6.5"
  }
 },
 "nbformat": 4,
 "nbformat_minor": 2
}
