{
 "cells": [
  {
   "cell_type": "code",
   "execution_count": 47,
   "metadata": {},
   "outputs": [],
   "source": [
    "import math\n",
    "import psycopg2\n",
    "import numpy as np\n",
    "import pandas as pd\n",
    "import lightgbm as lgb\n",
    "from sklearn.metrics import roc_auc_score\n",
    "from sklearn.model_selection import train_test_split, GridSearchCV\n",
    "from sklearn.feature_selection import f_classif, SelectPercentile, SelectFromModel\n",
    "from sklearn.preprocessing import Imputer\n",
    "from sklearn.pipeline import Pipeline\n",
    "import seaborn as sns\n",
    "import matplotlib.pyplot as plt\n",
    "\n",
    "import warnings\n",
    "warnings.filterwarnings(\"ignore\")\n",
    "\n",
    "np.random.seed(0)"
   ]
  },
  {
   "cell_type": "markdown",
   "metadata": {},
   "source": [
    "### ls_risk_score functions"
   ]
  },
  {
   "cell_type": "code",
   "execution_count": 45,
   "metadata": {},
   "outputs": [],
   "source": [
    "def calc_ls_risk_score2(vantage_v3_score, \n",
    "    smartv40_ahd33, smartv40_arv35, \n",
    "    smartv40_abk22, smartv40_abk18, \n",
    "    smartv40_arv22, smartv40_aiq11, \n",
    "    income_insight_w2, smartv40_aiq02, \n",
    "    smartv40_aln04, smartv40_ahi28, \n",
    "    smartv40_ahd02, smartv40_ahd36, \n",
    "    smartv40_acd01, smartv40_aal60, \n",
    "    smartv40_aal48):\n",
    "    return int(round(1000 / (math.exp(- (1.1344 \\\n",
    "        - 0.4467 * (0 <= vantage_v3_score <= 509) \\\n",
    "        - 0.2894 * (510 <= vantage_v3_score <= 521) \\\n",
    "        + 0.3674 * (smartv40_ahd33 == 0) \\\n",
    "        + 0.4239 * (6 <= smartv40_arv35 <= 98) \\\n",
    "        - 0.3843 * (smartv40_abk22 == 0) \\\n",
    "        + 0.3932 * (81 <= smartv40_abk18 <= 86) \\\n",
    "        + 0.1992 * (87 <= smartv40_abk18 <= 99) \\\n",
    "        + 0.3067 * (148 <= smartv40_arv22 <= 998) \\\n",
    "        - 0.4369 * (10 <= smartv40_aiq11 <= 998) \\\n",
    "        - 0.5 * (0 <= income_insight_w2 <= 23) \\\n",
    "        + 0.3119 * (smartv40_aiq02 == 1) \\\n",
    "        - 0.291 * (5 <= smartv40_aiq02 <= 998) \\\n",
    "        + 0.1353 * (1 <= smartv40_aln04 <= 98) \\\n",
    "        - 0.2844 * (6 <= smartv40_ahi28 <= 98) \\\n",
    "        - 0.5669 * (21 <= smartv40_ahd02 <= 98) \\\n",
    "        + 0.1734 * (1 <= smartv40_ahd36 <= 98) \\\n",
    "        - 0.2396 * (smartv40_acd01 == 1) \\\n",
    "        - 0.2306 * (0 <= smartv40_aal60 <= 30) \\\n",
    "        - 0.2621 * (2 <= smartv40_aal48 <= 98))) + 1)))\n",
    "\n",
    "def calc_ls_risk_score(smartv40_arv21,\n",
    "    smartv40_arv05, smartv40_ahd33,\n",
    "    smartv40_abk01, smartv40_arv22,\n",
    "    vantage_v3_score, income_insight_w2,\n",
    "    smartv40_aiq02, smartv40_aln04,\n",
    "    smartv40_amg01, smartv40_ahi02,\n",
    "    smartv40_ahd02, smartv40_ahd36,\n",
    "    smartv40_acd01, smartv40_aal61):\n",
    "    return 1.21479 \\\n",
    "        + 0.17609374 * (85 <= smartv40_arv21 <= 113) \\\n",
    "        + 0.11737019 * (5 <= smartv40_arv05 <= 50) \\\n",
    "        + 0.24727783 * (smartv40_ahd33 == 0) \\\n",
    "        - 0.15763427 * (11 <= smartv40_ahd33 <= 50) \\\n",
    "        - 0.67694798 * (smartv40_abk01 == 0) \\\n",
    "        - 0.33792271 * (1 <= smartv40_abk01 <= 3) \\\n",
    "        + 0.2544381 * (242 <= smartv40_arv22 <= 700) \\\n",
    "        - 0.21459037 * (0 <= vantage_v3_score <= 512) \\\n",
    "        - 0.46884052 * (633 <= vantage_v3_score <= 900) \\\n",
    "        + 0.24121387 * (37 <= income_insight_w2 <= 100) \\\n",
    "        - 0.36147013 * (6 <= smartv40_aiq02 <= 150) \\\n",
    "        + 0.21962755 * (1 <= smartv40_aln04 <= 20) \\\n",
    "        + 0.1682969 * (1 <= smartv40_amg01 <= 3) \\\n",
    "        + 0.26084428 * (smartv40_ahi02 == 0) \\\n",
    "        - 0.17287186 * (5 <= smartv40_ahi02 <= 40) \\\n",
    "        + 0.11836436 * (0 <= smartv40_ahd02 <= 9) \\\n",
    "        + 0.16583539 * (1 <= smartv40_ahd36 <= 40) \\\n",
    "        - 0.29691318 * (1 <= smartv40_acd01 <= 40) \\\n",
    "        - 0.10822487 * (0 <= smartv40_aal61 <= 3)"
   ]
  },
  {
   "cell_type": "markdown",
   "metadata": {},
   "source": [
    "### Function to set special Premier values to null"
   ]
  },
  {
   "cell_type": "code",
   "execution_count": 2,
   "metadata": {},
   "outputs": [],
   "source": [
    "def prem_null(x):\n",
    "    if x.name.lower() in [\"premier_v1_2_all5020\", \"premier_v1_2_all5030\", \n",
    "        \"premier_v1_2_all5070\", \"premier_v1_2_all5420\", \"premier_v1_2_all5740\", \n",
    "        \"premier_v1_2_all5820\", \"premier_v1_2_all5074\", \"premier_v1_2_all9340\", \n",
    "        \"premier_v1_2_als5400\", \"premier_v1_2_alx5030\", \"premier_v1_2_alx5039\", \n",
    "        \"premier_v1_2_aua5400\", \"premier_v1_2_aua5520\", \"premier_v1_2_bax5030\", \n",
    "        \"premier_v1_2_bcc5400\", \"premier_v1_2_bcc5520\", \"premier_v1_2_bcx5030\", \n",
    "        \"premier_v1_2_bcx5830\", \"premier_v1_2_brc5030\", \"premier_v1_2_brc5038\", \n",
    "        \"premier_v1_2_col5060\", \"premier_v1_2_col5062\", \"premier_v1_2_fip5420\", \n",
    "        \"premier_v1_2_fip5520\", \"premier_v1_2_iln5400\", \"premier_v1_2_iln5422\", \n",
    "        \"premier_v1_2_iln5520\", \"premier_v1_2_iln5740\", \"premier_v1_2_iln5930\", \n",
    "        \"premier_v1_2_mta5020\", \"premier_v1_2_mta5030\", \"premier_v1_2_mta5040\", \n",
    "        \"premier_v1_2_mta5043\", \"premier_v1_2_mtf5358\", \"premier_v1_2_mtf5820\", \n",
    "        \"premier_v1_2_mtj5820\", \"premier_v1_2_mtx5039\", \"premier_v1_2_rev5030\", \n",
    "        \"premier_v1_2_rev5032\", \"premier_v1_2_rev5036\", \"premier_v1_2_rtr5030\", \n",
    "        \"premier_v1_2_rtr5038\", \"premier_v1_2_rtr5420\", \"premier_v1_2_rtr5520\", \n",
    "        \"premier_v1_2_use5030\"]:\n",
    "        return x.apply(lambda y: np.nan if y > 999999990 else y)\n",
    "    elif x.name.lower() in [\"premier_v1_2_all8020\", \"premier_v1_2_all8026\"]:\n",
    "        return x.apply(lambda y: np.nan if y > 999990 else y)\n",
    "    elif x.name.lower() in [\"premier_v1_2_all9220\", \"premier_v1_2_all8160\", \n",
    "        \"premier_v1_2_all8120\", \"premier_v1_2_all8121\", \"premier_v1_2_all8122\", \n",
    "        \"premier_v1_2_all8220\", \"premier_v1_2_all8222\", \"premier_v1_2_all8370\", \n",
    "        \"premier_v1_2_alj8220\", \"premier_v1_2_all9221\", \"premier_v1_2_aua8151\", \n",
    "        \"premier_v1_2_bca8320\", \"premier_v1_2_iqf9510\", \"premier_v1_2_mta8151\"]:\n",
    "        return x.apply(lambda y: np.nan if y > 9990 else y)\n",
    "    elif x.name.lower() in [\"premier_v1_2all7936\", \"premier_v1_2all7170\", \n",
    "        \"premier_v1_2all6900\", \"premier_v1_2all6220\", \"premier_v1_2all6250\", \n",
    "        \"premier_v1_2all7360\", \"premier_v1_2all7370\", \"premier_v1_2all4070\", \n",
    "        \"premier_v1_2all6190\", \"premier_v1_2all6270\", \"premier_v1_2aut7110\", \n",
    "        \"premier_v1_2bcc7120\", \"premier_v1_2brc7140\", \"premier_v1_2iln7110\", \n",
    "        \"premier_v1_2iln7120\", \"premier_v1_2iqb9510\", \"premier_v1_2mta4780\", \n",
    "        \"premier_v1_2mtf7110\", \"premier_v1_2pil8120\"]:\n",
    "        return x.apply(lambda y: np.nan if y > 990 else y)\n",
    "    elif x.name.lower() in [\"premier_v1_2_all0000\", \"premier_v1_2_all0100\", \n",
    "        \"premier_v1_2_all0136\", \"premier_v1_2_all0200\", \"premier_v1_2_all0300\", \n",
    "        \"premier_v1_2_all0337\", \"premier_v1_2_all0400\", \"premier_v1_2_all0416\", \n",
    "        \"premier_v1_2_all0436\", \"premier_v1_2_all0437\", \"premier_v1_2_all0438\", \n",
    "        \"premier_v1_2_all0439\", \"premier_v1_2_all0446\", \"premier_v1_2_all1401\", \n",
    "        \"premier_v1_2_all2380\", \"premier_v1_2_all2390\", \"premier_v1_2_all2428\", \n",
    "        \"premier_v1_2_all2830\", \"premier_v1_2_all1380\", \"premier_v1_2_all2000\", \n",
    "        \"premier_v1_2_all2326\", \"premier_v1_2_all2386\", \"premier_v1_2_all2387\", \n",
    "        \"premier_v1_2_all2388\", \"premier_v1_2_all3517\", \"premier_v1_2_all0060\", \n",
    "        \"premier_v1_2_all0061\", \"premier_v1_2_all2001\", \"premier_v1_2_all2009\", \n",
    "        \"premier_v1_2_alj0316\", \"premier_v1_2_alj0416\", \"premier_v1_2_aua0300\", \n",
    "        \"premier_v1_2_aua2388\", \"premier_v1_2_bcc0300\", \"premier_v1_2_bcc2326\", \n",
    "        \"premier_v1_2_bcc2350\", \"premier_v1_2_bcc3423\", \"premier_v1_2_bcc3515\", \n",
    "        \"premier_v1_2_bcx3423\", \"premier_v1_2_fip0300\", \"premier_v1_2_fip2328\", \n",
    "        \"premier_v1_2_fip2350\", \"premier_v1_2_iln0300\", \"premier_v1_2_iln1300\", \n",
    "        \"premier_v1_2_iqa9416\", \"premier_v1_2_iqb9416\", \"premier_v1_2_iqc9417\", \n",
    "        \"premier_v1_2_iqf9415\", \"premier_v1_2_iqf9416\", \"premier_v1_2_iqf9417\", \n",
    "        \"premier_v1_2_iqm9417\", \"premier_v1_2_iqr9416\", \"premier_v1_2_iqt9410\", \n",
    "        \"premier_v1_2_iqt9412\", \"premier_v1_2_iqt9413\", \"premier_v1_2_iqt9415\", \n",
    "        \"premier_v1_2_iqt9416\", \"premier_v1_2_iqt9417\", \"premier_v1_2_iqt9420\", \n",
    "        \"premier_v1_2_iqt9421\", \"premier_v1_2_iqt9422\", \"premier_v1_2_iqt9423\", \n",
    "        \"premier_v1_2_iqt9425\", \"premier_v1_2_iqt9426\", \"premier_v1_2_mta0300\", \n",
    "        \"premier_v1_2_mta0400\", \"premier_v1_2_mta0700\", \"premier_v1_2_mta1360\", \n",
    "        \"premier_v1_2_mta2126\", \"premier_v1_2_mta2136\", \"premier_v1_2_mta2176\", \n",
    "        \"premier_v1_2_mta2206\", \"premier_v1_2_mta2356\", \"premier_v1_2_mtf0300\", \n",
    "        \"premier_v1_2_mtf0416\", \"premier_v1_2_pil2328\", \"premier_v1_2_rev3423\", \n",
    "        \"premier_v1_2_rtr0300\", \"premier_v1_2_stu0300\", \"premier_v1_2_stu0336\", \n",
    "        \"premier_v1_2_stu0337\", \"premier_v1_2_stu0416\", \"premier_v1_2_stu0436\", \n",
    "        \"premier_v1_2_stu0437\", \"premier_v1_2_stu0438\", \"premier_v1_2_stu0802\", \n",
    "        \"premier_v1_2_stu0806\", \"premier_v1_2_stu0807\", \"premier_v1_2_stu0812\", \n",
    "        \"premier_v1_2_stu0837\", \"premier_v1_2_uti0436\", \"premier_v1_2_uti2388\"]:\n",
    "        return x.apply(lambda y: np.nan if y > 90 else y)\n",
    "    elif x.name.lower() in [\"premier_v1_2_aua6280\", \"premier_v1_2_bcc6200\", \n",
    "        \"premier_v1_2_bcc6280\", \"premier_v1_2_iln6160\", \"premier_v1_2_iln6200\", \n",
    "        \"premier_v1_2_iln6210\", \"premier_v1_2_iln6220\", \"premier_v1_2_iln6230\", \n",
    "        \"premier_v1_2_iln6270\", \"premier_v1_2_iln6280\", \"premier_v1_2_mta6270\", \n",
    "        \"premier_v1_2_rev6200\", \"premier_v1_2_rev6210\", \"premier_v1_2_rev6270\", \n",
    "        \"premier_v1_2_rta6200\", \"premier_v1_2_rta6280\"]:\n",
    "        return x.apply(lambda y: np.nan if y > 400 else y)\n",
    "    elif x.name.lower() == [\"premier_v1_2_bcc8337\"]:\n",
    "        return x.apply(lambda y: np.nan if y > 13 else y)\n",
    "    else:\n",
    "        return x"
   ]
  },
  {
   "cell_type": "code",
   "execution_count": 3,
   "metadata": {},
   "outputs": [],
   "source": [
    "conn_string = \"\"\"\n",
    "host='edw-prod.cjtyz5l7zjct.us-east-1.rds.amazonaws.com'\n",
    "dbname='enterprise_dw'\n",
    "user='dsaxton'\n",
    "password='Rycsyac$'\n",
    "\"\"\"\n",
    "\n",
    "conn = psycopg2.connect(conn_string)"
   ]
  },
  {
   "cell_type": "markdown",
   "metadata": {},
   "source": [
    "### Pull data"
   ]
  },
  {
   "cell_type": "code",
   "execution_count": 4,
   "metadata": {},
   "outputs": [],
   "source": [
    "query = \"\"\"\n",
    "select \n",
    "    e1.*, \n",
    "    e2.*, \n",
    "    c.first_payment_default\n",
    "from marketing_analytics.experian_premier_attributes as e1\n",
    "join marketing_analytics.experian_attributes as e2\n",
    "    on e2.applicant_hash = e1.applicant_hash\n",
    "    and e2.campaign = e1.campaign\n",
    "join dw_reporting_views.calc_application_to_dm_match as c\n",
    "    on c.applicant_hash = e1.applicant_hash\n",
    "    and c.campaign = e1.campaign\n",
    "where c.first_payment_due = 1\n",
    "    and c.state != 'CA';\n",
    "\"\"\"\n",
    "\n",
    "df = pd.read_sql_query(query, conn)\n",
    "\n",
    "conn.close()"
   ]
  },
  {
   "cell_type": "code",
   "execution_count": 5,
   "metadata": {},
   "outputs": [],
   "source": [
    "camp = df[\"campaign\"].iloc[:,0]\n",
    "df.drop(\"campaign\", axis=1, inplace=True)\n",
    "df[\"campaign\"] = camp\n",
    "del camp"
   ]
  },
  {
   "cell_type": "markdown",
   "metadata": {},
   "source": [
    "### Campaign distribution"
   ]
  },
  {
   "cell_type": "code",
   "execution_count": 6,
   "metadata": {},
   "outputs": [
    {
     "data": {
      "text/plain": [
       "campaign  first_payment_default\n",
       "EXP-71    0                        449\n",
       "          1                        124\n",
       "EXP-72    0                        543\n",
       "          1                        154\n",
       "EXP-73    0                        447\n",
       "          1                        124\n",
       "EXP-74    0                        762\n",
       "          1                        255\n",
       "EXP-75    0                        250\n",
       "          1                         63\n",
       "EXP-76    0                        340\n",
       "          1                         93\n",
       "EXP-77    0                        448\n",
       "          1                        142\n",
       "EXP-78    0                        439\n",
       "          1                        153\n",
       "EXP-79    0                        258\n",
       "          1                         83\n",
       "dtype: int64"
      ]
     },
     "execution_count": 6,
     "metadata": {},
     "output_type": "execute_result"
    }
   ],
   "source": [
    "df.groupby([\"campaign\", \"first_payment_default\"]).size()"
   ]
  },
  {
   "cell_type": "markdown",
   "metadata": {},
   "source": [
    "### Drop unimportant columns"
   ]
  },
  {
   "cell_type": "code",
   "execution_count": 7,
   "metadata": {},
   "outputs": [],
   "source": [
    "to_drop = [\"campaign\", \"applicant_hash\"] + \\\n",
    "    list(filter(lambda x: x.startswith(\"xfc\"), df.columns.tolist())) + \\\n",
    "    df.columns[df.nunique() == 1].tolist() + \\\n",
    "    df.columns[df.isnull().mean() > 0.5].tolist()"
   ]
  },
  {
   "cell_type": "code",
   "execution_count": 8,
   "metadata": {},
   "outputs": [],
   "source": [
    "df.drop(to_drop, axis=1, inplace=True)\n",
    "del to_drop"
   ]
  },
  {
   "cell_type": "code",
   "execution_count": 9,
   "metadata": {},
   "outputs": [
    {
     "data": {
      "text/plain": [
       "(5127, 873)"
      ]
     },
     "execution_count": 9,
     "metadata": {},
     "output_type": "execute_result"
    }
   ],
   "source": [
    "df.shape"
   ]
  },
  {
   "cell_type": "markdown",
   "metadata": {},
   "source": [
    "### Check data types and preprocess string variables"
   ]
  },
  {
   "cell_type": "code",
   "execution_count": 10,
   "metadata": {},
   "outputs": [
    {
     "data": {
      "text/plain": [
       "float64    869\n",
       "object       3\n",
       "int64        1\n",
       "dtype: int64"
      ]
     },
     "execution_count": 10,
     "metadata": {},
     "output_type": "execute_result"
    }
   ],
   "source": [
    "df.dtypes.value_counts()"
   ]
  },
  {
   "cell_type": "code",
   "execution_count": 11,
   "metadata": {},
   "outputs": [
    {
     "data": {
      "text/plain": [
       "['smartv40_aau19', 'smartv40_aau20', 'smartv40_aau22']"
      ]
     },
     "execution_count": 11,
     "metadata": {},
     "output_type": "execute_result"
    }
   ],
   "source": [
    "str_vars = df.columns[df.dtypes == \"object\"].tolist()\n",
    "str_vars"
   ]
  },
  {
   "cell_type": "code",
   "execution_count": 12,
   "metadata": {},
   "outputs": [
    {
     "data": {
      "text/html": [
       "<div>\n",
       "<style scoped>\n",
       "    .dataframe tbody tr th:only-of-type {\n",
       "        vertical-align: middle;\n",
       "    }\n",
       "\n",
       "    .dataframe tbody tr th {\n",
       "        vertical-align: top;\n",
       "    }\n",
       "\n",
       "    .dataframe thead th {\n",
       "        text-align: right;\n",
       "    }\n",
       "</style>\n",
       "<table border=\"1\" class=\"dataframe\">\n",
       "  <thead>\n",
       "    <tr style=\"text-align: right;\">\n",
       "      <th></th>\n",
       "      <th>smartv40_aau19</th>\n",
       "      <th>smartv40_aau20</th>\n",
       "      <th>smartv40_aau22</th>\n",
       "    </tr>\n",
       "  </thead>\n",
       "  <tbody>\n",
       "    <tr>\n",
       "      <th>0</th>\n",
       "      <td>B</td>\n",
       "      <td>E</td>\n",
       "      <td>B</td>\n",
       "    </tr>\n",
       "    <tr>\n",
       "      <th>1</th>\n",
       "      <td>2</td>\n",
       "      <td>7</td>\n",
       "      <td>3</td>\n",
       "    </tr>\n",
       "    <tr>\n",
       "      <th>2</th>\n",
       "      <td>A</td>\n",
       "      <td>E</td>\n",
       "      <td>B</td>\n",
       "    </tr>\n",
       "    <tr>\n",
       "      <th>3</th>\n",
       "      <td>0</td>\n",
       "      <td>0</td>\n",
       "      <td>0</td>\n",
       "    </tr>\n",
       "    <tr>\n",
       "      <th>4</th>\n",
       "      <td>0</td>\n",
       "      <td>0</td>\n",
       "      <td>0</td>\n",
       "    </tr>\n",
       "    <tr>\n",
       "      <th>5</th>\n",
       "      <td>4</td>\n",
       "      <td>7</td>\n",
       "      <td>5</td>\n",
       "    </tr>\n",
       "    <tr>\n",
       "      <th>6</th>\n",
       "      <td>G</td>\n",
       "      <td>D</td>\n",
       "      <td>B</td>\n",
       "    </tr>\n",
       "    <tr>\n",
       "      <th>7</th>\n",
       "      <td>B</td>\n",
       "      <td>A</td>\n",
       "      <td>B</td>\n",
       "    </tr>\n",
       "    <tr>\n",
       "      <th>8</th>\n",
       "      <td>C</td>\n",
       "      <td>E</td>\n",
       "      <td>B</td>\n",
       "    </tr>\n",
       "    <tr>\n",
       "      <th>9</th>\n",
       "      <td>0</td>\n",
       "      <td>0</td>\n",
       "      <td>0</td>\n",
       "    </tr>\n",
       "  </tbody>\n",
       "</table>\n",
       "</div>"
      ],
      "text/plain": [
       "  smartv40_aau19 smartv40_aau20 smartv40_aau22\n",
       "0              B              E              B\n",
       "1              2              7              3\n",
       "2              A              E              B\n",
       "3              0              0              0\n",
       "4              0              0              0\n",
       "5              4              7              5\n",
       "6              G              D              B\n",
       "7              B              A              B\n",
       "8              C              E              B\n",
       "9              0              0              0"
      ]
     },
     "execution_count": 12,
     "metadata": {},
     "output_type": "execute_result"
    }
   ],
   "source": [
    "df[str_vars].head(10)"
   ]
  },
  {
   "cell_type": "markdown",
   "metadata": {},
   "source": [
    "### Set letters to null and cast to numeric\n",
    "\n",
    "No explanation in the Experian data dictionary for these values."
   ]
  },
  {
   "cell_type": "code",
   "execution_count": 13,
   "metadata": {},
   "outputs": [],
   "source": [
    "df[str_vars] = df[str_vars].replace({\"[a-zA-Z]\": np.nan}, regex=True)\n",
    "df[str_vars] = df[str_vars].apply(pd.to_numeric, axis=0)"
   ]
  },
  {
   "cell_type": "code",
   "execution_count": 14,
   "metadata": {},
   "outputs": [
    {
     "data": {
      "text/plain": [
       "float64    872\n",
       "int64        1\n",
       "dtype: int64"
      ]
     },
     "execution_count": 14,
     "metadata": {},
     "output_type": "execute_result"
    }
   ],
   "source": [
    "df.dtypes.value_counts()"
   ]
  },
  {
   "cell_type": "markdown",
   "metadata": {},
   "source": [
    "### Process Premier special values"
   ]
  },
  {
   "cell_type": "code",
   "execution_count": 15,
   "metadata": {},
   "outputs": [],
   "source": [
    "df = df.apply(prem_null, axis=0)"
   ]
  },
  {
   "cell_type": "code",
   "execution_count": 51,
   "metadata": {},
   "outputs": [],
   "source": [
    "def get_scores(x):\n",
    "    d = {\n",
    "            \"ls_risk_score\": calc_ls_risk_score(x[\"smartv40_arv21\"],\n",
    "                x[\"smartv40_arv05\"], x[\"smartv40_ahd33\"],\n",
    "                x[\"smartv40_abk01\"], x[\"smartv40_arv22\"],\n",
    "                x[\"vantage_v3_score\"], x[\"income_insight_w2\"],\n",
    "                x[\"smartv40_aiq02\"], x[\"smartv40_aln04\"],\n",
    "                x[\"smartv40_amg01\"], x[\"smartv40_ahi02\"],\n",
    "                x[\"smartv40_ahd02\"], x[\"smartv40_ahd36\"],\n",
    "                x[\"smartv40_acd01\"], x[\"smartv40_aal61\"]),\n",
    "            \"ls_risk_score2\": calc_ls_risk_score2(x[\"vantage_v3_score\"], \n",
    "                x[\"smartv40_ahd33\"], x[\"smartv40_arv35\"], \n",
    "                x[\"smartv40_abk22\"], x[\"smartv40_abk18\"], \n",
    "                x[\"smartv40_arv22\"], x[\"smartv40_aiq11\"], \n",
    "                x[\"income_insight_w2\"], x[\"smartv40_aiq02\"], \n",
    "                x[\"smartv40_aln04\"], x[\"smartv40_ahi28\"], \n",
    "                x[\"smartv40_ahd02\"], x[\"smartv40_ahd36\"], \n",
    "                x[\"smartv40_acd01\"], x[\"smartv40_aal60\"], \n",
    "                x[\"smartv40_aal48\"])\n",
    "        }\n",
    "    \n",
    "    return pd.Series(d)"
   ]
  },
  {
   "cell_type": "code",
   "execution_count": 55,
   "metadata": {},
   "outputs": [],
   "source": [
    "df[[\"ls_risk_score\", \"ls_risk_score2\"]] = df.apply(get_scores, axis=1)[[\"ls_risk_score\", \"ls_risk_score2\"]]"
   ]
  },
  {
   "cell_type": "markdown",
   "metadata": {},
   "source": [
    "### Train and test split"
   ]
  },
  {
   "cell_type": "code",
   "execution_count": 56,
   "metadata": {},
   "outputs": [],
   "source": [
    "df_train, df_test = train_test_split(df, test_size=0.3)\n",
    "y_train, y_test = df_train.pop(\"first_payment_default\"), df_test.pop(\"first_payment_default\")"
   ]
  },
  {
   "cell_type": "code",
   "execution_count": 57,
   "metadata": {},
   "outputs": [
    {
     "name": "stdout",
     "output_type": "stream",
     "text": [
      "(3588, 874)\n",
      "(1539, 874)\n"
     ]
    }
   ],
   "source": [
    "print(df_train.shape)\n",
    "print(df_test.shape)"
   ]
  },
  {
   "cell_type": "code",
   "execution_count": 58,
   "metadata": {},
   "outputs": [
    {
     "name": "stdout",
     "output_type": "stream",
     "text": [
      "0.2322\n",
      "0.2326\n"
     ]
    }
   ],
   "source": [
    "print(round(y_train.mean(), 4))\n",
    "print(round(y_test.mean(), 4))"
   ]
  },
  {
   "cell_type": "markdown",
   "metadata": {},
   "source": [
    "### Select top features using decision stumps and perform grid search"
   ]
  },
  {
   "cell_type": "code",
   "execution_count": 59,
   "metadata": {},
   "outputs": [
    {
     "data": {
      "text/plain": [
       "53"
      ]
     },
     "execution_count": 59,
     "metadata": {},
     "output_type": "execute_result"
    }
   ],
   "source": [
    "select = SelectFromModel(estimator=lgb.LGBMClassifier(n_estimators=100,\n",
    "                                                      num_leaves=2),\n",
    "                         threshold=\"mean\")\n",
    "\n",
    "select.fit(df_train, y_train)\n",
    "cols = df_train.columns[select.get_support()]\n",
    "len(cols)"
   ]
  },
  {
   "cell_type": "code",
   "execution_count": 61,
   "metadata": {},
   "outputs": [],
   "source": [
    "params = {\"n_estimators\": [100, 500], \n",
    "          \"max_depth\": [2, 5, 7], \n",
    "          \"learning_rate\": [0.0001, 0.01],\n",
    "          \"colsample_bytree\": [0.25, 0.75], \n",
    "          \"reg_lambda\": [0.1, 1]}\n",
    "\n",
    "cv = GridSearchCV(lgb.LGBMClassifier(), \n",
    "                  params, \n",
    "                  scoring=\"roc_auc\", \n",
    "                  cv=3)"
   ]
  },
  {
   "cell_type": "code",
   "execution_count": 62,
   "metadata": {},
   "outputs": [
    {
     "data": {
      "text/html": [
       "<div>\n",
       "<style scoped>\n",
       "    .dataframe tbody tr th:only-of-type {\n",
       "        vertical-align: middle;\n",
       "    }\n",
       "\n",
       "    .dataframe tbody tr th {\n",
       "        vertical-align: top;\n",
       "    }\n",
       "\n",
       "    .dataframe thead th {\n",
       "        text-align: right;\n",
       "    }\n",
       "</style>\n",
       "<table border=\"1\" class=\"dataframe\">\n",
       "  <thead>\n",
       "    <tr style=\"text-align: right;\">\n",
       "      <th></th>\n",
       "      <th>mean_fit_time</th>\n",
       "      <th>mean_score_time</th>\n",
       "      <th>mean_test_score</th>\n",
       "      <th>mean_train_score</th>\n",
       "      <th>param_colsample_bytree</th>\n",
       "      <th>param_learning_rate</th>\n",
       "      <th>param_max_depth</th>\n",
       "      <th>param_n_estimators</th>\n",
       "      <th>param_reg_lambda</th>\n",
       "      <th>params</th>\n",
       "      <th>...</th>\n",
       "      <th>split0_test_score</th>\n",
       "      <th>split0_train_score</th>\n",
       "      <th>split1_test_score</th>\n",
       "      <th>split1_train_score</th>\n",
       "      <th>split2_test_score</th>\n",
       "      <th>split2_train_score</th>\n",
       "      <th>std_fit_time</th>\n",
       "      <th>std_score_time</th>\n",
       "      <th>std_test_score</th>\n",
       "      <th>std_train_score</th>\n",
       "    </tr>\n",
       "  </thead>\n",
       "  <tbody>\n",
       "    <tr>\n",
       "      <th>21</th>\n",
       "      <td>0.161153</td>\n",
       "      <td>0.009426</td>\n",
       "      <td>0.637909</td>\n",
       "      <td>0.884811</td>\n",
       "      <td>0.25</td>\n",
       "      <td>0.01</td>\n",
       "      <td>7</td>\n",
       "      <td>100</td>\n",
       "      <td>1</td>\n",
       "      <td>{'colsample_bytree': 0.25, 'learning_rate': 0....</td>\n",
       "      <td>...</td>\n",
       "      <td>0.627954</td>\n",
       "      <td>0.877443</td>\n",
       "      <td>0.626283</td>\n",
       "      <td>0.887520</td>\n",
       "      <td>0.659517</td>\n",
       "      <td>0.889471</td>\n",
       "      <td>0.018055</td>\n",
       "      <td>0.000328</td>\n",
       "      <td>0.015285</td>\n",
       "      <td>0.005271</td>\n",
       "    </tr>\n",
       "    <tr>\n",
       "      <th>11</th>\n",
       "      <td>0.730820</td>\n",
       "      <td>0.024436</td>\n",
       "      <td>0.637897</td>\n",
       "      <td>0.836640</td>\n",
       "      <td>0.25</td>\n",
       "      <td>0.0001</td>\n",
       "      <td>7</td>\n",
       "      <td>500</td>\n",
       "      <td>1</td>\n",
       "      <td>{'colsample_bytree': 0.25, 'learning_rate': 0....</td>\n",
       "      <td>...</td>\n",
       "      <td>0.627543</td>\n",
       "      <td>0.824961</td>\n",
       "      <td>0.622894</td>\n",
       "      <td>0.841071</td>\n",
       "      <td>0.663285</td>\n",
       "      <td>0.843887</td>\n",
       "      <td>0.058949</td>\n",
       "      <td>0.000293</td>\n",
       "      <td>0.018040</td>\n",
       "      <td>0.008338</td>\n",
       "    </tr>\n",
       "    <tr>\n",
       "      <th>7</th>\n",
       "      <td>0.759128</td>\n",
       "      <td>0.023394</td>\n",
       "      <td>0.637562</td>\n",
       "      <td>0.790156</td>\n",
       "      <td>0.25</td>\n",
       "      <td>0.0001</td>\n",
       "      <td>5</td>\n",
       "      <td>500</td>\n",
       "      <td>1</td>\n",
       "      <td>{'colsample_bytree': 0.25, 'learning_rate': 0....</td>\n",
       "      <td>...</td>\n",
       "      <td>0.627453</td>\n",
       "      <td>0.780639</td>\n",
       "      <td>0.622608</td>\n",
       "      <td>0.797589</td>\n",
       "      <td>0.662655</td>\n",
       "      <td>0.792240</td>\n",
       "      <td>0.023760</td>\n",
       "      <td>0.004332</td>\n",
       "      <td>0.017842</td>\n",
       "      <td>0.007075</td>\n",
       "    </tr>\n",
       "    <tr>\n",
       "      <th>17</th>\n",
       "      <td>0.117573</td>\n",
       "      <td>0.008257</td>\n",
       "      <td>0.636769</td>\n",
       "      <td>0.829876</td>\n",
       "      <td>0.25</td>\n",
       "      <td>0.01</td>\n",
       "      <td>5</td>\n",
       "      <td>100</td>\n",
       "      <td>1</td>\n",
       "      <td>{'colsample_bytree': 0.25, 'learning_rate': 0....</td>\n",
       "      <td>...</td>\n",
       "      <td>0.625935</td>\n",
       "      <td>0.821709</td>\n",
       "      <td>0.625703</td>\n",
       "      <td>0.837371</td>\n",
       "      <td>0.658695</td>\n",
       "      <td>0.830549</td>\n",
       "      <td>0.005870</td>\n",
       "      <td>0.000365</td>\n",
       "      <td>0.015495</td>\n",
       "      <td>0.006412</td>\n",
       "    </tr>\n",
       "    <tr>\n",
       "      <th>10</th>\n",
       "      <td>0.616849</td>\n",
       "      <td>0.029309</td>\n",
       "      <td>0.636527</td>\n",
       "      <td>0.862163</td>\n",
       "      <td>0.25</td>\n",
       "      <td>0.0001</td>\n",
       "      <td>7</td>\n",
       "      <td>500</td>\n",
       "      <td>0.1</td>\n",
       "      <td>{'colsample_bytree': 0.25, 'learning_rate': 0....</td>\n",
       "      <td>...</td>\n",
       "      <td>0.626083</td>\n",
       "      <td>0.853276</td>\n",
       "      <td>0.620915</td>\n",
       "      <td>0.862600</td>\n",
       "      <td>0.662612</td>\n",
       "      <td>0.870614</td>\n",
       "      <td>0.039373</td>\n",
       "      <td>0.003041</td>\n",
       "      <td>0.018554</td>\n",
       "      <td>0.007085</td>\n",
       "    </tr>\n",
       "    <tr>\n",
       "      <th>20</th>\n",
       "      <td>0.190946</td>\n",
       "      <td>0.011231</td>\n",
       "      <td>0.636384</td>\n",
       "      <td>0.902753</td>\n",
       "      <td>0.25</td>\n",
       "      <td>0.01</td>\n",
       "      <td>7</td>\n",
       "      <td>100</td>\n",
       "      <td>0.1</td>\n",
       "      <td>{'colsample_bytree': 0.25, 'learning_rate': 0....</td>\n",
       "      <td>...</td>\n",
       "      <td>0.627461</td>\n",
       "      <td>0.893849</td>\n",
       "      <td>0.624003</td>\n",
       "      <td>0.906448</td>\n",
       "      <td>0.657712</td>\n",
       "      <td>0.907964</td>\n",
       "      <td>0.065754</td>\n",
       "      <td>0.001680</td>\n",
       "      <td>0.015138</td>\n",
       "      <td>0.006327</td>\n",
       "    </tr>\n",
       "    <tr>\n",
       "      <th>14</th>\n",
       "      <td>0.243303</td>\n",
       "      <td>0.013172</td>\n",
       "      <td>0.636261</td>\n",
       "      <td>0.745216</td>\n",
       "      <td>0.25</td>\n",
       "      <td>0.01</td>\n",
       "      <td>2</td>\n",
       "      <td>500</td>\n",
       "      <td>0.1</td>\n",
       "      <td>{'colsample_bytree': 0.25, 'learning_rate': 0....</td>\n",
       "      <td>...</td>\n",
       "      <td>0.626326</td>\n",
       "      <td>0.747724</td>\n",
       "      <td>0.629826</td>\n",
       "      <td>0.747384</td>\n",
       "      <td>0.652655</td>\n",
       "      <td>0.740539</td>\n",
       "      <td>0.057490</td>\n",
       "      <td>0.002098</td>\n",
       "      <td>0.011672</td>\n",
       "      <td>0.003310</td>\n",
       "    </tr>\n",
       "    <tr>\n",
       "      <th>6</th>\n",
       "      <td>0.813738</td>\n",
       "      <td>0.020844</td>\n",
       "      <td>0.635975</td>\n",
       "      <td>0.810408</td>\n",
       "      <td>0.25</td>\n",
       "      <td>0.0001</td>\n",
       "      <td>5</td>\n",
       "      <td>500</td>\n",
       "      <td>0.1</td>\n",
       "      <td>{'colsample_bytree': 0.25, 'learning_rate': 0....</td>\n",
       "      <td>...</td>\n",
       "      <td>0.625504</td>\n",
       "      <td>0.801389</td>\n",
       "      <td>0.619928</td>\n",
       "      <td>0.814554</td>\n",
       "      <td>0.662526</td>\n",
       "      <td>0.815281</td>\n",
       "      <td>0.108565</td>\n",
       "      <td>0.001897</td>\n",
       "      <td>0.018900</td>\n",
       "      <td>0.006385</td>\n",
       "    </tr>\n",
       "    <tr>\n",
       "      <th>15</th>\n",
       "      <td>0.288369</td>\n",
       "      <td>0.013967</td>\n",
       "      <td>0.635859</td>\n",
       "      <td>0.742464</td>\n",
       "      <td>0.25</td>\n",
       "      <td>0.01</td>\n",
       "      <td>2</td>\n",
       "      <td>500</td>\n",
       "      <td>1</td>\n",
       "      <td>{'colsample_bytree': 0.25, 'learning_rate': 0....</td>\n",
       "      <td>...</td>\n",
       "      <td>0.626608</td>\n",
       "      <td>0.745010</td>\n",
       "      <td>0.628250</td>\n",
       "      <td>0.743631</td>\n",
       "      <td>0.652741</td>\n",
       "      <td>0.738752</td>\n",
       "      <td>0.080691</td>\n",
       "      <td>0.002468</td>\n",
       "      <td>0.011949</td>\n",
       "      <td>0.002685</td>\n",
       "    </tr>\n",
       "    <tr>\n",
       "      <th>18</th>\n",
       "      <td>0.399171</td>\n",
       "      <td>0.026370</td>\n",
       "      <td>0.635533</td>\n",
       "      <td>0.938268</td>\n",
       "      <td>0.25</td>\n",
       "      <td>0.01</td>\n",
       "      <td>5</td>\n",
       "      <td>500</td>\n",
       "      <td>0.1</td>\n",
       "      <td>{'colsample_bytree': 0.25, 'learning_rate': 0....</td>\n",
       "      <td>...</td>\n",
       "      <td>0.622956</td>\n",
       "      <td>0.932453</td>\n",
       "      <td>0.628564</td>\n",
       "      <td>0.942422</td>\n",
       "      <td>0.655105</td>\n",
       "      <td>0.939928</td>\n",
       "      <td>0.021264</td>\n",
       "      <td>0.004338</td>\n",
       "      <td>0.014019</td>\n",
       "      <td>0.004236</td>\n",
       "    </tr>\n",
       "  </tbody>\n",
       "</table>\n",
       "<p>10 rows × 21 columns</p>\n",
       "</div>"
      ],
      "text/plain": [
       "    mean_fit_time  mean_score_time  mean_test_score  mean_train_score  \\\n",
       "21       0.161153         0.009426         0.637909          0.884811   \n",
       "11       0.730820         0.024436         0.637897          0.836640   \n",
       "7        0.759128         0.023394         0.637562          0.790156   \n",
       "17       0.117573         0.008257         0.636769          0.829876   \n",
       "10       0.616849         0.029309         0.636527          0.862163   \n",
       "20       0.190946         0.011231         0.636384          0.902753   \n",
       "14       0.243303         0.013172         0.636261          0.745216   \n",
       "6        0.813738         0.020844         0.635975          0.810408   \n",
       "15       0.288369         0.013967         0.635859          0.742464   \n",
       "18       0.399171         0.026370         0.635533          0.938268   \n",
       "\n",
       "   param_colsample_bytree param_learning_rate param_max_depth  \\\n",
       "21                   0.25                0.01               7   \n",
       "11                   0.25              0.0001               7   \n",
       "7                    0.25              0.0001               5   \n",
       "17                   0.25                0.01               5   \n",
       "10                   0.25              0.0001               7   \n",
       "20                   0.25                0.01               7   \n",
       "14                   0.25                0.01               2   \n",
       "6                    0.25              0.0001               5   \n",
       "15                   0.25                0.01               2   \n",
       "18                   0.25                0.01               5   \n",
       "\n",
       "   param_n_estimators param_reg_lambda  \\\n",
       "21                100                1   \n",
       "11                500                1   \n",
       "7                 500                1   \n",
       "17                100                1   \n",
       "10                500              0.1   \n",
       "20                100              0.1   \n",
       "14                500              0.1   \n",
       "6                 500              0.1   \n",
       "15                500                1   \n",
       "18                500              0.1   \n",
       "\n",
       "                                               params       ...         \\\n",
       "21  {'colsample_bytree': 0.25, 'learning_rate': 0....       ...          \n",
       "11  {'colsample_bytree': 0.25, 'learning_rate': 0....       ...          \n",
       "7   {'colsample_bytree': 0.25, 'learning_rate': 0....       ...          \n",
       "17  {'colsample_bytree': 0.25, 'learning_rate': 0....       ...          \n",
       "10  {'colsample_bytree': 0.25, 'learning_rate': 0....       ...          \n",
       "20  {'colsample_bytree': 0.25, 'learning_rate': 0....       ...          \n",
       "14  {'colsample_bytree': 0.25, 'learning_rate': 0....       ...          \n",
       "6   {'colsample_bytree': 0.25, 'learning_rate': 0....       ...          \n",
       "15  {'colsample_bytree': 0.25, 'learning_rate': 0....       ...          \n",
       "18  {'colsample_bytree': 0.25, 'learning_rate': 0....       ...          \n",
       "\n",
       "    split0_test_score  split0_train_score  split1_test_score  \\\n",
       "21           0.627954            0.877443           0.626283   \n",
       "11           0.627543            0.824961           0.622894   \n",
       "7            0.627453            0.780639           0.622608   \n",
       "17           0.625935            0.821709           0.625703   \n",
       "10           0.626083            0.853276           0.620915   \n",
       "20           0.627461            0.893849           0.624003   \n",
       "14           0.626326            0.747724           0.629826   \n",
       "6            0.625504            0.801389           0.619928   \n",
       "15           0.626608            0.745010           0.628250   \n",
       "18           0.622956            0.932453           0.628564   \n",
       "\n",
       "    split1_train_score  split2_test_score  split2_train_score  std_fit_time  \\\n",
       "21            0.887520           0.659517            0.889471      0.018055   \n",
       "11            0.841071           0.663285            0.843887      0.058949   \n",
       "7             0.797589           0.662655            0.792240      0.023760   \n",
       "17            0.837371           0.658695            0.830549      0.005870   \n",
       "10            0.862600           0.662612            0.870614      0.039373   \n",
       "20            0.906448           0.657712            0.907964      0.065754   \n",
       "14            0.747384           0.652655            0.740539      0.057490   \n",
       "6             0.814554           0.662526            0.815281      0.108565   \n",
       "15            0.743631           0.652741            0.738752      0.080691   \n",
       "18            0.942422           0.655105            0.939928      0.021264   \n",
       "\n",
       "    std_score_time  std_test_score  std_train_score  \n",
       "21        0.000328        0.015285         0.005271  \n",
       "11        0.000293        0.018040         0.008338  \n",
       "7         0.004332        0.017842         0.007075  \n",
       "17        0.000365        0.015495         0.006412  \n",
       "10        0.003041        0.018554         0.007085  \n",
       "20        0.001680        0.015138         0.006327  \n",
       "14        0.002098        0.011672         0.003310  \n",
       "6         0.001897        0.018900         0.006385  \n",
       "15        0.002468        0.011949         0.002685  \n",
       "18        0.004338        0.014019         0.004236  \n",
       "\n",
       "[10 rows x 21 columns]"
      ]
     },
     "execution_count": 62,
     "metadata": {},
     "output_type": "execute_result"
    }
   ],
   "source": [
    "cv.fit(df_train[cols], \n",
    "       y_train)\n",
    "\n",
    "cv_result = pd.DataFrame(cv.cv_results_)\n",
    "cv_result.sort_values(by=\"mean_test_score\", ascending=False, inplace=True)\n",
    "cv_result.head(10)"
   ]
  },
  {
   "cell_type": "markdown",
   "metadata": {},
   "source": [
    "### Fit final model"
   ]
  },
  {
   "cell_type": "code",
   "execution_count": 63,
   "metadata": {},
   "outputs": [
    {
     "data": {
      "text/plain": [
       "LGBMClassifier(boosting_type='gbdt', class_weight=None, colsample_bytree=0.25,\n",
       "        learning_rate=0.01, max_depth=7, min_child_samples=20,\n",
       "        min_child_weight=0.001, min_split_gain=0.0, n_estimators=100,\n",
       "        n_jobs=-1, num_leaves=31, objective=None, random_state=None,\n",
       "        reg_alpha=0.0, reg_lambda=1, silent=True, subsample=1.0,\n",
       "        subsample_for_bin=200000, subsample_freq=1)"
      ]
     },
     "execution_count": 63,
     "metadata": {},
     "output_type": "execute_result"
    }
   ],
   "source": [
    "model = lgb.LGBMClassifier(n_estimators=100, \n",
    "                           max_depth=7, \n",
    "                           colsample_bytree=0.25, \n",
    "                           learning_rate=0.01, \n",
    "                           reg_lambda=1)\n",
    "\n",
    "model.fit(df_train[cols], y_train)"
   ]
  },
  {
   "cell_type": "markdown",
   "metadata": {},
   "source": [
    "### Variable importance"
   ]
  },
  {
   "cell_type": "code",
   "execution_count": 64,
   "metadata": {},
   "outputs": [
    {
     "data": {
      "text/html": [
       "<div>\n",
       "<style scoped>\n",
       "    .dataframe tbody tr th:only-of-type {\n",
       "        vertical-align: middle;\n",
       "    }\n",
       "\n",
       "    .dataframe tbody tr th {\n",
       "        vertical-align: top;\n",
       "    }\n",
       "\n",
       "    .dataframe thead th {\n",
       "        text-align: right;\n",
       "    }\n",
       "</style>\n",
       "<table border=\"1\" class=\"dataframe\">\n",
       "  <thead>\n",
       "    <tr style=\"text-align: right;\">\n",
       "      <th></th>\n",
       "      <th>6</th>\n",
       "      <th>15</th>\n",
       "      <th>14</th>\n",
       "      <th>5</th>\n",
       "      <th>7</th>\n",
       "      <th>52</th>\n",
       "      <th>51</th>\n",
       "      <th>36</th>\n",
       "      <th>19</th>\n",
       "      <th>24</th>\n",
       "      <th>...</th>\n",
       "      <th>27</th>\n",
       "      <th>44</th>\n",
       "      <th>23</th>\n",
       "      <th>48</th>\n",
       "      <th>35</th>\n",
       "      <th>28</th>\n",
       "      <th>33</th>\n",
       "      <th>46</th>\n",
       "      <th>41</th>\n",
       "      <th>26</th>\n",
       "    </tr>\n",
       "  </thead>\n",
       "  <tbody>\n",
       "    <tr>\n",
       "      <th>Variable</th>\n",
       "      <td>premier_v1_2_aua5400</td>\n",
       "      <td>premier_v1_2_iln5422</td>\n",
       "      <td>premier_v1_2_iln5400</td>\n",
       "      <td>premier_v1_2_als5400</td>\n",
       "      <td>premier_v1_2_bca8320</td>\n",
       "      <td>ls_risk_score2</td>\n",
       "      <td>ls_risk_score</td>\n",
       "      <td>smartv40_ahi83</td>\n",
       "      <td>premier_v1_2_rev5032</td>\n",
       "      <td>vantage_v3_score</td>\n",
       "      <td>...</td>\n",
       "      <td>smartv40_aal48</td>\n",
       "      <td>smartv40_arv02</td>\n",
       "      <td>premier_v1_2_stu0337</td>\n",
       "      <td>smartv40_arv37</td>\n",
       "      <td>smartv40_ahi81</td>\n",
       "      <td>smartv40_aau01</td>\n",
       "      <td>smartv40_ahi16</td>\n",
       "      <td>smartv40_arv25</td>\n",
       "      <td>smartv40_amg05</td>\n",
       "      <td>smartv40_aal42</td>\n",
       "    </tr>\n",
       "    <tr>\n",
       "      <th>Importance</th>\n",
       "      <td>155</td>\n",
       "      <td>143</td>\n",
       "      <td>137</td>\n",
       "      <td>133</td>\n",
       "      <td>121</td>\n",
       "      <td>111</td>\n",
       "      <td>100</td>\n",
       "      <td>97</td>\n",
       "      <td>93</td>\n",
       "      <td>89</td>\n",
       "      <td>...</td>\n",
       "      <td>23</td>\n",
       "      <td>22</td>\n",
       "      <td>22</td>\n",
       "      <td>21</td>\n",
       "      <td>19</td>\n",
       "      <td>18</td>\n",
       "      <td>17</td>\n",
       "      <td>11</td>\n",
       "      <td>0</td>\n",
       "      <td>0</td>\n",
       "    </tr>\n",
       "  </tbody>\n",
       "</table>\n",
       "<p>2 rows × 53 columns</p>\n",
       "</div>"
      ],
      "text/plain": [
       "                              6                     15                    14  \\\n",
       "Variable    premier_v1_2_aua5400  premier_v1_2_iln5422  premier_v1_2_iln5400   \n",
       "Importance                   155                   143                   137   \n",
       "\n",
       "                              5                     7               52  \\\n",
       "Variable    premier_v1_2_als5400  premier_v1_2_bca8320  ls_risk_score2   \n",
       "Importance                   133                   121             111   \n",
       "\n",
       "                       51              36                    19  \\\n",
       "Variable    ls_risk_score  smartv40_ahi83  premier_v1_2_rev5032   \n",
       "Importance            100              97                    93   \n",
       "\n",
       "                          24       ...                    27              44  \\\n",
       "Variable    vantage_v3_score       ...        smartv40_aal48  smartv40_arv02   \n",
       "Importance                89       ...                    23              22   \n",
       "\n",
       "                              23              48              35  \\\n",
       "Variable    premier_v1_2_stu0337  smartv40_arv37  smartv40_ahi81   \n",
       "Importance                    22              21              19   \n",
       "\n",
       "                        28              33              46              41  \\\n",
       "Variable    smartv40_aau01  smartv40_ahi16  smartv40_arv25  smartv40_amg05   \n",
       "Importance              18              17              11               0   \n",
       "\n",
       "                        26  \n",
       "Variable    smartv40_aal42  \n",
       "Importance               0  \n",
       "\n",
       "[2 rows x 53 columns]"
      ]
     },
     "execution_count": 64,
     "metadata": {},
     "output_type": "execute_result"
    }
   ],
   "source": [
    "pd.DataFrame({\"Variable\": cols, \"Importance\": model.feature_importances_})[[\"Variable\", \"Importance\"]].sort_values(\"Importance\", ascending=False).T"
   ]
  },
  {
   "cell_type": "markdown",
   "metadata": {},
   "source": [
    "### Test AUC"
   ]
  },
  {
   "cell_type": "code",
   "execution_count": 65,
   "metadata": {},
   "outputs": [
    {
     "data": {
      "text/plain": [
       "0.5952"
      ]
     },
     "execution_count": 65,
     "metadata": {},
     "output_type": "execute_result"
    }
   ],
   "source": [
    "pred = model.predict_proba(df_test[cols])[:,1]\n",
    "round(roc_auc_score(y_test, pred), 4)"
   ]
  }
 ],
 "metadata": {
  "kernelspec": {
   "display_name": "Python 3",
   "language": "python",
   "name": "python3"
  },
  "language_info": {
   "codemirror_mode": {
    "name": "ipython",
    "version": 3
   },
   "file_extension": ".py",
   "mimetype": "text/x-python",
   "name": "python",
   "nbconvert_exporter": "python",
   "pygments_lexer": "ipython3",
   "version": "3.6.4"
  }
 },
 "nbformat": 4,
 "nbformat_minor": 2
}
