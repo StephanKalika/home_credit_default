{
 "cells": [
  {
   "cell_type": "markdown",
   "metadata": {},
   "source": [
    "# Home Credit Feature Construction"
   ]
  },
  {
   "cell_type": "code",
   "execution_count": 59,
   "metadata": {},
   "outputs": [
    {
     "name": "stdout",
     "output_type": "stream",
     "text": [
      "The autotime extension is already loaded. To reload it, use:\n",
      "  %reload_ext autotime\n",
      "time: 26.9 ms\n"
     ]
    }
   ],
   "source": [
    "import numpy as np\n",
    "import pandas as pd\n",
    "import seaborn as sns\n",
    "import matplotlib.pyplot as plt\n",
    "from scipy.stats import iqr, randint, uniform\n",
    "import lightgbm as lgb\n",
    "from sklearn.tree import DecisionTreeClassifier\n",
    "from sklearn.ensemble import RandomForestClassifier\n",
    "from sklearn.linear_model import LogisticRegressionCV\n",
    "from sklearn.preprocessing import Imputer, StandardScaler, RobustScaler\n",
    "from sklearn.model_selection import RandomizedSearchCV, GridSearchCV, train_test_split, cross_val_score\n",
    "from sklearn.metrics import roc_auc_score\n",
    "from skopt import gp_minimize\n",
    "from skopt.plots import plot_convergence, plot_objective\n",
    "from IPython.display import display\n",
    "import warnings\n",
    "import pickle\n",
    "import gc\n",
    "\n",
    "%load_ext autotime\n",
    "# %unload_ext autotime\n",
    "\n",
    "pd.options.display.max_columns = None\n",
    "warnings.filterwarnings(\"ignore\")\n",
    "gc.enable()\n",
    "np.random.seed(123)\n",
    "\n",
    "path = \"/Users/dsaxton/home_credit_default/\""
   ]
  },
  {
   "cell_type": "markdown",
   "metadata": {},
   "source": [
    "#### Quick model function"
   ]
  },
  {
   "cell_type": "code",
   "execution_count": 139,
   "metadata": {},
   "outputs": [
    {
     "name": "stdout",
     "output_type": "stream",
     "text": [
      "time: 8.31 ms\n"
     ]
    }
   ],
   "source": [
    "def quick_model(X, y, n_estimators, num_leaves, usecols, dropcols=[], folds=5):\n",
    "    take = [c for c in usecols if c not in dropcols]\n",
    "    clf = lgb.LGBMClassifier(n_estimators=n_estimators, num_leaves=num_leaves)\n",
    "    clf.fit(X[take], y)\n",
    "    var_imp = pd.DataFrame({\"Feature\": X[take].columns, \"Importance\": clf.feature_importances_})[[\"Feature\", \"Importance\"]].sort_values(\"Importance\", ascending=False)\n",
    "    cv_result = cross_val_score(estimator=clf, X=X[take], y=y, scoring=\"roc_auc\", cv=folds)\n",
    "    auc_mean = cv_result.mean()\n",
    "    auc_std = cv_result.std() / np.sqrt(folds)\n",
    "    \n",
    "    return {\"var_imp\": var_imp, \"auc_mean\": auc_mean, \"auc_std\": auc_std}"
   ]
  },
  {
   "cell_type": "markdown",
   "metadata": {},
   "source": [
    "#### Full data"
   ]
  },
  {
   "cell_type": "code",
   "execution_count": 61,
   "metadata": {},
   "outputs": [
    {
     "name": "stdout",
     "output_type": "stream",
     "text": [
      "time: 45.2 s\n"
     ]
    }
   ],
   "source": [
    "df = pd.read_csv(path + \"train.csv\")"
   ]
  },
  {
   "cell_type": "markdown",
   "metadata": {},
   "source": [
    "#### Application table"
   ]
  },
  {
   "cell_type": "code",
   "execution_count": null,
   "metadata": {},
   "outputs": [],
   "source": [
    "train_or_test = \"train\"\n",
    "application = pd.read_csv(path + \"application_\" + train_or_test + \"test.csv\")"
   ]
  },
  {
   "cell_type": "markdown",
   "metadata": {},
   "source": [
    "#### Previous application and behavioral tables"
   ]
  },
  {
   "cell_type": "code",
   "execution_count": null,
   "metadata": {},
   "outputs": [],
   "source": [
    "bureau_balance = pd.read_csv(path + \"bureau_balance.csv\")\n",
    "bureau = pd.read_csv(path + \"bureau.csv\")\n",
    "credit_card = pd.read_csv(path + \"credit_card_balance.csv\")\n",
    "installments = pd.read_csv(path + \"installments_payments.csv\")\n",
    "pos_cash = pd.read_csv(path + \"POS_CASH_balance.csv\")\n",
    "previous_application = pd.read_csv(path + \"previous_application.csv\")"
   ]
  },
  {
   "cell_type": "markdown",
   "metadata": {},
   "source": [
    "#### Aggregate tables"
   ]
  },
  {
   "cell_type": "code",
   "execution_count": null,
   "metadata": {},
   "outputs": [],
   "source": [
    "bureau_agg = pd.read_csv(path + \"bureau_agg.csv\")\n",
    "credit_card_agg = pd.read_csv(path + \"credit_card_agg.csv\")"
   ]
  },
  {
   "cell_type": "markdown",
   "metadata": {},
   "source": [
    "# Feature construction sand box"
   ]
  },
  {
   "cell_type": "markdown",
   "metadata": {},
   "source": [
    "# Bureau"
   ]
  },
  {
   "cell_type": "markdown",
   "metadata": {},
   "source": [
    "#### Load data"
   ]
  },
  {
   "cell_type": "markdown",
   "metadata": {},
   "source": [
    "Pull in performance data"
   ]
  },
  {
   "cell_type": "code",
   "execution_count": 286,
   "metadata": {},
   "outputs": [
    {
     "name": "stdout",
     "output_type": "stream",
     "text": [
      "time: 8.2 s\n"
     ]
    }
   ],
   "source": [
    "frame = pd.read_csv(path + \"train.csv\", usecols=[\"SK_ID_CURR\", \"TARGET\"])"
   ]
  },
  {
   "cell_type": "markdown",
   "metadata": {},
   "source": [
    "Load raw bureau data for calculating new aggregates"
   ]
  },
  {
   "cell_type": "code",
   "execution_count": 287,
   "metadata": {},
   "outputs": [
    {
     "name": "stdout",
     "output_type": "stream",
     "text": [
      "time: 7.68 s\n"
     ]
    }
   ],
   "source": [
    "bureau = pd.read_csv(path + \"bureau.csv\")"
   ]
  },
  {
   "cell_type": "markdown",
   "metadata": {},
   "source": [
    "Load bureau_balance_agg and join with raw bureau data"
   ]
  },
  {
   "cell_type": "code",
   "execution_count": 288,
   "metadata": {},
   "outputs": [
    {
     "name": "stdout",
     "output_type": "stream",
     "text": [
      "time: 2.55 s\n"
     ]
    }
   ],
   "source": [
    "bureau_balance_agg = pd.read_csv(path + \"bureau_balance_agg.csv\")\n",
    "bureau_balance_agg = bureau_balance_agg[bureau_balance_agg[\"SK_ID_BUREAU\"].isin(bureau[\"SK_ID_BUREAU\"])]\n",
    "bureau_joined = pd.merge(bureau, bureau_balance_agg, how=\"left\", on=\"SK_ID_BUREAU\")"
   ]
  },
  {
   "cell_type": "markdown",
   "metadata": {},
   "source": [
    "#### Aggregation function"
   ]
  },
  {
   "cell_type": "code",
   "execution_count": 289,
   "metadata": {},
   "outputs": [
    {
     "name": "stdout",
     "output_type": "stream",
     "text": [
      "time: 2.72 ms\n"
     ]
    }
   ],
   "source": [
    "def bureau_agg_func(g):\n",
    "    mask3 = g[\"DAYS_CREDIT_UPDATE\"] >= -90\n",
    "    mask6 = g[\"DAYS_CREDIT_UPDATE\"] >= -180\n",
    "    mask12 = g[\"DAYS_CREDIT_UPDATE\"] >= -360\n",
    "    mask24 = g[\"DAYS_CREDIT_UPDATE\"] >= -720\n",
    "    active = g[\"CREDIT_ACTIVE\"] == \"Active\"\n",
    "    cc = g[\"CREDIT_TYPE\"] == \"Credit card\"\n",
    "    \n",
    "    d = {}\n",
    "    \n",
    "    return pd.Series(d)"
   ]
  },
  {
   "cell_type": "markdown",
   "metadata": {},
   "source": [
    "#### Process data and join"
   ]
  },
  {
   "cell_type": "markdown",
   "metadata": {},
   "source": [
    "Calculate new aggregates"
   ]
  },
  {
   "cell_type": "code",
   "execution_count": 268,
   "metadata": {},
   "outputs": [
    {
     "name": "stdout",
     "output_type": "stream",
     "text": [
      "time: 29.6 s\n"
     ]
    }
   ],
   "source": [
    "bureau_agg_new = bureau_joined.groupby(\"SK_ID_CURR\").apply(bureau_agg_func).reset_index()\n",
    "new_cols = [c for c in bureau_agg_new.columns if c != \"SK_ID_CURR\"]"
   ]
  },
  {
   "cell_type": "code",
   "execution_count": 269,
   "metadata": {},
   "outputs": [
    {
     "data": {
      "text/plain": [
       "['SUM_AMT_CREDIT_SUM_DEBT_DIV_DAYS_CREDIT_ENDDATE_ACTIVE_12M']"
      ]
     },
     "execution_count": 269,
     "metadata": {},
     "output_type": "execute_result"
    },
    {
     "name": "stdout",
     "output_type": "stream",
     "text": [
      "time: 5.1 ms\n"
     ]
    }
   ],
   "source": [
    "new_cols"
   ]
  },
  {
   "cell_type": "markdown",
   "metadata": {},
   "source": [
    "Load old aggregatea and join with new"
   ]
  },
  {
   "cell_type": "code",
   "execution_count": 270,
   "metadata": {},
   "outputs": [
    {
     "name": "stdout",
     "output_type": "stream",
     "text": [
      "time: 9 s\n"
     ]
    }
   ],
   "source": [
    "bureau_agg = pd.read_csv(path + \"bureau_agg.csv\")\n",
    "bureau_agg = pd.merge(bureau_agg, bureau_agg_new, how=\"left\", on=\"SK_ID_CURR\")"
   ]
  },
  {
   "cell_type": "markdown",
   "metadata": {},
   "source": [
    "Merge with performance data"
   ]
  },
  {
   "cell_type": "code",
   "execution_count": 271,
   "metadata": {},
   "outputs": [
    {
     "name": "stdout",
     "output_type": "stream",
     "text": [
      "time: 1.31 s\n"
     ]
    }
   ],
   "source": [
    "df = pd.merge(frame, bureau_agg, how=\"left\", on=\"SK_ID_CURR\")"
   ]
  },
  {
   "cell_type": "markdown",
   "metadata": {},
   "source": [
    "#### Fit quick model with new aggregates"
   ]
  },
  {
   "cell_type": "code",
   "execution_count": 272,
   "metadata": {},
   "outputs": [
    {
     "name": "stdout",
     "output_type": "stream",
     "text": [
      "time: 22.3 s\n"
     ]
    }
   ],
   "source": [
    "result = quick_model(X=df, \n",
    "                     y=df[\"TARGET\"], \n",
    "                     usecols=df.drop([\"TARGET\", \"SK_ID_CURR\"], axis=1).columns.tolist(), \n",
    "                     dropcols=[], \n",
    "                     n_estimators=500, \n",
    "                     num_leaves=17, \n",
    "                     folds=3)"
   ]
  },
  {
   "cell_type": "markdown",
   "metadata": {},
   "source": [
    "CV AUC mean"
   ]
  },
  {
   "cell_type": "code",
   "execution_count": 273,
   "metadata": {},
   "outputs": [
    {
     "data": {
      "text/plain": [
       "0.5796"
      ]
     },
     "execution_count": 273,
     "metadata": {},
     "output_type": "execute_result"
    },
    {
     "name": "stdout",
     "output_type": "stream",
     "text": [
      "time: 2.93 ms\n"
     ]
    }
   ],
   "source": [
    "result[\"auc_mean\"]"
   ]
  },
  {
   "cell_type": "markdown",
   "metadata": {},
   "source": [
    "#### Fit quick model without specified aggregates"
   ]
  },
  {
   "cell_type": "code",
   "execution_count": 275,
   "metadata": {},
   "outputs": [
    {
     "name": "stdout",
     "output_type": "stream",
     "text": [
      "time: 22.9 s\n"
     ]
    }
   ],
   "source": [
    "result = quick_model(X=df, \n",
    "                     y=df[\"TARGET\"], \n",
    "                     usecols=df.drop([\"TARGET\", \"SK_ID_CURR\"], axis=1).columns.tolist(), \n",
    "                     dropcols=[], \n",
    "                     n_estimators=500, \n",
    "                     num_leaves=17, \n",
    "                     folds=3)"
   ]
  },
  {
   "cell_type": "markdown",
   "metadata": {},
   "source": [
    "CV AUC mean"
   ]
  },
  {
   "cell_type": "code",
   "execution_count": 276,
   "metadata": {},
   "outputs": [
    {
     "data": {
      "text/plain": [
       "0.5822"
      ]
     },
     "execution_count": 276,
     "metadata": {},
     "output_type": "execute_result"
    },
    {
     "name": "stdout",
     "output_type": "stream",
     "text": [
      "time: 5.85 ms\n"
     ]
    }
   ],
   "source": [
    "result[\"auc_mean\"]"
   ]
  },
  {
   "cell_type": "markdown",
   "metadata": {},
   "source": [
    "#### Write new aggregates to file"
   ]
  },
  {
   "cell_type": "raw",
   "metadata": {},
   "source": [
    "bureau_agg.to_csv(path + \"bureau_agg.csv\", index=False, header=True)"
   ]
  },
  {
   "cell_type": "markdown",
   "metadata": {},
   "source": [
    "# Installments"
   ]
  },
  {
   "cell_type": "markdown",
   "metadata": {},
   "source": [
    "#### Load data"
   ]
  },
  {
   "cell_type": "markdown",
   "metadata": {},
   "source": [
    "Pull in performance data"
   ]
  },
  {
   "cell_type": "code",
   "execution_count": 297,
   "metadata": {},
   "outputs": [
    {
     "name": "stdout",
     "output_type": "stream",
     "text": [
      "time: 8.1 s\n"
     ]
    }
   ],
   "source": [
    "frame = pd.read_csv(path + \"train.csv\", usecols=[\"SK_ID_CURR\", \"TARGET\"])"
   ]
  },
  {
   "cell_type": "markdown",
   "metadata": {},
   "source": [
    "Load raw bureau data for calculating new aggregates"
   ]
  },
  {
   "cell_type": "code",
   "execution_count": 298,
   "metadata": {},
   "outputs": [
    {
     "name": "stdout",
     "output_type": "stream",
     "text": [
      "time: 28.3 s\n"
     ]
    }
   ],
   "source": [
    "installments = pd.read_csv(path + \"installments_payments.csv\")"
   ]
  },
  {
   "cell_type": "markdown",
   "metadata": {},
   "source": [
    "#### Aggregation function"
   ]
  },
  {
   "cell_type": "code",
   "execution_count": 324,
   "metadata": {},
   "outputs": [
    {
     "name": "stdout",
     "output_type": "stream",
     "text": [
      "time: 5.7 ms\n"
     ]
    }
   ],
   "source": [
    "def installment_agg_func(g):\n",
    "    mask6 = g[\"DAYS_ENTRY_PAYMENT\"] >= -180\n",
    "    mask12 = g[\"DAYS_ENTRY_PAYMENT\"] >= -360\n",
    "    \n",
    "    d = {\n",
    "        \n",
    "    }\n",
    "    \n",
    "    return pd.Series(d)"
   ]
  },
  {
   "cell_type": "markdown",
   "metadata": {},
   "source": [
    "#### Process data and join"
   ]
  },
  {
   "cell_type": "markdown",
   "metadata": {},
   "source": [
    "Calculate new aggregates"
   ]
  },
  {
   "cell_type": "code",
   "execution_count": 325,
   "metadata": {},
   "outputs": [
    {
     "name": "stdout",
     "output_type": "stream",
     "text": [
      "time: 38min 43s\n"
     ]
    }
   ],
   "source": [
    "installment_agg_new = installments.groupby(\"SK_ID_CURR\").apply(installment_agg_func).reset_index()\n",
    "new_cols = [c for c in installment_agg_new.columns if c != \"SK_ID_CURR\"]"
   ]
  },
  {
   "cell_type": "code",
   "execution_count": 326,
   "metadata": {},
   "outputs": [
    {
     "data": {
      "text/plain": [
       "['SUM_PAYMENT_6M',\n",
       " 'SUM_PAYMENT_DIFF_6M_12M',\n",
       " 'MAX_AMT_INSTALMENT_6M',\n",
       " 'MIN_AMT_INSTALMENT_6M',\n",
       " 'MAX_DAYS_ENTRY_PAYMENT_DIFF_DAYS_INSTALMENT_12M',\n",
       " 'MIN_DAYS_ENTRY_PAYMENT_DIFF_DAYS_INSTALMENT_12M']"
      ]
     },
     "execution_count": 326,
     "metadata": {},
     "output_type": "execute_result"
    },
    {
     "name": "stdout",
     "output_type": "stream",
     "text": [
      "time: 6.08 ms\n"
     ]
    }
   ],
   "source": [
    "new_cols"
   ]
  },
  {
   "cell_type": "markdown",
   "metadata": {},
   "source": [
    "Load old aggregates and join with new"
   ]
  },
  {
   "cell_type": "code",
   "execution_count": 327,
   "metadata": {},
   "outputs": [
    {
     "name": "stdout",
     "output_type": "stream",
     "text": [
      "time: 3.29 s\n"
     ]
    }
   ],
   "source": [
    "installment_agg = pd.read_csv(path + \"installment_agg.csv\")\n",
    "installment_agg = pd.merge(installment_agg, installment_agg_new, how=\"left\", on=\"SK_ID_CURR\")"
   ]
  },
  {
   "cell_type": "markdown",
   "metadata": {},
   "source": [
    "Merge with performance data"
   ]
  },
  {
   "cell_type": "code",
   "execution_count": 328,
   "metadata": {},
   "outputs": [
    {
     "name": "stdout",
     "output_type": "stream",
     "text": [
      "time: 628 ms\n"
     ]
    }
   ],
   "source": [
    "df = pd.merge(frame, installment_agg, how=\"left\", on=\"SK_ID_CURR\")"
   ]
  },
  {
   "cell_type": "markdown",
   "metadata": {},
   "source": [
    "#### Fit quick model with new aggregates"
   ]
  },
  {
   "cell_type": "code",
   "execution_count": 329,
   "metadata": {},
   "outputs": [
    {
     "name": "stdout",
     "output_type": "stream",
     "text": [
      "time: 49.2 s\n"
     ]
    }
   ],
   "source": [
    "result = quick_model(X=df, \n",
    "                     y=df[\"TARGET\"], \n",
    "                     usecols=df.drop([\"TARGET\", \"SK_ID_CURR\"], axis=1).columns.tolist(), \n",
    "                     dropcols=[], \n",
    "                     n_estimators=500, \n",
    "                     num_leaves=17, \n",
    "                     folds=3)"
   ]
  },
  {
   "cell_type": "markdown",
   "metadata": {},
   "source": [
    "CV AUC mean"
   ]
  },
  {
   "cell_type": "code",
   "execution_count": 330,
   "metadata": {},
   "outputs": [
    {
     "data": {
      "text/plain": [
       "0.6385"
      ]
     },
     "execution_count": 330,
     "metadata": {},
     "output_type": "execute_result"
    },
    {
     "name": "stdout",
     "output_type": "stream",
     "text": [
      "time: 3.65 ms\n"
     ]
    }
   ],
   "source": [
    "result[\"auc_mean\"]"
   ]
  },
  {
   "cell_type": "markdown",
   "metadata": {},
   "source": [
    "#### Fit quick model without specified aggregates"
   ]
  },
  {
   "cell_type": "code",
   "execution_count": 331,
   "metadata": {},
   "outputs": [
    {
     "name": "stdout",
     "output_type": "stream",
     "text": [
      "time: 55.2 s\n"
     ]
    }
   ],
   "source": [
    "result = quick_model(X=df, \n",
    "                     y=df[\"TARGET\"], \n",
    "                     usecols=df.drop([\"TARGET\", \"SK_ID_CURR\"], axis=1).columns.tolist(), \n",
    "                     dropcols=[], \n",
    "                     n_estimators=500, \n",
    "                     num_leaves=17, \n",
    "                     folds=3)"
   ]
  },
  {
   "cell_type": "markdown",
   "metadata": {},
   "source": [
    "CV AUC mean"
   ]
  },
  {
   "cell_type": "code",
   "execution_count": 332,
   "metadata": {},
   "outputs": [
    {
     "data": {
      "text/plain": [
       "0.6414"
      ]
     },
     "execution_count": 332,
     "metadata": {},
     "output_type": "execute_result"
    },
    {
     "name": "stdout",
     "output_type": "stream",
     "text": [
      "time: 4.3 ms\n"
     ]
    }
   ],
   "source": [
    "result[\"auc_mean\"]"
   ]
  },
  {
   "cell_type": "markdown",
   "metadata": {},
   "source": [
    "#### Write new aggregates to file\n",
    "\n",
    "Definitions should also be added to preprocessing script"
   ]
  },
  {
   "cell_type": "raw",
   "metadata": {},
   "source": [
    "installment_agg.to_csv(path + \"installment_agg.csv\", index=False, header=True)"
   ]
  },
  {
   "cell_type": "markdown",
   "metadata": {},
   "source": [
    "# Credit card"
   ]
  },
  {
   "cell_type": "markdown",
   "metadata": {},
   "source": [
    "#### Load data"
   ]
  },
  {
   "cell_type": "markdown",
   "metadata": {},
   "source": [
    "Pull in performance data"
   ]
  },
  {
   "cell_type": "code",
   "execution_count": 166,
   "metadata": {},
   "outputs": [
    {
     "name": "stdout",
     "output_type": "stream",
     "text": [
      "time: 9.24 s\n"
     ]
    }
   ],
   "source": [
    "frame = pd.read_csv(path + \"train.csv\", usecols=[\"SK_ID_CURR\", \"TARGET\"])"
   ]
  },
  {
   "cell_type": "markdown",
   "metadata": {},
   "source": [
    "Load raw bureau data for calculating new aggregates"
   ]
  },
  {
   "cell_type": "code",
   "execution_count": 167,
   "metadata": {},
   "outputs": [
    {
     "name": "stdout",
     "output_type": "stream",
     "text": [
      "time: 35.1 s\n"
     ]
    }
   ],
   "source": [
    "credit_card = pd.read_csv(path + \"credit_card_balance.csv\")"
   ]
  },
  {
   "cell_type": "code",
   "execution_count": 168,
   "metadata": {},
   "outputs": [
    {
     "data": {
      "text/html": [
       "<div>\n",
       "<style scoped>\n",
       "    .dataframe tbody tr th:only-of-type {\n",
       "        vertical-align: middle;\n",
       "    }\n",
       "\n",
       "    .dataframe tbody tr th {\n",
       "        vertical-align: top;\n",
       "    }\n",
       "\n",
       "    .dataframe thead th {\n",
       "        text-align: right;\n",
       "    }\n",
       "</style>\n",
       "<table border=\"1\" class=\"dataframe\">\n",
       "  <thead>\n",
       "    <tr style=\"text-align: right;\">\n",
       "      <th></th>\n",
       "      <th>SK_ID_PREV</th>\n",
       "      <th>SK_ID_CURR</th>\n",
       "      <th>MONTHS_BALANCE</th>\n",
       "      <th>AMT_BALANCE</th>\n",
       "      <th>AMT_CREDIT_LIMIT_ACTUAL</th>\n",
       "      <th>AMT_DRAWINGS_ATM_CURRENT</th>\n",
       "      <th>AMT_DRAWINGS_CURRENT</th>\n",
       "      <th>AMT_DRAWINGS_OTHER_CURRENT</th>\n",
       "      <th>AMT_DRAWINGS_POS_CURRENT</th>\n",
       "      <th>AMT_INST_MIN_REGULARITY</th>\n",
       "      <th>AMT_PAYMENT_CURRENT</th>\n",
       "      <th>AMT_PAYMENT_TOTAL_CURRENT</th>\n",
       "      <th>AMT_RECEIVABLE_PRINCIPAL</th>\n",
       "      <th>AMT_RECIVABLE</th>\n",
       "      <th>AMT_TOTAL_RECEIVABLE</th>\n",
       "      <th>CNT_DRAWINGS_ATM_CURRENT</th>\n",
       "      <th>CNT_DRAWINGS_CURRENT</th>\n",
       "      <th>CNT_DRAWINGS_OTHER_CURRENT</th>\n",
       "      <th>CNT_DRAWINGS_POS_CURRENT</th>\n",
       "      <th>CNT_INSTALMENT_MATURE_CUM</th>\n",
       "      <th>NAME_CONTRACT_STATUS</th>\n",
       "      <th>SK_DPD</th>\n",
       "      <th>SK_DPD_DEF</th>\n",
       "    </tr>\n",
       "  </thead>\n",
       "  <tbody>\n",
       "    <tr>\n",
       "      <th>0</th>\n",
       "      <td>2562384</td>\n",
       "      <td>378907</td>\n",
       "      <td>-6</td>\n",
       "      <td>56.970</td>\n",
       "      <td>135000</td>\n",
       "      <td>0.0</td>\n",
       "      <td>877.5</td>\n",
       "      <td>0.0</td>\n",
       "      <td>877.5</td>\n",
       "      <td>1700.325</td>\n",
       "      <td>1800.0</td>\n",
       "      <td>1800.0</td>\n",
       "      <td>0.000</td>\n",
       "      <td>0.000</td>\n",
       "      <td>0.000</td>\n",
       "      <td>0.0</td>\n",
       "      <td>1</td>\n",
       "      <td>0.0</td>\n",
       "      <td>1.0</td>\n",
       "      <td>35.0</td>\n",
       "      <td>Active</td>\n",
       "      <td>0</td>\n",
       "      <td>0</td>\n",
       "    </tr>\n",
       "    <tr>\n",
       "      <th>1</th>\n",
       "      <td>2582071</td>\n",
       "      <td>363914</td>\n",
       "      <td>-1</td>\n",
       "      <td>63975.555</td>\n",
       "      <td>45000</td>\n",
       "      <td>2250.0</td>\n",
       "      <td>2250.0</td>\n",
       "      <td>0.0</td>\n",
       "      <td>0.0</td>\n",
       "      <td>2250.000</td>\n",
       "      <td>2250.0</td>\n",
       "      <td>2250.0</td>\n",
       "      <td>60175.080</td>\n",
       "      <td>64875.555</td>\n",
       "      <td>64875.555</td>\n",
       "      <td>1.0</td>\n",
       "      <td>1</td>\n",
       "      <td>0.0</td>\n",
       "      <td>0.0</td>\n",
       "      <td>69.0</td>\n",
       "      <td>Active</td>\n",
       "      <td>0</td>\n",
       "      <td>0</td>\n",
       "    </tr>\n",
       "    <tr>\n",
       "      <th>2</th>\n",
       "      <td>1740877</td>\n",
       "      <td>371185</td>\n",
       "      <td>-7</td>\n",
       "      <td>31815.225</td>\n",
       "      <td>450000</td>\n",
       "      <td>0.0</td>\n",
       "      <td>0.0</td>\n",
       "      <td>0.0</td>\n",
       "      <td>0.0</td>\n",
       "      <td>2250.000</td>\n",
       "      <td>2250.0</td>\n",
       "      <td>2250.0</td>\n",
       "      <td>26926.425</td>\n",
       "      <td>31460.085</td>\n",
       "      <td>31460.085</td>\n",
       "      <td>0.0</td>\n",
       "      <td>0</td>\n",
       "      <td>0.0</td>\n",
       "      <td>0.0</td>\n",
       "      <td>30.0</td>\n",
       "      <td>Active</td>\n",
       "      <td>0</td>\n",
       "      <td>0</td>\n",
       "    </tr>\n",
       "    <tr>\n",
       "      <th>3</th>\n",
       "      <td>1389973</td>\n",
       "      <td>337855</td>\n",
       "      <td>-4</td>\n",
       "      <td>236572.110</td>\n",
       "      <td>225000</td>\n",
       "      <td>2250.0</td>\n",
       "      <td>2250.0</td>\n",
       "      <td>0.0</td>\n",
       "      <td>0.0</td>\n",
       "      <td>11795.760</td>\n",
       "      <td>11925.0</td>\n",
       "      <td>11925.0</td>\n",
       "      <td>224949.285</td>\n",
       "      <td>233048.970</td>\n",
       "      <td>233048.970</td>\n",
       "      <td>1.0</td>\n",
       "      <td>1</td>\n",
       "      <td>0.0</td>\n",
       "      <td>0.0</td>\n",
       "      <td>10.0</td>\n",
       "      <td>Active</td>\n",
       "      <td>0</td>\n",
       "      <td>0</td>\n",
       "    </tr>\n",
       "    <tr>\n",
       "      <th>4</th>\n",
       "      <td>1891521</td>\n",
       "      <td>126868</td>\n",
       "      <td>-1</td>\n",
       "      <td>453919.455</td>\n",
       "      <td>450000</td>\n",
       "      <td>0.0</td>\n",
       "      <td>11547.0</td>\n",
       "      <td>0.0</td>\n",
       "      <td>11547.0</td>\n",
       "      <td>22924.890</td>\n",
       "      <td>27000.0</td>\n",
       "      <td>27000.0</td>\n",
       "      <td>443044.395</td>\n",
       "      <td>453919.455</td>\n",
       "      <td>453919.455</td>\n",
       "      <td>0.0</td>\n",
       "      <td>1</td>\n",
       "      <td>0.0</td>\n",
       "      <td>1.0</td>\n",
       "      <td>101.0</td>\n",
       "      <td>Active</td>\n",
       "      <td>0</td>\n",
       "      <td>0</td>\n",
       "    </tr>\n",
       "  </tbody>\n",
       "</table>\n",
       "</div>"
      ],
      "text/plain": [
       "   SK_ID_PREV  SK_ID_CURR  MONTHS_BALANCE  AMT_BALANCE  \\\n",
       "0     2562384      378907              -6       56.970   \n",
       "1     2582071      363914              -1    63975.555   \n",
       "2     1740877      371185              -7    31815.225   \n",
       "3     1389973      337855              -4   236572.110   \n",
       "4     1891521      126868              -1   453919.455   \n",
       "\n",
       "   AMT_CREDIT_LIMIT_ACTUAL  AMT_DRAWINGS_ATM_CURRENT  AMT_DRAWINGS_CURRENT  \\\n",
       "0                   135000                       0.0                 877.5   \n",
       "1                    45000                    2250.0                2250.0   \n",
       "2                   450000                       0.0                   0.0   \n",
       "3                   225000                    2250.0                2250.0   \n",
       "4                   450000                       0.0               11547.0   \n",
       "\n",
       "   AMT_DRAWINGS_OTHER_CURRENT  AMT_DRAWINGS_POS_CURRENT  \\\n",
       "0                         0.0                     877.5   \n",
       "1                         0.0                       0.0   \n",
       "2                         0.0                       0.0   \n",
       "3                         0.0                       0.0   \n",
       "4                         0.0                   11547.0   \n",
       "\n",
       "   AMT_INST_MIN_REGULARITY  AMT_PAYMENT_CURRENT  AMT_PAYMENT_TOTAL_CURRENT  \\\n",
       "0                 1700.325               1800.0                     1800.0   \n",
       "1                 2250.000               2250.0                     2250.0   \n",
       "2                 2250.000               2250.0                     2250.0   \n",
       "3                11795.760              11925.0                    11925.0   \n",
       "4                22924.890              27000.0                    27000.0   \n",
       "\n",
       "   AMT_RECEIVABLE_PRINCIPAL  AMT_RECIVABLE  AMT_TOTAL_RECEIVABLE  \\\n",
       "0                     0.000          0.000                 0.000   \n",
       "1                 60175.080      64875.555             64875.555   \n",
       "2                 26926.425      31460.085             31460.085   \n",
       "3                224949.285     233048.970            233048.970   \n",
       "4                443044.395     453919.455            453919.455   \n",
       "\n",
       "   CNT_DRAWINGS_ATM_CURRENT  CNT_DRAWINGS_CURRENT  CNT_DRAWINGS_OTHER_CURRENT  \\\n",
       "0                       0.0                     1                         0.0   \n",
       "1                       1.0                     1                         0.0   \n",
       "2                       0.0                     0                         0.0   \n",
       "3                       1.0                     1                         0.0   \n",
       "4                       0.0                     1                         0.0   \n",
       "\n",
       "   CNT_DRAWINGS_POS_CURRENT  CNT_INSTALMENT_MATURE_CUM NAME_CONTRACT_STATUS  \\\n",
       "0                       1.0                       35.0               Active   \n",
       "1                       0.0                       69.0               Active   \n",
       "2                       0.0                       30.0               Active   \n",
       "3                       0.0                       10.0               Active   \n",
       "4                       1.0                      101.0               Active   \n",
       "\n",
       "   SK_DPD  SK_DPD_DEF  \n",
       "0       0           0  \n",
       "1       0           0  \n",
       "2       0           0  \n",
       "3       0           0  \n",
       "4       0           0  "
      ]
     },
     "execution_count": 168,
     "metadata": {},
     "output_type": "execute_result"
    },
    {
     "name": "stdout",
     "output_type": "stream",
     "text": [
      "time: 94.3 ms\n"
     ]
    }
   ],
   "source": [
    "credit_card.head()"
   ]
  },
  {
   "cell_type": "markdown",
   "metadata": {},
   "source": [
    "#### Aggregation function"
   ]
  },
  {
   "cell_type": "code",
   "execution_count": 169,
   "metadata": {},
   "outputs": [
    {
     "name": "stdout",
     "output_type": "stream",
     "text": [
      "time: 29.7 ms\n"
     ]
    }
   ],
   "source": [
    "def credit_card_agg_func(g):\n",
    "    mask3 = g[\"MONTHS_BALANCE\"] >= -3\n",
    "    mask6 = g[\"MONTHS_BALANCE\"] >= -6\n",
    "    mask12 = g[\"MONTHS_BALANCE\"] >= -12\n",
    "    active = g[\"NAME_CONTRACT_STATUS\"] == \"Active\"\n",
    "    overdue = g[\"SK_DPD\"] > 0\n",
    "    \n",
    "    d = {\n",
    "        \n",
    "    }\n",
    "    \n",
    "    return pd.Series(d)"
   ]
  },
  {
   "cell_type": "markdown",
   "metadata": {},
   "source": [
    "#### Process data and join"
   ]
  },
  {
   "cell_type": "markdown",
   "metadata": {},
   "source": [
    "Calculate new aggregates"
   ]
  },
  {
   "cell_type": "code",
   "execution_count": 170,
   "metadata": {},
   "outputs": [
    {
     "name": "stdout",
     "output_type": "stream",
     "text": [
      "time: 14min 1s\n"
     ]
    }
   ],
   "source": [
    "credit_card_agg_new = credit_card.groupby(\"SK_ID_CURR\").apply(credit_card_agg_func).reset_index()\n",
    "new_cols = [c for c in credit_card_agg_new.columns if c != \"SK_ID_CURR\"]"
   ]
  },
  {
   "cell_type": "code",
   "execution_count": 171,
   "metadata": {},
   "outputs": [
    {
     "data": {
      "text/plain": [
       "['COUNT_OVERDUE_6M',\n",
       " 'COUNT_OVERDUE_12M',\n",
       " 'MAX_CREDIT_CARD_INST_AMT_PAST_DUE_6M',\n",
       " 'MIN_CREDIT_CARD_INST_AMT_PAST_DUE_6M',\n",
       " 'MIN_CREDIT_CARD_INST_AMT_PAST_DUE_12M']"
      ]
     },
     "execution_count": 171,
     "metadata": {},
     "output_type": "execute_result"
    },
    {
     "name": "stdout",
     "output_type": "stream",
     "text": [
      "time: 4.7 ms\n"
     ]
    }
   ],
   "source": [
    "new_cols"
   ]
  },
  {
   "cell_type": "markdown",
   "metadata": {},
   "source": [
    "Load old aggregates and join with new"
   ]
  },
  {
   "cell_type": "code",
   "execution_count": 172,
   "metadata": {},
   "outputs": [
    {
     "name": "stdout",
     "output_type": "stream",
     "text": [
      "time: 2.24 s\n"
     ]
    }
   ],
   "source": [
    "credit_card_agg = pd.read_csv(path + \"credit_card_agg.csv\")\n",
    "credit_card_agg = pd.merge(credit_card_agg, credit_card_agg_new, how=\"left\", on=\"SK_ID_CURR\")"
   ]
  },
  {
   "cell_type": "markdown",
   "metadata": {},
   "source": [
    "Merge with performance data"
   ]
  },
  {
   "cell_type": "code",
   "execution_count": 173,
   "metadata": {},
   "outputs": [
    {
     "data": {
      "text/html": [
       "<div>\n",
       "<style scoped>\n",
       "    .dataframe tbody tr th:only-of-type {\n",
       "        vertical-align: middle;\n",
       "    }\n",
       "\n",
       "    .dataframe tbody tr th {\n",
       "        vertical-align: top;\n",
       "    }\n",
       "\n",
       "    .dataframe thead th {\n",
       "        text-align: right;\n",
       "    }\n",
       "</style>\n",
       "<table border=\"1\" class=\"dataframe\">\n",
       "  <thead>\n",
       "    <tr style=\"text-align: right;\">\n",
       "      <th></th>\n",
       "      <th>SK_ID_CURR</th>\n",
       "      <th>TARGET</th>\n",
       "      <th>MAX_CREDIT_CARD_SK_DPD_6M</th>\n",
       "      <th>MAX_CREDIT_CARD_SK_DPD_12M</th>\n",
       "      <th>MAX_AMT_DRAWINGS_CURRENT_6M</th>\n",
       "      <th>MAX_AMT_DRAWINGS_CURRENT_12M</th>\n",
       "      <th>MAX_AMT_INST_MIN_REGULARITY_6M</th>\n",
       "      <th>MAX_AMT_INST_MIN_REGULARITY_12M</th>\n",
       "      <th>MAX_CNT_DRAWINGS_POS_CURRENT_6M</th>\n",
       "      <th>MAX_CNT_DRAWINGS_POS_CURRENT_12M</th>\n",
       "      <th>SUM_CC_PAYMENT_DIFF_12M</th>\n",
       "      <th>DIFF_AVG_BALANCE_6M_12M</th>\n",
       "      <th>AVG_BALANCE_6M</th>\n",
       "      <th>AVG_UTILIZATION_6M</th>\n",
       "      <th>AVG_BALANCE</th>\n",
       "      <th>MAX_BALANCE</th>\n",
       "      <th>SUM_BALANCE</th>\n",
       "      <th>MAX_MONTHS_BALANCE</th>\n",
       "      <th>MIN_MONTHS_BALANCE</th>\n",
       "      <th>RANGE_MONTHS_BALANCE</th>\n",
       "      <th>AVG_UTILIZATION</th>\n",
       "      <th>MAX_UTILIZATION</th>\n",
       "      <th>AVG_BALANCE_WEIGHTED</th>\n",
       "      <th>MAX_BALANCE_WEIGHTED</th>\n",
       "      <th>SUM_BALANCE_WEIGHTED</th>\n",
       "      <th>AVG_UTILIZATION_WEIGHTED</th>\n",
       "      <th>MAX_UTILIZATION_WEIGHTED</th>\n",
       "      <th>MAX_DPD_WEIGHTED</th>\n",
       "      <th>MAX_DPD_DEF_WEIGHTED</th>\n",
       "      <th>SUM_CNT_DRAWINGS_CURRENT</th>\n",
       "      <th>AVG_CNT_DRAWINGS_CURRENT</th>\n",
       "      <th>MAX_CNT_DRAWINGS_CURRENT</th>\n",
       "      <th>SUM_AMT_DRAWINGS_CURRENT</th>\n",
       "      <th>AVG_AMT_DRAWINGS_CURRENT</th>\n",
       "      <th>MAX_AMT_DRAWINGS_CURRENT</th>\n",
       "      <th>MIN_AMT_PAYMENT_CURRENT_DIV_AMT_INST_MIN_REGULARITY</th>\n",
       "      <th>AVG_AMT_PAYMENT_CURRENT_DIV_AMT_INST_MIN_REGULARITY</th>\n",
       "      <th>MAX_AMT_PAYMENT_CURRENT_DIV_AMT_INST_MIN_REGULARITY</th>\n",
       "      <th>SUM_CNT_DRAWINGS_ATM_CURRENT_6M</th>\n",
       "      <th>SUM_AMT_DRAWINGS_ATM_CURRENT_6M</th>\n",
       "      <th>MAX_AMT_DRAWINGS_ATM_CURRENT_6M</th>\n",
       "      <th>MAX_CNT_DRAWINGS_ATM_CURRENT_6M</th>\n",
       "      <th>MAX_AMT_RECEIVABLE_DIV_AMT_RECEIVABLE_PRINCIPAL_6M</th>\n",
       "      <th>MAX_UTILIZATION_6M</th>\n",
       "      <th>MAX_UTILIZATION_3M</th>\n",
       "      <th>COUNT_OVERDUE_6M</th>\n",
       "      <th>COUNT_OVERDUE_12M</th>\n",
       "      <th>MAX_CREDIT_CARD_INST_AMT_PAST_DUE_6M</th>\n",
       "      <th>MIN_CREDIT_CARD_INST_AMT_PAST_DUE_6M</th>\n",
       "      <th>MIN_CREDIT_CARD_INST_AMT_PAST_DUE_12M</th>\n",
       "    </tr>\n",
       "  </thead>\n",
       "  <tbody>\n",
       "    <tr>\n",
       "      <th>0</th>\n",
       "      <td>100002</td>\n",
       "      <td>1</td>\n",
       "      <td>NaN</td>\n",
       "      <td>NaN</td>\n",
       "      <td>NaN</td>\n",
       "      <td>NaN</td>\n",
       "      <td>NaN</td>\n",
       "      <td>NaN</td>\n",
       "      <td>NaN</td>\n",
       "      <td>NaN</td>\n",
       "      <td>NaN</td>\n",
       "      <td>NaN</td>\n",
       "      <td>NaN</td>\n",
       "      <td>NaN</td>\n",
       "      <td>NaN</td>\n",
       "      <td>NaN</td>\n",
       "      <td>NaN</td>\n",
       "      <td>NaN</td>\n",
       "      <td>NaN</td>\n",
       "      <td>NaN</td>\n",
       "      <td>NaN</td>\n",
       "      <td>NaN</td>\n",
       "      <td>NaN</td>\n",
       "      <td>NaN</td>\n",
       "      <td>NaN</td>\n",
       "      <td>NaN</td>\n",
       "      <td>NaN</td>\n",
       "      <td>NaN</td>\n",
       "      <td>NaN</td>\n",
       "      <td>NaN</td>\n",
       "      <td>NaN</td>\n",
       "      <td>NaN</td>\n",
       "      <td>NaN</td>\n",
       "      <td>NaN</td>\n",
       "      <td>NaN</td>\n",
       "      <td>NaN</td>\n",
       "      <td>NaN</td>\n",
       "      <td>NaN</td>\n",
       "      <td>NaN</td>\n",
       "      <td>NaN</td>\n",
       "      <td>NaN</td>\n",
       "      <td>NaN</td>\n",
       "      <td>NaN</td>\n",
       "      <td>NaN</td>\n",
       "      <td>NaN</td>\n",
       "      <td>NaN</td>\n",
       "      <td>NaN</td>\n",
       "      <td>NaN</td>\n",
       "      <td>NaN</td>\n",
       "      <td>NaN</td>\n",
       "    </tr>\n",
       "    <tr>\n",
       "      <th>1</th>\n",
       "      <td>100003</td>\n",
       "      <td>0</td>\n",
       "      <td>NaN</td>\n",
       "      <td>NaN</td>\n",
       "      <td>NaN</td>\n",
       "      <td>NaN</td>\n",
       "      <td>NaN</td>\n",
       "      <td>NaN</td>\n",
       "      <td>NaN</td>\n",
       "      <td>NaN</td>\n",
       "      <td>NaN</td>\n",
       "      <td>NaN</td>\n",
       "      <td>NaN</td>\n",
       "      <td>NaN</td>\n",
       "      <td>NaN</td>\n",
       "      <td>NaN</td>\n",
       "      <td>NaN</td>\n",
       "      <td>NaN</td>\n",
       "      <td>NaN</td>\n",
       "      <td>NaN</td>\n",
       "      <td>NaN</td>\n",
       "      <td>NaN</td>\n",
       "      <td>NaN</td>\n",
       "      <td>NaN</td>\n",
       "      <td>NaN</td>\n",
       "      <td>NaN</td>\n",
       "      <td>NaN</td>\n",
       "      <td>NaN</td>\n",
       "      <td>NaN</td>\n",
       "      <td>NaN</td>\n",
       "      <td>NaN</td>\n",
       "      <td>NaN</td>\n",
       "      <td>NaN</td>\n",
       "      <td>NaN</td>\n",
       "      <td>NaN</td>\n",
       "      <td>NaN</td>\n",
       "      <td>NaN</td>\n",
       "      <td>NaN</td>\n",
       "      <td>NaN</td>\n",
       "      <td>NaN</td>\n",
       "      <td>NaN</td>\n",
       "      <td>NaN</td>\n",
       "      <td>NaN</td>\n",
       "      <td>NaN</td>\n",
       "      <td>NaN</td>\n",
       "      <td>NaN</td>\n",
       "      <td>NaN</td>\n",
       "      <td>NaN</td>\n",
       "      <td>NaN</td>\n",
       "      <td>NaN</td>\n",
       "    </tr>\n",
       "    <tr>\n",
       "      <th>2</th>\n",
       "      <td>100004</td>\n",
       "      <td>0</td>\n",
       "      <td>NaN</td>\n",
       "      <td>NaN</td>\n",
       "      <td>NaN</td>\n",
       "      <td>NaN</td>\n",
       "      <td>NaN</td>\n",
       "      <td>NaN</td>\n",
       "      <td>NaN</td>\n",
       "      <td>NaN</td>\n",
       "      <td>NaN</td>\n",
       "      <td>NaN</td>\n",
       "      <td>NaN</td>\n",
       "      <td>NaN</td>\n",
       "      <td>NaN</td>\n",
       "      <td>NaN</td>\n",
       "      <td>NaN</td>\n",
       "      <td>NaN</td>\n",
       "      <td>NaN</td>\n",
       "      <td>NaN</td>\n",
       "      <td>NaN</td>\n",
       "      <td>NaN</td>\n",
       "      <td>NaN</td>\n",
       "      <td>NaN</td>\n",
       "      <td>NaN</td>\n",
       "      <td>NaN</td>\n",
       "      <td>NaN</td>\n",
       "      <td>NaN</td>\n",
       "      <td>NaN</td>\n",
       "      <td>NaN</td>\n",
       "      <td>NaN</td>\n",
       "      <td>NaN</td>\n",
       "      <td>NaN</td>\n",
       "      <td>NaN</td>\n",
       "      <td>NaN</td>\n",
       "      <td>NaN</td>\n",
       "      <td>NaN</td>\n",
       "      <td>NaN</td>\n",
       "      <td>NaN</td>\n",
       "      <td>NaN</td>\n",
       "      <td>NaN</td>\n",
       "      <td>NaN</td>\n",
       "      <td>NaN</td>\n",
       "      <td>NaN</td>\n",
       "      <td>NaN</td>\n",
       "      <td>NaN</td>\n",
       "      <td>NaN</td>\n",
       "      <td>NaN</td>\n",
       "      <td>NaN</td>\n",
       "      <td>NaN</td>\n",
       "    </tr>\n",
       "    <tr>\n",
       "      <th>3</th>\n",
       "      <td>100006</td>\n",
       "      <td>0</td>\n",
       "      <td>0.0</td>\n",
       "      <td>0.0</td>\n",
       "      <td>0.0</td>\n",
       "      <td>0.0</td>\n",
       "      <td>0.0</td>\n",
       "      <td>0.0</td>\n",
       "      <td>NaN</td>\n",
       "      <td>NaN</td>\n",
       "      <td>0.0</td>\n",
       "      <td>NaN</td>\n",
       "      <td>0.0</td>\n",
       "      <td>0.0</td>\n",
       "      <td>0.0</td>\n",
       "      <td>0.0</td>\n",
       "      <td>0.0</td>\n",
       "      <td>6.0</td>\n",
       "      <td>1.0</td>\n",
       "      <td>5.0</td>\n",
       "      <td>0.0</td>\n",
       "      <td>0.0</td>\n",
       "      <td>0.0</td>\n",
       "      <td>0.0</td>\n",
       "      <td>0.0</td>\n",
       "      <td>0.0</td>\n",
       "      <td>0.0</td>\n",
       "      <td>0.0</td>\n",
       "      <td>0.0</td>\n",
       "      <td>0.0</td>\n",
       "      <td>0.0</td>\n",
       "      <td>0.0</td>\n",
       "      <td>0.0</td>\n",
       "      <td>0.0</td>\n",
       "      <td>0.0</td>\n",
       "      <td>NaN</td>\n",
       "      <td>NaN</td>\n",
       "      <td>NaN</td>\n",
       "      <td>0.0</td>\n",
       "      <td>0.0</td>\n",
       "      <td>NaN</td>\n",
       "      <td>NaN</td>\n",
       "      <td>NaN</td>\n",
       "      <td>0.0</td>\n",
       "      <td>0.0</td>\n",
       "      <td>0.0</td>\n",
       "      <td>0.0</td>\n",
       "      <td>NaN</td>\n",
       "      <td>NaN</td>\n",
       "      <td>NaN</td>\n",
       "    </tr>\n",
       "    <tr>\n",
       "      <th>4</th>\n",
       "      <td>100007</td>\n",
       "      <td>0</td>\n",
       "      <td>NaN</td>\n",
       "      <td>NaN</td>\n",
       "      <td>NaN</td>\n",
       "      <td>NaN</td>\n",
       "      <td>NaN</td>\n",
       "      <td>NaN</td>\n",
       "      <td>NaN</td>\n",
       "      <td>NaN</td>\n",
       "      <td>NaN</td>\n",
       "      <td>NaN</td>\n",
       "      <td>NaN</td>\n",
       "      <td>NaN</td>\n",
       "      <td>NaN</td>\n",
       "      <td>NaN</td>\n",
       "      <td>NaN</td>\n",
       "      <td>NaN</td>\n",
       "      <td>NaN</td>\n",
       "      <td>NaN</td>\n",
       "      <td>NaN</td>\n",
       "      <td>NaN</td>\n",
       "      <td>NaN</td>\n",
       "      <td>NaN</td>\n",
       "      <td>NaN</td>\n",
       "      <td>NaN</td>\n",
       "      <td>NaN</td>\n",
       "      <td>NaN</td>\n",
       "      <td>NaN</td>\n",
       "      <td>NaN</td>\n",
       "      <td>NaN</td>\n",
       "      <td>NaN</td>\n",
       "      <td>NaN</td>\n",
       "      <td>NaN</td>\n",
       "      <td>NaN</td>\n",
       "      <td>NaN</td>\n",
       "      <td>NaN</td>\n",
       "      <td>NaN</td>\n",
       "      <td>NaN</td>\n",
       "      <td>NaN</td>\n",
       "      <td>NaN</td>\n",
       "      <td>NaN</td>\n",
       "      <td>NaN</td>\n",
       "      <td>NaN</td>\n",
       "      <td>NaN</td>\n",
       "      <td>NaN</td>\n",
       "      <td>NaN</td>\n",
       "      <td>NaN</td>\n",
       "      <td>NaN</td>\n",
       "      <td>NaN</td>\n",
       "    </tr>\n",
       "  </tbody>\n",
       "</table>\n",
       "</div>"
      ],
      "text/plain": [
       "   SK_ID_CURR  TARGET  MAX_CREDIT_CARD_SK_DPD_6M  MAX_CREDIT_CARD_SK_DPD_12M  \\\n",
       "0      100002       1                        NaN                         NaN   \n",
       "1      100003       0                        NaN                         NaN   \n",
       "2      100004       0                        NaN                         NaN   \n",
       "3      100006       0                        0.0                         0.0   \n",
       "4      100007       0                        NaN                         NaN   \n",
       "\n",
       "   MAX_AMT_DRAWINGS_CURRENT_6M  MAX_AMT_DRAWINGS_CURRENT_12M  \\\n",
       "0                          NaN                           NaN   \n",
       "1                          NaN                           NaN   \n",
       "2                          NaN                           NaN   \n",
       "3                          0.0                           0.0   \n",
       "4                          NaN                           NaN   \n",
       "\n",
       "   MAX_AMT_INST_MIN_REGULARITY_6M  MAX_AMT_INST_MIN_REGULARITY_12M  \\\n",
       "0                             NaN                              NaN   \n",
       "1                             NaN                              NaN   \n",
       "2                             NaN                              NaN   \n",
       "3                             0.0                              0.0   \n",
       "4                             NaN                              NaN   \n",
       "\n",
       "   MAX_CNT_DRAWINGS_POS_CURRENT_6M  MAX_CNT_DRAWINGS_POS_CURRENT_12M  \\\n",
       "0                              NaN                               NaN   \n",
       "1                              NaN                               NaN   \n",
       "2                              NaN                               NaN   \n",
       "3                              NaN                               NaN   \n",
       "4                              NaN                               NaN   \n",
       "\n",
       "   SUM_CC_PAYMENT_DIFF_12M  DIFF_AVG_BALANCE_6M_12M  AVG_BALANCE_6M  \\\n",
       "0                      NaN                      NaN             NaN   \n",
       "1                      NaN                      NaN             NaN   \n",
       "2                      NaN                      NaN             NaN   \n",
       "3                      0.0                      NaN             0.0   \n",
       "4                      NaN                      NaN             NaN   \n",
       "\n",
       "   AVG_UTILIZATION_6M  AVG_BALANCE  MAX_BALANCE  SUM_BALANCE  \\\n",
       "0                 NaN          NaN          NaN          NaN   \n",
       "1                 NaN          NaN          NaN          NaN   \n",
       "2                 NaN          NaN          NaN          NaN   \n",
       "3                 0.0          0.0          0.0          0.0   \n",
       "4                 NaN          NaN          NaN          NaN   \n",
       "\n",
       "   MAX_MONTHS_BALANCE  MIN_MONTHS_BALANCE  RANGE_MONTHS_BALANCE  \\\n",
       "0                 NaN                 NaN                   NaN   \n",
       "1                 NaN                 NaN                   NaN   \n",
       "2                 NaN                 NaN                   NaN   \n",
       "3                 6.0                 1.0                   5.0   \n",
       "4                 NaN                 NaN                   NaN   \n",
       "\n",
       "   AVG_UTILIZATION  MAX_UTILIZATION  AVG_BALANCE_WEIGHTED  \\\n",
       "0              NaN              NaN                   NaN   \n",
       "1              NaN              NaN                   NaN   \n",
       "2              NaN              NaN                   NaN   \n",
       "3              0.0              0.0                   0.0   \n",
       "4              NaN              NaN                   NaN   \n",
       "\n",
       "   MAX_BALANCE_WEIGHTED  SUM_BALANCE_WEIGHTED  AVG_UTILIZATION_WEIGHTED  \\\n",
       "0                   NaN                   NaN                       NaN   \n",
       "1                   NaN                   NaN                       NaN   \n",
       "2                   NaN                   NaN                       NaN   \n",
       "3                   0.0                   0.0                       0.0   \n",
       "4                   NaN                   NaN                       NaN   \n",
       "\n",
       "   MAX_UTILIZATION_WEIGHTED  MAX_DPD_WEIGHTED  MAX_DPD_DEF_WEIGHTED  \\\n",
       "0                       NaN               NaN                   NaN   \n",
       "1                       NaN               NaN                   NaN   \n",
       "2                       NaN               NaN                   NaN   \n",
       "3                       0.0               0.0                   0.0   \n",
       "4                       NaN               NaN                   NaN   \n",
       "\n",
       "   SUM_CNT_DRAWINGS_CURRENT  AVG_CNT_DRAWINGS_CURRENT  \\\n",
       "0                       NaN                       NaN   \n",
       "1                       NaN                       NaN   \n",
       "2                       NaN                       NaN   \n",
       "3                       0.0                       0.0   \n",
       "4                       NaN                       NaN   \n",
       "\n",
       "   MAX_CNT_DRAWINGS_CURRENT  SUM_AMT_DRAWINGS_CURRENT  \\\n",
       "0                       NaN                       NaN   \n",
       "1                       NaN                       NaN   \n",
       "2                       NaN                       NaN   \n",
       "3                       0.0                       0.0   \n",
       "4                       NaN                       NaN   \n",
       "\n",
       "   AVG_AMT_DRAWINGS_CURRENT  MAX_AMT_DRAWINGS_CURRENT  \\\n",
       "0                       NaN                       NaN   \n",
       "1                       NaN                       NaN   \n",
       "2                       NaN                       NaN   \n",
       "3                       0.0                       0.0   \n",
       "4                       NaN                       NaN   \n",
       "\n",
       "   MIN_AMT_PAYMENT_CURRENT_DIV_AMT_INST_MIN_REGULARITY  \\\n",
       "0                                                NaN     \n",
       "1                                                NaN     \n",
       "2                                                NaN     \n",
       "3                                                NaN     \n",
       "4                                                NaN     \n",
       "\n",
       "   AVG_AMT_PAYMENT_CURRENT_DIV_AMT_INST_MIN_REGULARITY  \\\n",
       "0                                                NaN     \n",
       "1                                                NaN     \n",
       "2                                                NaN     \n",
       "3                                                NaN     \n",
       "4                                                NaN     \n",
       "\n",
       "   MAX_AMT_PAYMENT_CURRENT_DIV_AMT_INST_MIN_REGULARITY  \\\n",
       "0                                                NaN     \n",
       "1                                                NaN     \n",
       "2                                                NaN     \n",
       "3                                                NaN     \n",
       "4                                                NaN     \n",
       "\n",
       "   SUM_CNT_DRAWINGS_ATM_CURRENT_6M  SUM_AMT_DRAWINGS_ATM_CURRENT_6M  \\\n",
       "0                              NaN                              NaN   \n",
       "1                              NaN                              NaN   \n",
       "2                              NaN                              NaN   \n",
       "3                              0.0                              0.0   \n",
       "4                              NaN                              NaN   \n",
       "\n",
       "   MAX_AMT_DRAWINGS_ATM_CURRENT_6M  MAX_CNT_DRAWINGS_ATM_CURRENT_6M  \\\n",
       "0                              NaN                              NaN   \n",
       "1                              NaN                              NaN   \n",
       "2                              NaN                              NaN   \n",
       "3                              NaN                              NaN   \n",
       "4                              NaN                              NaN   \n",
       "\n",
       "   MAX_AMT_RECEIVABLE_DIV_AMT_RECEIVABLE_PRINCIPAL_6M  MAX_UTILIZATION_6M  \\\n",
       "0                                                NaN                  NaN   \n",
       "1                                                NaN                  NaN   \n",
       "2                                                NaN                  NaN   \n",
       "3                                                NaN                  0.0   \n",
       "4                                                NaN                  NaN   \n",
       "\n",
       "   MAX_UTILIZATION_3M  COUNT_OVERDUE_6M  COUNT_OVERDUE_12M  \\\n",
       "0                 NaN               NaN                NaN   \n",
       "1                 NaN               NaN                NaN   \n",
       "2                 NaN               NaN                NaN   \n",
       "3                 0.0               0.0                0.0   \n",
       "4                 NaN               NaN                NaN   \n",
       "\n",
       "   MAX_CREDIT_CARD_INST_AMT_PAST_DUE_6M  MIN_CREDIT_CARD_INST_AMT_PAST_DUE_6M  \\\n",
       "0                                   NaN                                   NaN   \n",
       "1                                   NaN                                   NaN   \n",
       "2                                   NaN                                   NaN   \n",
       "3                                   NaN                                   NaN   \n",
       "4                                   NaN                                   NaN   \n",
       "\n",
       "   MIN_CREDIT_CARD_INST_AMT_PAST_DUE_12M  \n",
       "0                                    NaN  \n",
       "1                                    NaN  \n",
       "2                                    NaN  \n",
       "3                                    NaN  \n",
       "4                                    NaN  "
      ]
     },
     "execution_count": 173,
     "metadata": {},
     "output_type": "execute_result"
    },
    {
     "name": "stdout",
     "output_type": "stream",
     "text": [
      "time: 754 ms\n"
     ]
    }
   ],
   "source": [
    "df = pd.merge(frame, credit_card_agg, how=\"left\", on=\"SK_ID_CURR\")\n",
    "all_cols = df.drop([\"TARGET\", \"SK_ID_CURR\"], axis=1).columns.tolist()\n",
    "df.head()"
   ]
  },
  {
   "cell_type": "code",
   "execution_count": 174,
   "metadata": {},
   "outputs": [
    {
     "data": {
      "text/plain": [
       "(307511, 50)"
      ]
     },
     "execution_count": 174,
     "metadata": {},
     "output_type": "execute_result"
    },
    {
     "name": "stdout",
     "output_type": "stream",
     "text": [
      "time: 6 ms\n"
     ]
    }
   ],
   "source": [
    "df.shape"
   ]
  },
  {
   "cell_type": "markdown",
   "metadata": {},
   "source": [
    "#### Fit quick model with all aggregates"
   ]
  },
  {
   "cell_type": "code",
   "execution_count": 175,
   "metadata": {},
   "outputs": [
    {
     "name": "stdout",
     "output_type": "stream",
     "text": [
      "time: 16.8 s\n"
     ]
    }
   ],
   "source": [
    "result = quick_model(X=df, \n",
    "                     y=df[\"TARGET\"], \n",
    "                     usecols=all_cols, \n",
    "                     dropcols=[], \n",
    "                     n_estimators=100, \n",
    "                     num_leaves=13, \n",
    "                     folds=3)"
   ]
  },
  {
   "cell_type": "markdown",
   "metadata": {},
   "source": [
    "CV AUC mean"
   ]
  },
  {
   "cell_type": "code",
   "execution_count": 176,
   "metadata": {},
   "outputs": [
    {
     "data": {
      "text/plain": [
       "0.5657"
      ]
     },
     "execution_count": 176,
     "metadata": {},
     "output_type": "execute_result"
    },
    {
     "name": "stdout",
     "output_type": "stream",
     "text": [
      "time: 4.33 ms\n"
     ]
    }
   ],
   "source": [
    "round(result[\"auc_mean\"], 4)"
   ]
  },
  {
   "cell_type": "markdown",
   "metadata": {},
   "source": [
    "#### Iterate over each new aggregate and compute leave-one-out AUC"
   ]
  },
  {
   "cell_type": "code",
   "execution_count": 177,
   "metadata": {},
   "outputs": [
    {
     "name": "stdout",
     "output_type": "stream",
     "text": [
      "COUNT_OVERDUE_6M: 0.5661\n",
      "COUNT_OVERDUE_12M: 0.5658\n",
      "MAX_CREDIT_CARD_INST_AMT_PAST_DUE_6M: 0.5657\n",
      "MIN_CREDIT_CARD_INST_AMT_PAST_DUE_6M: 0.5657\n",
      "MIN_CREDIT_CARD_INST_AMT_PAST_DUE_12M: 0.565\n",
      "time: 1min 39s\n"
     ]
    }
   ],
   "source": [
    "baseline = result[\"auc_mean\"]\n",
    "to_drop = []\n",
    "\n",
    "for c in new_cols:\n",
    "    auc = quick_model(X=df, \n",
    "                     y=df[\"TARGET\"], \n",
    "                     usecols=all_cols, \n",
    "                     dropcols=[c], \n",
    "                     n_estimators=100, \n",
    "                     num_leaves=13, \n",
    "                     folds=3)[\"auc_mean\"]\n",
    "    if auc >= baseline: to_drop.append(c)\n",
    "    print(c + \": \" + str(round(auc, 4)))"
   ]
  },
  {
   "cell_type": "markdown",
   "metadata": {},
   "source": [
    "Aggregates to be dropped"
   ]
  },
  {
   "cell_type": "code",
   "execution_count": 178,
   "metadata": {},
   "outputs": [
    {
     "data": {
      "text/plain": [
       "['COUNT_OVERDUE_6M',\n",
       " 'COUNT_OVERDUE_12M',\n",
       " 'MIN_CREDIT_CARD_INST_AMT_PAST_DUE_6M']"
      ]
     },
     "execution_count": 178,
     "metadata": {},
     "output_type": "execute_result"
    },
    {
     "name": "stdout",
     "output_type": "stream",
     "text": [
      "time: 3.63 ms\n"
     ]
    }
   ],
   "source": [
    "to_drop"
   ]
  },
  {
   "cell_type": "markdown",
   "metadata": {},
   "source": [
    "Aggregates to be kept"
   ]
  },
  {
   "cell_type": "code",
   "execution_count": 179,
   "metadata": {},
   "outputs": [
    {
     "data": {
      "text/plain": [
       "['MAX_CREDIT_CARD_INST_AMT_PAST_DUE_6M',\n",
       " 'MIN_CREDIT_CARD_INST_AMT_PAST_DUE_12M']"
      ]
     },
     "execution_count": 179,
     "metadata": {},
     "output_type": "execute_result"
    },
    {
     "name": "stdout",
     "output_type": "stream",
     "text": [
      "time: 5 ms\n"
     ]
    }
   ],
   "source": [
    "[c for c in new_cols if c not in to_drop]"
   ]
  },
  {
   "cell_type": "markdown",
   "metadata": {},
   "source": [
    "Drop unimportant aggregates"
   ]
  },
  {
   "cell_type": "code",
   "execution_count": 180,
   "metadata": {},
   "outputs": [
    {
     "data": {
      "text/plain": [
       "(103558, 46)"
      ]
     },
     "execution_count": 180,
     "metadata": {},
     "output_type": "execute_result"
    },
    {
     "name": "stdout",
     "output_type": "stream",
     "text": [
      "time: 29.4 ms\n"
     ]
    }
   ],
   "source": [
    "credit_card_agg.drop(to_drop, axis=1, inplace=True)\n",
    "credit_card_agg.shape"
   ]
  },
  {
   "cell_type": "code",
   "execution_count": 181,
   "metadata": {},
   "outputs": [
    {
     "data": {
      "text/html": [
       "<div>\n",
       "<style scoped>\n",
       "    .dataframe tbody tr th:only-of-type {\n",
       "        vertical-align: middle;\n",
       "    }\n",
       "\n",
       "    .dataframe tbody tr th {\n",
       "        vertical-align: top;\n",
       "    }\n",
       "\n",
       "    .dataframe thead th {\n",
       "        text-align: right;\n",
       "    }\n",
       "</style>\n",
       "<table border=\"1\" class=\"dataframe\">\n",
       "  <thead>\n",
       "    <tr style=\"text-align: right;\">\n",
       "      <th></th>\n",
       "      <th>SK_ID_CURR</th>\n",
       "      <th>MAX_CREDIT_CARD_SK_DPD_6M</th>\n",
       "      <th>MAX_CREDIT_CARD_SK_DPD_12M</th>\n",
       "      <th>MAX_AMT_DRAWINGS_CURRENT_6M</th>\n",
       "      <th>MAX_AMT_DRAWINGS_CURRENT_12M</th>\n",
       "      <th>MAX_AMT_INST_MIN_REGULARITY_6M</th>\n",
       "      <th>MAX_AMT_INST_MIN_REGULARITY_12M</th>\n",
       "      <th>MAX_CNT_DRAWINGS_POS_CURRENT_6M</th>\n",
       "      <th>MAX_CNT_DRAWINGS_POS_CURRENT_12M</th>\n",
       "      <th>SUM_CC_PAYMENT_DIFF_12M</th>\n",
       "      <th>DIFF_AVG_BALANCE_6M_12M</th>\n",
       "      <th>AVG_BALANCE_6M</th>\n",
       "      <th>AVG_UTILIZATION_6M</th>\n",
       "      <th>AVG_BALANCE</th>\n",
       "      <th>MAX_BALANCE</th>\n",
       "      <th>SUM_BALANCE</th>\n",
       "      <th>MAX_MONTHS_BALANCE</th>\n",
       "      <th>MIN_MONTHS_BALANCE</th>\n",
       "      <th>RANGE_MONTHS_BALANCE</th>\n",
       "      <th>AVG_UTILIZATION</th>\n",
       "      <th>MAX_UTILIZATION</th>\n",
       "      <th>AVG_BALANCE_WEIGHTED</th>\n",
       "      <th>MAX_BALANCE_WEIGHTED</th>\n",
       "      <th>SUM_BALANCE_WEIGHTED</th>\n",
       "      <th>AVG_UTILIZATION_WEIGHTED</th>\n",
       "      <th>MAX_UTILIZATION_WEIGHTED</th>\n",
       "      <th>MAX_DPD_WEIGHTED</th>\n",
       "      <th>MAX_DPD_DEF_WEIGHTED</th>\n",
       "      <th>SUM_CNT_DRAWINGS_CURRENT</th>\n",
       "      <th>AVG_CNT_DRAWINGS_CURRENT</th>\n",
       "      <th>MAX_CNT_DRAWINGS_CURRENT</th>\n",
       "      <th>SUM_AMT_DRAWINGS_CURRENT</th>\n",
       "      <th>AVG_AMT_DRAWINGS_CURRENT</th>\n",
       "      <th>MAX_AMT_DRAWINGS_CURRENT</th>\n",
       "      <th>MIN_AMT_PAYMENT_CURRENT_DIV_AMT_INST_MIN_REGULARITY</th>\n",
       "      <th>AVG_AMT_PAYMENT_CURRENT_DIV_AMT_INST_MIN_REGULARITY</th>\n",
       "      <th>MAX_AMT_PAYMENT_CURRENT_DIV_AMT_INST_MIN_REGULARITY</th>\n",
       "      <th>SUM_CNT_DRAWINGS_ATM_CURRENT_6M</th>\n",
       "      <th>SUM_AMT_DRAWINGS_ATM_CURRENT_6M</th>\n",
       "      <th>MAX_AMT_DRAWINGS_ATM_CURRENT_6M</th>\n",
       "      <th>MAX_CNT_DRAWINGS_ATM_CURRENT_6M</th>\n",
       "      <th>MAX_AMT_RECEIVABLE_DIV_AMT_RECEIVABLE_PRINCIPAL_6M</th>\n",
       "      <th>MAX_UTILIZATION_6M</th>\n",
       "      <th>MAX_UTILIZATION_3M</th>\n",
       "      <th>MAX_CREDIT_CARD_INST_AMT_PAST_DUE_6M</th>\n",
       "      <th>MIN_CREDIT_CARD_INST_AMT_PAST_DUE_12M</th>\n",
       "    </tr>\n",
       "  </thead>\n",
       "  <tbody>\n",
       "    <tr>\n",
       "      <th>0</th>\n",
       "      <td>100006</td>\n",
       "      <td>0.0</td>\n",
       "      <td>0.0</td>\n",
       "      <td>0.0</td>\n",
       "      <td>0.0</td>\n",
       "      <td>0.0</td>\n",
       "      <td>0.0</td>\n",
       "      <td>NaN</td>\n",
       "      <td>NaN</td>\n",
       "      <td>0.0</td>\n",
       "      <td>NaN</td>\n",
       "      <td>0.0</td>\n",
       "      <td>0.0</td>\n",
       "      <td>0.000000</td>\n",
       "      <td>0.00</td>\n",
       "      <td>0.000</td>\n",
       "      <td>6.0</td>\n",
       "      <td>1.0</td>\n",
       "      <td>5.0</td>\n",
       "      <td>0.000000</td>\n",
       "      <td>0.00000</td>\n",
       "      <td>0.000000</td>\n",
       "      <td>0.000000</td>\n",
       "      <td>0.000000</td>\n",
       "      <td>0.000000</td>\n",
       "      <td>0.000000</td>\n",
       "      <td>0.000000</td>\n",
       "      <td>0.000000</td>\n",
       "      <td>0.0</td>\n",
       "      <td>0.000000</td>\n",
       "      <td>0.0</td>\n",
       "      <td>0.0</td>\n",
       "      <td>0.000000</td>\n",
       "      <td>0.0</td>\n",
       "      <td>NaN</td>\n",
       "      <td>NaN</td>\n",
       "      <td>NaN</td>\n",
       "      <td>0.0</td>\n",
       "      <td>0.0</td>\n",
       "      <td>NaN</td>\n",
       "      <td>NaN</td>\n",
       "      <td>NaN</td>\n",
       "      <td>0.0</td>\n",
       "      <td>0.0</td>\n",
       "      <td>NaN</td>\n",
       "      <td>NaN</td>\n",
       "    </tr>\n",
       "    <tr>\n",
       "      <th>1</th>\n",
       "      <td>100011</td>\n",
       "      <td>0.0</td>\n",
       "      <td>0.0</td>\n",
       "      <td>0.0</td>\n",
       "      <td>0.0</td>\n",
       "      <td>0.0</td>\n",
       "      <td>0.0</td>\n",
       "      <td>0.0</td>\n",
       "      <td>0.0</td>\n",
       "      <td>0.0</td>\n",
       "      <td>0.0</td>\n",
       "      <td>0.0</td>\n",
       "      <td>0.0</td>\n",
       "      <td>54482.111149</td>\n",
       "      <td>189000.00</td>\n",
       "      <td>4031676.225</td>\n",
       "      <td>75.0</td>\n",
       "      <td>2.0</td>\n",
       "      <td>73.0</td>\n",
       "      <td>0.302678</td>\n",
       "      <td>1.05000</td>\n",
       "      <td>891.528045</td>\n",
       "      <td>2520.000000</td>\n",
       "      <td>65973.075311</td>\n",
       "      <td>0.004953</td>\n",
       "      <td>0.014000</td>\n",
       "      <td>0.000000</td>\n",
       "      <td>0.000000</td>\n",
       "      <td>4.0</td>\n",
       "      <td>0.054054</td>\n",
       "      <td>4.0</td>\n",
       "      <td>180000.0</td>\n",
       "      <td>2432.432432</td>\n",
       "      <td>180000.0</td>\n",
       "      <td>1.0</td>\n",
       "      <td>inf</td>\n",
       "      <td>inf</td>\n",
       "      <td>0.0</td>\n",
       "      <td>0.0</td>\n",
       "      <td>0.0</td>\n",
       "      <td>0.0</td>\n",
       "      <td>NaN</td>\n",
       "      <td>0.0</td>\n",
       "      <td>0.0</td>\n",
       "      <td>NaN</td>\n",
       "      <td>NaN</td>\n",
       "    </tr>\n",
       "    <tr>\n",
       "      <th>2</th>\n",
       "      <td>100013</td>\n",
       "      <td>0.0</td>\n",
       "      <td>0.0</td>\n",
       "      <td>0.0</td>\n",
       "      <td>0.0</td>\n",
       "      <td>0.0</td>\n",
       "      <td>0.0</td>\n",
       "      <td>0.0</td>\n",
       "      <td>0.0</td>\n",
       "      <td>0.0</td>\n",
       "      <td>0.0</td>\n",
       "      <td>0.0</td>\n",
       "      <td>0.0</td>\n",
       "      <td>18159.919219</td>\n",
       "      <td>161420.22</td>\n",
       "      <td>1743352.245</td>\n",
       "      <td>96.0</td>\n",
       "      <td>1.0</td>\n",
       "      <td>95.0</td>\n",
       "      <td>0.115301</td>\n",
       "      <td>1.02489</td>\n",
       "      <td>230.066978</td>\n",
       "      <td>1944.407308</td>\n",
       "      <td>22086.429911</td>\n",
       "      <td>0.001461</td>\n",
       "      <td>0.012345</td>\n",
       "      <td>0.014493</td>\n",
       "      <td>0.014493</td>\n",
       "      <td>23.0</td>\n",
       "      <td>0.239583</td>\n",
       "      <td>7.0</td>\n",
       "      <td>571500.0</td>\n",
       "      <td>5953.125000</td>\n",
       "      <td>157500.0</td>\n",
       "      <td>0.0</td>\n",
       "      <td>inf</td>\n",
       "      <td>inf</td>\n",
       "      <td>0.0</td>\n",
       "      <td>0.0</td>\n",
       "      <td>0.0</td>\n",
       "      <td>0.0</td>\n",
       "      <td>NaN</td>\n",
       "      <td>0.0</td>\n",
       "      <td>0.0</td>\n",
       "      <td>NaN</td>\n",
       "      <td>NaN</td>\n",
       "    </tr>\n",
       "    <tr>\n",
       "      <th>3</th>\n",
       "      <td>100021</td>\n",
       "      <td>0.0</td>\n",
       "      <td>0.0</td>\n",
       "      <td>0.0</td>\n",
       "      <td>0.0</td>\n",
       "      <td>0.0</td>\n",
       "      <td>0.0</td>\n",
       "      <td>NaN</td>\n",
       "      <td>NaN</td>\n",
       "      <td>0.0</td>\n",
       "      <td>0.0</td>\n",
       "      <td>0.0</td>\n",
       "      <td>0.0</td>\n",
       "      <td>0.000000</td>\n",
       "      <td>0.00</td>\n",
       "      <td>0.000</td>\n",
       "      <td>18.0</td>\n",
       "      <td>2.0</td>\n",
       "      <td>16.0</td>\n",
       "      <td>0.000000</td>\n",
       "      <td>0.00000</td>\n",
       "      <td>0.000000</td>\n",
       "      <td>0.000000</td>\n",
       "      <td>0.000000</td>\n",
       "      <td>0.000000</td>\n",
       "      <td>0.000000</td>\n",
       "      <td>0.000000</td>\n",
       "      <td>0.000000</td>\n",
       "      <td>0.0</td>\n",
       "      <td>0.000000</td>\n",
       "      <td>0.0</td>\n",
       "      <td>0.0</td>\n",
       "      <td>0.000000</td>\n",
       "      <td>0.0</td>\n",
       "      <td>NaN</td>\n",
       "      <td>NaN</td>\n",
       "      <td>NaN</td>\n",
       "      <td>0.0</td>\n",
       "      <td>0.0</td>\n",
       "      <td>NaN</td>\n",
       "      <td>NaN</td>\n",
       "      <td>NaN</td>\n",
       "      <td>0.0</td>\n",
       "      <td>0.0</td>\n",
       "      <td>NaN</td>\n",
       "      <td>NaN</td>\n",
       "    </tr>\n",
       "    <tr>\n",
       "      <th>4</th>\n",
       "      <td>100023</td>\n",
       "      <td>0.0</td>\n",
       "      <td>0.0</td>\n",
       "      <td>0.0</td>\n",
       "      <td>0.0</td>\n",
       "      <td>0.0</td>\n",
       "      <td>0.0</td>\n",
       "      <td>NaN</td>\n",
       "      <td>NaN</td>\n",
       "      <td>0.0</td>\n",
       "      <td>0.0</td>\n",
       "      <td>0.0</td>\n",
       "      <td>0.0</td>\n",
       "      <td>0.000000</td>\n",
       "      <td>0.00</td>\n",
       "      <td>0.000</td>\n",
       "      <td>11.0</td>\n",
       "      <td>4.0</td>\n",
       "      <td>7.0</td>\n",
       "      <td>0.000000</td>\n",
       "      <td>0.00000</td>\n",
       "      <td>0.000000</td>\n",
       "      <td>0.000000</td>\n",
       "      <td>0.000000</td>\n",
       "      <td>0.000000</td>\n",
       "      <td>0.000000</td>\n",
       "      <td>0.000000</td>\n",
       "      <td>0.000000</td>\n",
       "      <td>0.0</td>\n",
       "      <td>0.000000</td>\n",
       "      <td>0.0</td>\n",
       "      <td>0.0</td>\n",
       "      <td>0.000000</td>\n",
       "      <td>0.0</td>\n",
       "      <td>NaN</td>\n",
       "      <td>NaN</td>\n",
       "      <td>NaN</td>\n",
       "      <td>0.0</td>\n",
       "      <td>0.0</td>\n",
       "      <td>NaN</td>\n",
       "      <td>NaN</td>\n",
       "      <td>NaN</td>\n",
       "      <td>0.0</td>\n",
       "      <td>NaN</td>\n",
       "      <td>NaN</td>\n",
       "      <td>NaN</td>\n",
       "    </tr>\n",
       "  </tbody>\n",
       "</table>\n",
       "</div>"
      ],
      "text/plain": [
       "   SK_ID_CURR  MAX_CREDIT_CARD_SK_DPD_6M  MAX_CREDIT_CARD_SK_DPD_12M  \\\n",
       "0      100006                        0.0                         0.0   \n",
       "1      100011                        0.0                         0.0   \n",
       "2      100013                        0.0                         0.0   \n",
       "3      100021                        0.0                         0.0   \n",
       "4      100023                        0.0                         0.0   \n",
       "\n",
       "   MAX_AMT_DRAWINGS_CURRENT_6M  MAX_AMT_DRAWINGS_CURRENT_12M  \\\n",
       "0                          0.0                           0.0   \n",
       "1                          0.0                           0.0   \n",
       "2                          0.0                           0.0   \n",
       "3                          0.0                           0.0   \n",
       "4                          0.0                           0.0   \n",
       "\n",
       "   MAX_AMT_INST_MIN_REGULARITY_6M  MAX_AMT_INST_MIN_REGULARITY_12M  \\\n",
       "0                             0.0                              0.0   \n",
       "1                             0.0                              0.0   \n",
       "2                             0.0                              0.0   \n",
       "3                             0.0                              0.0   \n",
       "4                             0.0                              0.0   \n",
       "\n",
       "   MAX_CNT_DRAWINGS_POS_CURRENT_6M  MAX_CNT_DRAWINGS_POS_CURRENT_12M  \\\n",
       "0                              NaN                               NaN   \n",
       "1                              0.0                               0.0   \n",
       "2                              0.0                               0.0   \n",
       "3                              NaN                               NaN   \n",
       "4                              NaN                               NaN   \n",
       "\n",
       "   SUM_CC_PAYMENT_DIFF_12M  DIFF_AVG_BALANCE_6M_12M  AVG_BALANCE_6M  \\\n",
       "0                      0.0                      NaN             0.0   \n",
       "1                      0.0                      0.0             0.0   \n",
       "2                      0.0                      0.0             0.0   \n",
       "3                      0.0                      0.0             0.0   \n",
       "4                      0.0                      0.0             0.0   \n",
       "\n",
       "   AVG_UTILIZATION_6M   AVG_BALANCE  MAX_BALANCE  SUM_BALANCE  \\\n",
       "0                 0.0      0.000000         0.00        0.000   \n",
       "1                 0.0  54482.111149    189000.00  4031676.225   \n",
       "2                 0.0  18159.919219    161420.22  1743352.245   \n",
       "3                 0.0      0.000000         0.00        0.000   \n",
       "4                 0.0      0.000000         0.00        0.000   \n",
       "\n",
       "   MAX_MONTHS_BALANCE  MIN_MONTHS_BALANCE  RANGE_MONTHS_BALANCE  \\\n",
       "0                 6.0                 1.0                   5.0   \n",
       "1                75.0                 2.0                  73.0   \n",
       "2                96.0                 1.0                  95.0   \n",
       "3                18.0                 2.0                  16.0   \n",
       "4                11.0                 4.0                   7.0   \n",
       "\n",
       "   AVG_UTILIZATION  MAX_UTILIZATION  AVG_BALANCE_WEIGHTED  \\\n",
       "0         0.000000          0.00000              0.000000   \n",
       "1         0.302678          1.05000            891.528045   \n",
       "2         0.115301          1.02489            230.066978   \n",
       "3         0.000000          0.00000              0.000000   \n",
       "4         0.000000          0.00000              0.000000   \n",
       "\n",
       "   MAX_BALANCE_WEIGHTED  SUM_BALANCE_WEIGHTED  AVG_UTILIZATION_WEIGHTED  \\\n",
       "0              0.000000              0.000000                  0.000000   \n",
       "1           2520.000000          65973.075311                  0.004953   \n",
       "2           1944.407308          22086.429911                  0.001461   \n",
       "3              0.000000              0.000000                  0.000000   \n",
       "4              0.000000              0.000000                  0.000000   \n",
       "\n",
       "   MAX_UTILIZATION_WEIGHTED  MAX_DPD_WEIGHTED  MAX_DPD_DEF_WEIGHTED  \\\n",
       "0                  0.000000          0.000000              0.000000   \n",
       "1                  0.014000          0.000000              0.000000   \n",
       "2                  0.012345          0.014493              0.014493   \n",
       "3                  0.000000          0.000000              0.000000   \n",
       "4                  0.000000          0.000000              0.000000   \n",
       "\n",
       "   SUM_CNT_DRAWINGS_CURRENT  AVG_CNT_DRAWINGS_CURRENT  \\\n",
       "0                       0.0                  0.000000   \n",
       "1                       4.0                  0.054054   \n",
       "2                      23.0                  0.239583   \n",
       "3                       0.0                  0.000000   \n",
       "4                       0.0                  0.000000   \n",
       "\n",
       "   MAX_CNT_DRAWINGS_CURRENT  SUM_AMT_DRAWINGS_CURRENT  \\\n",
       "0                       0.0                       0.0   \n",
       "1                       4.0                  180000.0   \n",
       "2                       7.0                  571500.0   \n",
       "3                       0.0                       0.0   \n",
       "4                       0.0                       0.0   \n",
       "\n",
       "   AVG_AMT_DRAWINGS_CURRENT  MAX_AMT_DRAWINGS_CURRENT  \\\n",
       "0                  0.000000                       0.0   \n",
       "1               2432.432432                  180000.0   \n",
       "2               5953.125000                  157500.0   \n",
       "3                  0.000000                       0.0   \n",
       "4                  0.000000                       0.0   \n",
       "\n",
       "   MIN_AMT_PAYMENT_CURRENT_DIV_AMT_INST_MIN_REGULARITY  \\\n",
       "0                                                NaN     \n",
       "1                                                1.0     \n",
       "2                                                0.0     \n",
       "3                                                NaN     \n",
       "4                                                NaN     \n",
       "\n",
       "   AVG_AMT_PAYMENT_CURRENT_DIV_AMT_INST_MIN_REGULARITY  \\\n",
       "0                                                NaN     \n",
       "1                                                inf     \n",
       "2                                                inf     \n",
       "3                                                NaN     \n",
       "4                                                NaN     \n",
       "\n",
       "   MAX_AMT_PAYMENT_CURRENT_DIV_AMT_INST_MIN_REGULARITY  \\\n",
       "0                                                NaN     \n",
       "1                                                inf     \n",
       "2                                                inf     \n",
       "3                                                NaN     \n",
       "4                                                NaN     \n",
       "\n",
       "   SUM_CNT_DRAWINGS_ATM_CURRENT_6M  SUM_AMT_DRAWINGS_ATM_CURRENT_6M  \\\n",
       "0                              0.0                              0.0   \n",
       "1                              0.0                              0.0   \n",
       "2                              0.0                              0.0   \n",
       "3                              0.0                              0.0   \n",
       "4                              0.0                              0.0   \n",
       "\n",
       "   MAX_AMT_DRAWINGS_ATM_CURRENT_6M  MAX_CNT_DRAWINGS_ATM_CURRENT_6M  \\\n",
       "0                              NaN                              NaN   \n",
       "1                              0.0                              0.0   \n",
       "2                              0.0                              0.0   \n",
       "3                              NaN                              NaN   \n",
       "4                              NaN                              NaN   \n",
       "\n",
       "   MAX_AMT_RECEIVABLE_DIV_AMT_RECEIVABLE_PRINCIPAL_6M  MAX_UTILIZATION_6M  \\\n",
       "0                                                NaN                  0.0   \n",
       "1                                                NaN                  0.0   \n",
       "2                                                NaN                  0.0   \n",
       "3                                                NaN                  0.0   \n",
       "4                                                NaN                  0.0   \n",
       "\n",
       "   MAX_UTILIZATION_3M  MAX_CREDIT_CARD_INST_AMT_PAST_DUE_6M  \\\n",
       "0                 0.0                                   NaN   \n",
       "1                 0.0                                   NaN   \n",
       "2                 0.0                                   NaN   \n",
       "3                 0.0                                   NaN   \n",
       "4                 NaN                                   NaN   \n",
       "\n",
       "   MIN_CREDIT_CARD_INST_AMT_PAST_DUE_12M  \n",
       "0                                    NaN  \n",
       "1                                    NaN  \n",
       "2                                    NaN  \n",
       "3                                    NaN  \n",
       "4                                    NaN  "
      ]
     },
     "execution_count": 181,
     "metadata": {},
     "output_type": "execute_result"
    },
    {
     "name": "stdout",
     "output_type": "stream",
     "text": [
      "time: 88 ms\n"
     ]
    }
   ],
   "source": [
    "credit_card_agg.head()"
   ]
  },
  {
   "cell_type": "markdown",
   "metadata": {},
   "source": [
    "#### Write new aggregates to file\n",
    "\n",
    "Definitions should also be added to preprocessing script"
   ]
  },
  {
   "cell_type": "code",
   "execution_count": 182,
   "metadata": {},
   "outputs": [
    {
     "name": "stdout",
     "output_type": "stream",
     "text": [
      "time: 7.76 s\n"
     ]
    }
   ],
   "source": [
    "credit_card_agg.to_csv(path + \"credit_card_agg.csv\", index=False, header=True)"
   ]
  },
  {
   "cell_type": "markdown",
   "metadata": {},
   "source": [
    "# Previous application"
   ]
  },
  {
   "cell_type": "markdown",
   "metadata": {},
   "source": [
    "#### Load data"
   ]
  },
  {
   "cell_type": "markdown",
   "metadata": {},
   "source": [
    "Pull in performance data"
   ]
  },
  {
   "cell_type": "code",
   "execution_count": 85,
   "metadata": {},
   "outputs": [
    {
     "name": "stdout",
     "output_type": "stream",
     "text": [
      "time: 9.18 s\n"
     ]
    }
   ],
   "source": [
    "frame = pd.read_csv(path + \"train.csv\", usecols=[\"SK_ID_CURR\", \"TARGET\"])"
   ]
  },
  {
   "cell_type": "markdown",
   "metadata": {},
   "source": [
    "Load raw bureau data for calculating new aggregates"
   ]
  },
  {
   "cell_type": "code",
   "execution_count": 24,
   "metadata": {},
   "outputs": [
    {
     "name": "stdout",
     "output_type": "stream",
     "text": [
      "time: 18.1 s\n"
     ]
    }
   ],
   "source": [
    "previous_application = pd.read_csv(path + \"previous_application.csv\")"
   ]
  },
  {
   "cell_type": "markdown",
   "metadata": {},
   "source": [
    "#### Calculate sentinel features"
   ]
  },
  {
   "cell_type": "code",
   "execution_count": 25,
   "metadata": {},
   "outputs": [
    {
     "name": "stdout",
     "output_type": "stream",
     "text": [
      "time: 12.1 s\n"
     ]
    }
   ],
   "source": [
    "previous_application[\"DAYS_FIRST_DRAWING_SENTINEL\"] = (previous_application[\"DAYS_FIRST_DRAWING\"] == 365243).astype(int)\n",
    "previous_application[\"DAYS_FIRST_DUE_SENTINEL\"] = (previous_application[\"DAYS_FIRST_DUE\"] == 365243).astype(int)\n",
    "previous_application[\"DAYS_LAST_DUE_1ST_VERSION_SENTINEL\"] = (previous_application[\"DAYS_LAST_DUE_1ST_VERSION\"] == 365243).astype(int)\n",
    "previous_application[\"DAYS_LAST_DUE_SENTINEL\"] = (previous_application[\"DAYS_LAST_DUE\"] == 365243).astype(int)\n",
    "previous_application[\"DAYS_TERMINATION_SENTINEL\"] = (previous_application[\"DAYS_TERMINATION\"] == 365243).astype(int)"
   ]
  },
  {
   "cell_type": "markdown",
   "metadata": {},
   "source": [
    "#### Aggregation function"
   ]
  },
  {
   "cell_type": "code",
   "execution_count": 152,
   "metadata": {},
   "outputs": [
    {
     "name": "stdout",
     "output_type": "stream",
     "text": [
      "time: 26.4 ms\n"
     ]
    }
   ],
   "source": [
    "def previous_agg_func(g):\n",
    "    mask6 = g[\"DAYS_DECISION\"] >= -180\n",
    "    mask12 = g[\"DAYS_DECISION\"] >= -360\n",
    "    mask24 = g[\"DAYS_DECISION\"] >= -720\n",
    "    \n",
    "    d = {\n",
    "\n",
    "    }\n",
    "\n",
    "    return pd.Series(d)"
   ]
  },
  {
   "cell_type": "markdown",
   "metadata": {},
   "source": [
    "#### Process data and join"
   ]
  },
  {
   "cell_type": "markdown",
   "metadata": {},
   "source": [
    "Calculate new aggregates"
   ]
  },
  {
   "cell_type": "code",
   "execution_count": 153,
   "metadata": {},
   "outputs": [
    {
     "name": "stdout",
     "output_type": "stream",
     "text": [
      "time: 1h 25min 2s\n"
     ]
    }
   ],
   "source": [
    "previous_agg_new = previous_application.groupby(\"SK_ID_CURR\").apply(previous_agg_func).reset_index()\n",
    "new_cols = [c for c in previous_agg_new.columns if c != \"SK_ID_CURR\"]"
   ]
  },
  {
   "cell_type": "code",
   "execution_count": 154,
   "metadata": {},
   "outputs": [
    {
     "data": {
      "text/plain": [
       "['AVG_PREV_AMT_CREDIT_DIV_AMT_ANNUITY_6M',\n",
       " 'MIN_PREV_AMT_CREDIT_DIV_AMT_ANNUITY_6M',\n",
       " 'MAX_PREV_AMT_CREDIT_DIV_AMT_ANNUITY_6M',\n",
       " 'AVG_PREV_AMT_CREDIT_DIV_AMT_GOODS_PRICE_6M',\n",
       " 'MIN_PREV_AMT_CREDIT_DIV_AMT_GOODS_PRICE_6M',\n",
       " 'MAX_PREV_AMT_CREDIT_DIV_AMT_GOODS_PRICE_6M',\n",
       " 'AVG_PREV_AMT_CREDIT_PLUS_AMT_ANNUITY_6M',\n",
       " 'MIN_PREV_AMT_CREDIT_PLUS_AMT_ANNUITY_6M',\n",
       " 'MAX_PREV_AMT_CREDIT_PLUS_AMT_ANNUITY_6M']"
      ]
     },
     "execution_count": 154,
     "metadata": {},
     "output_type": "execute_result"
    },
    {
     "name": "stdout",
     "output_type": "stream",
     "text": [
      "time: 3.24 ms\n"
     ]
    }
   ],
   "source": [
    "new_cols"
   ]
  },
  {
   "cell_type": "markdown",
   "metadata": {},
   "source": [
    "Load old aggregates and join with new"
   ]
  },
  {
   "cell_type": "code",
   "execution_count": 155,
   "metadata": {},
   "outputs": [
    {
     "name": "stdout",
     "output_type": "stream",
     "text": [
      "time: 28.9 s\n"
     ]
    }
   ],
   "source": [
    "previous_agg = pd.read_csv(path + \"previous_agg.csv\")\n",
    "previous_agg = pd.merge(previous_agg, previous_agg_new, how=\"left\", on=\"SK_ID_CURR\")"
   ]
  },
  {
   "cell_type": "markdown",
   "metadata": {},
   "source": [
    "Merge with performance data"
   ]
  },
  {
   "cell_type": "code",
   "execution_count": 156,
   "metadata": {},
   "outputs": [
    {
     "data": {
      "text/html": [
       "<div>\n",
       "<style scoped>\n",
       "    .dataframe tbody tr th:only-of-type {\n",
       "        vertical-align: middle;\n",
       "    }\n",
       "\n",
       "    .dataframe tbody tr th {\n",
       "        vertical-align: top;\n",
       "    }\n",
       "\n",
       "    .dataframe thead th {\n",
       "        text-align: right;\n",
       "    }\n",
       "</style>\n",
       "<table border=\"1\" class=\"dataframe\">\n",
       "  <thead>\n",
       "    <tr style=\"text-align: right;\">\n",
       "      <th></th>\n",
       "      <th>SK_ID_CURR</th>\n",
       "      <th>TARGET</th>\n",
       "      <th>MIN_PREV_AMT_ANNUITY_12M</th>\n",
       "      <th>MIN_PREV_AMT_ANNUITY_24M</th>\n",
       "      <th>MIN_PREV_PROP_APPROVED_12M</th>\n",
       "      <th>AVG_SYNTH_TARGET_12M</th>\n",
       "      <th>AVG_PREV_PROP_APPROVED_12M</th>\n",
       "      <th>AVG_PREV_PROP_APPROVED_24M</th>\n",
       "      <th>MAX_PREV_PROP_APPROVED_12M</th>\n",
       "      <th>MAX_PREV_PROP_APPROVED_24M</th>\n",
       "      <th>COUNT_PREV_APP</th>\n",
       "      <th>MIN_PREV_DAYS_TERMINATION</th>\n",
       "      <th>MAX_PREV_DAYS_TERMINATION</th>\n",
       "      <th>AVG_PREV_DAYS_TERMINATION</th>\n",
       "      <th>RANGE_PREV_DAYS_TERMINATION</th>\n",
       "      <th>MIN_PREV_AMT_CREDIT</th>\n",
       "      <th>MAX_PREV_AMT_CREDIT</th>\n",
       "      <th>AVG_PREV_AMT_CREDIT</th>\n",
       "      <th>MIN_PREV_AMT_CREDIT_WEIGHTED</th>\n",
       "      <th>MAX_PREV_AMT_CREDIT_WEIGHTED</th>\n",
       "      <th>AVG_PREV_AMT_CREDIT_WEIGHTED</th>\n",
       "      <th>MIN_PREV_AMT_CREDIT_DIV_ANNUITY</th>\n",
       "      <th>MAX_PREV_AMT_CREDIT_DIV_ANNUITY</th>\n",
       "      <th>AVG_PREV_AMT_CREDIT_DIV_ANNUITY</th>\n",
       "      <th>MIN_PREV_AMT_CREDIT_DIV_ANNUITY_WEIGHTED</th>\n",
       "      <th>MAX_PREV_AMT_CREDIT_DIV_ANNUITY_WEIGHTED</th>\n",
       "      <th>AVG_PREV_AMT_CREDIT_DIV_ANNUITY_WEIGHTED</th>\n",
       "      <th>MIN_PREV_AMT_ANNUITY</th>\n",
       "      <th>MAX_PREV_AMT_ANNUITY</th>\n",
       "      <th>AVG_PREV_AMT_ANNUITY</th>\n",
       "      <th>MIN_PREV_AMT_ANNUITY_WEIGHTED</th>\n",
       "      <th>MAX_PREV_AMT_ANNUITY_WEIGHTED</th>\n",
       "      <th>AVG_PREV_AMT_ANNUITY_WEIGHTED</th>\n",
       "      <th>MIN_DAYS_DECISION</th>\n",
       "      <th>MAX_DAYS_DECISION</th>\n",
       "      <th>RANGE_DAYS_DECISION</th>\n",
       "      <th>SUM_DAYS_LAST_DUE_NULL</th>\n",
       "      <th>AVG_DAYS_LAST_DUE_NULL</th>\n",
       "      <th>AVG_PREV_REQ_AMOUNT_WEIGHTED</th>\n",
       "      <th>MAX_PREV_REQ_AMOUNT_WEIGHTED</th>\n",
       "      <th>AVG_PREV_REQ_AMOUNT</th>\n",
       "      <th>MAX_PREV_REQ_AMOUNT</th>\n",
       "      <th>AVG_PREV_RATE_DOWNPAYMENT_WEIGHTED</th>\n",
       "      <th>AVG_PREV_PROP_APPROVED_WEIGHTED</th>\n",
       "      <th>MAX_PREV_PROP_APPROVED_WEIGHTED</th>\n",
       "      <th>AVG_PREV_RATE_DOWNPAYMENT</th>\n",
       "      <th>AVG_PREV_PROP_APPROVED</th>\n",
       "      <th>MAX_PREV_PROP_APPROVED</th>\n",
       "      <th>MIN_PREV_PROP_APPROVED</th>\n",
       "      <th>AVG_PREV_INT_RATE</th>\n",
       "      <th>SUM_PREV_URGENT_NEEDS</th>\n",
       "      <th>SUM_PREV_REPAIRS</th>\n",
       "      <th>SUM_PREV_OTHER</th>\n",
       "      <th>SUM_PREV_LIMIT_REJECT</th>\n",
       "      <th>SUM_REFUSED_CONTRACT</th>\n",
       "      <th>SUM_CANC_CONTRACT</th>\n",
       "      <th>SUM_APPR_CONTRACT</th>\n",
       "      <th>SUM_PREV_HC_REJECT</th>\n",
       "      <th>SUM_PREV_INSURE_REQ</th>\n",
       "      <th>COUNT_PREV_WALK_IN</th>\n",
       "      <th>COUNT_PREV_HIGH_YIELD</th>\n",
       "      <th>COUNT_PREV_LOW_YIELD</th>\n",
       "      <th>AVG_SYNTH_TARGET</th>\n",
       "      <th>SUM_SYNTH_TARGET_WEIGHTED</th>\n",
       "      <th>SUM_SYNTH_TARGET</th>\n",
       "      <th>MAX_SYNTH_TARGET</th>\n",
       "      <th>MIN_SYNTH_TARGET</th>\n",
       "      <th>RANGE_SYNTH_TARGET</th>\n",
       "      <th>SUM_DAYS_LAST_DUE_1ST_VERSION_EQ_DAYS_LAST_DUE</th>\n",
       "      <th>SUM_DAYS_FIRST_DRAWING_SENTINEL</th>\n",
       "      <th>SUM_DAYS_FIRST_DRAWING_SENTINEL_WEIGHTED</th>\n",
       "      <th>MAX_DAYS_FIRST_DRAWING_SENTINEL_WEIGHTED</th>\n",
       "      <th>SUM_DAYS_LAST_DUE_LT_FIRST_VERSION</th>\n",
       "      <th>MIN_RATE_INTEREST_PRIMARY_12M</th>\n",
       "      <th>AVG_RATE_INTEREST_PRIVILEGED_12M</th>\n",
       "      <th>SUM_REFUSED_CONTRACT_6M</th>\n",
       "      <th>SUM_PRODUCT_COMBINATION_POS_HOUSE_INTEREST_12M</th>\n",
       "      <th>SUM_PRODUCT_COMBINATION_POS_MOBILE_INTEREST_12M</th>\n",
       "      <th>SUM_NAME_GOODS_CATEGORY_XNA_6M</th>\n",
       "      <th>SUM_NAME_SELLER_INDUSTRY_XNA_6M</th>\n",
       "      <th>SUM_NAME_SELLER_INDUSTRY_CSTR_6M</th>\n",
       "      <th>SUM_NAME_PAYMENT_TYPE_XNA_6M</th>\n",
       "      <th>COUNT_NAME_CLIENT_TYPE_REPEATER_12M</th>\n",
       "      <th>COUNT_NAME_CLIENT_TYPE_NEW_12M</th>\n",
       "      <th>AVG_PREV_AMT_CREDIT_DIV_AMT_ANNUITY_6M</th>\n",
       "      <th>MIN_PREV_AMT_CREDIT_DIV_AMT_ANNUITY_6M</th>\n",
       "      <th>MAX_PREV_AMT_CREDIT_DIV_AMT_ANNUITY_6M</th>\n",
       "      <th>AVG_PREV_AMT_CREDIT_DIV_AMT_GOODS_PRICE_6M</th>\n",
       "      <th>MIN_PREV_AMT_CREDIT_DIV_AMT_GOODS_PRICE_6M</th>\n",
       "      <th>MAX_PREV_AMT_CREDIT_DIV_AMT_GOODS_PRICE_6M</th>\n",
       "      <th>AVG_PREV_AMT_CREDIT_PLUS_AMT_ANNUITY_6M</th>\n",
       "      <th>MIN_PREV_AMT_CREDIT_PLUS_AMT_ANNUITY_6M</th>\n",
       "      <th>MAX_PREV_AMT_CREDIT_PLUS_AMT_ANNUITY_6M</th>\n",
       "    </tr>\n",
       "  </thead>\n",
       "  <tbody>\n",
       "    <tr>\n",
       "      <th>0</th>\n",
       "      <td>100002</td>\n",
       "      <td>1</td>\n",
       "      <td>NaN</td>\n",
       "      <td>9251.775</td>\n",
       "      <td>NaN</td>\n",
       "      <td>NaN</td>\n",
       "      <td>NaN</td>\n",
       "      <td>1.000000</td>\n",
       "      <td>NaN</td>\n",
       "      <td>1.000000</td>\n",
       "      <td>1.0</td>\n",
       "      <td>-17.0</td>\n",
       "      <td>-17.0</td>\n",
       "      <td>-17.000000</td>\n",
       "      <td>0.0</td>\n",
       "      <td>179055.0</td>\n",
       "      <td>179055.0</td>\n",
       "      <td>179055.00</td>\n",
       "      <td>295.470297</td>\n",
       "      <td>295.470297</td>\n",
       "      <td>295.470297</td>\n",
       "      <td>19.353584</td>\n",
       "      <td>19.353584</td>\n",
       "      <td>19.353584</td>\n",
       "      <td>0.031937</td>\n",
       "      <td>0.031937</td>\n",
       "      <td>0.031937</td>\n",
       "      <td>9251.775</td>\n",
       "      <td>9251.775</td>\n",
       "      <td>9251.775</td>\n",
       "      <td>15.266955</td>\n",
       "      <td>15.266955</td>\n",
       "      <td>15.266955</td>\n",
       "      <td>-606.0</td>\n",
       "      <td>-606.0</td>\n",
       "      <td>0.0</td>\n",
       "      <td>0.0</td>\n",
       "      <td>0.000000</td>\n",
       "      <td>295.470297</td>\n",
       "      <td>295.470297</td>\n",
       "      <td>179055.00</td>\n",
       "      <td>179055.0</td>\n",
       "      <td>0.000000</td>\n",
       "      <td>0.001650</td>\n",
       "      <td>0.001650</td>\n",
       "      <td>0.000000</td>\n",
       "      <td>1.000000</td>\n",
       "      <td>1.000000</td>\n",
       "      <td>1.000000</td>\n",
       "      <td>NaN</td>\n",
       "      <td>0.0</td>\n",
       "      <td>0.0</td>\n",
       "      <td>0.0</td>\n",
       "      <td>0.0</td>\n",
       "      <td>0.0</td>\n",
       "      <td>0.0</td>\n",
       "      <td>1.0</td>\n",
       "      <td>0.0</td>\n",
       "      <td>0.0</td>\n",
       "      <td>0.0</td>\n",
       "      <td>0.0</td>\n",
       "      <td>1.0</td>\n",
       "      <td>0.071974</td>\n",
       "      <td>0.000119</td>\n",
       "      <td>0.071974</td>\n",
       "      <td>0.071974</td>\n",
       "      <td>0.071974</td>\n",
       "      <td>0.000000</td>\n",
       "      <td>0.0</td>\n",
       "      <td>1.0</td>\n",
       "      <td>0.001650</td>\n",
       "      <td>0.001650</td>\n",
       "      <td>1.0</td>\n",
       "      <td>NaN</td>\n",
       "      <td>NaN</td>\n",
       "      <td>0.0</td>\n",
       "      <td>0.0</td>\n",
       "      <td>0.0</td>\n",
       "      <td>0.0</td>\n",
       "      <td>0.0</td>\n",
       "      <td>0.0</td>\n",
       "      <td>0.0</td>\n",
       "      <td>0.0</td>\n",
       "      <td>0.0</td>\n",
       "      <td>NaN</td>\n",
       "      <td>NaN</td>\n",
       "      <td>NaN</td>\n",
       "      <td>NaN</td>\n",
       "      <td>NaN</td>\n",
       "      <td>NaN</td>\n",
       "      <td>NaN</td>\n",
       "      <td>NaN</td>\n",
       "      <td>NaN</td>\n",
       "    </tr>\n",
       "    <tr>\n",
       "      <th>1</th>\n",
       "      <td>100003</td>\n",
       "      <td>0</td>\n",
       "      <td>NaN</td>\n",
       "      <td>NaN</td>\n",
       "      <td>NaN</td>\n",
       "      <td>NaN</td>\n",
       "      <td>NaN</td>\n",
       "      <td>NaN</td>\n",
       "      <td>NaN</td>\n",
       "      <td>NaN</td>\n",
       "      <td>3.0</td>\n",
       "      <td>-1976.0</td>\n",
       "      <td>-527.0</td>\n",
       "      <td>-1047.333333</td>\n",
       "      <td>1449.0</td>\n",
       "      <td>68053.5</td>\n",
       "      <td>1035882.0</td>\n",
       "      <td>484191.00</td>\n",
       "      <td>29.070269</td>\n",
       "      <td>1388.581769</td>\n",
       "      <td>612.903940</td>\n",
       "      <td>5.399568</td>\n",
       "      <td>10.531859</td>\n",
       "      <td>8.677472</td>\n",
       "      <td>0.004315</td>\n",
       "      <td>0.014118</td>\n",
       "      <td>0.008318</td>\n",
       "      <td>6737.310</td>\n",
       "      <td>98356.995</td>\n",
       "      <td>56553.990</td>\n",
       "      <td>2.877962</td>\n",
       "      <td>131.845838</td>\n",
       "      <td>70.901357</td>\n",
       "      <td>-2341.0</td>\n",
       "      <td>-746.0</td>\n",
       "      <td>1595.0</td>\n",
       "      <td>0.0</td>\n",
       "      <td>0.000000</td>\n",
       "      <td>547.812073</td>\n",
       "      <td>1206.434316</td>\n",
       "      <td>435436.50</td>\n",
       "      <td>900000.0</td>\n",
       "      <td>0.000021</td>\n",
       "      <td>0.001071</td>\n",
       "      <td>0.001543</td>\n",
       "      <td>0.050030</td>\n",
       "      <td>1.057664</td>\n",
       "      <td>1.150980</td>\n",
       "      <td>0.989013</td>\n",
       "      <td>NaN</td>\n",
       "      <td>0.0</td>\n",
       "      <td>0.0</td>\n",
       "      <td>0.0</td>\n",
       "      <td>0.0</td>\n",
       "      <td>0.0</td>\n",
       "      <td>0.0</td>\n",
       "      <td>3.0</td>\n",
       "      <td>0.0</td>\n",
       "      <td>2.0</td>\n",
       "      <td>0.0</td>\n",
       "      <td>0.0</td>\n",
       "      <td>1.0</td>\n",
       "      <td>0.078878</td>\n",
       "      <td>0.000225</td>\n",
       "      <td>0.236634</td>\n",
       "      <td>0.090332</td>\n",
       "      <td>0.070374</td>\n",
       "      <td>0.019958</td>\n",
       "      <td>2.0</td>\n",
       "      <td>3.0</td>\n",
       "      <td>0.002975</td>\n",
       "      <td>0.001340</td>\n",
       "      <td>1.0</td>\n",
       "      <td>NaN</td>\n",
       "      <td>NaN</td>\n",
       "      <td>0.0</td>\n",
       "      <td>0.0</td>\n",
       "      <td>0.0</td>\n",
       "      <td>0.0</td>\n",
       "      <td>0.0</td>\n",
       "      <td>0.0</td>\n",
       "      <td>0.0</td>\n",
       "      <td>0.0</td>\n",
       "      <td>0.0</td>\n",
       "      <td>NaN</td>\n",
       "      <td>NaN</td>\n",
       "      <td>NaN</td>\n",
       "      <td>NaN</td>\n",
       "      <td>NaN</td>\n",
       "      <td>NaN</td>\n",
       "      <td>NaN</td>\n",
       "      <td>NaN</td>\n",
       "      <td>NaN</td>\n",
       "    </tr>\n",
       "    <tr>\n",
       "      <th>2</th>\n",
       "      <td>100004</td>\n",
       "      <td>0</td>\n",
       "      <td>NaN</td>\n",
       "      <td>NaN</td>\n",
       "      <td>NaN</td>\n",
       "      <td>NaN</td>\n",
       "      <td>NaN</td>\n",
       "      <td>NaN</td>\n",
       "      <td>NaN</td>\n",
       "      <td>NaN</td>\n",
       "      <td>1.0</td>\n",
       "      <td>-714.0</td>\n",
       "      <td>-714.0</td>\n",
       "      <td>-714.000000</td>\n",
       "      <td>0.0</td>\n",
       "      <td>20106.0</td>\n",
       "      <td>20106.0</td>\n",
       "      <td>20106.00</td>\n",
       "      <td>24.669939</td>\n",
       "      <td>24.669939</td>\n",
       "      <td>24.669939</td>\n",
       "      <td>3.753045</td>\n",
       "      <td>3.753045</td>\n",
       "      <td>3.753045</td>\n",
       "      <td>0.004605</td>\n",
       "      <td>0.004605</td>\n",
       "      <td>0.004605</td>\n",
       "      <td>5357.250</td>\n",
       "      <td>5357.250</td>\n",
       "      <td>5357.250</td>\n",
       "      <td>6.573313</td>\n",
       "      <td>6.573313</td>\n",
       "      <td>6.573313</td>\n",
       "      <td>-815.0</td>\n",
       "      <td>-815.0</td>\n",
       "      <td>0.0</td>\n",
       "      <td>0.0</td>\n",
       "      <td>0.000000</td>\n",
       "      <td>29.793865</td>\n",
       "      <td>29.793865</td>\n",
       "      <td>24282.00</td>\n",
       "      <td>24282.0</td>\n",
       "      <td>0.000260</td>\n",
       "      <td>0.001016</td>\n",
       "      <td>0.001016</td>\n",
       "      <td>0.212008</td>\n",
       "      <td>0.828021</td>\n",
       "      <td>0.828021</td>\n",
       "      <td>0.828021</td>\n",
       "      <td>NaN</td>\n",
       "      <td>0.0</td>\n",
       "      <td>0.0</td>\n",
       "      <td>0.0</td>\n",
       "      <td>0.0</td>\n",
       "      <td>0.0</td>\n",
       "      <td>0.0</td>\n",
       "      <td>1.0</td>\n",
       "      <td>0.0</td>\n",
       "      <td>0.0</td>\n",
       "      <td>0.0</td>\n",
       "      <td>0.0</td>\n",
       "      <td>0.0</td>\n",
       "      <td>0.119115</td>\n",
       "      <td>0.000146</td>\n",
       "      <td>0.119115</td>\n",
       "      <td>0.119115</td>\n",
       "      <td>0.119115</td>\n",
       "      <td>0.000000</td>\n",
       "      <td>0.0</td>\n",
       "      <td>1.0</td>\n",
       "      <td>0.001227</td>\n",
       "      <td>0.001227</td>\n",
       "      <td>1.0</td>\n",
       "      <td>NaN</td>\n",
       "      <td>NaN</td>\n",
       "      <td>0.0</td>\n",
       "      <td>0.0</td>\n",
       "      <td>0.0</td>\n",
       "      <td>0.0</td>\n",
       "      <td>0.0</td>\n",
       "      <td>0.0</td>\n",
       "      <td>0.0</td>\n",
       "      <td>0.0</td>\n",
       "      <td>0.0</td>\n",
       "      <td>NaN</td>\n",
       "      <td>NaN</td>\n",
       "      <td>NaN</td>\n",
       "      <td>NaN</td>\n",
       "      <td>NaN</td>\n",
       "      <td>NaN</td>\n",
       "      <td>NaN</td>\n",
       "      <td>NaN</td>\n",
       "      <td>NaN</td>\n",
       "    </tr>\n",
       "    <tr>\n",
       "      <th>3</th>\n",
       "      <td>100006</td>\n",
       "      <td>0</td>\n",
       "      <td>13500.0</td>\n",
       "      <td>2482.920</td>\n",
       "      <td>0.799989</td>\n",
       "      <td>0.063868</td>\n",
       "      <td>1.029197</td>\n",
       "      <td>1.012684</td>\n",
       "      <td>1.316797</td>\n",
       "      <td>1.316797</td>\n",
       "      <td>9.0</td>\n",
       "      <td>-416.0</td>\n",
       "      <td>365243.0</td>\n",
       "      <td>182481.750000</td>\n",
       "      <td>365659.0</td>\n",
       "      <td>0.0</td>\n",
       "      <td>906615.0</td>\n",
       "      <td>291695.50</td>\n",
       "      <td>0.000000</td>\n",
       "      <td>5008.922652</td>\n",
       "      <td>1358.887335</td>\n",
       "      <td>9.230206</td>\n",
       "      <td>27.839644</td>\n",
       "      <td>17.767287</td>\n",
       "      <td>0.015809</td>\n",
       "      <td>0.153810</td>\n",
       "      <td>0.081751</td>\n",
       "      <td>2482.920</td>\n",
       "      <td>39954.510</td>\n",
       "      <td>23651.175</td>\n",
       "      <td>4.024182</td>\n",
       "      <td>180.641436</td>\n",
       "      <td>96.293912</td>\n",
       "      <td>-617.0</td>\n",
       "      <td>-181.0</td>\n",
       "      <td>436.0</td>\n",
       "      <td>5.0</td>\n",
       "      <td>0.555556</td>\n",
       "      <td>1242.561634</td>\n",
       "      <td>3803.867403</td>\n",
       "      <td>272203.26</td>\n",
       "      <td>688500.0</td>\n",
       "      <td>0.000439</td>\n",
       "      <td>0.004129</td>\n",
       "      <td>0.007275</td>\n",
       "      <td>0.163412</td>\n",
       "      <td>1.012684</td>\n",
       "      <td>1.316797</td>\n",
       "      <td>0.799989</td>\n",
       "      <td>NaN</td>\n",
       "      <td>0.0</td>\n",
       "      <td>0.0</td>\n",
       "      <td>0.0</td>\n",
       "      <td>1.0</td>\n",
       "      <td>1.0</td>\n",
       "      <td>3.0</td>\n",
       "      <td>5.0</td>\n",
       "      <td>0.0</td>\n",
       "      <td>0.0</td>\n",
       "      <td>0.0</td>\n",
       "      <td>2.0</td>\n",
       "      <td>2.0</td>\n",
       "      <td>0.065491</td>\n",
       "      <td>0.002612</td>\n",
       "      <td>0.589419</td>\n",
       "      <td>0.116006</td>\n",
       "      <td>0.041129</td>\n",
       "      <td>0.074877</td>\n",
       "      <td>1.0</td>\n",
       "      <td>4.0</td>\n",
       "      <td>0.015886</td>\n",
       "      <td>0.005525</td>\n",
       "      <td>2.0</td>\n",
       "      <td>NaN</td>\n",
       "      <td>NaN</td>\n",
       "      <td>1.0</td>\n",
       "      <td>1.0</td>\n",
       "      <td>0.0</td>\n",
       "      <td>0.0</td>\n",
       "      <td>0.0</td>\n",
       "      <td>0.0</td>\n",
       "      <td>0.0</td>\n",
       "      <td>7.0</td>\n",
       "      <td>0.0</td>\n",
       "      <td>NaN</td>\n",
       "      <td>NaN</td>\n",
       "      <td>NaN</td>\n",
       "      <td>NaN</td>\n",
       "      <td>NaN</td>\n",
       "      <td>NaN</td>\n",
       "      <td>NaN</td>\n",
       "      <td>NaN</td>\n",
       "      <td>NaN</td>\n",
       "    </tr>\n",
       "    <tr>\n",
       "      <th>4</th>\n",
       "      <td>100007</td>\n",
       "      <td>0</td>\n",
       "      <td>NaN</td>\n",
       "      <td>16037.640</td>\n",
       "      <td>NaN</td>\n",
       "      <td>NaN</td>\n",
       "      <td>NaN</td>\n",
       "      <td>1.108236</td>\n",
       "      <td>NaN</td>\n",
       "      <td>1.108236</td>\n",
       "      <td>6.0</td>\n",
       "      <td>-2041.0</td>\n",
       "      <td>365243.0</td>\n",
       "      <td>72143.800000</td>\n",
       "      <td>367284.0</td>\n",
       "      <td>14616.0</td>\n",
       "      <td>284400.0</td>\n",
       "      <td>166638.75</td>\n",
       "      <td>6.201103</td>\n",
       "      <td>733.391711</td>\n",
       "      <td>248.038770</td>\n",
       "      <td>7.968206</td>\n",
       "      <td>21.858453</td>\n",
       "      <td>12.644075</td>\n",
       "      <td>0.003381</td>\n",
       "      <td>0.045729</td>\n",
       "      <td>0.016725</td>\n",
       "      <td>1834.290</td>\n",
       "      <td>22678.785</td>\n",
       "      <td>12278.805</td>\n",
       "      <td>0.778231</td>\n",
       "      <td>42.881390</td>\n",
       "      <td>16.715844</td>\n",
       "      <td>-2357.0</td>\n",
       "      <td>-374.0</td>\n",
       "      <td>1983.0</td>\n",
       "      <td>1.0</td>\n",
       "      <td>0.166667</td>\n",
       "      <td>222.881532</td>\n",
       "      <td>661.764706</td>\n",
       "      <td>150530.25</td>\n",
       "      <td>247500.0</td>\n",
       "      <td>0.000075</td>\n",
       "      <td>0.001244</td>\n",
       "      <td>0.002963</td>\n",
       "      <td>0.159516</td>\n",
       "      <td>1.046356</td>\n",
       "      <td>1.264000</td>\n",
       "      <td>0.850930</td>\n",
       "      <td>NaN</td>\n",
       "      <td>0.0</td>\n",
       "      <td>0.0</td>\n",
       "      <td>0.0</td>\n",
       "      <td>0.0</td>\n",
       "      <td>0.0</td>\n",
       "      <td>0.0</td>\n",
       "      <td>6.0</td>\n",
       "      <td>0.0</td>\n",
       "      <td>3.0</td>\n",
       "      <td>1.0</td>\n",
       "      <td>3.0</td>\n",
       "      <td>0.0</td>\n",
       "      <td>0.095080</td>\n",
       "      <td>0.000625</td>\n",
       "      <td>0.570482</td>\n",
       "      <td>0.112414</td>\n",
       "      <td>0.077900</td>\n",
       "      <td>0.034514</td>\n",
       "      <td>3.0</td>\n",
       "      <td>5.0</td>\n",
       "      <td>0.005724</td>\n",
       "      <td>0.002674</td>\n",
       "      <td>1.0</td>\n",
       "      <td>NaN</td>\n",
       "      <td>NaN</td>\n",
       "      <td>0.0</td>\n",
       "      <td>0.0</td>\n",
       "      <td>0.0</td>\n",
       "      <td>0.0</td>\n",
       "      <td>0.0</td>\n",
       "      <td>0.0</td>\n",
       "      <td>0.0</td>\n",
       "      <td>0.0</td>\n",
       "      <td>0.0</td>\n",
       "      <td>NaN</td>\n",
       "      <td>NaN</td>\n",
       "      <td>NaN</td>\n",
       "      <td>NaN</td>\n",
       "      <td>NaN</td>\n",
       "      <td>NaN</td>\n",
       "      <td>NaN</td>\n",
       "      <td>NaN</td>\n",
       "      <td>NaN</td>\n",
       "    </tr>\n",
       "  </tbody>\n",
       "</table>\n",
       "</div>"
      ],
      "text/plain": [
       "   SK_ID_CURR  TARGET  MIN_PREV_AMT_ANNUITY_12M  MIN_PREV_AMT_ANNUITY_24M  \\\n",
       "0      100002       1                       NaN                  9251.775   \n",
       "1      100003       0                       NaN                       NaN   \n",
       "2      100004       0                       NaN                       NaN   \n",
       "3      100006       0                   13500.0                  2482.920   \n",
       "4      100007       0                       NaN                 16037.640   \n",
       "\n",
       "   MIN_PREV_PROP_APPROVED_12M  AVG_SYNTH_TARGET_12M  \\\n",
       "0                         NaN                   NaN   \n",
       "1                         NaN                   NaN   \n",
       "2                         NaN                   NaN   \n",
       "3                    0.799989              0.063868   \n",
       "4                         NaN                   NaN   \n",
       "\n",
       "   AVG_PREV_PROP_APPROVED_12M  AVG_PREV_PROP_APPROVED_24M  \\\n",
       "0                         NaN                    1.000000   \n",
       "1                         NaN                         NaN   \n",
       "2                         NaN                         NaN   \n",
       "3                    1.029197                    1.012684   \n",
       "4                         NaN                    1.108236   \n",
       "\n",
       "   MAX_PREV_PROP_APPROVED_12M  MAX_PREV_PROP_APPROVED_24M  COUNT_PREV_APP  \\\n",
       "0                         NaN                    1.000000             1.0   \n",
       "1                         NaN                         NaN             3.0   \n",
       "2                         NaN                         NaN             1.0   \n",
       "3                    1.316797                    1.316797             9.0   \n",
       "4                         NaN                    1.108236             6.0   \n",
       "\n",
       "   MIN_PREV_DAYS_TERMINATION  MAX_PREV_DAYS_TERMINATION  \\\n",
       "0                      -17.0                      -17.0   \n",
       "1                    -1976.0                     -527.0   \n",
       "2                     -714.0                     -714.0   \n",
       "3                     -416.0                   365243.0   \n",
       "4                    -2041.0                   365243.0   \n",
       "\n",
       "   AVG_PREV_DAYS_TERMINATION  RANGE_PREV_DAYS_TERMINATION  \\\n",
       "0                 -17.000000                          0.0   \n",
       "1               -1047.333333                       1449.0   \n",
       "2                -714.000000                          0.0   \n",
       "3              182481.750000                     365659.0   \n",
       "4               72143.800000                     367284.0   \n",
       "\n",
       "   MIN_PREV_AMT_CREDIT  MAX_PREV_AMT_CREDIT  AVG_PREV_AMT_CREDIT  \\\n",
       "0             179055.0             179055.0            179055.00   \n",
       "1              68053.5            1035882.0            484191.00   \n",
       "2              20106.0              20106.0             20106.00   \n",
       "3                  0.0             906615.0            291695.50   \n",
       "4              14616.0             284400.0            166638.75   \n",
       "\n",
       "   MIN_PREV_AMT_CREDIT_WEIGHTED  MAX_PREV_AMT_CREDIT_WEIGHTED  \\\n",
       "0                    295.470297                    295.470297   \n",
       "1                     29.070269                   1388.581769   \n",
       "2                     24.669939                     24.669939   \n",
       "3                      0.000000                   5008.922652   \n",
       "4                      6.201103                    733.391711   \n",
       "\n",
       "   AVG_PREV_AMT_CREDIT_WEIGHTED  MIN_PREV_AMT_CREDIT_DIV_ANNUITY  \\\n",
       "0                    295.470297                        19.353584   \n",
       "1                    612.903940                         5.399568   \n",
       "2                     24.669939                         3.753045   \n",
       "3                   1358.887335                         9.230206   \n",
       "4                    248.038770                         7.968206   \n",
       "\n",
       "   MAX_PREV_AMT_CREDIT_DIV_ANNUITY  AVG_PREV_AMT_CREDIT_DIV_ANNUITY  \\\n",
       "0                        19.353584                        19.353584   \n",
       "1                        10.531859                         8.677472   \n",
       "2                         3.753045                         3.753045   \n",
       "3                        27.839644                        17.767287   \n",
       "4                        21.858453                        12.644075   \n",
       "\n",
       "   MIN_PREV_AMT_CREDIT_DIV_ANNUITY_WEIGHTED  \\\n",
       "0                                  0.031937   \n",
       "1                                  0.004315   \n",
       "2                                  0.004605   \n",
       "3                                  0.015809   \n",
       "4                                  0.003381   \n",
       "\n",
       "   MAX_PREV_AMT_CREDIT_DIV_ANNUITY_WEIGHTED  \\\n",
       "0                                  0.031937   \n",
       "1                                  0.014118   \n",
       "2                                  0.004605   \n",
       "3                                  0.153810   \n",
       "4                                  0.045729   \n",
       "\n",
       "   AVG_PREV_AMT_CREDIT_DIV_ANNUITY_WEIGHTED  MIN_PREV_AMT_ANNUITY  \\\n",
       "0                                  0.031937              9251.775   \n",
       "1                                  0.008318              6737.310   \n",
       "2                                  0.004605              5357.250   \n",
       "3                                  0.081751              2482.920   \n",
       "4                                  0.016725              1834.290   \n",
       "\n",
       "   MAX_PREV_AMT_ANNUITY  AVG_PREV_AMT_ANNUITY  MIN_PREV_AMT_ANNUITY_WEIGHTED  \\\n",
       "0              9251.775              9251.775                      15.266955   \n",
       "1             98356.995             56553.990                       2.877962   \n",
       "2              5357.250              5357.250                       6.573313   \n",
       "3             39954.510             23651.175                       4.024182   \n",
       "4             22678.785             12278.805                       0.778231   \n",
       "\n",
       "   MAX_PREV_AMT_ANNUITY_WEIGHTED  AVG_PREV_AMT_ANNUITY_WEIGHTED  \\\n",
       "0                      15.266955                      15.266955   \n",
       "1                     131.845838                      70.901357   \n",
       "2                       6.573313                       6.573313   \n",
       "3                     180.641436                      96.293912   \n",
       "4                      42.881390                      16.715844   \n",
       "\n",
       "   MIN_DAYS_DECISION  MAX_DAYS_DECISION  RANGE_DAYS_DECISION  \\\n",
       "0             -606.0             -606.0                  0.0   \n",
       "1            -2341.0             -746.0               1595.0   \n",
       "2             -815.0             -815.0                  0.0   \n",
       "3             -617.0             -181.0                436.0   \n",
       "4            -2357.0             -374.0               1983.0   \n",
       "\n",
       "   SUM_DAYS_LAST_DUE_NULL  AVG_DAYS_LAST_DUE_NULL  \\\n",
       "0                     0.0                0.000000   \n",
       "1                     0.0                0.000000   \n",
       "2                     0.0                0.000000   \n",
       "3                     5.0                0.555556   \n",
       "4                     1.0                0.166667   \n",
       "\n",
       "   AVG_PREV_REQ_AMOUNT_WEIGHTED  MAX_PREV_REQ_AMOUNT_WEIGHTED  \\\n",
       "0                    295.470297                    295.470297   \n",
       "1                    547.812073                   1206.434316   \n",
       "2                     29.793865                     29.793865   \n",
       "3                   1242.561634                   3803.867403   \n",
       "4                    222.881532                    661.764706   \n",
       "\n",
       "   AVG_PREV_REQ_AMOUNT  MAX_PREV_REQ_AMOUNT  \\\n",
       "0            179055.00             179055.0   \n",
       "1            435436.50             900000.0   \n",
       "2             24282.00              24282.0   \n",
       "3            272203.26             688500.0   \n",
       "4            150530.25             247500.0   \n",
       "\n",
       "   AVG_PREV_RATE_DOWNPAYMENT_WEIGHTED  AVG_PREV_PROP_APPROVED_WEIGHTED  \\\n",
       "0                            0.000000                         0.001650   \n",
       "1                            0.000021                         0.001071   \n",
       "2                            0.000260                         0.001016   \n",
       "3                            0.000439                         0.004129   \n",
       "4                            0.000075                         0.001244   \n",
       "\n",
       "   MAX_PREV_PROP_APPROVED_WEIGHTED  AVG_PREV_RATE_DOWNPAYMENT  \\\n",
       "0                         0.001650                   0.000000   \n",
       "1                         0.001543                   0.050030   \n",
       "2                         0.001016                   0.212008   \n",
       "3                         0.007275                   0.163412   \n",
       "4                         0.002963                   0.159516   \n",
       "\n",
       "   AVG_PREV_PROP_APPROVED  MAX_PREV_PROP_APPROVED  MIN_PREV_PROP_APPROVED  \\\n",
       "0                1.000000                1.000000                1.000000   \n",
       "1                1.057664                1.150980                0.989013   \n",
       "2                0.828021                0.828021                0.828021   \n",
       "3                1.012684                1.316797                0.799989   \n",
       "4                1.046356                1.264000                0.850930   \n",
       "\n",
       "   AVG_PREV_INT_RATE  SUM_PREV_URGENT_NEEDS  SUM_PREV_REPAIRS  SUM_PREV_OTHER  \\\n",
       "0                NaN                    0.0               0.0             0.0   \n",
       "1                NaN                    0.0               0.0             0.0   \n",
       "2                NaN                    0.0               0.0             0.0   \n",
       "3                NaN                    0.0               0.0             0.0   \n",
       "4                NaN                    0.0               0.0             0.0   \n",
       "\n",
       "   SUM_PREV_LIMIT_REJECT  SUM_REFUSED_CONTRACT  SUM_CANC_CONTRACT  \\\n",
       "0                    0.0                   0.0                0.0   \n",
       "1                    0.0                   0.0                0.0   \n",
       "2                    0.0                   0.0                0.0   \n",
       "3                    1.0                   1.0                3.0   \n",
       "4                    0.0                   0.0                0.0   \n",
       "\n",
       "   SUM_APPR_CONTRACT  SUM_PREV_HC_REJECT  SUM_PREV_INSURE_REQ  \\\n",
       "0                1.0                 0.0                  0.0   \n",
       "1                3.0                 0.0                  2.0   \n",
       "2                1.0                 0.0                  0.0   \n",
       "3                5.0                 0.0                  0.0   \n",
       "4                6.0                 0.0                  3.0   \n",
       "\n",
       "   COUNT_PREV_WALK_IN  COUNT_PREV_HIGH_YIELD  COUNT_PREV_LOW_YIELD  \\\n",
       "0                 0.0                    0.0                   1.0   \n",
       "1                 0.0                    0.0                   1.0   \n",
       "2                 0.0                    0.0                   0.0   \n",
       "3                 0.0                    2.0                   2.0   \n",
       "4                 1.0                    3.0                   0.0   \n",
       "\n",
       "   AVG_SYNTH_TARGET  SUM_SYNTH_TARGET_WEIGHTED  SUM_SYNTH_TARGET  \\\n",
       "0          0.071974                   0.000119          0.071974   \n",
       "1          0.078878                   0.000225          0.236634   \n",
       "2          0.119115                   0.000146          0.119115   \n",
       "3          0.065491                   0.002612          0.589419   \n",
       "4          0.095080                   0.000625          0.570482   \n",
       "\n",
       "   MAX_SYNTH_TARGET  MIN_SYNTH_TARGET  RANGE_SYNTH_TARGET  \\\n",
       "0          0.071974          0.071974            0.000000   \n",
       "1          0.090332          0.070374            0.019958   \n",
       "2          0.119115          0.119115            0.000000   \n",
       "3          0.116006          0.041129            0.074877   \n",
       "4          0.112414          0.077900            0.034514   \n",
       "\n",
       "   SUM_DAYS_LAST_DUE_1ST_VERSION_EQ_DAYS_LAST_DUE  \\\n",
       "0                                             0.0   \n",
       "1                                             2.0   \n",
       "2                                             0.0   \n",
       "3                                             1.0   \n",
       "4                                             3.0   \n",
       "\n",
       "   SUM_DAYS_FIRST_DRAWING_SENTINEL  SUM_DAYS_FIRST_DRAWING_SENTINEL_WEIGHTED  \\\n",
       "0                              1.0                                  0.001650   \n",
       "1                              3.0                                  0.002975   \n",
       "2                              1.0                                  0.001227   \n",
       "3                              4.0                                  0.015886   \n",
       "4                              5.0                                  0.005724   \n",
       "\n",
       "   MAX_DAYS_FIRST_DRAWING_SENTINEL_WEIGHTED  \\\n",
       "0                                  0.001650   \n",
       "1                                  0.001340   \n",
       "2                                  0.001227   \n",
       "3                                  0.005525   \n",
       "4                                  0.002674   \n",
       "\n",
       "   SUM_DAYS_LAST_DUE_LT_FIRST_VERSION  MIN_RATE_INTEREST_PRIMARY_12M  \\\n",
       "0                                 1.0                            NaN   \n",
       "1                                 1.0                            NaN   \n",
       "2                                 1.0                            NaN   \n",
       "3                                 2.0                            NaN   \n",
       "4                                 1.0                            NaN   \n",
       "\n",
       "   AVG_RATE_INTEREST_PRIVILEGED_12M  SUM_REFUSED_CONTRACT_6M  \\\n",
       "0                               NaN                      0.0   \n",
       "1                               NaN                      0.0   \n",
       "2                               NaN                      0.0   \n",
       "3                               NaN                      1.0   \n",
       "4                               NaN                      0.0   \n",
       "\n",
       "   SUM_PRODUCT_COMBINATION_POS_HOUSE_INTEREST_12M  \\\n",
       "0                                             0.0   \n",
       "1                                             0.0   \n",
       "2                                             0.0   \n",
       "3                                             1.0   \n",
       "4                                             0.0   \n",
       "\n",
       "   SUM_PRODUCT_COMBINATION_POS_MOBILE_INTEREST_12M  \\\n",
       "0                                              0.0   \n",
       "1                                              0.0   \n",
       "2                                              0.0   \n",
       "3                                              0.0   \n",
       "4                                              0.0   \n",
       "\n",
       "   SUM_NAME_GOODS_CATEGORY_XNA_6M  SUM_NAME_SELLER_INDUSTRY_XNA_6M  \\\n",
       "0                             0.0                              0.0   \n",
       "1                             0.0                              0.0   \n",
       "2                             0.0                              0.0   \n",
       "3                             0.0                              0.0   \n",
       "4                             0.0                              0.0   \n",
       "\n",
       "   SUM_NAME_SELLER_INDUSTRY_CSTR_6M  SUM_NAME_PAYMENT_TYPE_XNA_6M  \\\n",
       "0                               0.0                           0.0   \n",
       "1                               0.0                           0.0   \n",
       "2                               0.0                           0.0   \n",
       "3                               0.0                           0.0   \n",
       "4                               0.0                           0.0   \n",
       "\n",
       "   COUNT_NAME_CLIENT_TYPE_REPEATER_12M  COUNT_NAME_CLIENT_TYPE_NEW_12M  \\\n",
       "0                                  0.0                             0.0   \n",
       "1                                  0.0                             0.0   \n",
       "2                                  0.0                             0.0   \n",
       "3                                  7.0                             0.0   \n",
       "4                                  0.0                             0.0   \n",
       "\n",
       "   AVG_PREV_AMT_CREDIT_DIV_AMT_ANNUITY_6M  \\\n",
       "0                                     NaN   \n",
       "1                                     NaN   \n",
       "2                                     NaN   \n",
       "3                                     NaN   \n",
       "4                                     NaN   \n",
       "\n",
       "   MIN_PREV_AMT_CREDIT_DIV_AMT_ANNUITY_6M  \\\n",
       "0                                     NaN   \n",
       "1                                     NaN   \n",
       "2                                     NaN   \n",
       "3                                     NaN   \n",
       "4                                     NaN   \n",
       "\n",
       "   MAX_PREV_AMT_CREDIT_DIV_AMT_ANNUITY_6M  \\\n",
       "0                                     NaN   \n",
       "1                                     NaN   \n",
       "2                                     NaN   \n",
       "3                                     NaN   \n",
       "4                                     NaN   \n",
       "\n",
       "   AVG_PREV_AMT_CREDIT_DIV_AMT_GOODS_PRICE_6M  \\\n",
       "0                                         NaN   \n",
       "1                                         NaN   \n",
       "2                                         NaN   \n",
       "3                                         NaN   \n",
       "4                                         NaN   \n",
       "\n",
       "   MIN_PREV_AMT_CREDIT_DIV_AMT_GOODS_PRICE_6M  \\\n",
       "0                                         NaN   \n",
       "1                                         NaN   \n",
       "2                                         NaN   \n",
       "3                                         NaN   \n",
       "4                                         NaN   \n",
       "\n",
       "   MAX_PREV_AMT_CREDIT_DIV_AMT_GOODS_PRICE_6M  \\\n",
       "0                                         NaN   \n",
       "1                                         NaN   \n",
       "2                                         NaN   \n",
       "3                                         NaN   \n",
       "4                                         NaN   \n",
       "\n",
       "   AVG_PREV_AMT_CREDIT_PLUS_AMT_ANNUITY_6M  \\\n",
       "0                                      NaN   \n",
       "1                                      NaN   \n",
       "2                                      NaN   \n",
       "3                                      NaN   \n",
       "4                                      NaN   \n",
       "\n",
       "   MIN_PREV_AMT_CREDIT_PLUS_AMT_ANNUITY_6M  \\\n",
       "0                                      NaN   \n",
       "1                                      NaN   \n",
       "2                                      NaN   \n",
       "3                                      NaN   \n",
       "4                                      NaN   \n",
       "\n",
       "   MAX_PREV_AMT_CREDIT_PLUS_AMT_ANNUITY_6M  \n",
       "0                                      NaN  \n",
       "1                                      NaN  \n",
       "2                                      NaN  \n",
       "3                                      NaN  \n",
       "4                                      NaN  "
      ]
     },
     "execution_count": 156,
     "metadata": {},
     "output_type": "execute_result"
    },
    {
     "name": "stdout",
     "output_type": "stream",
     "text": [
      "time: 4.9 s\n"
     ]
    }
   ],
   "source": [
    "df = pd.merge(frame, previous_agg, how=\"left\", on=\"SK_ID_CURR\")\n",
    "all_cols = df.drop([\"TARGET\", \"SK_ID_CURR\"], axis=1).columns.tolist()\n",
    "df.head()"
   ]
  },
  {
   "cell_type": "code",
   "execution_count": 157,
   "metadata": {},
   "outputs": [
    {
     "data": {
      "text/plain": [
       "(307511, 93)"
      ]
     },
     "execution_count": 157,
     "metadata": {},
     "output_type": "execute_result"
    },
    {
     "name": "stdout",
     "output_type": "stream",
     "text": [
      "time: 21.8 ms\n"
     ]
    }
   ],
   "source": [
    "df.shape"
   ]
  },
  {
   "cell_type": "markdown",
   "metadata": {},
   "source": [
    "#### Fit quick model with all aggregates"
   ]
  },
  {
   "cell_type": "code",
   "execution_count": 158,
   "metadata": {},
   "outputs": [
    {
     "name": "stdout",
     "output_type": "stream",
     "text": [
      "time: 1min 6s\n"
     ]
    }
   ],
   "source": [
    "result = quick_model(X=df, \n",
    "                     y=df[\"TARGET\"], \n",
    "                     usecols=all_cols, \n",
    "                     dropcols=[], \n",
    "                     n_estimators=100, \n",
    "                     num_leaves=13, \n",
    "                     folds=3)"
   ]
  },
  {
   "cell_type": "markdown",
   "metadata": {},
   "source": [
    "CV AUC mean"
   ]
  },
  {
   "cell_type": "code",
   "execution_count": 159,
   "metadata": {},
   "outputs": [
    {
     "data": {
      "text/plain": [
       "0.6557"
      ]
     },
     "execution_count": 159,
     "metadata": {},
     "output_type": "execute_result"
    },
    {
     "name": "stdout",
     "output_type": "stream",
     "text": [
      "time: 11 ms\n"
     ]
    }
   ],
   "source": [
    "round(result[\"auc_mean\"], 4)"
   ]
  },
  {
   "cell_type": "markdown",
   "metadata": {},
   "source": [
    "#### Iterate over each new aggregate and compute leave-one-out AUC"
   ]
  },
  {
   "cell_type": "code",
   "execution_count": 160,
   "metadata": {},
   "outputs": [
    {
     "name": "stdout",
     "output_type": "stream",
     "text": [
      "AVG_PREV_AMT_CREDIT_DIV_AMT_ANNUITY_6M: 0.6557\n",
      "MIN_PREV_AMT_CREDIT_DIV_AMT_ANNUITY_6M: 0.6551\n",
      "MAX_PREV_AMT_CREDIT_DIV_AMT_ANNUITY_6M: 0.6552\n",
      "AVG_PREV_AMT_CREDIT_DIV_AMT_GOODS_PRICE_6M: 0.6556\n",
      "MIN_PREV_AMT_CREDIT_DIV_AMT_GOODS_PRICE_6M: 0.6558\n",
      "MAX_PREV_AMT_CREDIT_DIV_AMT_GOODS_PRICE_6M: 0.6555\n",
      "AVG_PREV_AMT_CREDIT_PLUS_AMT_ANNUITY_6M: 0.6557\n",
      "MIN_PREV_AMT_CREDIT_PLUS_AMT_ANNUITY_6M: 0.6556\n",
      "MAX_PREV_AMT_CREDIT_PLUS_AMT_ANNUITY_6M: 0.656\n",
      "time: 5min 29s\n"
     ]
    }
   ],
   "source": [
    "baseline = result[\"auc_mean\"]\n",
    "to_drop = []\n",
    "\n",
    "for c in new_cols:\n",
    "    auc = quick_model(X=df, \n",
    "                     y=df[\"TARGET\"], \n",
    "                     usecols=all_cols, \n",
    "                     dropcols=[c], \n",
    "                     n_estimators=100, \n",
    "                     num_leaves=13, \n",
    "                     folds=3)[\"auc_mean\"]\n",
    "    if auc >= baseline: to_drop.append(c)\n",
    "    print(c + \": \" + str(round(auc, 4)))"
   ]
  },
  {
   "cell_type": "markdown",
   "metadata": {},
   "source": [
    "Aggregates to be dropped"
   ]
  },
  {
   "cell_type": "code",
   "execution_count": 161,
   "metadata": {},
   "outputs": [
    {
     "data": {
      "text/plain": [
       "['MIN_PREV_AMT_CREDIT_DIV_AMT_GOODS_PRICE_6M',\n",
       " 'MAX_PREV_AMT_CREDIT_PLUS_AMT_ANNUITY_6M']"
      ]
     },
     "execution_count": 161,
     "metadata": {},
     "output_type": "execute_result"
    },
    {
     "name": "stdout",
     "output_type": "stream",
     "text": [
      "time: 2.45 ms\n"
     ]
    }
   ],
   "source": [
    "to_drop"
   ]
  },
  {
   "cell_type": "markdown",
   "metadata": {},
   "source": [
    "Aggregates to be kept"
   ]
  },
  {
   "cell_type": "code",
   "execution_count": 162,
   "metadata": {},
   "outputs": [
    {
     "data": {
      "text/plain": [
       "['AVG_PREV_AMT_CREDIT_DIV_AMT_ANNUITY_6M',\n",
       " 'MIN_PREV_AMT_CREDIT_DIV_AMT_ANNUITY_6M',\n",
       " 'MAX_PREV_AMT_CREDIT_DIV_AMT_ANNUITY_6M',\n",
       " 'AVG_PREV_AMT_CREDIT_DIV_AMT_GOODS_PRICE_6M',\n",
       " 'MAX_PREV_AMT_CREDIT_DIV_AMT_GOODS_PRICE_6M',\n",
       " 'AVG_PREV_AMT_CREDIT_PLUS_AMT_ANNUITY_6M',\n",
       " 'MIN_PREV_AMT_CREDIT_PLUS_AMT_ANNUITY_6M']"
      ]
     },
     "execution_count": 162,
     "metadata": {},
     "output_type": "execute_result"
    },
    {
     "name": "stdout",
     "output_type": "stream",
     "text": [
      "time: 3.18 ms\n"
     ]
    }
   ],
   "source": [
    "[c for c in new_cols if c not in to_drop]"
   ]
  },
  {
   "cell_type": "markdown",
   "metadata": {},
   "source": [
    "Drop unimportant aggregates"
   ]
  },
  {
   "cell_type": "code",
   "execution_count": 163,
   "metadata": {},
   "outputs": [
    {
     "data": {
      "text/plain": [
       "(338857, 90)"
      ]
     },
     "execution_count": 163,
     "metadata": {},
     "output_type": "execute_result"
    },
    {
     "name": "stdout",
     "output_type": "stream",
     "text": [
      "time: 536 ms\n"
     ]
    }
   ],
   "source": [
    "previous_agg.drop(to_drop, axis=1, inplace=True)\n",
    "previous_agg.shape"
   ]
  },
  {
   "cell_type": "code",
   "execution_count": 164,
   "metadata": {},
   "outputs": [
    {
     "data": {
      "text/html": [
       "<div>\n",
       "<style scoped>\n",
       "    .dataframe tbody tr th:only-of-type {\n",
       "        vertical-align: middle;\n",
       "    }\n",
       "\n",
       "    .dataframe tbody tr th {\n",
       "        vertical-align: top;\n",
       "    }\n",
       "\n",
       "    .dataframe thead th {\n",
       "        text-align: right;\n",
       "    }\n",
       "</style>\n",
       "<table border=\"1\" class=\"dataframe\">\n",
       "  <thead>\n",
       "    <tr style=\"text-align: right;\">\n",
       "      <th></th>\n",
       "      <th>SK_ID_CURR</th>\n",
       "      <th>MIN_PREV_AMT_ANNUITY_12M</th>\n",
       "      <th>MIN_PREV_AMT_ANNUITY_24M</th>\n",
       "      <th>MIN_PREV_PROP_APPROVED_12M</th>\n",
       "      <th>AVG_SYNTH_TARGET_12M</th>\n",
       "      <th>AVG_PREV_PROP_APPROVED_12M</th>\n",
       "      <th>AVG_PREV_PROP_APPROVED_24M</th>\n",
       "      <th>MAX_PREV_PROP_APPROVED_12M</th>\n",
       "      <th>MAX_PREV_PROP_APPROVED_24M</th>\n",
       "      <th>COUNT_PREV_APP</th>\n",
       "      <th>MIN_PREV_DAYS_TERMINATION</th>\n",
       "      <th>MAX_PREV_DAYS_TERMINATION</th>\n",
       "      <th>AVG_PREV_DAYS_TERMINATION</th>\n",
       "      <th>RANGE_PREV_DAYS_TERMINATION</th>\n",
       "      <th>MIN_PREV_AMT_CREDIT</th>\n",
       "      <th>MAX_PREV_AMT_CREDIT</th>\n",
       "      <th>AVG_PREV_AMT_CREDIT</th>\n",
       "      <th>MIN_PREV_AMT_CREDIT_WEIGHTED</th>\n",
       "      <th>MAX_PREV_AMT_CREDIT_WEIGHTED</th>\n",
       "      <th>AVG_PREV_AMT_CREDIT_WEIGHTED</th>\n",
       "      <th>MIN_PREV_AMT_CREDIT_DIV_ANNUITY</th>\n",
       "      <th>MAX_PREV_AMT_CREDIT_DIV_ANNUITY</th>\n",
       "      <th>AVG_PREV_AMT_CREDIT_DIV_ANNUITY</th>\n",
       "      <th>MIN_PREV_AMT_CREDIT_DIV_ANNUITY_WEIGHTED</th>\n",
       "      <th>MAX_PREV_AMT_CREDIT_DIV_ANNUITY_WEIGHTED</th>\n",
       "      <th>AVG_PREV_AMT_CREDIT_DIV_ANNUITY_WEIGHTED</th>\n",
       "      <th>MIN_PREV_AMT_ANNUITY</th>\n",
       "      <th>MAX_PREV_AMT_ANNUITY</th>\n",
       "      <th>AVG_PREV_AMT_ANNUITY</th>\n",
       "      <th>MIN_PREV_AMT_ANNUITY_WEIGHTED</th>\n",
       "      <th>MAX_PREV_AMT_ANNUITY_WEIGHTED</th>\n",
       "      <th>AVG_PREV_AMT_ANNUITY_WEIGHTED</th>\n",
       "      <th>MIN_DAYS_DECISION</th>\n",
       "      <th>MAX_DAYS_DECISION</th>\n",
       "      <th>RANGE_DAYS_DECISION</th>\n",
       "      <th>SUM_DAYS_LAST_DUE_NULL</th>\n",
       "      <th>AVG_DAYS_LAST_DUE_NULL</th>\n",
       "      <th>AVG_PREV_REQ_AMOUNT_WEIGHTED</th>\n",
       "      <th>MAX_PREV_REQ_AMOUNT_WEIGHTED</th>\n",
       "      <th>AVG_PREV_REQ_AMOUNT</th>\n",
       "      <th>MAX_PREV_REQ_AMOUNT</th>\n",
       "      <th>AVG_PREV_RATE_DOWNPAYMENT_WEIGHTED</th>\n",
       "      <th>AVG_PREV_PROP_APPROVED_WEIGHTED</th>\n",
       "      <th>MAX_PREV_PROP_APPROVED_WEIGHTED</th>\n",
       "      <th>AVG_PREV_RATE_DOWNPAYMENT</th>\n",
       "      <th>AVG_PREV_PROP_APPROVED</th>\n",
       "      <th>MAX_PREV_PROP_APPROVED</th>\n",
       "      <th>MIN_PREV_PROP_APPROVED</th>\n",
       "      <th>AVG_PREV_INT_RATE</th>\n",
       "      <th>SUM_PREV_URGENT_NEEDS</th>\n",
       "      <th>SUM_PREV_REPAIRS</th>\n",
       "      <th>SUM_PREV_OTHER</th>\n",
       "      <th>SUM_PREV_LIMIT_REJECT</th>\n",
       "      <th>SUM_REFUSED_CONTRACT</th>\n",
       "      <th>SUM_CANC_CONTRACT</th>\n",
       "      <th>SUM_APPR_CONTRACT</th>\n",
       "      <th>SUM_PREV_HC_REJECT</th>\n",
       "      <th>SUM_PREV_INSURE_REQ</th>\n",
       "      <th>COUNT_PREV_WALK_IN</th>\n",
       "      <th>COUNT_PREV_HIGH_YIELD</th>\n",
       "      <th>COUNT_PREV_LOW_YIELD</th>\n",
       "      <th>AVG_SYNTH_TARGET</th>\n",
       "      <th>SUM_SYNTH_TARGET_WEIGHTED</th>\n",
       "      <th>SUM_SYNTH_TARGET</th>\n",
       "      <th>MAX_SYNTH_TARGET</th>\n",
       "      <th>MIN_SYNTH_TARGET</th>\n",
       "      <th>RANGE_SYNTH_TARGET</th>\n",
       "      <th>SUM_DAYS_LAST_DUE_1ST_VERSION_EQ_DAYS_LAST_DUE</th>\n",
       "      <th>SUM_DAYS_FIRST_DRAWING_SENTINEL</th>\n",
       "      <th>SUM_DAYS_FIRST_DRAWING_SENTINEL_WEIGHTED</th>\n",
       "      <th>MAX_DAYS_FIRST_DRAWING_SENTINEL_WEIGHTED</th>\n",
       "      <th>SUM_DAYS_LAST_DUE_LT_FIRST_VERSION</th>\n",
       "      <th>MIN_RATE_INTEREST_PRIMARY_12M</th>\n",
       "      <th>AVG_RATE_INTEREST_PRIVILEGED_12M</th>\n",
       "      <th>SUM_REFUSED_CONTRACT_6M</th>\n",
       "      <th>SUM_PRODUCT_COMBINATION_POS_HOUSE_INTEREST_12M</th>\n",
       "      <th>SUM_PRODUCT_COMBINATION_POS_MOBILE_INTEREST_12M</th>\n",
       "      <th>SUM_NAME_GOODS_CATEGORY_XNA_6M</th>\n",
       "      <th>SUM_NAME_SELLER_INDUSTRY_XNA_6M</th>\n",
       "      <th>SUM_NAME_SELLER_INDUSTRY_CSTR_6M</th>\n",
       "      <th>SUM_NAME_PAYMENT_TYPE_XNA_6M</th>\n",
       "      <th>COUNT_NAME_CLIENT_TYPE_REPEATER_12M</th>\n",
       "      <th>COUNT_NAME_CLIENT_TYPE_NEW_12M</th>\n",
       "      <th>AVG_PREV_AMT_CREDIT_DIV_AMT_ANNUITY_6M</th>\n",
       "      <th>MIN_PREV_AMT_CREDIT_DIV_AMT_ANNUITY_6M</th>\n",
       "      <th>MAX_PREV_AMT_CREDIT_DIV_AMT_ANNUITY_6M</th>\n",
       "      <th>AVG_PREV_AMT_CREDIT_DIV_AMT_GOODS_PRICE_6M</th>\n",
       "      <th>MAX_PREV_AMT_CREDIT_DIV_AMT_GOODS_PRICE_6M</th>\n",
       "      <th>AVG_PREV_AMT_CREDIT_PLUS_AMT_ANNUITY_6M</th>\n",
       "      <th>MIN_PREV_AMT_CREDIT_PLUS_AMT_ANNUITY_6M</th>\n",
       "    </tr>\n",
       "  </thead>\n",
       "  <tbody>\n",
       "    <tr>\n",
       "      <th>0</th>\n",
       "      <td>100001</td>\n",
       "      <td>NaN</td>\n",
       "      <td>NaN</td>\n",
       "      <td>NaN</td>\n",
       "      <td>NaN</td>\n",
       "      <td>NaN</td>\n",
       "      <td>NaN</td>\n",
       "      <td>NaN</td>\n",
       "      <td>NaN</td>\n",
       "      <td>1.0</td>\n",
       "      <td>-1612.0</td>\n",
       "      <td>-1612.0</td>\n",
       "      <td>-1612.000000</td>\n",
       "      <td>0.0</td>\n",
       "      <td>23787.0</td>\n",
       "      <td>23787.0</td>\n",
       "      <td>23787.00</td>\n",
       "      <td>13.670690</td>\n",
       "      <td>13.670690</td>\n",
       "      <td>13.670690</td>\n",
       "      <td>6.020501</td>\n",
       "      <td>6.020501</td>\n",
       "      <td>6.020501</td>\n",
       "      <td>0.003460</td>\n",
       "      <td>0.003460</td>\n",
       "      <td>0.003460</td>\n",
       "      <td>3951.000</td>\n",
       "      <td>3951.000</td>\n",
       "      <td>3951.000</td>\n",
       "      <td>2.270690</td>\n",
       "      <td>2.270690</td>\n",
       "      <td>2.270690</td>\n",
       "      <td>-1740.0</td>\n",
       "      <td>-1740.0</td>\n",
       "      <td>0.0</td>\n",
       "      <td>0.0</td>\n",
       "      <td>0.0</td>\n",
       "      <td>14.273276</td>\n",
       "      <td>14.273276</td>\n",
       "      <td>24835.50</td>\n",
       "      <td>24835.5</td>\n",
       "      <td>0.000060</td>\n",
       "      <td>0.000550</td>\n",
       "      <td>0.000550</td>\n",
       "      <td>0.104326</td>\n",
       "      <td>0.957782</td>\n",
       "      <td>0.957782</td>\n",
       "      <td>0.957782</td>\n",
       "      <td>NaN</td>\n",
       "      <td>0.0</td>\n",
       "      <td>0.0</td>\n",
       "      <td>0.0</td>\n",
       "      <td>0.0</td>\n",
       "      <td>0.0</td>\n",
       "      <td>0.0</td>\n",
       "      <td>1.0</td>\n",
       "      <td>0.0</td>\n",
       "      <td>0.0</td>\n",
       "      <td>0.0</td>\n",
       "      <td>1.0</td>\n",
       "      <td>0.0</td>\n",
       "      <td>0.101729</td>\n",
       "      <td>0.000058</td>\n",
       "      <td>0.101729</td>\n",
       "      <td>0.101729</td>\n",
       "      <td>0.101729</td>\n",
       "      <td>0.000000</td>\n",
       "      <td>0.0</td>\n",
       "      <td>1.0</td>\n",
       "      <td>0.000575</td>\n",
       "      <td>0.000575</td>\n",
       "      <td>1.0</td>\n",
       "      <td>NaN</td>\n",
       "      <td>NaN</td>\n",
       "      <td>0.0</td>\n",
       "      <td>0.0</td>\n",
       "      <td>0.0</td>\n",
       "      <td>0.0</td>\n",
       "      <td>0.0</td>\n",
       "      <td>0.0</td>\n",
       "      <td>0.0</td>\n",
       "      <td>0.0</td>\n",
       "      <td>0.0</td>\n",
       "      <td>NaN</td>\n",
       "      <td>NaN</td>\n",
       "      <td>NaN</td>\n",
       "      <td>NaN</td>\n",
       "      <td>NaN</td>\n",
       "      <td>NaN</td>\n",
       "      <td>NaN</td>\n",
       "    </tr>\n",
       "    <tr>\n",
       "      <th>1</th>\n",
       "      <td>100002</td>\n",
       "      <td>NaN</td>\n",
       "      <td>9251.775</td>\n",
       "      <td>NaN</td>\n",
       "      <td>NaN</td>\n",
       "      <td>NaN</td>\n",
       "      <td>1.0</td>\n",
       "      <td>NaN</td>\n",
       "      <td>1.0</td>\n",
       "      <td>1.0</td>\n",
       "      <td>-17.0</td>\n",
       "      <td>-17.0</td>\n",
       "      <td>-17.000000</td>\n",
       "      <td>0.0</td>\n",
       "      <td>179055.0</td>\n",
       "      <td>179055.0</td>\n",
       "      <td>179055.00</td>\n",
       "      <td>295.470297</td>\n",
       "      <td>295.470297</td>\n",
       "      <td>295.470297</td>\n",
       "      <td>19.353584</td>\n",
       "      <td>19.353584</td>\n",
       "      <td>19.353584</td>\n",
       "      <td>0.031937</td>\n",
       "      <td>0.031937</td>\n",
       "      <td>0.031937</td>\n",
       "      <td>9251.775</td>\n",
       "      <td>9251.775</td>\n",
       "      <td>9251.775</td>\n",
       "      <td>15.266955</td>\n",
       "      <td>15.266955</td>\n",
       "      <td>15.266955</td>\n",
       "      <td>-606.0</td>\n",
       "      <td>-606.0</td>\n",
       "      <td>0.0</td>\n",
       "      <td>0.0</td>\n",
       "      <td>0.0</td>\n",
       "      <td>295.470297</td>\n",
       "      <td>295.470297</td>\n",
       "      <td>179055.00</td>\n",
       "      <td>179055.0</td>\n",
       "      <td>0.000000</td>\n",
       "      <td>0.001650</td>\n",
       "      <td>0.001650</td>\n",
       "      <td>0.000000</td>\n",
       "      <td>1.000000</td>\n",
       "      <td>1.000000</td>\n",
       "      <td>1.000000</td>\n",
       "      <td>NaN</td>\n",
       "      <td>0.0</td>\n",
       "      <td>0.0</td>\n",
       "      <td>0.0</td>\n",
       "      <td>0.0</td>\n",
       "      <td>0.0</td>\n",
       "      <td>0.0</td>\n",
       "      <td>1.0</td>\n",
       "      <td>0.0</td>\n",
       "      <td>0.0</td>\n",
       "      <td>0.0</td>\n",
       "      <td>0.0</td>\n",
       "      <td>1.0</td>\n",
       "      <td>0.071974</td>\n",
       "      <td>0.000119</td>\n",
       "      <td>0.071974</td>\n",
       "      <td>0.071974</td>\n",
       "      <td>0.071974</td>\n",
       "      <td>0.000000</td>\n",
       "      <td>0.0</td>\n",
       "      <td>1.0</td>\n",
       "      <td>0.001650</td>\n",
       "      <td>0.001650</td>\n",
       "      <td>1.0</td>\n",
       "      <td>NaN</td>\n",
       "      <td>NaN</td>\n",
       "      <td>0.0</td>\n",
       "      <td>0.0</td>\n",
       "      <td>0.0</td>\n",
       "      <td>0.0</td>\n",
       "      <td>0.0</td>\n",
       "      <td>0.0</td>\n",
       "      <td>0.0</td>\n",
       "      <td>0.0</td>\n",
       "      <td>0.0</td>\n",
       "      <td>NaN</td>\n",
       "      <td>NaN</td>\n",
       "      <td>NaN</td>\n",
       "      <td>NaN</td>\n",
       "      <td>NaN</td>\n",
       "      <td>NaN</td>\n",
       "      <td>NaN</td>\n",
       "    </tr>\n",
       "    <tr>\n",
       "      <th>2</th>\n",
       "      <td>100003</td>\n",
       "      <td>NaN</td>\n",
       "      <td>NaN</td>\n",
       "      <td>NaN</td>\n",
       "      <td>NaN</td>\n",
       "      <td>NaN</td>\n",
       "      <td>NaN</td>\n",
       "      <td>NaN</td>\n",
       "      <td>NaN</td>\n",
       "      <td>3.0</td>\n",
       "      <td>-1976.0</td>\n",
       "      <td>-527.0</td>\n",
       "      <td>-1047.333333</td>\n",
       "      <td>1449.0</td>\n",
       "      <td>68053.5</td>\n",
       "      <td>1035882.0</td>\n",
       "      <td>484191.00</td>\n",
       "      <td>29.070269</td>\n",
       "      <td>1388.581769</td>\n",
       "      <td>612.903940</td>\n",
       "      <td>5.399568</td>\n",
       "      <td>10.531859</td>\n",
       "      <td>8.677472</td>\n",
       "      <td>0.004315</td>\n",
       "      <td>0.014118</td>\n",
       "      <td>0.008318</td>\n",
       "      <td>6737.310</td>\n",
       "      <td>98356.995</td>\n",
       "      <td>56553.990</td>\n",
       "      <td>2.877962</td>\n",
       "      <td>131.845838</td>\n",
       "      <td>70.901357</td>\n",
       "      <td>-2341.0</td>\n",
       "      <td>-746.0</td>\n",
       "      <td>1595.0</td>\n",
       "      <td>0.0</td>\n",
       "      <td>0.0</td>\n",
       "      <td>547.812073</td>\n",
       "      <td>1206.434316</td>\n",
       "      <td>435436.50</td>\n",
       "      <td>900000.0</td>\n",
       "      <td>0.000021</td>\n",
       "      <td>0.001071</td>\n",
       "      <td>0.001543</td>\n",
       "      <td>0.050030</td>\n",
       "      <td>1.057664</td>\n",
       "      <td>1.150980</td>\n",
       "      <td>0.989013</td>\n",
       "      <td>NaN</td>\n",
       "      <td>0.0</td>\n",
       "      <td>0.0</td>\n",
       "      <td>0.0</td>\n",
       "      <td>0.0</td>\n",
       "      <td>0.0</td>\n",
       "      <td>0.0</td>\n",
       "      <td>3.0</td>\n",
       "      <td>0.0</td>\n",
       "      <td>2.0</td>\n",
       "      <td>0.0</td>\n",
       "      <td>0.0</td>\n",
       "      <td>1.0</td>\n",
       "      <td>0.078878</td>\n",
       "      <td>0.000225</td>\n",
       "      <td>0.236634</td>\n",
       "      <td>0.090332</td>\n",
       "      <td>0.070374</td>\n",
       "      <td>0.019958</td>\n",
       "      <td>2.0</td>\n",
       "      <td>3.0</td>\n",
       "      <td>0.002975</td>\n",
       "      <td>0.001340</td>\n",
       "      <td>1.0</td>\n",
       "      <td>NaN</td>\n",
       "      <td>NaN</td>\n",
       "      <td>0.0</td>\n",
       "      <td>0.0</td>\n",
       "      <td>0.0</td>\n",
       "      <td>0.0</td>\n",
       "      <td>0.0</td>\n",
       "      <td>0.0</td>\n",
       "      <td>0.0</td>\n",
       "      <td>0.0</td>\n",
       "      <td>0.0</td>\n",
       "      <td>NaN</td>\n",
       "      <td>NaN</td>\n",
       "      <td>NaN</td>\n",
       "      <td>NaN</td>\n",
       "      <td>NaN</td>\n",
       "      <td>NaN</td>\n",
       "      <td>NaN</td>\n",
       "    </tr>\n",
       "    <tr>\n",
       "      <th>3</th>\n",
       "      <td>100004</td>\n",
       "      <td>NaN</td>\n",
       "      <td>NaN</td>\n",
       "      <td>NaN</td>\n",
       "      <td>NaN</td>\n",
       "      <td>NaN</td>\n",
       "      <td>NaN</td>\n",
       "      <td>NaN</td>\n",
       "      <td>NaN</td>\n",
       "      <td>1.0</td>\n",
       "      <td>-714.0</td>\n",
       "      <td>-714.0</td>\n",
       "      <td>-714.000000</td>\n",
       "      <td>0.0</td>\n",
       "      <td>20106.0</td>\n",
       "      <td>20106.0</td>\n",
       "      <td>20106.00</td>\n",
       "      <td>24.669939</td>\n",
       "      <td>24.669939</td>\n",
       "      <td>24.669939</td>\n",
       "      <td>3.753045</td>\n",
       "      <td>3.753045</td>\n",
       "      <td>3.753045</td>\n",
       "      <td>0.004605</td>\n",
       "      <td>0.004605</td>\n",
       "      <td>0.004605</td>\n",
       "      <td>5357.250</td>\n",
       "      <td>5357.250</td>\n",
       "      <td>5357.250</td>\n",
       "      <td>6.573313</td>\n",
       "      <td>6.573313</td>\n",
       "      <td>6.573313</td>\n",
       "      <td>-815.0</td>\n",
       "      <td>-815.0</td>\n",
       "      <td>0.0</td>\n",
       "      <td>0.0</td>\n",
       "      <td>0.0</td>\n",
       "      <td>29.793865</td>\n",
       "      <td>29.793865</td>\n",
       "      <td>24282.00</td>\n",
       "      <td>24282.0</td>\n",
       "      <td>0.000260</td>\n",
       "      <td>0.001016</td>\n",
       "      <td>0.001016</td>\n",
       "      <td>0.212008</td>\n",
       "      <td>0.828021</td>\n",
       "      <td>0.828021</td>\n",
       "      <td>0.828021</td>\n",
       "      <td>NaN</td>\n",
       "      <td>0.0</td>\n",
       "      <td>0.0</td>\n",
       "      <td>0.0</td>\n",
       "      <td>0.0</td>\n",
       "      <td>0.0</td>\n",
       "      <td>0.0</td>\n",
       "      <td>1.0</td>\n",
       "      <td>0.0</td>\n",
       "      <td>0.0</td>\n",
       "      <td>0.0</td>\n",
       "      <td>0.0</td>\n",
       "      <td>0.0</td>\n",
       "      <td>0.119115</td>\n",
       "      <td>0.000146</td>\n",
       "      <td>0.119115</td>\n",
       "      <td>0.119115</td>\n",
       "      <td>0.119115</td>\n",
       "      <td>0.000000</td>\n",
       "      <td>0.0</td>\n",
       "      <td>1.0</td>\n",
       "      <td>0.001227</td>\n",
       "      <td>0.001227</td>\n",
       "      <td>1.0</td>\n",
       "      <td>NaN</td>\n",
       "      <td>NaN</td>\n",
       "      <td>0.0</td>\n",
       "      <td>0.0</td>\n",
       "      <td>0.0</td>\n",
       "      <td>0.0</td>\n",
       "      <td>0.0</td>\n",
       "      <td>0.0</td>\n",
       "      <td>0.0</td>\n",
       "      <td>0.0</td>\n",
       "      <td>0.0</td>\n",
       "      <td>NaN</td>\n",
       "      <td>NaN</td>\n",
       "      <td>NaN</td>\n",
       "      <td>NaN</td>\n",
       "      <td>NaN</td>\n",
       "      <td>NaN</td>\n",
       "      <td>NaN</td>\n",
       "    </tr>\n",
       "    <tr>\n",
       "      <th>4</th>\n",
       "      <td>100005</td>\n",
       "      <td>NaN</td>\n",
       "      <td>NaN</td>\n",
       "      <td>NaN</td>\n",
       "      <td>0.060611</td>\n",
       "      <td>NaN</td>\n",
       "      <td>NaN</td>\n",
       "      <td>NaN</td>\n",
       "      <td>NaN</td>\n",
       "      <td>2.0</td>\n",
       "      <td>-460.0</td>\n",
       "      <td>-460.0</td>\n",
       "      <td>-460.000000</td>\n",
       "      <td>0.0</td>\n",
       "      <td>0.0</td>\n",
       "      <td>40153.5</td>\n",
       "      <td>20076.75</td>\n",
       "      <td>0.000000</td>\n",
       "      <td>53.042933</td>\n",
       "      <td>26.521466</td>\n",
       "      <td>8.342371</td>\n",
       "      <td>8.342371</td>\n",
       "      <td>8.342371</td>\n",
       "      <td>0.011020</td>\n",
       "      <td>0.011020</td>\n",
       "      <td>0.011020</td>\n",
       "      <td>4813.200</td>\n",
       "      <td>4813.200</td>\n",
       "      <td>4813.200</td>\n",
       "      <td>6.358256</td>\n",
       "      <td>6.358256</td>\n",
       "      <td>6.358256</td>\n",
       "      <td>-757.0</td>\n",
       "      <td>-315.0</td>\n",
       "      <td>442.0</td>\n",
       "      <td>1.0</td>\n",
       "      <td>0.5</td>\n",
       "      <td>29.469947</td>\n",
       "      <td>58.939894</td>\n",
       "      <td>22308.75</td>\n",
       "      <td>44617.5</td>\n",
       "      <td>0.000144</td>\n",
       "      <td>0.001189</td>\n",
       "      <td>0.001189</td>\n",
       "      <td>0.108964</td>\n",
       "      <td>0.899950</td>\n",
       "      <td>0.899950</td>\n",
       "      <td>0.899950</td>\n",
       "      <td>NaN</td>\n",
       "      <td>0.0</td>\n",
       "      <td>0.0</td>\n",
       "      <td>0.0</td>\n",
       "      <td>0.0</td>\n",
       "      <td>0.0</td>\n",
       "      <td>1.0</td>\n",
       "      <td>1.0</td>\n",
       "      <td>0.0</td>\n",
       "      <td>0.0</td>\n",
       "      <td>0.0</td>\n",
       "      <td>1.0</td>\n",
       "      <td>0.0</td>\n",
       "      <td>0.071063</td>\n",
       "      <td>0.000300</td>\n",
       "      <td>0.142127</td>\n",
       "      <td>0.081516</td>\n",
       "      <td>0.060611</td>\n",
       "      <td>0.020905</td>\n",
       "      <td>0.0</td>\n",
       "      <td>1.0</td>\n",
       "      <td>0.001321</td>\n",
       "      <td>0.001321</td>\n",
       "      <td>1.0</td>\n",
       "      <td>NaN</td>\n",
       "      <td>NaN</td>\n",
       "      <td>0.0</td>\n",
       "      <td>0.0</td>\n",
       "      <td>0.0</td>\n",
       "      <td>0.0</td>\n",
       "      <td>0.0</td>\n",
       "      <td>0.0</td>\n",
       "      <td>0.0</td>\n",
       "      <td>1.0</td>\n",
       "      <td>0.0</td>\n",
       "      <td>NaN</td>\n",
       "      <td>NaN</td>\n",
       "      <td>NaN</td>\n",
       "      <td>NaN</td>\n",
       "      <td>NaN</td>\n",
       "      <td>NaN</td>\n",
       "      <td>NaN</td>\n",
       "    </tr>\n",
       "  </tbody>\n",
       "</table>\n",
       "</div>"
      ],
      "text/plain": [
       "   SK_ID_CURR  MIN_PREV_AMT_ANNUITY_12M  MIN_PREV_AMT_ANNUITY_24M  \\\n",
       "0      100001                       NaN                       NaN   \n",
       "1      100002                       NaN                  9251.775   \n",
       "2      100003                       NaN                       NaN   \n",
       "3      100004                       NaN                       NaN   \n",
       "4      100005                       NaN                       NaN   \n",
       "\n",
       "   MIN_PREV_PROP_APPROVED_12M  AVG_SYNTH_TARGET_12M  \\\n",
       "0                         NaN                   NaN   \n",
       "1                         NaN                   NaN   \n",
       "2                         NaN                   NaN   \n",
       "3                         NaN                   NaN   \n",
       "4                         NaN              0.060611   \n",
       "\n",
       "   AVG_PREV_PROP_APPROVED_12M  AVG_PREV_PROP_APPROVED_24M  \\\n",
       "0                         NaN                         NaN   \n",
       "1                         NaN                         1.0   \n",
       "2                         NaN                         NaN   \n",
       "3                         NaN                         NaN   \n",
       "4                         NaN                         NaN   \n",
       "\n",
       "   MAX_PREV_PROP_APPROVED_12M  MAX_PREV_PROP_APPROVED_24M  COUNT_PREV_APP  \\\n",
       "0                         NaN                         NaN             1.0   \n",
       "1                         NaN                         1.0             1.0   \n",
       "2                         NaN                         NaN             3.0   \n",
       "3                         NaN                         NaN             1.0   \n",
       "4                         NaN                         NaN             2.0   \n",
       "\n",
       "   MIN_PREV_DAYS_TERMINATION  MAX_PREV_DAYS_TERMINATION  \\\n",
       "0                    -1612.0                    -1612.0   \n",
       "1                      -17.0                      -17.0   \n",
       "2                    -1976.0                     -527.0   \n",
       "3                     -714.0                     -714.0   \n",
       "4                     -460.0                     -460.0   \n",
       "\n",
       "   AVG_PREV_DAYS_TERMINATION  RANGE_PREV_DAYS_TERMINATION  \\\n",
       "0               -1612.000000                          0.0   \n",
       "1                 -17.000000                          0.0   \n",
       "2               -1047.333333                       1449.0   \n",
       "3                -714.000000                          0.0   \n",
       "4                -460.000000                          0.0   \n",
       "\n",
       "   MIN_PREV_AMT_CREDIT  MAX_PREV_AMT_CREDIT  AVG_PREV_AMT_CREDIT  \\\n",
       "0              23787.0              23787.0             23787.00   \n",
       "1             179055.0             179055.0            179055.00   \n",
       "2              68053.5            1035882.0            484191.00   \n",
       "3              20106.0              20106.0             20106.00   \n",
       "4                  0.0              40153.5             20076.75   \n",
       "\n",
       "   MIN_PREV_AMT_CREDIT_WEIGHTED  MAX_PREV_AMT_CREDIT_WEIGHTED  \\\n",
       "0                     13.670690                     13.670690   \n",
       "1                    295.470297                    295.470297   \n",
       "2                     29.070269                   1388.581769   \n",
       "3                     24.669939                     24.669939   \n",
       "4                      0.000000                     53.042933   \n",
       "\n",
       "   AVG_PREV_AMT_CREDIT_WEIGHTED  MIN_PREV_AMT_CREDIT_DIV_ANNUITY  \\\n",
       "0                     13.670690                         6.020501   \n",
       "1                    295.470297                        19.353584   \n",
       "2                    612.903940                         5.399568   \n",
       "3                     24.669939                         3.753045   \n",
       "4                     26.521466                         8.342371   \n",
       "\n",
       "   MAX_PREV_AMT_CREDIT_DIV_ANNUITY  AVG_PREV_AMT_CREDIT_DIV_ANNUITY  \\\n",
       "0                         6.020501                         6.020501   \n",
       "1                        19.353584                        19.353584   \n",
       "2                        10.531859                         8.677472   \n",
       "3                         3.753045                         3.753045   \n",
       "4                         8.342371                         8.342371   \n",
       "\n",
       "   MIN_PREV_AMT_CREDIT_DIV_ANNUITY_WEIGHTED  \\\n",
       "0                                  0.003460   \n",
       "1                                  0.031937   \n",
       "2                                  0.004315   \n",
       "3                                  0.004605   \n",
       "4                                  0.011020   \n",
       "\n",
       "   MAX_PREV_AMT_CREDIT_DIV_ANNUITY_WEIGHTED  \\\n",
       "0                                  0.003460   \n",
       "1                                  0.031937   \n",
       "2                                  0.014118   \n",
       "3                                  0.004605   \n",
       "4                                  0.011020   \n",
       "\n",
       "   AVG_PREV_AMT_CREDIT_DIV_ANNUITY_WEIGHTED  MIN_PREV_AMT_ANNUITY  \\\n",
       "0                                  0.003460              3951.000   \n",
       "1                                  0.031937              9251.775   \n",
       "2                                  0.008318              6737.310   \n",
       "3                                  0.004605              5357.250   \n",
       "4                                  0.011020              4813.200   \n",
       "\n",
       "   MAX_PREV_AMT_ANNUITY  AVG_PREV_AMT_ANNUITY  MIN_PREV_AMT_ANNUITY_WEIGHTED  \\\n",
       "0              3951.000              3951.000                       2.270690   \n",
       "1              9251.775              9251.775                      15.266955   \n",
       "2             98356.995             56553.990                       2.877962   \n",
       "3              5357.250              5357.250                       6.573313   \n",
       "4              4813.200              4813.200                       6.358256   \n",
       "\n",
       "   MAX_PREV_AMT_ANNUITY_WEIGHTED  AVG_PREV_AMT_ANNUITY_WEIGHTED  \\\n",
       "0                       2.270690                       2.270690   \n",
       "1                      15.266955                      15.266955   \n",
       "2                     131.845838                      70.901357   \n",
       "3                       6.573313                       6.573313   \n",
       "4                       6.358256                       6.358256   \n",
       "\n",
       "   MIN_DAYS_DECISION  MAX_DAYS_DECISION  RANGE_DAYS_DECISION  \\\n",
       "0            -1740.0            -1740.0                  0.0   \n",
       "1             -606.0             -606.0                  0.0   \n",
       "2            -2341.0             -746.0               1595.0   \n",
       "3             -815.0             -815.0                  0.0   \n",
       "4             -757.0             -315.0                442.0   \n",
       "\n",
       "   SUM_DAYS_LAST_DUE_NULL  AVG_DAYS_LAST_DUE_NULL  \\\n",
       "0                     0.0                     0.0   \n",
       "1                     0.0                     0.0   \n",
       "2                     0.0                     0.0   \n",
       "3                     0.0                     0.0   \n",
       "4                     1.0                     0.5   \n",
       "\n",
       "   AVG_PREV_REQ_AMOUNT_WEIGHTED  MAX_PREV_REQ_AMOUNT_WEIGHTED  \\\n",
       "0                     14.273276                     14.273276   \n",
       "1                    295.470297                    295.470297   \n",
       "2                    547.812073                   1206.434316   \n",
       "3                     29.793865                     29.793865   \n",
       "4                     29.469947                     58.939894   \n",
       "\n",
       "   AVG_PREV_REQ_AMOUNT  MAX_PREV_REQ_AMOUNT  \\\n",
       "0             24835.50              24835.5   \n",
       "1            179055.00             179055.0   \n",
       "2            435436.50             900000.0   \n",
       "3             24282.00              24282.0   \n",
       "4             22308.75              44617.5   \n",
       "\n",
       "   AVG_PREV_RATE_DOWNPAYMENT_WEIGHTED  AVG_PREV_PROP_APPROVED_WEIGHTED  \\\n",
       "0                            0.000060                         0.000550   \n",
       "1                            0.000000                         0.001650   \n",
       "2                            0.000021                         0.001071   \n",
       "3                            0.000260                         0.001016   \n",
       "4                            0.000144                         0.001189   \n",
       "\n",
       "   MAX_PREV_PROP_APPROVED_WEIGHTED  AVG_PREV_RATE_DOWNPAYMENT  \\\n",
       "0                         0.000550                   0.104326   \n",
       "1                         0.001650                   0.000000   \n",
       "2                         0.001543                   0.050030   \n",
       "3                         0.001016                   0.212008   \n",
       "4                         0.001189                   0.108964   \n",
       "\n",
       "   AVG_PREV_PROP_APPROVED  MAX_PREV_PROP_APPROVED  MIN_PREV_PROP_APPROVED  \\\n",
       "0                0.957782                0.957782                0.957782   \n",
       "1                1.000000                1.000000                1.000000   \n",
       "2                1.057664                1.150980                0.989013   \n",
       "3                0.828021                0.828021                0.828021   \n",
       "4                0.899950                0.899950                0.899950   \n",
       "\n",
       "   AVG_PREV_INT_RATE  SUM_PREV_URGENT_NEEDS  SUM_PREV_REPAIRS  SUM_PREV_OTHER  \\\n",
       "0                NaN                    0.0               0.0             0.0   \n",
       "1                NaN                    0.0               0.0             0.0   \n",
       "2                NaN                    0.0               0.0             0.0   \n",
       "3                NaN                    0.0               0.0             0.0   \n",
       "4                NaN                    0.0               0.0             0.0   \n",
       "\n",
       "   SUM_PREV_LIMIT_REJECT  SUM_REFUSED_CONTRACT  SUM_CANC_CONTRACT  \\\n",
       "0                    0.0                   0.0                0.0   \n",
       "1                    0.0                   0.0                0.0   \n",
       "2                    0.0                   0.0                0.0   \n",
       "3                    0.0                   0.0                0.0   \n",
       "4                    0.0                   0.0                1.0   \n",
       "\n",
       "   SUM_APPR_CONTRACT  SUM_PREV_HC_REJECT  SUM_PREV_INSURE_REQ  \\\n",
       "0                1.0                 0.0                  0.0   \n",
       "1                1.0                 0.0                  0.0   \n",
       "2                3.0                 0.0                  2.0   \n",
       "3                1.0                 0.0                  0.0   \n",
       "4                1.0                 0.0                  0.0   \n",
       "\n",
       "   COUNT_PREV_WALK_IN  COUNT_PREV_HIGH_YIELD  COUNT_PREV_LOW_YIELD  \\\n",
       "0                 0.0                    1.0                   0.0   \n",
       "1                 0.0                    0.0                   1.0   \n",
       "2                 0.0                    0.0                   1.0   \n",
       "3                 0.0                    0.0                   0.0   \n",
       "4                 0.0                    1.0                   0.0   \n",
       "\n",
       "   AVG_SYNTH_TARGET  SUM_SYNTH_TARGET_WEIGHTED  SUM_SYNTH_TARGET  \\\n",
       "0          0.101729                   0.000058          0.101729   \n",
       "1          0.071974                   0.000119          0.071974   \n",
       "2          0.078878                   0.000225          0.236634   \n",
       "3          0.119115                   0.000146          0.119115   \n",
       "4          0.071063                   0.000300          0.142127   \n",
       "\n",
       "   MAX_SYNTH_TARGET  MIN_SYNTH_TARGET  RANGE_SYNTH_TARGET  \\\n",
       "0          0.101729          0.101729            0.000000   \n",
       "1          0.071974          0.071974            0.000000   \n",
       "2          0.090332          0.070374            0.019958   \n",
       "3          0.119115          0.119115            0.000000   \n",
       "4          0.081516          0.060611            0.020905   \n",
       "\n",
       "   SUM_DAYS_LAST_DUE_1ST_VERSION_EQ_DAYS_LAST_DUE  \\\n",
       "0                                             0.0   \n",
       "1                                             0.0   \n",
       "2                                             2.0   \n",
       "3                                             0.0   \n",
       "4                                             0.0   \n",
       "\n",
       "   SUM_DAYS_FIRST_DRAWING_SENTINEL  SUM_DAYS_FIRST_DRAWING_SENTINEL_WEIGHTED  \\\n",
       "0                              1.0                                  0.000575   \n",
       "1                              1.0                                  0.001650   \n",
       "2                              3.0                                  0.002975   \n",
       "3                              1.0                                  0.001227   \n",
       "4                              1.0                                  0.001321   \n",
       "\n",
       "   MAX_DAYS_FIRST_DRAWING_SENTINEL_WEIGHTED  \\\n",
       "0                                  0.000575   \n",
       "1                                  0.001650   \n",
       "2                                  0.001340   \n",
       "3                                  0.001227   \n",
       "4                                  0.001321   \n",
       "\n",
       "   SUM_DAYS_LAST_DUE_LT_FIRST_VERSION  MIN_RATE_INTEREST_PRIMARY_12M  \\\n",
       "0                                 1.0                            NaN   \n",
       "1                                 1.0                            NaN   \n",
       "2                                 1.0                            NaN   \n",
       "3                                 1.0                            NaN   \n",
       "4                                 1.0                            NaN   \n",
       "\n",
       "   AVG_RATE_INTEREST_PRIVILEGED_12M  SUM_REFUSED_CONTRACT_6M  \\\n",
       "0                               NaN                      0.0   \n",
       "1                               NaN                      0.0   \n",
       "2                               NaN                      0.0   \n",
       "3                               NaN                      0.0   \n",
       "4                               NaN                      0.0   \n",
       "\n",
       "   SUM_PRODUCT_COMBINATION_POS_HOUSE_INTEREST_12M  \\\n",
       "0                                             0.0   \n",
       "1                                             0.0   \n",
       "2                                             0.0   \n",
       "3                                             0.0   \n",
       "4                                             0.0   \n",
       "\n",
       "   SUM_PRODUCT_COMBINATION_POS_MOBILE_INTEREST_12M  \\\n",
       "0                                              0.0   \n",
       "1                                              0.0   \n",
       "2                                              0.0   \n",
       "3                                              0.0   \n",
       "4                                              0.0   \n",
       "\n",
       "   SUM_NAME_GOODS_CATEGORY_XNA_6M  SUM_NAME_SELLER_INDUSTRY_XNA_6M  \\\n",
       "0                             0.0                              0.0   \n",
       "1                             0.0                              0.0   \n",
       "2                             0.0                              0.0   \n",
       "3                             0.0                              0.0   \n",
       "4                             0.0                              0.0   \n",
       "\n",
       "   SUM_NAME_SELLER_INDUSTRY_CSTR_6M  SUM_NAME_PAYMENT_TYPE_XNA_6M  \\\n",
       "0                               0.0                           0.0   \n",
       "1                               0.0                           0.0   \n",
       "2                               0.0                           0.0   \n",
       "3                               0.0                           0.0   \n",
       "4                               0.0                           0.0   \n",
       "\n",
       "   COUNT_NAME_CLIENT_TYPE_REPEATER_12M  COUNT_NAME_CLIENT_TYPE_NEW_12M  \\\n",
       "0                                  0.0                             0.0   \n",
       "1                                  0.0                             0.0   \n",
       "2                                  0.0                             0.0   \n",
       "3                                  0.0                             0.0   \n",
       "4                                  1.0                             0.0   \n",
       "\n",
       "   AVG_PREV_AMT_CREDIT_DIV_AMT_ANNUITY_6M  \\\n",
       "0                                     NaN   \n",
       "1                                     NaN   \n",
       "2                                     NaN   \n",
       "3                                     NaN   \n",
       "4                                     NaN   \n",
       "\n",
       "   MIN_PREV_AMT_CREDIT_DIV_AMT_ANNUITY_6M  \\\n",
       "0                                     NaN   \n",
       "1                                     NaN   \n",
       "2                                     NaN   \n",
       "3                                     NaN   \n",
       "4                                     NaN   \n",
       "\n",
       "   MAX_PREV_AMT_CREDIT_DIV_AMT_ANNUITY_6M  \\\n",
       "0                                     NaN   \n",
       "1                                     NaN   \n",
       "2                                     NaN   \n",
       "3                                     NaN   \n",
       "4                                     NaN   \n",
       "\n",
       "   AVG_PREV_AMT_CREDIT_DIV_AMT_GOODS_PRICE_6M  \\\n",
       "0                                         NaN   \n",
       "1                                         NaN   \n",
       "2                                         NaN   \n",
       "3                                         NaN   \n",
       "4                                         NaN   \n",
       "\n",
       "   MAX_PREV_AMT_CREDIT_DIV_AMT_GOODS_PRICE_6M  \\\n",
       "0                                         NaN   \n",
       "1                                         NaN   \n",
       "2                                         NaN   \n",
       "3                                         NaN   \n",
       "4                                         NaN   \n",
       "\n",
       "   AVG_PREV_AMT_CREDIT_PLUS_AMT_ANNUITY_6M  \\\n",
       "0                                      NaN   \n",
       "1                                      NaN   \n",
       "2                                      NaN   \n",
       "3                                      NaN   \n",
       "4                                      NaN   \n",
       "\n",
       "   MIN_PREV_AMT_CREDIT_PLUS_AMT_ANNUITY_6M  \n",
       "0                                      NaN  \n",
       "1                                      NaN  \n",
       "2                                      NaN  \n",
       "3                                      NaN  \n",
       "4                                      NaN  "
      ]
     },
     "execution_count": 164,
     "metadata": {},
     "output_type": "execute_result"
    },
    {
     "name": "stdout",
     "output_type": "stream",
     "text": [
      "time: 188 ms\n"
     ]
    }
   ],
   "source": [
    "previous_agg.head()"
   ]
  },
  {
   "cell_type": "markdown",
   "metadata": {},
   "source": [
    "#### Write new aggregates to file\n",
    "\n",
    "Definitions should also be added to preprocessing script"
   ]
  },
  {
   "cell_type": "markdown",
   "metadata": {},
   "source": [
    "previous_agg.to_csv(path + \"previous_agg.csv\", index=False, header=True)"
   ]
  },
  {
   "cell_type": "markdown",
   "metadata": {},
   "source": [
    "# Point of Sale"
   ]
  },
  {
   "cell_type": "markdown",
   "metadata": {},
   "source": [
    "#### Load data"
   ]
  },
  {
   "cell_type": "markdown",
   "metadata": {},
   "source": [
    "Pull in performance data"
   ]
  },
  {
   "cell_type": "code",
   "execution_count": 183,
   "metadata": {},
   "outputs": [
    {
     "name": "stdout",
     "output_type": "stream",
     "text": [
      "time: 9.13 s\n"
     ]
    }
   ],
   "source": [
    "frame = pd.read_csv(path + \"train.csv\", usecols=[\"SK_ID_CURR\", \"TARGET\"])"
   ]
  },
  {
   "cell_type": "markdown",
   "metadata": {},
   "source": [
    "Load raw bureau data for calculating new aggregates"
   ]
  },
  {
   "cell_type": "code",
   "execution_count": 184,
   "metadata": {},
   "outputs": [
    {
     "name": "stdout",
     "output_type": "stream",
     "text": [
      "time: 15.8 s\n"
     ]
    }
   ],
   "source": [
    "pos_cash = pd.read_csv(path + \"POS_CASH_balance.csv\")"
   ]
  },
  {
   "cell_type": "code",
   "execution_count": 187,
   "metadata": {},
   "outputs": [
    {
     "data": {
      "text/html": [
       "<div>\n",
       "<style scoped>\n",
       "    .dataframe tbody tr th:only-of-type {\n",
       "        vertical-align: middle;\n",
       "    }\n",
       "\n",
       "    .dataframe tbody tr th {\n",
       "        vertical-align: top;\n",
       "    }\n",
       "\n",
       "    .dataframe thead th {\n",
       "        text-align: right;\n",
       "    }\n",
       "</style>\n",
       "<table border=\"1\" class=\"dataframe\">\n",
       "  <thead>\n",
       "    <tr style=\"text-align: right;\">\n",
       "      <th></th>\n",
       "      <th>SK_ID_PREV</th>\n",
       "      <th>SK_ID_CURR</th>\n",
       "      <th>MONTHS_BALANCE</th>\n",
       "      <th>CNT_INSTALMENT</th>\n",
       "      <th>CNT_INSTALMENT_FUTURE</th>\n",
       "      <th>NAME_CONTRACT_STATUS</th>\n",
       "      <th>SK_DPD</th>\n",
       "      <th>SK_DPD_DEF</th>\n",
       "    </tr>\n",
       "  </thead>\n",
       "  <tbody>\n",
       "    <tr>\n",
       "      <th>1312</th>\n",
       "      <td>2270633</td>\n",
       "      <td>274147</td>\n",
       "      <td>-3</td>\n",
       "      <td>24.0</td>\n",
       "      <td>17.0</td>\n",
       "      <td>Active</td>\n",
       "      <td>16</td>\n",
       "      <td>0</td>\n",
       "    </tr>\n",
       "    <tr>\n",
       "      <th>7490</th>\n",
       "      <td>1121698</td>\n",
       "      <td>417906</td>\n",
       "      <td>-5</td>\n",
       "      <td>12.0</td>\n",
       "      <td>3.0</td>\n",
       "      <td>Active</td>\n",
       "      <td>8</td>\n",
       "      <td>8</td>\n",
       "    </tr>\n",
       "    <tr>\n",
       "      <th>9220</th>\n",
       "      <td>1467136</td>\n",
       "      <td>125771</td>\n",
       "      <td>-6</td>\n",
       "      <td>12.0</td>\n",
       "      <td>2.0</td>\n",
       "      <td>Active</td>\n",
       "      <td>2</td>\n",
       "      <td>2</td>\n",
       "    </tr>\n",
       "    <tr>\n",
       "      <th>9470</th>\n",
       "      <td>2675685</td>\n",
       "      <td>224293</td>\n",
       "      <td>-6</td>\n",
       "      <td>36.0</td>\n",
       "      <td>19.0</td>\n",
       "      <td>Active</td>\n",
       "      <td>4</td>\n",
       "      <td>4</td>\n",
       "    </tr>\n",
       "    <tr>\n",
       "      <th>10169</th>\n",
       "      <td>1754696</td>\n",
       "      <td>128260</td>\n",
       "      <td>-4</td>\n",
       "      <td>12.0</td>\n",
       "      <td>2.0</td>\n",
       "      <td>Active</td>\n",
       "      <td>3</td>\n",
       "      <td>3</td>\n",
       "    </tr>\n",
       "  </tbody>\n",
       "</table>\n",
       "</div>"
      ],
      "text/plain": [
       "       SK_ID_PREV  SK_ID_CURR  MONTHS_BALANCE  CNT_INSTALMENT  \\\n",
       "1312      2270633      274147              -3            24.0   \n",
       "7490      1121698      417906              -5            12.0   \n",
       "9220      1467136      125771              -6            12.0   \n",
       "9470      2675685      224293              -6            36.0   \n",
       "10169     1754696      128260              -4            12.0   \n",
       "\n",
       "       CNT_INSTALMENT_FUTURE NAME_CONTRACT_STATUS  SK_DPD  SK_DPD_DEF  \n",
       "1312                    17.0               Active      16           0  \n",
       "7490                     3.0               Active       8           8  \n",
       "9220                     2.0               Active       2           2  \n",
       "9470                    19.0               Active       4           4  \n",
       "10169                    2.0               Active       3           3  "
      ]
     },
     "execution_count": 187,
     "metadata": {},
     "output_type": "execute_result"
    },
    {
     "name": "stdout",
     "output_type": "stream",
     "text": [
      "time: 196 ms\n"
     ]
    }
   ],
   "source": [
    "pos_cash.query(\"MONTHS_BALANCE >= -6 and SK_DPD > 0\").head()"
   ]
  },
  {
   "cell_type": "markdown",
   "metadata": {},
   "source": [
    "#### Aggregation function"
   ]
  },
  {
   "cell_type": "code",
   "execution_count": 188,
   "metadata": {},
   "outputs": [
    {
     "name": "stdout",
     "output_type": "stream",
     "text": [
      "time: 20 ms\n"
     ]
    }
   ],
   "source": [
    "def pos_cash_agg_func(g):\n",
    "    mask3 = g[\"MONTHS_BALANCE\"] >= -3\n",
    "    mask6 = g[\"MONTHS_BALANCE\"] >= -6\n",
    "    mask12 = g[\"MONTHS_BALANCE\"] >= -12\n",
    "    overdue = g[\"SK_DPD\"] > 0\n",
    "    \n",
    "    d = {\n",
    "\n",
    "    }\n",
    "    \n",
    "    return pd.Series(d)"
   ]
  },
  {
   "cell_type": "markdown",
   "metadata": {},
   "source": [
    "#### Process data and join"
   ]
  },
  {
   "cell_type": "markdown",
   "metadata": {},
   "source": [
    "Calculate new aggregates"
   ]
  },
  {
   "cell_type": "code",
   "execution_count": 189,
   "metadata": {},
   "outputs": [
    {
     "name": "stdout",
     "output_type": "stream",
     "text": [
      "time: 54min 21s\n"
     ]
    }
   ],
   "source": [
    "pos_cash_agg_new = pos_cash.groupby(\"SK_ID_CURR\").apply(pos_cash_agg_func).reset_index()\n",
    "new_cols = [c for c in pos_cash_agg_new.columns if c != \"SK_ID_CURR\"]"
   ]
  },
  {
   "cell_type": "code",
   "execution_count": 190,
   "metadata": {},
   "outputs": [
    {
     "data": {
      "text/plain": [
       "['MAX_POS_DPD_6M',\n",
       " 'MAX_POS_DPD_DEF_6M',\n",
       " 'COUNT_POS_OVERDUE_6M',\n",
       " 'COUNT_POS_OVERDUE_3M',\n",
       " 'MIN_CNT_INSTALMENT_FUTURE_6M',\n",
       " 'MAX_CNT_INSTALMENT_FUTURE_6M',\n",
       " 'MAX_CNT_INSTALMENT_FUTURE_PROD_SK_DPD_6M',\n",
       " 'MAX_CNT_INSTALMENT_FUTURE_PROD_SK_DPD_DEF_6M',\n",
       " 'MAX_CNT_INSTALMENT_FUTURE_PROD_SK_DPD_12M']"
      ]
     },
     "execution_count": 190,
     "metadata": {},
     "output_type": "execute_result"
    },
    {
     "name": "stdout",
     "output_type": "stream",
     "text": [
      "time: 4.52 ms\n"
     ]
    }
   ],
   "source": [
    "new_cols"
   ]
  },
  {
   "cell_type": "markdown",
   "metadata": {},
   "source": [
    "Load old aggregates and join with new"
   ]
  },
  {
   "cell_type": "code",
   "execution_count": 191,
   "metadata": {},
   "outputs": [
    {
     "name": "stdout",
     "output_type": "stream",
     "text": [
      "time: 454 ms\n"
     ]
    }
   ],
   "source": [
    "pos_cash_agg = pd.read_csv(path + \"pos_cash_agg.csv\")\n",
    "pos_cash_agg = pd.merge(pos_cash_agg, pos_cash_agg_new, how=\"left\", on=\"SK_ID_CURR\")"
   ]
  },
  {
   "cell_type": "markdown",
   "metadata": {},
   "source": [
    "Merge with performance data"
   ]
  },
  {
   "cell_type": "code",
   "execution_count": 192,
   "metadata": {},
   "outputs": [
    {
     "data": {
      "text/html": [
       "<div>\n",
       "<style scoped>\n",
       "    .dataframe tbody tr th:only-of-type {\n",
       "        vertical-align: middle;\n",
       "    }\n",
       "\n",
       "    .dataframe tbody tr th {\n",
       "        vertical-align: top;\n",
       "    }\n",
       "\n",
       "    .dataframe thead th {\n",
       "        text-align: right;\n",
       "    }\n",
       "</style>\n",
       "<table border=\"1\" class=\"dataframe\">\n",
       "  <thead>\n",
       "    <tr style=\"text-align: right;\">\n",
       "      <th></th>\n",
       "      <th>SK_ID_CURR</th>\n",
       "      <th>TARGET</th>\n",
       "      <th>MAX_POS_DPD</th>\n",
       "      <th>MAX_POS_DPD_DEF</th>\n",
       "      <th>NUM_POS_CASH</th>\n",
       "      <th>MAX_POS_DPD_6M</th>\n",
       "      <th>MAX_POS_DPD_DEF_6M</th>\n",
       "      <th>COUNT_POS_OVERDUE_6M</th>\n",
       "      <th>COUNT_POS_OVERDUE_3M</th>\n",
       "      <th>MIN_CNT_INSTALMENT_FUTURE_6M</th>\n",
       "      <th>MAX_CNT_INSTALMENT_FUTURE_6M</th>\n",
       "      <th>MAX_CNT_INSTALMENT_FUTURE_PROD_SK_DPD_6M</th>\n",
       "      <th>MAX_CNT_INSTALMENT_FUTURE_PROD_SK_DPD_DEF_6M</th>\n",
       "      <th>MAX_CNT_INSTALMENT_FUTURE_PROD_SK_DPD_12M</th>\n",
       "    </tr>\n",
       "  </thead>\n",
       "  <tbody>\n",
       "    <tr>\n",
       "      <th>0</th>\n",
       "      <td>100002</td>\n",
       "      <td>1</td>\n",
       "      <td>0.0</td>\n",
       "      <td>0.0</td>\n",
       "      <td>1.0</td>\n",
       "      <td>0.0</td>\n",
       "      <td>0.0</td>\n",
       "      <td>0.0</td>\n",
       "      <td>0.0</td>\n",
       "      <td>6.0</td>\n",
       "      <td>11.0</td>\n",
       "      <td>0.0</td>\n",
       "      <td>0.0</td>\n",
       "      <td>0.0</td>\n",
       "    </tr>\n",
       "    <tr>\n",
       "      <th>1</th>\n",
       "      <td>100003</td>\n",
       "      <td>0</td>\n",
       "      <td>0.0</td>\n",
       "      <td>0.0</td>\n",
       "      <td>3.0</td>\n",
       "      <td>NaN</td>\n",
       "      <td>NaN</td>\n",
       "      <td>0.0</td>\n",
       "      <td>0.0</td>\n",
       "      <td>NaN</td>\n",
       "      <td>NaN</td>\n",
       "      <td>NaN</td>\n",
       "      <td>NaN</td>\n",
       "      <td>NaN</td>\n",
       "    </tr>\n",
       "    <tr>\n",
       "      <th>2</th>\n",
       "      <td>100004</td>\n",
       "      <td>0</td>\n",
       "      <td>0.0</td>\n",
       "      <td>0.0</td>\n",
       "      <td>1.0</td>\n",
       "      <td>NaN</td>\n",
       "      <td>NaN</td>\n",
       "      <td>0.0</td>\n",
       "      <td>0.0</td>\n",
       "      <td>NaN</td>\n",
       "      <td>NaN</td>\n",
       "      <td>NaN</td>\n",
       "      <td>NaN</td>\n",
       "      <td>NaN</td>\n",
       "    </tr>\n",
       "    <tr>\n",
       "      <th>3</th>\n",
       "      <td>100006</td>\n",
       "      <td>0</td>\n",
       "      <td>0.0</td>\n",
       "      <td>0.0</td>\n",
       "      <td>3.0</td>\n",
       "      <td>0.0</td>\n",
       "      <td>0.0</td>\n",
       "      <td>0.0</td>\n",
       "      <td>0.0</td>\n",
       "      <td>0.0</td>\n",
       "      <td>48.0</td>\n",
       "      <td>0.0</td>\n",
       "      <td>0.0</td>\n",
       "      <td>0.0</td>\n",
       "    </tr>\n",
       "    <tr>\n",
       "      <th>4</th>\n",
       "      <td>100007</td>\n",
       "      <td>0</td>\n",
       "      <td>0.0</td>\n",
       "      <td>0.0</td>\n",
       "      <td>5.0</td>\n",
       "      <td>0.0</td>\n",
       "      <td>0.0</td>\n",
       "      <td>0.0</td>\n",
       "      <td>0.0</td>\n",
       "      <td>13.0</td>\n",
       "      <td>18.0</td>\n",
       "      <td>0.0</td>\n",
       "      <td>0.0</td>\n",
       "      <td>0.0</td>\n",
       "    </tr>\n",
       "  </tbody>\n",
       "</table>\n",
       "</div>"
      ],
      "text/plain": [
       "   SK_ID_CURR  TARGET  MAX_POS_DPD  MAX_POS_DPD_DEF  NUM_POS_CASH  \\\n",
       "0      100002       1          0.0              0.0           1.0   \n",
       "1      100003       0          0.0              0.0           3.0   \n",
       "2      100004       0          0.0              0.0           1.0   \n",
       "3      100006       0          0.0              0.0           3.0   \n",
       "4      100007       0          0.0              0.0           5.0   \n",
       "\n",
       "   MAX_POS_DPD_6M  MAX_POS_DPD_DEF_6M  COUNT_POS_OVERDUE_6M  \\\n",
       "0             0.0                 0.0                   0.0   \n",
       "1             NaN                 NaN                   0.0   \n",
       "2             NaN                 NaN                   0.0   \n",
       "3             0.0                 0.0                   0.0   \n",
       "4             0.0                 0.0                   0.0   \n",
       "\n",
       "   COUNT_POS_OVERDUE_3M  MIN_CNT_INSTALMENT_FUTURE_6M  \\\n",
       "0                   0.0                           6.0   \n",
       "1                   0.0                           NaN   \n",
       "2                   0.0                           NaN   \n",
       "3                   0.0                           0.0   \n",
       "4                   0.0                          13.0   \n",
       "\n",
       "   MAX_CNT_INSTALMENT_FUTURE_6M  MAX_CNT_INSTALMENT_FUTURE_PROD_SK_DPD_6M  \\\n",
       "0                          11.0                                       0.0   \n",
       "1                           NaN                                       NaN   \n",
       "2                           NaN                                       NaN   \n",
       "3                          48.0                                       0.0   \n",
       "4                          18.0                                       0.0   \n",
       "\n",
       "   MAX_CNT_INSTALMENT_FUTURE_PROD_SK_DPD_DEF_6M  \\\n",
       "0                                           0.0   \n",
       "1                                           NaN   \n",
       "2                                           NaN   \n",
       "3                                           0.0   \n",
       "4                                           0.0   \n",
       "\n",
       "   MAX_CNT_INSTALMENT_FUTURE_PROD_SK_DPD_12M  \n",
       "0                                        0.0  \n",
       "1                                        NaN  \n",
       "2                                        NaN  \n",
       "3                                        0.0  \n",
       "4                                        0.0  "
      ]
     },
     "execution_count": 192,
     "metadata": {},
     "output_type": "execute_result"
    },
    {
     "name": "stdout",
     "output_type": "stream",
     "text": [
      "time: 337 ms\n"
     ]
    }
   ],
   "source": [
    "df = pd.merge(frame, pos_cash_agg, how=\"left\", on=\"SK_ID_CURR\")\n",
    "all_cols = df.drop([\"TARGET\", \"SK_ID_CURR\"], axis=1).columns.tolist()\n",
    "df.head()"
   ]
  },
  {
   "cell_type": "code",
   "execution_count": 193,
   "metadata": {},
   "outputs": [
    {
     "data": {
      "text/plain": [
       "(307511, 14)"
      ]
     },
     "execution_count": 193,
     "metadata": {},
     "output_type": "execute_result"
    },
    {
     "name": "stdout",
     "output_type": "stream",
     "text": [
      "time: 3.75 ms\n"
     ]
    }
   ],
   "source": [
    "df.shape"
   ]
  },
  {
   "cell_type": "markdown",
   "metadata": {},
   "source": [
    "#### Fit quick model with all aggregates"
   ]
  },
  {
   "cell_type": "code",
   "execution_count": 194,
   "metadata": {},
   "outputs": [
    {
     "name": "stdout",
     "output_type": "stream",
     "text": [
      "time: 10.4 s\n"
     ]
    }
   ],
   "source": [
    "result = quick_model(X=df, \n",
    "                     y=df[\"TARGET\"], \n",
    "                     usecols=all_cols, \n",
    "                     dropcols=[], \n",
    "                     n_estimators=100, \n",
    "                     num_leaves=13, \n",
    "                     folds=3)"
   ]
  },
  {
   "cell_type": "markdown",
   "metadata": {},
   "source": [
    "CV AUC mean"
   ]
  },
  {
   "cell_type": "code",
   "execution_count": 195,
   "metadata": {},
   "outputs": [
    {
     "data": {
      "text/plain": [
       "0.5841"
      ]
     },
     "execution_count": 195,
     "metadata": {},
     "output_type": "execute_result"
    },
    {
     "name": "stdout",
     "output_type": "stream",
     "text": [
      "time: 4.76 ms\n"
     ]
    }
   ],
   "source": [
    "round(result[\"auc_mean\"], 4)"
   ]
  },
  {
   "cell_type": "markdown",
   "metadata": {},
   "source": [
    "#### Iterate over each new aggregate and compute leave-one-out AUC"
   ]
  },
  {
   "cell_type": "code",
   "execution_count": 196,
   "metadata": {},
   "outputs": [
    {
     "name": "stdout",
     "output_type": "stream",
     "text": [
      "MAX_POS_DPD_6M: 0.5843\n",
      "MAX_POS_DPD_DEF_6M: 0.5842\n",
      "COUNT_POS_OVERDUE_6M: 0.5843\n",
      "COUNT_POS_OVERDUE_3M: 0.5843\n",
      "MIN_CNT_INSTALMENT_FUTURE_6M: 0.583\n",
      "MAX_CNT_INSTALMENT_FUTURE_6M: 0.5789\n",
      "MAX_CNT_INSTALMENT_FUTURE_PROD_SK_DPD_6M: 0.5843\n",
      "MAX_CNT_INSTALMENT_FUTURE_PROD_SK_DPD_DEF_6M: 0.5843\n",
      "MAX_CNT_INSTALMENT_FUTURE_PROD_SK_DPD_12M: 0.5818\n",
      "time: 1min 27s\n"
     ]
    }
   ],
   "source": [
    "baseline = result[\"auc_mean\"]\n",
    "to_drop = []\n",
    "\n",
    "for c in new_cols:\n",
    "    auc = quick_model(X=df, \n",
    "                     y=df[\"TARGET\"], \n",
    "                     usecols=all_cols, \n",
    "                     dropcols=[c], \n",
    "                     n_estimators=100, \n",
    "                     num_leaves=13, \n",
    "                     folds=3)[\"auc_mean\"]\n",
    "    if auc >= baseline: to_drop.append(c)\n",
    "    print(c + \": \" + str(round(auc, 4)))"
   ]
  },
  {
   "cell_type": "markdown",
   "metadata": {},
   "source": [
    "Aggregates to be dropped"
   ]
  },
  {
   "cell_type": "code",
   "execution_count": 197,
   "metadata": {},
   "outputs": [
    {
     "data": {
      "text/plain": [
       "['MAX_POS_DPD_6M',\n",
       " 'MAX_POS_DPD_DEF_6M',\n",
       " 'COUNT_POS_OVERDUE_6M',\n",
       " 'COUNT_POS_OVERDUE_3M',\n",
       " 'MAX_CNT_INSTALMENT_FUTURE_PROD_SK_DPD_6M',\n",
       " 'MAX_CNT_INSTALMENT_FUTURE_PROD_SK_DPD_DEF_6M']"
      ]
     },
     "execution_count": 197,
     "metadata": {},
     "output_type": "execute_result"
    },
    {
     "name": "stdout",
     "output_type": "stream",
     "text": [
      "time: 5.84 ms\n"
     ]
    }
   ],
   "source": [
    "to_drop"
   ]
  },
  {
   "cell_type": "markdown",
   "metadata": {},
   "source": [
    "Aggregates to be kept"
   ]
  },
  {
   "cell_type": "code",
   "execution_count": 198,
   "metadata": {},
   "outputs": [
    {
     "data": {
      "text/plain": [
       "['MIN_CNT_INSTALMENT_FUTURE_6M',\n",
       " 'MAX_CNT_INSTALMENT_FUTURE_6M',\n",
       " 'MAX_CNT_INSTALMENT_FUTURE_PROD_SK_DPD_12M']"
      ]
     },
     "execution_count": 198,
     "metadata": {},
     "output_type": "execute_result"
    },
    {
     "name": "stdout",
     "output_type": "stream",
     "text": [
      "time: 6.66 ms\n"
     ]
    }
   ],
   "source": [
    "[c for c in new_cols if c not in to_drop]"
   ]
  },
  {
   "cell_type": "markdown",
   "metadata": {},
   "source": [
    "Drop unimportant aggregates"
   ]
  },
  {
   "cell_type": "code",
   "execution_count": 206,
   "metadata": {},
   "outputs": [
    {
     "data": {
      "text/plain": [
       "(337252, 7)"
      ]
     },
     "execution_count": 206,
     "metadata": {},
     "output_type": "execute_result"
    },
    {
     "name": "stdout",
     "output_type": "stream",
     "text": [
      "time: 159 ms\n"
     ]
    }
   ],
   "source": [
    "pos_cash_agg.drop(['MAX_POS_DPD_6M',\n",
    " 'MAX_POS_DPD_DEF_6M',\n",
    " 'COUNT_POS_OVERDUE_6M',\n",
    " 'COUNT_POS_OVERDUE_3M',\n",
    " 'MAX_CNT_INSTALMENT_FUTURE_PROD_SK_DPD_6M',\n",
    " 'MAX_CNT_INSTALMENT_FUTURE_PROD_SK_DPD_DEF_6M'], axis=1, inplace=True)\n",
    "pos_cash_agg.shape"
   ]
  },
  {
   "cell_type": "markdown",
   "metadata": {},
   "source": [
    "#### Write new aggregates to file\n",
    "\n",
    "Definitions should also be added to preprocessing script"
   ]
  },
  {
   "cell_type": "markdown",
   "metadata": {},
   "source": [
    "pos_cash_agg.to_csv(path + \"pos_cash_agg.csv\", index=False, header=True)"
   ]
  },
  {
   "cell_type": "markdown",
   "metadata": {},
   "source": [
    "# AUC-based feature selection"
   ]
  },
  {
   "cell_type": "code",
   "execution_count": 199,
   "metadata": {},
   "outputs": [
    {
     "name": "stdout",
     "output_type": "stream",
     "text": [
      "time: 53.6 s\n"
     ]
    }
   ],
   "source": [
    "df = pd.read_csv(path + \"train.csv\")\n",
    "all_cols = df.drop([\"TARGET\", \"SK_ID_CURR\"], axis=1).columns.tolist()"
   ]
  },
  {
   "cell_type": "code",
   "execution_count": 200,
   "metadata": {},
   "outputs": [
    {
     "data": {
      "text/plain": [
       "(307511, 494)"
      ]
     },
     "execution_count": 200,
     "metadata": {},
     "output_type": "execute_result"
    },
    {
     "name": "stdout",
     "output_type": "stream",
     "text": [
      "time: 3.72 ms\n"
     ]
    }
   ],
   "source": [
    "df.shape"
   ]
  },
  {
   "cell_type": "markdown",
   "metadata": {},
   "source": [
    "#### Fit quick model with all features"
   ]
  },
  {
   "cell_type": "code",
   "execution_count": 201,
   "metadata": {},
   "outputs": [
    {
     "name": "stdout",
     "output_type": "stream",
     "text": [
      "time: 2min 30s\n"
     ]
    }
   ],
   "source": [
    "result = quick_model(X=df, \n",
    "                     y=df[\"TARGET\"], \n",
    "                     usecols=all_cols, \n",
    "                     dropcols=[], \n",
    "                     n_estimators=100, \n",
    "                     num_leaves=13, \n",
    "                     folds=3)"
   ]
  },
  {
   "cell_type": "markdown",
   "metadata": {},
   "source": [
    "CV AUC mean"
   ]
  },
  {
   "cell_type": "code",
   "execution_count": 202,
   "metadata": {},
   "outputs": [
    {
     "data": {
      "text/plain": [
       "0.7817"
      ]
     },
     "execution_count": 202,
     "metadata": {},
     "output_type": "execute_result"
    },
    {
     "name": "stdout",
     "output_type": "stream",
     "text": [
      "time: 18.7 ms\n"
     ]
    }
   ],
   "source": [
    "round(result[\"auc_mean\"], 4)"
   ]
  },
  {
   "cell_type": "markdown",
   "metadata": {},
   "source": [
    "#### Iterate over each feature and drop if AUC contribution is not positive"
   ]
  },
  {
   "cell_type": "code",
   "execution_count": null,
   "metadata": {},
   "outputs": [],
   "source": [
    "baseline = result[\"auc_mean\"]\n",
    "to_drop = []\n",
    "\n",
    "for c in all_cols:\n",
    "    auc = quick_model(X=df, \n",
    "                     y=df[\"TARGET\"], \n",
    "                     usecols=all_cols, \n",
    "                     dropcols=to_drop + [c], \n",
    "                     n_estimators=100, \n",
    "                     num_leaves=13, \n",
    "                     folds=3)[\"auc_mean\"]\n",
    "    if auc >= baseline: \n",
    "        to_drop.append(c)\n",
    "        print(c + \" dropped...\")\n",
    "        baseline = auc"
   ]
  },
  {
   "cell_type": "code",
   "execution_count": 212,
   "metadata": {},
   "outputs": [
    {
     "name": "stdout",
     "output_type": "stream",
     "text": [
      "time: 2min 10s\n"
     ]
    }
   ],
   "source": [
    "df.drop(to_drop, axis=1).to_csv(path + \"train_pruned.csv\", index=False, header=True)"
   ]
  }
 ],
 "metadata": {
  "kernelspec": {
   "display_name": "Python 3",
   "language": "python",
   "name": "python3"
  },
  "language_info": {
   "codemirror_mode": {
    "name": "ipython",
    "version": 3
   },
   "file_extension": ".py",
   "mimetype": "text/x-python",
   "name": "python",
   "nbconvert_exporter": "python",
   "pygments_lexer": "ipython3",
   "version": "3.6.5"
  }
 },
 "nbformat": 4,
 "nbformat_minor": 2
}
