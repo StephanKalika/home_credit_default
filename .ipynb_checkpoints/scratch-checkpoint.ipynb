{
 "cells": [
  {
   "cell_type": "markdown",
   "metadata": {},
   "source": [
    "### Bayesian optimization"
   ]
  },
  {
   "cell_type": "code",
   "execution_count": null,
   "metadata": {},
   "outputs": [],
   "source": [
    "%%capture\n",
    "def objective(params):\n",
    "    fit_params = {\"early_stopping_rounds\": 200, \n",
    "                  \"eval_metric\": \"auc\", \n",
    "                  \"eval_set\": [(df_val[lgb_cols], y_val)]}\n",
    "    \n",
    "    clf = lgb.LGBMClassifier(n_estimators=params[0], \n",
    "                             num_leaves=params[1], \n",
    "                             learning_rate=np.exp(-params[2]), \n",
    "                             reg_lambda=np.exp(-params[3]), \n",
    "                             subsample=0.5, \n",
    "                             colsample_bytree=0.75)\n",
    "    \n",
    "    return 1 - cross_val_score(estimator=clf, \n",
    "                               X=df, \n",
    "                               y=y, \n",
    "                               fit_params=fit_params, \n",
    "                               scoring=\"roc_auc\").mean()\n",
    "\n",
    "space = [[20000], \n",
    "        (77, 521), \n",
    "        (-9.0, 0), \n",
    "        (-9.0, 0)]\n",
    "\n",
    "result = gp_minimize(objective, space, n_calls=200, random_state=0)"
   ]
  },
  {
   "cell_type": "code",
   "execution_count": null,
   "metadata": {},
   "outputs": [],
   "source": [
    "result.x"
   ]
  },
  {
   "cell_type": "code",
   "execution_count": null,
   "metadata": {},
   "outputs": [],
   "source": [
    "1 - result.fun"
   ]
  },
  {
   "cell_type": "code",
   "execution_count": null,
   "metadata": {},
   "outputs": [],
   "source": [
    "plot_convergence(result, yscale=\"log\")"
   ]
  },
  {
   "cell_type": "markdown",
   "metadata": {},
   "source": [
    "### LightGBM Random Search"
   ]
  },
  {
   "cell_type": "code",
   "execution_count": null,
   "metadata": {},
   "outputs": [],
   "source": [
    "%%capture\n",
    "params = {\"n_estimators\": [20000], \n",
    "         \"num_leaves\": randint(77, 521), \n",
    "         \"learning_rate\": uniform(0, 0.01), \n",
    "         \"reg_lambda\": uniform(0, 1), \n",
    "         \"subsample\": uniform(0.5, 0.5), \n",
    "         \"colsample_bytree\": uniform(0.5, 0.5)}\n",
    "\n",
    "fit_params={\"early_stopping_rounds\": 200, \n",
    "            \"eval_metric\": \"auc\", \n",
    "            \"eval_set\": [(df_val[lgb_cols], y_val)]}\n",
    "\n",
    "cv = RandomizedSearchCV(estimator=lgb.LGBMClassifier(), \n",
    "                        param_distributions=params, \n",
    "                        fit_params=fit_params, \n",
    "                        scoring=\"roc_auc\", \n",
    "                        cv=3, \n",
    "                        n_iter=100)\n",
    "\n",
    "cv.fit(df_train[lgb_cols], y_train)"
   ]
  },
  {
   "cell_type": "code",
   "execution_count": null,
   "metadata": {},
   "outputs": [],
   "source": [
    "cv_results = pd.DataFrame(cv.cv_results_).sort_values(by=\"mean_test_score\", ascending=False)\n",
    "cv_results.head(20)"
   ]
  },
  {
   "cell_type": "markdown",
   "metadata": {},
   "source": [
    "### Synthetic target"
   ]
  },
  {
   "cell_type": "code",
   "execution_count": null,
   "metadata": {},
   "outputs": [],
   "source": [
    "cols = [\"AMT_CREDIT\", \n",
    "        \"AMT_GOODS_PRICE\", \n",
    "        \"HOUR_APPR_PROCESS_START\", \n",
    "        \"NAME_CONTRACT_TYPE\", \n",
    "        \"NAME_TYPE_SUITE\", \n",
    "        \"WEEKDAY_APPR_PROCESS_START\"]\n",
    "\n",
    "app_temp = pd.get_dummies(application[cols])\n",
    "\n",
    "app_temp.head()"
   ]
  },
  {
   "cell_type": "code",
   "execution_count": null,
   "metadata": {},
   "outputs": [],
   "source": [
    "impute = Imputer(strategy=\"median\")\n",
    "scale = StandardScaler()\n",
    "\n",
    "clf = LogisticRegressionCV(Cs=[np.exp(-i) for i in range(13)], \n",
    "                          penalty=\"l2\", \n",
    "                          scoring=\"roc_auc\")\n",
    "\n",
    "y_app_temp = app_temp.pop(\"TARGET\")\n",
    "\n",
    "clf.fit(scale.fit_transform(impute.fit_transform(app_temp)), y_app_temp)"
   ]
  },
  {
   "cell_type": "code",
   "execution_count": null,
   "metadata": {},
   "outputs": [],
   "source": [
    "with open(\"/Users/danielsaxton/home_credit_default_risk/linear_model.pkl\", \"wb\") as f:\n",
    "    pickle.dump(clf, f)"
   ]
  }
 ],
 "metadata": {
  "kernelspec": {
   "display_name": "Python 3",
   "language": "python",
   "name": "python3"
  },
  "language_info": {
   "codemirror_mode": {
    "name": "ipython",
    "version": 3
   },
   "file_extension": ".py",
   "mimetype": "text/x-python",
   "name": "python",
   "nbconvert_exporter": "python",
   "pygments_lexer": "ipython3",
   "version": "3.6.4"
  }
 },
 "nbformat": 4,
 "nbformat_minor": 2
}
