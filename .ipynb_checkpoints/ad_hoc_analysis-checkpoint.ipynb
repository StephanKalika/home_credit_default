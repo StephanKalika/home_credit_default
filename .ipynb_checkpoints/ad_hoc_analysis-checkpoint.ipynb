{
 "cells": [
  {
   "cell_type": "markdown",
   "metadata": {},
   "source": [
    "# Home Credit EDA and Feature Construction"
   ]
  },
  {
   "cell_type": "code",
   "execution_count": 201,
   "metadata": {},
   "outputs": [
    {
     "name": "stdout",
     "output_type": "stream",
     "text": [
      "The autotime extension is already loaded. To reload it, use:\n",
      "  %reload_ext autotime\n",
      "time: 13 ms\n"
     ]
    }
   ],
   "source": [
    "import numpy as np\n",
    "import pandas as pd\n",
    "import seaborn as sns\n",
    "import matplotlib.pyplot as plt\n",
    "from scipy.stats import iqr, randint, uniform\n",
    "import lightgbm as lgb\n",
    "from sklearn.tree import DecisionTreeClassifier\n",
    "from sklearn.ensemble import RandomForestClassifier\n",
    "from sklearn.linear_model import LogisticRegressionCV\n",
    "from sklearn.preprocessing import Imputer, StandardScaler, RobustScaler\n",
    "from sklearn.model_selection import RandomizedSearchCV, GridSearchCV, train_test_split, cross_val_score\n",
    "from sklearn.metrics import roc_auc_score\n",
    "from skopt import gp_minimize\n",
    "from skopt.plots import plot_convergence, plot_objective\n",
    "from IPython.display import display\n",
    "import warnings\n",
    "import pickle\n",
    "import gc\n",
    "\n",
    "%load_ext autotime\n",
    "# %unload_ext autotime\n",
    "\n",
    "pd.options.display.max_columns = None\n",
    "warnings.filterwarnings(\"ignore\")\n",
    "gc.enable()\n",
    "np.random.seed(123)\n",
    "\n",
    "path = \"/Users/dsaxton/home_credit_default/\""
   ]
  },
  {
   "cell_type": "markdown",
   "metadata": {},
   "source": [
    "#### Full data"
   ]
  },
  {
   "cell_type": "code",
   "execution_count": 74,
   "metadata": {},
   "outputs": [
    {
     "name": "stdout",
     "output_type": "stream",
     "text": [
      "time: 48.3 s\n"
     ]
    }
   ],
   "source": [
    "df = pd.read_csv(path + \"preprocessed_train.csv\")"
   ]
  },
  {
   "cell_type": "markdown",
   "metadata": {},
   "source": [
    "#### Application table"
   ]
  },
  {
   "cell_type": "code",
   "execution_count": null,
   "metadata": {},
   "outputs": [],
   "source": [
    "train_or_test = \"train\"\n",
    "application = pd.read_csv(path + \"application_\" + train_or_test + \"test.csv\")"
   ]
  },
  {
   "cell_type": "markdown",
   "metadata": {},
   "source": [
    "#### Previous application and behavioral tables"
   ]
  },
  {
   "cell_type": "code",
   "execution_count": null,
   "metadata": {},
   "outputs": [],
   "source": [
    "bureau_balance = pd.read_csv(path + \"bureau_balance.csv\")\n",
    "bureau = pd.read_csv(path + \"bureau.csv\")\n",
    "credit_card = pd.read_csv(path + \"credit_card_balance.csv\")\n",
    "installments = pd.read_csv(path + \"installments_payments.csv\")\n",
    "pos_cash = pd.read_csv(path + \"POS_CASH_balance.csv\")\n",
    "previous_application = pd.read_csv(path + \"previous_application.csv\")"
   ]
  },
  {
   "cell_type": "markdown",
   "metadata": {},
   "source": [
    "#### Aggregate tables"
   ]
  },
  {
   "cell_type": "code",
   "execution_count": null,
   "metadata": {},
   "outputs": [],
   "source": [
    "bureau_agg = pd.read_csv(path + \"bureau_agg.csv\")\n",
    "credit_card_agg = pd.read_csv(path + \"credit_card_agg.csv\")"
   ]
  },
  {
   "cell_type": "markdown",
   "metadata": {},
   "source": [
    "# Feature construction sand box"
   ]
  },
  {
   "cell_type": "markdown",
   "metadata": {},
   "source": [
    "#### Quick model function"
   ]
  },
  {
   "cell_type": "code",
   "execution_count": 160,
   "metadata": {},
   "outputs": [
    {
     "name": "stdout",
     "output_type": "stream",
     "text": [
      "time: 4 ms\n"
     ]
    }
   ],
   "source": [
    "def quick_model(X, y, n_estimators, num_leaves, usecols, dropcols=[], folds=5):\n",
    "    take = [c for c in usecols if c not in dropcols]\n",
    "    clf = lgb.LGBMClassifier(n_estimators=n_estimators, num_leaves=num_leaves)\n",
    "    clf.fit(X[take], y)\n",
    "    var_imp = pd.DataFrame({\"Feature\": X[take].columns, \"Importance\": clf.feature_importances_})[[\"Feature\", \"Importance\"]].sort_values(\"Importance\", ascending=False)\n",
    "    cv_result = cross_val_score(estimator=clf, X=X[take], y=y, scoring=\"roc_auc\", cv=folds)\n",
    "    auc_mean = round(cv_result.mean(), 4)\n",
    "    auc_std = round(cv_result.std() / np.sqrt(folds), 4)\n",
    "    \n",
    "    return {\"var_imp\": var_imp, \"auc_mean\": auc_mean, \"auc_std\": auc_std}"
   ]
  },
  {
   "cell_type": "markdown",
   "metadata": {},
   "source": [
    "# Bureau"
   ]
  },
  {
   "cell_type": "markdown",
   "metadata": {},
   "source": [
    "#### Load data"
   ]
  },
  {
   "cell_type": "markdown",
   "metadata": {},
   "source": [
    "Pull in performance data"
   ]
  },
  {
   "cell_type": "code",
   "execution_count": 286,
   "metadata": {},
   "outputs": [
    {
     "name": "stdout",
     "output_type": "stream",
     "text": [
      "time: 8.2 s\n"
     ]
    }
   ],
   "source": [
    "frame = pd.read_csv(path + \"preprocessed_train.csv\", usecols=[\"SK_ID_CURR\", \"TARGET\"])"
   ]
  },
  {
   "cell_type": "markdown",
   "metadata": {},
   "source": [
    "Load raw bureau data for calculating new aggregates"
   ]
  },
  {
   "cell_type": "code",
   "execution_count": 287,
   "metadata": {},
   "outputs": [
    {
     "name": "stdout",
     "output_type": "stream",
     "text": [
      "time: 7.68 s\n"
     ]
    }
   ],
   "source": [
    "bureau = pd.read_csv(path + \"bureau.csv\")"
   ]
  },
  {
   "cell_type": "markdown",
   "metadata": {},
   "source": [
    "Load bureau_balance_agg and join with raw bureau data"
   ]
  },
  {
   "cell_type": "code",
   "execution_count": 288,
   "metadata": {},
   "outputs": [
    {
     "name": "stdout",
     "output_type": "stream",
     "text": [
      "time: 2.55 s\n"
     ]
    }
   ],
   "source": [
    "bureau_balance_agg = pd.read_csv(path + \"bureau_balance_agg.csv\")\n",
    "bureau_balance_agg = bureau_balance_agg[bureau_balance_agg[\"SK_ID_BUREAU\"].isin(bureau[\"SK_ID_BUREAU\"])]\n",
    "bureau_joined = pd.merge(bureau, bureau_balance_agg, how=\"left\", on=\"SK_ID_BUREAU\")"
   ]
  },
  {
   "cell_type": "markdown",
   "metadata": {},
   "source": [
    "#### Aggregation function"
   ]
  },
  {
   "cell_type": "code",
   "execution_count": 289,
   "metadata": {},
   "outputs": [
    {
     "name": "stdout",
     "output_type": "stream",
     "text": [
      "time: 2.72 ms\n"
     ]
    }
   ],
   "source": [
    "def bureau_agg_func(g):\n",
    "    mask6 = g[\"DAYS_CREDIT_UPDATE\"] >= -180\n",
    "    mask12 = g[\"DAYS_CREDIT_UPDATE\"] >= -360\n",
    "    mask24 = g[\"DAYS_CREDIT_UPDATE\"] >= -720\n",
    "    active = g[\"CREDIT_ACTIVE\"] == \"Active\"\n",
    "    cc = g[\"CREDIT_TYPE\"] == \"Credit card\"\n",
    "    \n",
    "    d = {}\n",
    "    \n",
    "    return pd.Series(d)"
   ]
  },
  {
   "cell_type": "markdown",
   "metadata": {},
   "source": [
    "#### Process data and join"
   ]
  },
  {
   "cell_type": "markdown",
   "metadata": {},
   "source": [
    "Calculate new aggregates"
   ]
  },
  {
   "cell_type": "code",
   "execution_count": 268,
   "metadata": {},
   "outputs": [
    {
     "name": "stdout",
     "output_type": "stream",
     "text": [
      "time: 29.6 s\n"
     ]
    }
   ],
   "source": [
    "bureau_agg_new = bureau_joined.groupby(\"SK_ID_CURR\").apply(bureau_agg_func).reset_index()\n",
    "new_cols = [c for c in bureau_agg_new.columns if c != \"SK_ID_CURR\"]"
   ]
  },
  {
   "cell_type": "code",
   "execution_count": 269,
   "metadata": {},
   "outputs": [
    {
     "data": {
      "text/plain": [
       "['SUM_AMT_CREDIT_SUM_DEBT_DIV_DAYS_CREDIT_ENDDATE_ACTIVE_12M']"
      ]
     },
     "execution_count": 269,
     "metadata": {},
     "output_type": "execute_result"
    },
    {
     "name": "stdout",
     "output_type": "stream",
     "text": [
      "time: 5.1 ms\n"
     ]
    }
   ],
   "source": [
    "new_cols"
   ]
  },
  {
   "cell_type": "markdown",
   "metadata": {},
   "source": [
    "Load old aggregatea and join with new"
   ]
  },
  {
   "cell_type": "code",
   "execution_count": 270,
   "metadata": {},
   "outputs": [
    {
     "name": "stdout",
     "output_type": "stream",
     "text": [
      "time: 9 s\n"
     ]
    }
   ],
   "source": [
    "bureau_agg = pd.read_csv(path + \"bureau_agg.csv\")\n",
    "bureau_agg = pd.merge(bureau_agg, bureau_agg_new, how=\"left\", on=\"SK_ID_CURR\")"
   ]
  },
  {
   "cell_type": "markdown",
   "metadata": {},
   "source": [
    "Merge with performance data"
   ]
  },
  {
   "cell_type": "code",
   "execution_count": 271,
   "metadata": {},
   "outputs": [
    {
     "name": "stdout",
     "output_type": "stream",
     "text": [
      "time: 1.31 s\n"
     ]
    }
   ],
   "source": [
    "df = pd.merge(frame, bureau_agg, how=\"left\", on=\"SK_ID_CURR\")"
   ]
  },
  {
   "cell_type": "markdown",
   "metadata": {},
   "source": [
    "#### Fit quick model with new aggregates"
   ]
  },
  {
   "cell_type": "code",
   "execution_count": 272,
   "metadata": {},
   "outputs": [
    {
     "name": "stdout",
     "output_type": "stream",
     "text": [
      "time: 22.3 s\n"
     ]
    }
   ],
   "source": [
    "result = quick_model(X=df, \n",
    "                     y=df[\"TARGET\"], \n",
    "                     usecols=df.drop([\"TARGET\", \"SK_ID_CURR\"], axis=1).columns.tolist(), \n",
    "                     dropcols=[], \n",
    "                     n_estimators=500, \n",
    "                     num_leaves=17, \n",
    "                     folds=3)"
   ]
  },
  {
   "cell_type": "markdown",
   "metadata": {},
   "source": [
    "CV AUC mean"
   ]
  },
  {
   "cell_type": "code",
   "execution_count": 273,
   "metadata": {},
   "outputs": [
    {
     "data": {
      "text/plain": [
       "0.5796"
      ]
     },
     "execution_count": 273,
     "metadata": {},
     "output_type": "execute_result"
    },
    {
     "name": "stdout",
     "output_type": "stream",
     "text": [
      "time: 2.93 ms\n"
     ]
    }
   ],
   "source": [
    "result[\"auc_mean\"]"
   ]
  },
  {
   "cell_type": "markdown",
   "metadata": {},
   "source": [
    "#### Fit quick model without specified aggregates"
   ]
  },
  {
   "cell_type": "code",
   "execution_count": 275,
   "metadata": {},
   "outputs": [
    {
     "name": "stdout",
     "output_type": "stream",
     "text": [
      "time: 22.9 s\n"
     ]
    }
   ],
   "source": [
    "result = quick_model(X=df, \n",
    "                     y=df[\"TARGET\"], \n",
    "                     usecols=df.drop([\"TARGET\", \"SK_ID_CURR\"], axis=1).columns.tolist(), \n",
    "                     dropcols=[], \n",
    "                     n_estimators=500, \n",
    "                     num_leaves=17, \n",
    "                     folds=3)"
   ]
  },
  {
   "cell_type": "markdown",
   "metadata": {},
   "source": [
    "CV AUC mean"
   ]
  },
  {
   "cell_type": "code",
   "execution_count": 276,
   "metadata": {},
   "outputs": [
    {
     "data": {
      "text/plain": [
       "0.5822"
      ]
     },
     "execution_count": 276,
     "metadata": {},
     "output_type": "execute_result"
    },
    {
     "name": "stdout",
     "output_type": "stream",
     "text": [
      "time: 5.85 ms\n"
     ]
    }
   ],
   "source": [
    "result[\"auc_mean\"]"
   ]
  },
  {
   "cell_type": "markdown",
   "metadata": {},
   "source": [
    "#### Write new aggregates to file"
   ]
  },
  {
   "cell_type": "raw",
   "metadata": {},
   "source": [
    "bureau_agg.to_csv(path + \"bureau_agg.csv\", index=False, header=True)"
   ]
  },
  {
   "cell_type": "markdown",
   "metadata": {},
   "source": [
    "# Installments"
   ]
  },
  {
   "cell_type": "markdown",
   "metadata": {},
   "source": [
    "#### Load data"
   ]
  },
  {
   "cell_type": "markdown",
   "metadata": {},
   "source": [
    "Pull in performance data"
   ]
  },
  {
   "cell_type": "code",
   "execution_count": 297,
   "metadata": {},
   "outputs": [
    {
     "name": "stdout",
     "output_type": "stream",
     "text": [
      "time: 8.1 s\n"
     ]
    }
   ],
   "source": [
    "frame = pd.read_csv(path + \"preprocessed_train.csv\", usecols=[\"SK_ID_CURR\", \"TARGET\"])"
   ]
  },
  {
   "cell_type": "markdown",
   "metadata": {},
   "source": [
    "Load raw bureau data for calculating new aggregates"
   ]
  },
  {
   "cell_type": "code",
   "execution_count": 298,
   "metadata": {},
   "outputs": [
    {
     "name": "stdout",
     "output_type": "stream",
     "text": [
      "time: 28.3 s\n"
     ]
    }
   ],
   "source": [
    "installments = pd.read_csv(path + \"installments_payments.csv\")"
   ]
  },
  {
   "cell_type": "markdown",
   "metadata": {},
   "source": [
    "#### Aggregation function"
   ]
  },
  {
   "cell_type": "code",
   "execution_count": 324,
   "metadata": {},
   "outputs": [
    {
     "name": "stdout",
     "output_type": "stream",
     "text": [
      "time: 5.7 ms\n"
     ]
    }
   ],
   "source": [
    "def installment_agg_func(g):\n",
    "    mask6 = g[\"DAYS_ENTRY_PAYMENT\"] >= -180\n",
    "    mask12 = g[\"DAYS_ENTRY_PAYMENT\"] >= -360\n",
    "    \n",
    "    d = {}\n",
    "    \n",
    "    return pd.Series(d)"
   ]
  },
  {
   "cell_type": "markdown",
   "metadata": {},
   "source": [
    "#### Process data and join"
   ]
  },
  {
   "cell_type": "markdown",
   "metadata": {},
   "source": [
    "Calculate new aggregates"
   ]
  },
  {
   "cell_type": "code",
   "execution_count": 325,
   "metadata": {},
   "outputs": [
    {
     "name": "stdout",
     "output_type": "stream",
     "text": [
      "time: 38min 43s\n"
     ]
    }
   ],
   "source": [
    "installment_agg_new = installments.groupby(\"SK_ID_CURR\").apply(installment_agg_func).reset_index()\n",
    "new_cols = [c for c in installment_agg_new.columns if c != \"SK_ID_CURR\"]"
   ]
  },
  {
   "cell_type": "code",
   "execution_count": 326,
   "metadata": {},
   "outputs": [
    {
     "data": {
      "text/plain": [
       "['SUM_PAYMENT_6M',\n",
       " 'SUM_PAYMENT_DIFF_6M_12M',\n",
       " 'MAX_AMT_INSTALMENT_6M',\n",
       " 'MIN_AMT_INSTALMENT_6M',\n",
       " 'MAX_DAYS_ENTRY_PAYMENT_DIFF_DAYS_INSTALMENT_12M',\n",
       " 'MIN_DAYS_ENTRY_PAYMENT_DIFF_DAYS_INSTALMENT_12M']"
      ]
     },
     "execution_count": 326,
     "metadata": {},
     "output_type": "execute_result"
    },
    {
     "name": "stdout",
     "output_type": "stream",
     "text": [
      "time: 6.08 ms\n"
     ]
    }
   ],
   "source": [
    "new_cols"
   ]
  },
  {
   "cell_type": "markdown",
   "metadata": {},
   "source": [
    "Load old aggregatea and join with new"
   ]
  },
  {
   "cell_type": "code",
   "execution_count": 327,
   "metadata": {},
   "outputs": [
    {
     "name": "stdout",
     "output_type": "stream",
     "text": [
      "time: 3.29 s\n"
     ]
    }
   ],
   "source": [
    "installment_agg = pd.read_csv(path + \"installment_agg.csv\")\n",
    "installment_agg = pd.merge(installment_agg, installment_agg_new, how=\"left\", on=\"SK_ID_CURR\")"
   ]
  },
  {
   "cell_type": "markdown",
   "metadata": {},
   "source": [
    "Merge with performance data"
   ]
  },
  {
   "cell_type": "code",
   "execution_count": 328,
   "metadata": {},
   "outputs": [
    {
     "name": "stdout",
     "output_type": "stream",
     "text": [
      "time: 628 ms\n"
     ]
    }
   ],
   "source": [
    "df = pd.merge(frame, installment_agg, how=\"left\", on=\"SK_ID_CURR\")"
   ]
  },
  {
   "cell_type": "markdown",
   "metadata": {},
   "source": [
    "#### Fit quick model with new aggregates"
   ]
  },
  {
   "cell_type": "code",
   "execution_count": 329,
   "metadata": {},
   "outputs": [
    {
     "name": "stdout",
     "output_type": "stream",
     "text": [
      "time: 49.2 s\n"
     ]
    }
   ],
   "source": [
    "result = quick_model(X=df, \n",
    "                     y=df[\"TARGET\"], \n",
    "                     usecols=df.drop([\"TARGET\", \"SK_ID_CURR\"], axis=1).columns.tolist(), \n",
    "                     dropcols=[], \n",
    "                     n_estimators=500, \n",
    "                     num_leaves=17, \n",
    "                     folds=3)"
   ]
  },
  {
   "cell_type": "markdown",
   "metadata": {},
   "source": [
    "CV AUC mean"
   ]
  },
  {
   "cell_type": "code",
   "execution_count": 330,
   "metadata": {},
   "outputs": [
    {
     "data": {
      "text/plain": [
       "0.6385"
      ]
     },
     "execution_count": 330,
     "metadata": {},
     "output_type": "execute_result"
    },
    {
     "name": "stdout",
     "output_type": "stream",
     "text": [
      "time: 3.65 ms\n"
     ]
    }
   ],
   "source": [
    "result[\"auc_mean\"]"
   ]
  },
  {
   "cell_type": "markdown",
   "metadata": {},
   "source": [
    "#### Fit quick model without specified aggregates"
   ]
  },
  {
   "cell_type": "code",
   "execution_count": 331,
   "metadata": {},
   "outputs": [
    {
     "name": "stdout",
     "output_type": "stream",
     "text": [
      "time: 55.2 s\n"
     ]
    }
   ],
   "source": [
    "result = quick_model(X=df, \n",
    "                     y=df[\"TARGET\"], \n",
    "                     usecols=df.drop([\"TARGET\", \"SK_ID_CURR\"], axis=1).columns.tolist(), \n",
    "                     dropcols=[], \n",
    "                     n_estimators=500, \n",
    "                     num_leaves=17, \n",
    "                     folds=3)"
   ]
  },
  {
   "cell_type": "markdown",
   "metadata": {},
   "source": [
    "CV AUC mean"
   ]
  },
  {
   "cell_type": "code",
   "execution_count": 332,
   "metadata": {},
   "outputs": [
    {
     "data": {
      "text/plain": [
       "0.6414"
      ]
     },
     "execution_count": 332,
     "metadata": {},
     "output_type": "execute_result"
    },
    {
     "name": "stdout",
     "output_type": "stream",
     "text": [
      "time: 4.3 ms\n"
     ]
    }
   ],
   "source": [
    "result[\"auc_mean\"]"
   ]
  },
  {
   "cell_type": "markdown",
   "metadata": {},
   "source": [
    "#### Write new aggregates to file\n",
    "\n",
    "Definitions should also be added to preprocessing script"
   ]
  },
  {
   "cell_type": "raw",
   "metadata": {},
   "source": [
    "installment_agg.to_csv(path + \"installment_agg.csv\", index=False, header=True)"
   ]
  },
  {
   "cell_type": "markdown",
   "metadata": {},
   "source": [
    "# Credit card"
   ]
  },
  {
   "cell_type": "markdown",
   "metadata": {},
   "source": [
    "#### Load data"
   ]
  },
  {
   "cell_type": "markdown",
   "metadata": {},
   "source": [
    "Pull in performance data"
   ]
  },
  {
   "cell_type": "code",
   "execution_count": 336,
   "metadata": {},
   "outputs": [
    {
     "name": "stdout",
     "output_type": "stream",
     "text": [
      "time: 8.39 s\n"
     ]
    }
   ],
   "source": [
    "frame = pd.read_csv(path + \"preprocessed_train.csv\", usecols=[\"SK_ID_CURR\", \"TARGET\"])"
   ]
  },
  {
   "cell_type": "markdown",
   "metadata": {},
   "source": [
    "Load raw bureau data for calculating new aggregates"
   ]
  },
  {
   "cell_type": "code",
   "execution_count": 337,
   "metadata": {},
   "outputs": [
    {
     "name": "stdout",
     "output_type": "stream",
     "text": [
      "time: 24 s\n"
     ]
    }
   ],
   "source": [
    "credit_card = pd.read_csv(path + \"credit_card_balance.csv\")"
   ]
  },
  {
   "cell_type": "markdown",
   "metadata": {},
   "source": [
    "#### Aggregation function"
   ]
  },
  {
   "cell_type": "code",
   "execution_count": 341,
   "metadata": {},
   "outputs": [
    {
     "name": "stdout",
     "output_type": "stream",
     "text": [
      "time: 4.52 ms\n"
     ]
    }
   ],
   "source": [
    "def credit_card_agg_func(g):\n",
    "    mask6 = g[\"MONTHS_BALANCE\"] >= -6\n",
    "    mask12 = g[\"MONTHS_BALANCE\"] >= -12\n",
    "    active = g[\"NAME_CONTRACT_STATUS\"] == \"Active\"\n",
    "    \n",
    "    d = {}\n",
    "    \n",
    "    return pd.Series(d)"
   ]
  },
  {
   "cell_type": "markdown",
   "metadata": {},
   "source": [
    "#### Process data and join"
   ]
  },
  {
   "cell_type": "markdown",
   "metadata": {},
   "source": [
    "Calculate new aggregates"
   ]
  },
  {
   "cell_type": "code",
   "execution_count": 342,
   "metadata": {},
   "outputs": [
    {
     "name": "stdout",
     "output_type": "stream",
     "text": [
      "time: 12min 37s\n"
     ]
    }
   ],
   "source": [
    "credit_card_agg_new = credit_card.groupby(\"SK_ID_CURR\").apply(credit_card_agg_func).reset_index()\n",
    "new_cols = [c for c in credit_card_agg_new.columns if c != \"SK_ID_CURR\"]"
   ]
  },
  {
   "cell_type": "code",
   "execution_count": 343,
   "metadata": {},
   "outputs": [
    {
     "data": {
      "text/plain": [
       "['SUM_CNT_DRAWINGS_ATM_CURRENT_6M',\n",
       " 'SUM_AMT_DRAWINGS_ATM_CURRENT_6M',\n",
       " 'MAX_AMT_DRAWINGS_ATM_CURRENT_6M',\n",
       " 'MAX_CNT_DRAWINGS_ATM_CURRENT_6M',\n",
       " 'MAX_AMT_RECEIVABLE_DIV_AMT_RECEIVABLE_PRINCIPAL_6M',\n",
       " 'MAX_CNT_INSTALMENT_MATURE_CUM_6M',\n",
       " 'MAX_UTILIZATION_6M']"
      ]
     },
     "execution_count": 343,
     "metadata": {},
     "output_type": "execute_result"
    },
    {
     "name": "stdout",
     "output_type": "stream",
     "text": [
      "time: 3.64 ms\n"
     ]
    }
   ],
   "source": [
    "new_cols"
   ]
  },
  {
   "cell_type": "markdown",
   "metadata": {},
   "source": [
    "Load old aggregatea and join with new"
   ]
  },
  {
   "cell_type": "code",
   "execution_count": 344,
   "metadata": {},
   "outputs": [
    {
     "name": "stdout",
     "output_type": "stream",
     "text": [
      "time: 1.96 s\n"
     ]
    }
   ],
   "source": [
    "credit_card_agg = pd.read_csv(path + \"credit_card_agg.csv\")\n",
    "credit_card_agg = pd.merge(credit_card_agg, credit_card_agg_new, how=\"left\", on=\"SK_ID_CURR\")"
   ]
  },
  {
   "cell_type": "markdown",
   "metadata": {},
   "source": [
    "Merge with performance data"
   ]
  },
  {
   "cell_type": "code",
   "execution_count": 345,
   "metadata": {},
   "outputs": [
    {
     "name": "stdout",
     "output_type": "stream",
     "text": [
      "time: 340 ms\n"
     ]
    }
   ],
   "source": [
    "df = pd.merge(frame, credit_card_agg, how=\"left\", on=\"SK_ID_CURR\")"
   ]
  },
  {
   "cell_type": "markdown",
   "metadata": {},
   "source": [
    "#### Fit quick model with new aggregates"
   ]
  },
  {
   "cell_type": "code",
   "execution_count": 358,
   "metadata": {},
   "outputs": [
    {
     "name": "stdout",
     "output_type": "stream",
     "text": [
      "time: 59.9 s\n"
     ]
    }
   ],
   "source": [
    "result = quick_model(X=df, \n",
    "                     y=df[\"TARGET\"], \n",
    "                     usecols=df.drop([\"TARGET\", \"SK_ID_CURR\"], axis=1).columns.tolist(), \n",
    "                     dropcols=[], \n",
    "                     n_estimators=500, \n",
    "                     num_leaves=17, \n",
    "                     folds=3)"
   ]
  },
  {
   "cell_type": "markdown",
   "metadata": {},
   "source": [
    "CV AUC mean"
   ]
  },
  {
   "cell_type": "code",
   "execution_count": 359,
   "metadata": {},
   "outputs": [
    {
     "data": {
      "text/plain": [
       "0.557"
      ]
     },
     "execution_count": 359,
     "metadata": {},
     "output_type": "execute_result"
    },
    {
     "name": "stdout",
     "output_type": "stream",
     "text": [
      "time: 4.19 ms\n"
     ]
    }
   ],
   "source": [
    "result[\"auc_mean\"]"
   ]
  },
  {
   "cell_type": "markdown",
   "metadata": {},
   "source": [
    "#### Fit quick model without specified aggregates"
   ]
  },
  {
   "cell_type": "code",
   "execution_count": 368,
   "metadata": {},
   "outputs": [
    {
     "name": "stdout",
     "output_type": "stream",
     "text": [
      "time: 1min\n"
     ]
    }
   ],
   "source": [
    "result = quick_model(X=df, \n",
    "                     y=df[\"TARGET\"], \n",
    "                     usecols=df.drop([\"TARGET\", \"SK_ID_CURR\"], axis=1).columns.tolist(), \n",
    "                     dropcols=[], \n",
    "                     n_estimators=500, \n",
    "                     num_leaves=17, \n",
    "                     folds=3)"
   ]
  },
  {
   "cell_type": "markdown",
   "metadata": {},
   "source": [
    "CV AUC mean"
   ]
  },
  {
   "cell_type": "code",
   "execution_count": 369,
   "metadata": {},
   "outputs": [
    {
     "data": {
      "text/plain": [
       "0.5562"
      ]
     },
     "execution_count": 369,
     "metadata": {},
     "output_type": "execute_result"
    },
    {
     "name": "stdout",
     "output_type": "stream",
     "text": [
      "time: 4.78 ms\n"
     ]
    }
   ],
   "source": [
    "result[\"auc_mean\"]"
   ]
  },
  {
   "cell_type": "markdown",
   "metadata": {},
   "source": [
    "Drop unimportant aggregates"
   ]
  },
  {
   "cell_type": "code",
   "execution_count": 370,
   "metadata": {},
   "outputs": [
    {
     "name": "stdout",
     "output_type": "stream",
     "text": [
      "time: 7.12 ms\n"
     ]
    }
   ],
   "source": [
    "to_drop = [\"MAX_CNT_INSTALMENT_MATURE_CUM_6M\"]"
   ]
  },
  {
   "cell_type": "code",
   "execution_count": 371,
   "metadata": {},
   "outputs": [
    {
     "data": {
      "text/plain": [
       "(103558, 43)"
      ]
     },
     "execution_count": 371,
     "metadata": {},
     "output_type": "execute_result"
    },
    {
     "name": "stdout",
     "output_type": "stream",
     "text": [
      "time: 38.4 ms\n"
     ]
    }
   ],
   "source": [
    "credit_card_agg.drop(to_drop, axis=1, inplace=True)\n",
    "credit_card_agg.shape"
   ]
  },
  {
   "cell_type": "markdown",
   "metadata": {},
   "source": [
    "#### Write new aggregates to file\n",
    "\n",
    "Definitions should also be added to preprocessing script"
   ]
  },
  {
   "cell_type": "raw",
   "metadata": {},
   "source": [
    "credit_card_agg.to_csv(path + \"credit_card_agg.csv\", index=False, header=True)"
   ]
  },
  {
   "cell_type": "markdown",
   "metadata": {},
   "source": [
    "# Previous application"
   ]
  },
  {
   "cell_type": "markdown",
   "metadata": {},
   "source": [
    "#### Load data"
   ]
  },
  {
   "cell_type": "markdown",
   "metadata": {},
   "source": [
    "Pull in performance data"
   ]
  },
  {
   "cell_type": "code",
   "execution_count": 336,
   "metadata": {},
   "outputs": [
    {
     "name": "stdout",
     "output_type": "stream",
     "text": [
      "time: 8.39 s\n"
     ]
    }
   ],
   "source": [
    "frame = pd.read_csv(path + \"preprocessed_train.csv\", usecols=[\"SK_ID_CURR\", \"TARGET\"])"
   ]
  },
  {
   "cell_type": "markdown",
   "metadata": {},
   "source": [
    "Load raw bureau data for calculating new aggregates"
   ]
  },
  {
   "cell_type": "code",
   "execution_count": 337,
   "metadata": {},
   "outputs": [
    {
     "name": "stdout",
     "output_type": "stream",
     "text": [
      "time: 24 s\n"
     ]
    }
   ],
   "source": [
    "previous_application = pd.read_csv(path + \"previous_application.csv\")"
   ]
  },
  {
   "cell_type": "markdown",
   "metadata": {},
   "source": [
    "#### Calculate synthetic target and sentinel features"
   ]
  },
  {
   "cell_type": "code",
   "execution_count": null,
   "metadata": {},
   "outputs": [],
   "source": [
    "with open(path + \"linear_model.pkl\", \"rb\") as f:\n",
    "    clf = pickle.load(f)\n",
    "\n",
    "impute = Imputer(strategy=\"median\")\n",
    "scale = StandardScaler()\n",
    "\n",
    "cols = [\"AMT_ANNUITY\", \n",
    "        \"AMT_CREDIT\", \n",
    "        \"AMT_GOODS_PRICE\", \n",
    "        \"HOUR_APPR_PROCESS_START\", \n",
    "        \"NAME_CONTRACT_TYPE\", \n",
    "        \"NAME_TYPE_SUITE\", \n",
    "        \"WEEKDAY_APPR_PROCESS_START\"]\n",
    "\n",
    "prev_temp = pd.get_dummies(previous_application[cols])\n",
    "\n",
    "dummy_cols = [\"AMT_CREDIT\",\n",
    "              \"AMT_GOODS_PRICE\",\n",
    "              \"HOUR_APPR_PROCESS_START\",\n",
    "              \"NAME_CONTRACT_TYPE_Cash loans\",\n",
    "              \"NAME_CONTRACT_TYPE_Revolving loans\",\n",
    "              \"NAME_TYPE_SUITE_Children\",\n",
    "              \"NAME_TYPE_SUITE_Family\",\n",
    "              \"NAME_TYPE_SUITE_Group of people\",\n",
    "              \"NAME_TYPE_SUITE_Other_A\",\n",
    "              \"NAME_TYPE_SUITE_Other_B\",\n",
    "              \"NAME_TYPE_SUITE_Spouse, partner\",\n",
    "              \"NAME_TYPE_SUITE_Unaccompanied\",\n",
    "              \"WEEKDAY_APPR_PROCESS_START_FRIDAY\",\n",
    "              \"WEEKDAY_APPR_PROCESS_START_MONDAY\",\n",
    "              \"WEEKDAY_APPR_PROCESS_START_SATURDAY\",\n",
    "              \"WEEKDAY_APPR_PROCESS_START_SUNDAY\",\n",
    "              \"WEEKDAY_APPR_PROCESS_START_THURSDAY\",\n",
    "              \"WEEKDAY_APPR_PROCESS_START_TUESDAY\",\n",
    "              \"WEEKDAY_APPR_PROCESS_START_WEDNESDAY\"]\n",
    "\n",
    "previous_application[\"SYNTHETIC_TARGET\"] = clf.predict_proba(scale.fit_transform(impute.fit_transform(prev_temp[dummy_cols])))[:,1]\n",
    "previous_application[\"DAYS_FIRST_DRAWING_SENTINEL\"] = (previous_application[\"DAYS_FIRST_DRAWING\"] == 365243).astype(int)\n",
    "previous_application[\"DAYS_FIRST_DUE_SENTINEL\"] = (previous_application[\"DAYS_FIRST_DUE\"] == 365243).astype(int)\n",
    "previous_application[\"DAYS_LAST_DUE_1ST_VERSION_SENTINEL\"] = (previous_application[\"DAYS_LAST_DUE_1ST_VERSION\"] == 365243).astype(int)\n",
    "previous_application[\"DAYS_LAST_DUE_SENTINEL\"] = (previous_application[\"DAYS_LAST_DUE\"] == 365243).astype(int)\n",
    "previous_application[\"DAYS_TERMINATION_SENTINEL\"] = (previous_application[\"DAYS_TERMINATION\"] == 365243).astype(int)"
   ]
  },
  {
   "cell_type": "markdown",
   "metadata": {},
   "source": [
    "#### Aggregation function"
   ]
  },
  {
   "cell_type": "code",
   "execution_count": 341,
   "metadata": {},
   "outputs": [
    {
     "name": "stdout",
     "output_type": "stream",
     "text": [
      "time: 4.52 ms\n"
     ]
    }
   ],
   "source": [
    "def previous_agg_func(g):\n",
    "    mask12 = g[\"DAYS_DECISION\"] >= -360\n",
    "    mask24 = g[\"DAYS_DECISION\"] >= -720\n",
    "\n",
    "    d = {}\n",
    "\n",
    "    return pd.Series(d)"
   ]
  },
  {
   "cell_type": "markdown",
   "metadata": {},
   "source": [
    "#### Process data and join"
   ]
  },
  {
   "cell_type": "markdown",
   "metadata": {},
   "source": [
    "Calculate new aggregates"
   ]
  },
  {
   "cell_type": "code",
   "execution_count": 342,
   "metadata": {},
   "outputs": [
    {
     "name": "stdout",
     "output_type": "stream",
     "text": [
      "time: 12min 37s\n"
     ]
    }
   ],
   "source": [
    "previous_agg_new = previous_application.groupby(\"SK_ID_CURR\").apply(previous_agg_func).reset_index()\n",
    "new_cols = [c for c in previous_agg_new.columns if c != \"SK_ID_CURR\"]"
   ]
  },
  {
   "cell_type": "code",
   "execution_count": 343,
   "metadata": {},
   "outputs": [
    {
     "data": {
      "text/plain": [
       "['SUM_CNT_DRAWINGS_ATM_CURRENT_6M',\n",
       " 'SUM_AMT_DRAWINGS_ATM_CURRENT_6M',\n",
       " 'MAX_AMT_DRAWINGS_ATM_CURRENT_6M',\n",
       " 'MAX_CNT_DRAWINGS_ATM_CURRENT_6M',\n",
       " 'MAX_AMT_RECEIVABLE_DIV_AMT_RECEIVABLE_PRINCIPAL_6M',\n",
       " 'MAX_CNT_INSTALMENT_MATURE_CUM_6M',\n",
       " 'MAX_UTILIZATION_6M']"
      ]
     },
     "execution_count": 343,
     "metadata": {},
     "output_type": "execute_result"
    },
    {
     "name": "stdout",
     "output_type": "stream",
     "text": [
      "time: 3.64 ms\n"
     ]
    }
   ],
   "source": [
    "new_cols"
   ]
  },
  {
   "cell_type": "markdown",
   "metadata": {},
   "source": [
    "Load old aggregatea and join with new"
   ]
  },
  {
   "cell_type": "code",
   "execution_count": 344,
   "metadata": {},
   "outputs": [
    {
     "name": "stdout",
     "output_type": "stream",
     "text": [
      "time: 1.96 s\n"
     ]
    }
   ],
   "source": [
    "previous_agg = pd.read_csv(path + \"previous_agg.csv\")\n",
    "previous_agg = pd.merge(previous_agg, previous_agg_new, how=\"left\", on=\"SK_ID_CURR\")"
   ]
  },
  {
   "cell_type": "markdown",
   "metadata": {},
   "source": [
    "Merge with performance data"
   ]
  },
  {
   "cell_type": "code",
   "execution_count": 345,
   "metadata": {},
   "outputs": [
    {
     "name": "stdout",
     "output_type": "stream",
     "text": [
      "time: 340 ms\n"
     ]
    }
   ],
   "source": [
    "df = pd.merge(frame, previous_agg, how=\"left\", on=\"SK_ID_CURR\")"
   ]
  },
  {
   "cell_type": "markdown",
   "metadata": {},
   "source": [
    "#### Fit quick model with new aggregates"
   ]
  },
  {
   "cell_type": "code",
   "execution_count": 358,
   "metadata": {},
   "outputs": [
    {
     "name": "stdout",
     "output_type": "stream",
     "text": [
      "time: 59.9 s\n"
     ]
    }
   ],
   "source": [
    "result = quick_model(X=df, \n",
    "                     y=df[\"TARGET\"], \n",
    "                     usecols=df.drop([\"TARGET\", \"SK_ID_CURR\"], axis=1).columns.tolist(), \n",
    "                     dropcols=[], \n",
    "                     n_estimators=500, \n",
    "                     num_leaves=17, \n",
    "                     folds=3)"
   ]
  },
  {
   "cell_type": "markdown",
   "metadata": {},
   "source": [
    "CV AUC mean"
   ]
  },
  {
   "cell_type": "code",
   "execution_count": 359,
   "metadata": {},
   "outputs": [
    {
     "data": {
      "text/plain": [
       "0.557"
      ]
     },
     "execution_count": 359,
     "metadata": {},
     "output_type": "execute_result"
    },
    {
     "name": "stdout",
     "output_type": "stream",
     "text": [
      "time: 4.19 ms\n"
     ]
    }
   ],
   "source": [
    "result[\"auc_mean\"]"
   ]
  },
  {
   "cell_type": "markdown",
   "metadata": {},
   "source": [
    "#### Fit quick model without specified aggregates"
   ]
  },
  {
   "cell_type": "code",
   "execution_count": 368,
   "metadata": {},
   "outputs": [
    {
     "name": "stdout",
     "output_type": "stream",
     "text": [
      "time: 1min\n"
     ]
    }
   ],
   "source": [
    "result = quick_model(X=df, \n",
    "                     y=df[\"TARGET\"], \n",
    "                     usecols=df.drop([\"TARGET\", \"SK_ID_CURR\"], axis=1).columns.tolist(), \n",
    "                     dropcols=[], \n",
    "                     n_estimators=500, \n",
    "                     num_leaves=17, \n",
    "                     folds=3)"
   ]
  },
  {
   "cell_type": "markdown",
   "metadata": {},
   "source": [
    "CV AUC mean"
   ]
  },
  {
   "cell_type": "code",
   "execution_count": 369,
   "metadata": {},
   "outputs": [
    {
     "data": {
      "text/plain": [
       "0.5562"
      ]
     },
     "execution_count": 369,
     "metadata": {},
     "output_type": "execute_result"
    },
    {
     "name": "stdout",
     "output_type": "stream",
     "text": [
      "time: 4.78 ms\n"
     ]
    }
   ],
   "source": [
    "result[\"auc_mean\"]"
   ]
  },
  {
   "cell_type": "markdown",
   "metadata": {},
   "source": [
    "Drop unimportant aggregates"
   ]
  },
  {
   "cell_type": "code",
   "execution_count": 370,
   "metadata": {},
   "outputs": [
    {
     "name": "stdout",
     "output_type": "stream",
     "text": [
      "time: 7.12 ms\n"
     ]
    }
   ],
   "source": [
    "to_drop = []"
   ]
  },
  {
   "cell_type": "code",
   "execution_count": 371,
   "metadata": {},
   "outputs": [
    {
     "data": {
      "text/plain": [
       "(103558, 43)"
      ]
     },
     "execution_count": 371,
     "metadata": {},
     "output_type": "execute_result"
    },
    {
     "name": "stdout",
     "output_type": "stream",
     "text": [
      "time: 38.4 ms\n"
     ]
    }
   ],
   "source": [
    "previous_agg.drop(to_drop, axis=1, inplace=True)\n",
    "previous_agg.shape"
   ]
  },
  {
   "cell_type": "markdown",
   "metadata": {},
   "source": [
    "#### Write new aggregates to file\n",
    "\n",
    "Definitions should also be added to preprocessing script"
   ]
  },
  {
   "cell_type": "raw",
   "metadata": {},
   "source": [
    "previous_agg.to_csv(path + \"previous_agg.csv\", index=False, header=True)"
   ]
  }
 ],
 "metadata": {
  "kernelspec": {
   "display_name": "Python 3",
   "language": "python",
   "name": "python3"
  },
  "language_info": {
   "codemirror_mode": {
    "name": "ipython",
    "version": 3
   },
   "file_extension": ".py",
   "mimetype": "text/x-python",
   "name": "python",
   "nbconvert_exporter": "python",
   "pygments_lexer": "ipython3",
   "version": "3.6.5"
  }
 },
 "nbformat": 4,
 "nbformat_minor": 2
}
