{
 "cells": [
  {
   "cell_type": "markdown",
   "metadata": {},
   "source": [
    "# Home Credit Parameter Tuning"
   ]
  },
  {
   "cell_type": "code",
   "execution_count": 6,
   "metadata": {},
   "outputs": [],
   "source": [
    "import numpy as np\n",
    "import pandas as pd\n",
    "import seaborn as sns\n",
    "import matplotlib.pyplot as plt\n",
    "from scipy.stats import iqr, randint, uniform\n",
    "import lightgbm as lgb\n",
    "from sklearn.tree import DecisionTreeClassifier\n",
    "from sklearn.ensemble import RandomForestClassifier\n",
    "from sklearn.linear_model import LogisticRegressionCV\n",
    "from sklearn.preprocessing import Imputer, StandardScaler, RobustScaler\n",
    "from sklearn.model_selection import RandomizedSearchCV, GridSearchCV, train_test_split, cross_val_score\n",
    "from sklearn.metrics import roc_auc_score\n",
    "from skopt import gp_minimize\n",
    "from skopt.plots import plot_convergence, plot_objective\n",
    "import pickle\n",
    "import gc\n",
    "\n",
    "%load_ext autotime\n",
    "\n",
    "gc.enable()\n",
    "np.random.seed(235)\n",
    "\n",
    "path = \"/Users/dsaxton/home_credit_default/\""
   ]
  },
  {
   "cell_type": "markdown",
   "metadata": {},
   "source": [
    "#### Load data"
   ]
  },
  {
   "cell_type": "code",
   "execution_count": null,
   "metadata": {},
   "outputs": [],
   "source": []
  },
  {
   "cell_type": "markdown",
   "metadata": {},
   "source": [
    "#### Bayesian optimization"
   ]
  },
  {
   "cell_type": "code",
   "execution_count": null,
   "metadata": {},
   "outputs": [],
   "source": [
    "%%capture\n",
    "def objective(params):\n",
    "    fit_params = {\"early_stopping_rounds\": 200, \n",
    "                  \"eval_metric\": \"auc\", \n",
    "                  \"eval_set\": [(df_val[lgb_cols], y_val)]}\n",
    "    \n",
    "    clf = lgb.LGBMClassifier(n_estimators=params[0], \n",
    "                             num_leaves=params[1], \n",
    "                             learning_rate=np.exp(-params[2]), \n",
    "                             reg_lambda=np.exp(-params[3]), \n",
    "                             subsample=0.5, \n",
    "                             colsample_bytree=0.75)\n",
    "    \n",
    "    return 1 - cross_val_score(estimator=clf, \n",
    "                               X=df, \n",
    "                               y=y, \n",
    "                               fit_params=fit_params, \n",
    "                               scoring=\"roc_auc\").mean()\n",
    "\n",
    "space = [[20000], \n",
    "        (77, 521), \n",
    "        (-9.0, 0), \n",
    "        (-9.0, 0)]\n",
    "\n",
    "result = gp_minimize(objective, space, n_calls=200, random_state=0)"
   ]
  },
  {
   "cell_type": "code",
   "execution_count": null,
   "metadata": {},
   "outputs": [],
   "source": [
    "result.x"
   ]
  },
  {
   "cell_type": "code",
   "execution_count": null,
   "metadata": {},
   "outputs": [],
   "source": [
    "1 - result.fun"
   ]
  },
  {
   "cell_type": "code",
   "execution_count": null,
   "metadata": {},
   "outputs": [],
   "source": [
    "plot_convergence(result, yscale=\"log\")"
   ]
  },
  {
   "cell_type": "markdown",
   "metadata": {},
   "source": [
    "#### Random Search"
   ]
  },
  {
   "cell_type": "code",
   "execution_count": null,
   "metadata": {},
   "outputs": [],
   "source": [
    "%%capture\n",
    "params = {\"n_estimators\": [20000], \n",
    "         \"num_leaves\": randint(77, 521), \n",
    "         \"learning_rate\": uniform(0, 0.01), \n",
    "         \"reg_lambda\": uniform(0, 1), \n",
    "         \"subsample\": uniform(0.5, 0.5), \n",
    "         \"colsample_bytree\": uniform(0.5, 0.5)}\n",
    "\n",
    "fit_params={\"early_stopping_rounds\": 200, \n",
    "            \"eval_metric\": \"auc\", \n",
    "            \"eval_set\": [(df_val[lgb_cols], y_val)]}\n",
    "\n",
    "cv = RandomizedSearchCV(estimator=lgb.LGBMClassifier(), \n",
    "                        param_distributions=params, \n",
    "                        fit_params=fit_params, \n",
    "                        scoring=\"roc_auc\", \n",
    "                        cv=3, \n",
    "                        n_iter=100)\n",
    "\n",
    "cv.fit(df_train[lgb_cols], y_train)"
   ]
  },
  {
   "cell_type": "code",
   "execution_count": null,
   "metadata": {},
   "outputs": [],
   "source": [
    "cv_results = pd.DataFrame(cv.cv_results_).sort_values(by=\"mean_test_score\", ascending=False)\n",
    "cv_results.head(20)"
   ]
  }
 ],
 "metadata": {
  "kernelspec": {
   "display_name": "Python 3",
   "language": "python",
   "name": "python3"
  },
  "language_info": {
   "codemirror_mode": {
    "name": "ipython",
    "version": 3
   },
   "file_extension": ".py",
   "mimetype": "text/x-python",
   "name": "python",
   "nbconvert_exporter": "python",
   "pygments_lexer": "ipython3",
   "version": "3.6.5"
  }
 },
 "nbformat": 4,
 "nbformat_minor": 2
}
