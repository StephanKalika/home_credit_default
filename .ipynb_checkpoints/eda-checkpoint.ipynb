{
 "cells": [
  {
   "cell_type": "markdown",
   "metadata": {},
   "source": [
    "# Home Credit EDA"
   ]
  },
  {
   "cell_type": "code",
   "execution_count": 1,
   "metadata": {},
   "outputs": [],
   "source": [
    "import numpy as np\n",
    "import pandas as pd\n",
    "import seaborn as sns\n",
    "import matplotlib.pyplot as plt\n",
    "from scipy.stats import iqr, randint, uniform\n",
    "import lightgbm as lgb\n",
    "from sklearn.tree import DecisionTreeClassifier\n",
    "from sklearn.ensemble import RandomForestClassifier\n",
    "from sklearn.linear_model import LogisticRegressionCV\n",
    "from sklearn.preprocessing import Imputer, StandardScaler, RobustScaler\n",
    "from sklearn.model_selection import RandomizedSearchCV, GridSearchCV, train_test_split, cross_val_score\n",
    "from sklearn.metrics import roc_auc_score\n",
    "from skopt import gp_minimize\n",
    "from skopt.plots import plot_convergence, plot_objective\n",
    "from IPython.display import display\n",
    "import warnings\n",
    "import pickle\n",
    "import gc\n",
    "\n",
    "%load_ext autotime\n",
    "# %unload_ext autotime\n",
    "\n",
    "pd.options.display.max_columns = None\n",
    "warnings.filterwarnings(\"ignore\")\n",
    "gc.enable()\n",
    "np.random.seed(123)\n",
    "\n",
    "path = \"/Users/dsaxton/home_credit_default/\""
   ]
  },
  {
   "cell_type": "code",
   "execution_count": 41,
   "metadata": {},
   "outputs": [
    {
     "name": "stdout",
     "output_type": "stream",
     "text": [
      "time: 18.9 s\n"
     ]
    }
   ],
   "source": [
    "previous_application = pd.read_csv(path + \"previous_application.csv\")"
   ]
  },
  {
   "cell_type": "code",
   "execution_count": 52,
   "metadata": {},
   "outputs": [
    {
     "data": {
      "text/html": [
       "<div>\n",
       "<style scoped>\n",
       "    .dataframe tbody tr th:only-of-type {\n",
       "        vertical-align: middle;\n",
       "    }\n",
       "\n",
       "    .dataframe tbody tr th {\n",
       "        vertical-align: top;\n",
       "    }\n",
       "\n",
       "    .dataframe thead th {\n",
       "        text-align: right;\n",
       "    }\n",
       "</style>\n",
       "<table border=\"1\" class=\"dataframe\">\n",
       "  <thead>\n",
       "    <tr style=\"text-align: right;\">\n",
       "      <th></th>\n",
       "      <th>SK_ID_PREV</th>\n",
       "      <th>SK_ID_CURR</th>\n",
       "      <th>NAME_CONTRACT_TYPE</th>\n",
       "      <th>AMT_ANNUITY</th>\n",
       "      <th>AMT_APPLICATION</th>\n",
       "      <th>AMT_CREDIT</th>\n",
       "      <th>AMT_DOWN_PAYMENT</th>\n",
       "      <th>AMT_GOODS_PRICE</th>\n",
       "      <th>WEEKDAY_APPR_PROCESS_START</th>\n",
       "      <th>HOUR_APPR_PROCESS_START</th>\n",
       "      <th>FLAG_LAST_APPL_PER_CONTRACT</th>\n",
       "      <th>NFLAG_LAST_APPL_IN_DAY</th>\n",
       "      <th>RATE_DOWN_PAYMENT</th>\n",
       "      <th>RATE_INTEREST_PRIMARY</th>\n",
       "      <th>RATE_INTEREST_PRIVILEGED</th>\n",
       "      <th>NAME_CASH_LOAN_PURPOSE</th>\n",
       "      <th>NAME_CONTRACT_STATUS</th>\n",
       "      <th>DAYS_DECISION</th>\n",
       "      <th>NAME_PAYMENT_TYPE</th>\n",
       "      <th>CODE_REJECT_REASON</th>\n",
       "      <th>NAME_TYPE_SUITE</th>\n",
       "      <th>NAME_CLIENT_TYPE</th>\n",
       "      <th>NAME_GOODS_CATEGORY</th>\n",
       "      <th>NAME_PORTFOLIO</th>\n",
       "      <th>NAME_PRODUCT_TYPE</th>\n",
       "      <th>CHANNEL_TYPE</th>\n",
       "      <th>SELLERPLACE_AREA</th>\n",
       "      <th>NAME_SELLER_INDUSTRY</th>\n",
       "      <th>CNT_PAYMENT</th>\n",
       "      <th>NAME_YIELD_GROUP</th>\n",
       "      <th>PRODUCT_COMBINATION</th>\n",
       "      <th>DAYS_FIRST_DRAWING</th>\n",
       "      <th>DAYS_FIRST_DUE</th>\n",
       "      <th>DAYS_LAST_DUE_1ST_VERSION</th>\n",
       "      <th>DAYS_LAST_DUE</th>\n",
       "      <th>DAYS_TERMINATION</th>\n",
       "      <th>NFLAG_INSURED_ON_APPROVAL</th>\n",
       "    </tr>\n",
       "  </thead>\n",
       "  <tbody>\n",
       "    <tr>\n",
       "      <th>0</th>\n",
       "      <td>2030495</td>\n",
       "      <td>271877</td>\n",
       "      <td>Consumer loans</td>\n",
       "      <td>1730.430</td>\n",
       "      <td>17145.0</td>\n",
       "      <td>17145.0</td>\n",
       "      <td>0.0</td>\n",
       "      <td>17145.0</td>\n",
       "      <td>SATURDAY</td>\n",
       "      <td>15</td>\n",
       "      <td>Y</td>\n",
       "      <td>1</td>\n",
       "      <td>0.0</td>\n",
       "      <td>0.182832</td>\n",
       "      <td>0.867336</td>\n",
       "      <td>XAP</td>\n",
       "      <td>Approved</td>\n",
       "      <td>-73</td>\n",
       "      <td>Cash through the bank</td>\n",
       "      <td>XAP</td>\n",
       "      <td>NaN</td>\n",
       "      <td>Repeater</td>\n",
       "      <td>Mobile</td>\n",
       "      <td>POS</td>\n",
       "      <td>XNA</td>\n",
       "      <td>Country-wide</td>\n",
       "      <td>35</td>\n",
       "      <td>Connectivity</td>\n",
       "      <td>12.0</td>\n",
       "      <td>middle</td>\n",
       "      <td>POS mobile with interest</td>\n",
       "      <td>365243.0</td>\n",
       "      <td>-42.0</td>\n",
       "      <td>300.0</td>\n",
       "      <td>-42.0</td>\n",
       "      <td>-37.0</td>\n",
       "      <td>0.0</td>\n",
       "    </tr>\n",
       "    <tr>\n",
       "      <th>1</th>\n",
       "      <td>2802425</td>\n",
       "      <td>108129</td>\n",
       "      <td>Cash loans</td>\n",
       "      <td>25188.615</td>\n",
       "      <td>607500.0</td>\n",
       "      <td>679671.0</td>\n",
       "      <td>NaN</td>\n",
       "      <td>607500.0</td>\n",
       "      <td>THURSDAY</td>\n",
       "      <td>11</td>\n",
       "      <td>Y</td>\n",
       "      <td>1</td>\n",
       "      <td>NaN</td>\n",
       "      <td>NaN</td>\n",
       "      <td>NaN</td>\n",
       "      <td>XNA</td>\n",
       "      <td>Approved</td>\n",
       "      <td>-164</td>\n",
       "      <td>XNA</td>\n",
       "      <td>XAP</td>\n",
       "      <td>Unaccompanied</td>\n",
       "      <td>Repeater</td>\n",
       "      <td>XNA</td>\n",
       "      <td>Cash</td>\n",
       "      <td>x-sell</td>\n",
       "      <td>Contact center</td>\n",
       "      <td>-1</td>\n",
       "      <td>XNA</td>\n",
       "      <td>36.0</td>\n",
       "      <td>low_action</td>\n",
       "      <td>Cash X-Sell: low</td>\n",
       "      <td>365243.0</td>\n",
       "      <td>-134.0</td>\n",
       "      <td>916.0</td>\n",
       "      <td>365243.0</td>\n",
       "      <td>365243.0</td>\n",
       "      <td>1.0</td>\n",
       "    </tr>\n",
       "    <tr>\n",
       "      <th>2</th>\n",
       "      <td>2523466</td>\n",
       "      <td>122040</td>\n",
       "      <td>Cash loans</td>\n",
       "      <td>15060.735</td>\n",
       "      <td>112500.0</td>\n",
       "      <td>136444.5</td>\n",
       "      <td>NaN</td>\n",
       "      <td>112500.0</td>\n",
       "      <td>TUESDAY</td>\n",
       "      <td>11</td>\n",
       "      <td>Y</td>\n",
       "      <td>1</td>\n",
       "      <td>NaN</td>\n",
       "      <td>NaN</td>\n",
       "      <td>NaN</td>\n",
       "      <td>XNA</td>\n",
       "      <td>Approved</td>\n",
       "      <td>-301</td>\n",
       "      <td>Cash through the bank</td>\n",
       "      <td>XAP</td>\n",
       "      <td>Spouse, partner</td>\n",
       "      <td>Repeater</td>\n",
       "      <td>XNA</td>\n",
       "      <td>Cash</td>\n",
       "      <td>x-sell</td>\n",
       "      <td>Credit and cash offices</td>\n",
       "      <td>-1</td>\n",
       "      <td>XNA</td>\n",
       "      <td>12.0</td>\n",
       "      <td>high</td>\n",
       "      <td>Cash X-Sell: high</td>\n",
       "      <td>365243.0</td>\n",
       "      <td>-271.0</td>\n",
       "      <td>59.0</td>\n",
       "      <td>365243.0</td>\n",
       "      <td>365243.0</td>\n",
       "      <td>1.0</td>\n",
       "    </tr>\n",
       "    <tr>\n",
       "      <th>3</th>\n",
       "      <td>2819243</td>\n",
       "      <td>176158</td>\n",
       "      <td>Cash loans</td>\n",
       "      <td>47041.335</td>\n",
       "      <td>450000.0</td>\n",
       "      <td>470790.0</td>\n",
       "      <td>NaN</td>\n",
       "      <td>450000.0</td>\n",
       "      <td>MONDAY</td>\n",
       "      <td>7</td>\n",
       "      <td>Y</td>\n",
       "      <td>1</td>\n",
       "      <td>NaN</td>\n",
       "      <td>NaN</td>\n",
       "      <td>NaN</td>\n",
       "      <td>XNA</td>\n",
       "      <td>Approved</td>\n",
       "      <td>-512</td>\n",
       "      <td>Cash through the bank</td>\n",
       "      <td>XAP</td>\n",
       "      <td>NaN</td>\n",
       "      <td>Repeater</td>\n",
       "      <td>XNA</td>\n",
       "      <td>Cash</td>\n",
       "      <td>x-sell</td>\n",
       "      <td>Credit and cash offices</td>\n",
       "      <td>-1</td>\n",
       "      <td>XNA</td>\n",
       "      <td>12.0</td>\n",
       "      <td>middle</td>\n",
       "      <td>Cash X-Sell: middle</td>\n",
       "      <td>365243.0</td>\n",
       "      <td>-482.0</td>\n",
       "      <td>-152.0</td>\n",
       "      <td>-182.0</td>\n",
       "      <td>-177.0</td>\n",
       "      <td>1.0</td>\n",
       "    </tr>\n",
       "    <tr>\n",
       "      <th>4</th>\n",
       "      <td>1784265</td>\n",
       "      <td>202054</td>\n",
       "      <td>Cash loans</td>\n",
       "      <td>31924.395</td>\n",
       "      <td>337500.0</td>\n",
       "      <td>404055.0</td>\n",
       "      <td>NaN</td>\n",
       "      <td>337500.0</td>\n",
       "      <td>THURSDAY</td>\n",
       "      <td>9</td>\n",
       "      <td>Y</td>\n",
       "      <td>1</td>\n",
       "      <td>NaN</td>\n",
       "      <td>NaN</td>\n",
       "      <td>NaN</td>\n",
       "      <td>Repairs</td>\n",
       "      <td>Refused</td>\n",
       "      <td>-781</td>\n",
       "      <td>Cash through the bank</td>\n",
       "      <td>HC</td>\n",
       "      <td>NaN</td>\n",
       "      <td>Repeater</td>\n",
       "      <td>XNA</td>\n",
       "      <td>Cash</td>\n",
       "      <td>walk-in</td>\n",
       "      <td>Credit and cash offices</td>\n",
       "      <td>-1</td>\n",
       "      <td>XNA</td>\n",
       "      <td>24.0</td>\n",
       "      <td>high</td>\n",
       "      <td>Cash Street: high</td>\n",
       "      <td>NaN</td>\n",
       "      <td>NaN</td>\n",
       "      <td>NaN</td>\n",
       "      <td>NaN</td>\n",
       "      <td>NaN</td>\n",
       "      <td>NaN</td>\n",
       "    </tr>\n",
       "  </tbody>\n",
       "</table>\n",
       "</div>"
      ],
      "text/plain": [
       "   SK_ID_PREV  SK_ID_CURR NAME_CONTRACT_TYPE  AMT_ANNUITY  AMT_APPLICATION  \\\n",
       "0     2030495      271877     Consumer loans     1730.430          17145.0   \n",
       "1     2802425      108129         Cash loans    25188.615         607500.0   \n",
       "2     2523466      122040         Cash loans    15060.735         112500.0   \n",
       "3     2819243      176158         Cash loans    47041.335         450000.0   \n",
       "4     1784265      202054         Cash loans    31924.395         337500.0   \n",
       "\n",
       "   AMT_CREDIT  AMT_DOWN_PAYMENT  AMT_GOODS_PRICE WEEKDAY_APPR_PROCESS_START  \\\n",
       "0     17145.0               0.0          17145.0                   SATURDAY   \n",
       "1    679671.0               NaN         607500.0                   THURSDAY   \n",
       "2    136444.5               NaN         112500.0                    TUESDAY   \n",
       "3    470790.0               NaN         450000.0                     MONDAY   \n",
       "4    404055.0               NaN         337500.0                   THURSDAY   \n",
       "\n",
       "   HOUR_APPR_PROCESS_START FLAG_LAST_APPL_PER_CONTRACT  \\\n",
       "0                       15                           Y   \n",
       "1                       11                           Y   \n",
       "2                       11                           Y   \n",
       "3                        7                           Y   \n",
       "4                        9                           Y   \n",
       "\n",
       "   NFLAG_LAST_APPL_IN_DAY  RATE_DOWN_PAYMENT  RATE_INTEREST_PRIMARY  \\\n",
       "0                       1                0.0               0.182832   \n",
       "1                       1                NaN                    NaN   \n",
       "2                       1                NaN                    NaN   \n",
       "3                       1                NaN                    NaN   \n",
       "4                       1                NaN                    NaN   \n",
       "\n",
       "   RATE_INTEREST_PRIVILEGED NAME_CASH_LOAN_PURPOSE NAME_CONTRACT_STATUS  \\\n",
       "0                  0.867336                    XAP             Approved   \n",
       "1                       NaN                    XNA             Approved   \n",
       "2                       NaN                    XNA             Approved   \n",
       "3                       NaN                    XNA             Approved   \n",
       "4                       NaN                Repairs              Refused   \n",
       "\n",
       "   DAYS_DECISION      NAME_PAYMENT_TYPE CODE_REJECT_REASON  NAME_TYPE_SUITE  \\\n",
       "0            -73  Cash through the bank                XAP              NaN   \n",
       "1           -164                    XNA                XAP    Unaccompanied   \n",
       "2           -301  Cash through the bank                XAP  Spouse, partner   \n",
       "3           -512  Cash through the bank                XAP              NaN   \n",
       "4           -781  Cash through the bank                 HC              NaN   \n",
       "\n",
       "  NAME_CLIENT_TYPE NAME_GOODS_CATEGORY NAME_PORTFOLIO NAME_PRODUCT_TYPE  \\\n",
       "0         Repeater              Mobile            POS               XNA   \n",
       "1         Repeater                 XNA           Cash            x-sell   \n",
       "2         Repeater                 XNA           Cash            x-sell   \n",
       "3         Repeater                 XNA           Cash            x-sell   \n",
       "4         Repeater                 XNA           Cash           walk-in   \n",
       "\n",
       "              CHANNEL_TYPE  SELLERPLACE_AREA NAME_SELLER_INDUSTRY  \\\n",
       "0             Country-wide                35         Connectivity   \n",
       "1           Contact center                -1                  XNA   \n",
       "2  Credit and cash offices                -1                  XNA   \n",
       "3  Credit and cash offices                -1                  XNA   \n",
       "4  Credit and cash offices                -1                  XNA   \n",
       "\n",
       "   CNT_PAYMENT NAME_YIELD_GROUP       PRODUCT_COMBINATION  DAYS_FIRST_DRAWING  \\\n",
       "0         12.0           middle  POS mobile with interest            365243.0   \n",
       "1         36.0       low_action          Cash X-Sell: low            365243.0   \n",
       "2         12.0             high         Cash X-Sell: high            365243.0   \n",
       "3         12.0           middle       Cash X-Sell: middle            365243.0   \n",
       "4         24.0             high         Cash Street: high                 NaN   \n",
       "\n",
       "   DAYS_FIRST_DUE  DAYS_LAST_DUE_1ST_VERSION  DAYS_LAST_DUE  DAYS_TERMINATION  \\\n",
       "0           -42.0                      300.0          -42.0             -37.0   \n",
       "1          -134.0                      916.0       365243.0          365243.0   \n",
       "2          -271.0                       59.0       365243.0          365243.0   \n",
       "3          -482.0                     -152.0         -182.0            -177.0   \n",
       "4             NaN                        NaN            NaN               NaN   \n",
       "\n",
       "   NFLAG_INSURED_ON_APPROVAL  \n",
       "0                        0.0  \n",
       "1                        1.0  \n",
       "2                        1.0  \n",
       "3                        1.0  \n",
       "4                        NaN  "
      ]
     },
     "execution_count": 52,
     "metadata": {},
     "output_type": "execute_result"
    },
    {
     "name": "stdout",
     "output_type": "stream",
     "text": [
      "time: 68.1 ms\n"
     ]
    }
   ],
   "source": [
    "previous_application.head()"
   ]
  },
  {
   "cell_type": "code",
   "execution_count": 58,
   "metadata": {},
   "outputs": [
    {
     "data": {
      "text/plain": [
       "Cash                              285990\n",
       "POS household with interest       263622\n",
       "POS mobile with interest          220670\n",
       "Cash X-Sell: middle               143883\n",
       "Cash X-Sell: low                  130248\n",
       "Card Street                       112582\n",
       "POS industry with interest         98833\n",
       "POS household without interest     82908\n",
       "Card X-Sell                        80582\n",
       "Cash Street: high                  59639\n",
       "Cash X-Sell: high                  59301\n",
       "Cash Street: middle                34658\n",
       "Cash Street: low                   33834\n",
       "POS mobile without interest        24082\n",
       "POS other with interest            23879\n",
       "POS industry without interest      12602\n",
       "POS others without interest         2555\n",
       "Name: PRODUCT_COMBINATION, dtype: int64"
      ]
     },
     "execution_count": 58,
     "metadata": {},
     "output_type": "execute_result"
    },
    {
     "name": "stdout",
     "output_type": "stream",
     "text": [
      "time: 236 ms\n"
     ]
    }
   ],
   "source": [
    "previous_application[\"PRODUCT_COMBINATION\"].value_counts()"
   ]
  },
  {
   "cell_type": "code",
   "execution_count": 57,
   "metadata": {},
   "outputs": [
    {
     "data": {
      "text/plain": [
       "Credit and cash offices       719968\n",
       "Country-wide                  494690\n",
       "Stone                         212083\n",
       "Regional / Local              108528\n",
       "Contact center                 71297\n",
       "AP+ (Cash loan)                57046\n",
       "Channel of corporate sales      6150\n",
       "Car dealer                       452\n",
       "Name: CHANNEL_TYPE, dtype: int64"
      ]
     },
     "execution_count": 57,
     "metadata": {},
     "output_type": "execute_result"
    },
    {
     "name": "stdout",
     "output_type": "stream",
     "text": [
      "time: 243 ms\n"
     ]
    }
   ],
   "source": [
    "previous_application[\"CHANNEL_TYPE\"].value_counts()"
   ]
  },
  {
   "cell_type": "code",
   "execution_count": 56,
   "metadata": {},
   "outputs": [
    {
     "data": {
      "text/plain": [
       "POS      691011\n",
       "Cash     461563\n",
       "XNA      372230\n",
       "Cards    144985\n",
       "Cars        425\n",
       "Name: NAME_PORTFOLIO, dtype: int64"
      ]
     },
     "execution_count": 56,
     "metadata": {},
     "output_type": "execute_result"
    },
    {
     "name": "stdout",
     "output_type": "stream",
     "text": [
      "time: 225 ms\n"
     ]
    }
   ],
   "source": [
    "previous_application[\"NAME_PORTFOLIO\"].value_counts()"
   ]
  },
  {
   "cell_type": "code",
   "execution_count": 55,
   "metadata": {},
   "outputs": [
    {
     "data": {
      "text/plain": [
       "XNA                         950809\n",
       "Mobile                      224708\n",
       "Consumer Electronics        121576\n",
       "Computers                   105769\n",
       "Audio/Video                  99441\n",
       "Furniture                    53656\n",
       "Photo / Cinema Equipment     25021\n",
       "Construction Materials       24995\n",
       "Clothing and Accessories     23554\n",
       "Auto Accessories              7381\n",
       "Jewelry                       6290\n",
       "Homewares                     5023\n",
       "Medical Supplies              3843\n",
       "Vehicles                      3370\n",
       "Sport and Leisure             2981\n",
       "Gardening                     2668\n",
       "Other                         2554\n",
       "Office Appliances             2333\n",
       "Tourism                       1659\n",
       "Medicine                      1550\n",
       "Direct Sales                   446\n",
       "Fitness                        209\n",
       "Additional Service             128\n",
       "Education                      107\n",
       "Weapon                          77\n",
       "Insurance                       64\n",
       "House Construction               1\n",
       "Animals                          1\n",
       "Name: NAME_GOODS_CATEGORY, dtype: int64"
      ]
     },
     "execution_count": 55,
     "metadata": {},
     "output_type": "execute_result"
    },
    {
     "name": "stdout",
     "output_type": "stream",
     "text": [
      "time: 208 ms\n"
     ]
    }
   ],
   "source": [
    "previous_application[\"NAME_GOODS_CATEGORY\"].value_counts()"
   ]
  },
  {
   "cell_type": "code",
   "execution_count": 54,
   "metadata": {},
   "outputs": [
    {
     "data": {
      "text/plain": [
       "XAP       1353093\n",
       "HC         175231\n",
       "LIMIT       55680\n",
       "SCO         37467\n",
       "CLIENT      26436\n",
       "SCOFR       12811\n",
       "XNA          5244\n",
       "VERIF        3535\n",
       "SYSTEM        717\n",
       "Name: CODE_REJECT_REASON, dtype: int64"
      ]
     },
     "execution_count": 54,
     "metadata": {},
     "output_type": "execute_result"
    },
    {
     "name": "stdout",
     "output_type": "stream",
     "text": [
      "time: 200 ms\n"
     ]
    }
   ],
   "source": [
    "previous_application[\"CODE_REJECT_REASON\"].value_counts()"
   ]
  },
  {
   "cell_type": "code",
   "execution_count": 53,
   "metadata": {},
   "outputs": [
    {
     "data": {
      "text/plain": [
       "Approved        1036781\n",
       "Canceled         316319\n",
       "Refused          290678\n",
       "Unused offer      26436\n",
       "Name: NAME_CONTRACT_STATUS, dtype: int64"
      ]
     },
     "execution_count": 53,
     "metadata": {},
     "output_type": "execute_result"
    },
    {
     "name": "stdout",
     "output_type": "stream",
     "text": [
      "time: 285 ms\n"
     ]
    }
   ],
   "source": [
    "previous_application[\"NAME_CONTRACT_STATUS\"].value_counts()"
   ]
  },
  {
   "cell_type": "code",
   "execution_count": 47,
   "metadata": {},
   "outputs": [
    {
     "data": {
      "text/plain": [
       "Repeater     1231261\n",
       "New           301363\n",
       "Refreshed     135649\n",
       "XNA             1941\n",
       "Name: NAME_CLIENT_TYPE, dtype: int64"
      ]
     },
     "execution_count": 47,
     "metadata": {},
     "output_type": "execute_result"
    },
    {
     "name": "stdout",
     "output_type": "stream",
     "text": [
      "time: 208 ms\n"
     ]
    }
   ],
   "source": [
    "previous_application[\"NAME_CLIENT_TYPE\"].value_counts()"
   ]
  },
  {
   "cell_type": "code",
   "execution_count": 51,
   "metadata": {},
   "outputs": [
    {
     "data": {
      "text/plain": [
       "XAP                                 922661\n",
       "XNA                                 677918\n",
       "Repairs                              23765\n",
       "Other                                15608\n",
       "Urgent needs                          8412\n",
       "Buying a used car                     2888\n",
       "Building a house or an annex          2693\n",
       "Everyday expenses                     2416\n",
       "Medicine                              2174\n",
       "Payments on other loans               1931\n",
       "Education                             1573\n",
       "Journey                               1239\n",
       "Purchase of electronic equipment      1061\n",
       "Buying a new car                      1012\n",
       "Wedding / gift / holiday               962\n",
       "Buying a home                          865\n",
       "Car repairs                            797\n",
       "Furniture                              749\n",
       "Buying a holiday home / land           533\n",
       "Business development                   426\n",
       "Gasification / water supply            300\n",
       "Buying a garage                        136\n",
       "Hobby                                   55\n",
       "Money for a third person                25\n",
       "Refusal to name the goal                15\n",
       "Name: NAME_CASH_LOAN_PURPOSE, dtype: int64"
      ]
     },
     "execution_count": 51,
     "metadata": {},
     "output_type": "execute_result"
    },
    {
     "name": "stdout",
     "output_type": "stream",
     "text": [
      "time: 207 ms\n"
     ]
    }
   ],
   "source": [
    "previous_application[\"NAME_CASH_LOAN_PURPOSE\"].value_counts()"
   ]
  }
 ],
 "metadata": {
  "kernelspec": {
   "display_name": "Python 3",
   "language": "python",
   "name": "python3"
  },
  "language_info": {
   "codemirror_mode": {
    "name": "ipython",
    "version": 3
   },
   "file_extension": ".py",
   "mimetype": "text/x-python",
   "name": "python",
   "nbconvert_exporter": "python",
   "pygments_lexer": "ipython3",
   "version": "3.6.5"
  }
 },
 "nbformat": 4,
 "nbformat_minor": 2
}
