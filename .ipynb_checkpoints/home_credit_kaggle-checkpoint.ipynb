{
 "cells": [
  {
   "cell_type": "markdown",
   "metadata": {},
   "source": [
    "# Home Credit Default Feature Construction"
   ]
  },
  {
   "cell_type": "code",
   "execution_count": null,
   "metadata": {},
   "outputs": [],
   "source": [
    "import numpy as np\n",
    "import pandas as pd"
   ]
  },
  {
   "cell_type": "markdown",
   "metadata": {},
   "source": [
    "### Load the data"
   ]
  },
  {
   "cell_type": "code",
   "execution_count": null,
   "metadata": {},
   "outputs": [],
   "source": [
    "application = pd.read_csv(\"application_train.csv\")\n",
    "bureau_balance = pd.read_csv(\"bureau_balance.csv\")\n",
    "bureau = pd.read_csv(\"bureau.csv\")\n",
    "credit_card = pd.read_csv(\"credit_card_balance.csv\")\n",
    "installments = pd.read_csv(\"installments_payments.csv\")\n",
    "pos_cash = pd.read_csv(\"POS_CASH_balance.csv\")\n",
    "previous_application = pd.read_csv(\"previous_application.csv\")"
   ]
  },
  {
   "cell_type": "markdown",
   "metadata": {},
   "source": [
    "# Preprocessing and feature construction"
   ]
  },
  {
   "cell_type": "markdown",
   "metadata": {},
   "source": [
    "## Application"
   ]
  },
  {
   "cell_type": "code",
   "execution_count": null,
   "metadata": {},
   "outputs": [],
   "source": [
    "application.sort_values(\"SK_ID_CURR\").head()"
   ]
  },
  {
   "cell_type": "markdown",
   "metadata": {},
   "source": [
    "## Bureau"
   ]
  },
  {
   "cell_type": "code",
   "execution_count": null,
   "metadata": {},
   "outputs": [],
   "source": [
    "bureau.sort_values(\"SK_ID_CURR\").head()"
   ]
  },
  {
   "cell_type": "markdown",
   "metadata": {},
   "source": [
    "### Derived features\n",
    "\n",
    "* Number of bureau records\n",
    "* Maximum days overdue\n",
    "* Number of active trades\n",
    "* Days since most recent application\n",
    "* Maximum credit overdue\n",
    "* Total credit amount\n",
    "* Number of credit cards\n",
    "* Sum of annuity amounts"
   ]
  },
  {
   "cell_type": "code",
   "execution_count": null,
   "metadata": {},
   "outputs": [],
   "source": [
    "def bureau_agg_func(g):\n",
    "    d = {\"SK_ID_BUREAU\": np.max(g[\"SK_ID_BUREAU\"]), \n",
    "        \"COUNT_BUREAU_RECORDS\": len(g), \n",
    "        \"COUNT_ACTIVE\": np.sum(g[\"CREDIT_ACTIVE\"] == \"Active\"), \n",
    "        \"MAX_CREDIT_DAY_OVERDUE\": np.max(g[\"CREDIT_DAY_OVERDUE\"]), \n",
    "        \"DAYS_SINCE_APPLIED\": - np.max(g[\"DAYS_CREDIT\"]), \n",
    "        \"MAX_AMT_CREDIT_MAX_OVERDUE\": np.max(g[\"AMT_CREDIT_MAX_OVERDUE\"]), \n",
    "        \"TOTAL_AMT_CREDIT_SUM\": np.sum(g[\"AMT_CREDIT_SUM\"]), \n",
    "        \"COUNT_CREDIT_CARD\": np.sum(g[\"CREDIT_TYPE\"] == \"Credit card\"), \n",
    "        \"SUM_AMT_ANNUITY\": np.sum(g[\"AMT_ANNUITY\"])}\n",
    "    \n",
    "    return pd.Series(d)"
   ]
  },
  {
   "cell_type": "code",
   "execution_count": null,
   "metadata": {},
   "outputs": [],
   "source": [
    "bureau_agg = bureau.groupby(\"SK_ID_CURR\").apply(bureau_agg_func).reset_index()\n",
    "bureau_agg.head()"
   ]
  },
  {
   "cell_type": "markdown",
   "metadata": {},
   "source": [
    "## Bureau balance"
   ]
  },
  {
   "cell_type": "code",
   "execution_count": null,
   "metadata": {},
   "outputs": [],
   "source": [
    "bureau_balance.sort_values([\"SK_ID_BUREAU\", \"MONTHS_BALANCE\"]).head()"
   ]
  },
  {
   "cell_type": "markdown",
   "metadata": {},
   "source": [
    "### Derived features\n",
    "\n",
    "* Proportion and sum of months current (includes unreported status)\n",
    "* Worst delinquent status"
   ]
  },
  {
   "cell_type": "code",
   "execution_count": null,
   "metadata": {},
   "outputs": [],
   "source": [
    "def bureau_balance_agg_func(g):\n",
    "    d = {\"PROP_CURRENT\": np.mean(g[\"STATUS\"].apply(lambda x: x in [\"C\", \"X\"])), \n",
    "        \"COUNT_CURRENT\": np.sum(g[\"STATUS\"].apply(lambda x: x in [\"C\", \"X\"])), \n",
    "        \"WORST_DQ_STATUS\": np.max(g[\"STATUS\"].apply(lambda x: 0 if x in [\"C\", \"X\"] else int(x)))}\n",
    "    \n",
    "    return pd.Series(d)"
   ]
  },
  {
   "cell_type": "code",
   "execution_count": null,
   "metadata": {},
   "outputs": [],
   "source": [
    "bureau_balance_agg = bureau_balance.groupby(\"SK_ID_BUREAU\").apply(bureau_balance_agg_func).reset_index()\n",
    "bureau_balance_agg.head()"
   ]
  },
  {
   "cell_type": "markdown",
   "metadata": {},
   "source": [
    "### Join application and bureau data"
   ]
  },
  {
   "cell_type": "code",
   "execution_count": null,
   "metadata": {},
   "outputs": [],
   "source": [
    "df = pd.merge(application, \n",
    "              pd.merge(bureau_agg, bureau_balance_agg, \n",
    "                       how=\"inner\", \n",
    "                       on=\"SK_ID_BUREAU\"), \n",
    "              how=\"left\", \n",
    "              on=\"SK_ID_CURR\")\n",
    "del bureau_agg, bureau_balance_agg"
   ]
  },
  {
   "cell_type": "markdown",
   "metadata": {},
   "source": [
    "## Credit card"
   ]
  },
  {
   "cell_type": "code",
   "execution_count": null,
   "metadata": {},
   "outputs": [],
   "source": [
    "credit_card.sort_values([\"SK_ID_CURR\", \"SK_ID_PREV\", \"MONTHS_BALANCE\"]).head()"
   ]
  },
  {
   "cell_type": "markdown",
   "metadata": {},
   "source": [
    "### Derived features"
   ]
  },
  {
   "cell_type": "markdown",
   "metadata": {},
   "source": [
    "#### Balance and utilization\n",
    "\n",
    "* Average utilization\n",
    "* Max utilization\n",
    "* Most recent utilization\n",
    "\n",
    "#### ATM withdrawals\n",
    "\n",
    "* Average count\n",
    "* Maximum count\n",
    "\n",
    "#### Days past due\n",
    "\n",
    "* Maximum days past due\n",
    "* Maximum days past due with tolerance"
   ]
  },
  {
   "cell_type": "code",
   "execution_count": null,
   "metadata": {},
   "outputs": [],
   "source": [
    "def credit_card_agg_func(g):\n",
    "    d = {\"AVG_BALANCE\": np.mean(g[\"AMT_BALANCE\"]), \n",
    "        \"MAX_BALANCE\": np.max(g[\"AMT_BALANCE\"]), \n",
    "        \"AVG_UTILIZATION\": np.mean(g[\"AMT_BALANCE\"] / g[\"AMT_CREDIT_LIMIT_ACTUAL\"]), \n",
    "        \"MAX_UTILIZATION\": np.max(g[\"AMT_BALANCE\"] / g[\"AMT_CREDIT_LIMIT_ACTUAL\"]), \n",
    "        \"MAX_DPD\": np.max(g[\"SK_DPD\"]), \n",
    "        \"MAX_DPD_DEF\": np.max(g[\"SK_DPD_DEF\"]), \n",
    "        \"AVG_CNT_DRAWINGS_ATM_CURRENT\": np.mean(g[\"CNT_DRAWINGS_ATM_CURRENT\"]), \n",
    "        \"MAX_CNT_DRAWINGS_ATM_CURRENT\": np.max(g[\"CNT_DRAWINGS_ATM_CURRENT\"])}\n",
    "    \n",
    "    return pd.Series(d)"
   ]
  },
  {
   "cell_type": "code",
   "execution_count": null,
   "metadata": {},
   "outputs": [],
   "source": [
    "credit_card_agg = credit_card.groupby(\"SK_ID_CURR\").apply(credit_card_agg_func).reset_index()\n",
    "credit_card_agg.head()"
   ]
  },
  {
   "cell_type": "markdown",
   "metadata": {},
   "source": [
    "### Join features"
   ]
  },
  {
   "cell_type": "code",
   "execution_count": null,
   "metadata": {},
   "outputs": [],
   "source": [
    "df = pd.merge(df, credit_card_agg, how=\"left\", on=\"SK_ID_CURR\")\n",
    "del credit_card_agg"
   ]
  },
  {
   "cell_type": "markdown",
   "metadata": {},
   "source": [
    "## Installments"
   ]
  },
  {
   "cell_type": "code",
   "execution_count": null,
   "metadata": {},
   "outputs": [],
   "source": [
    "installments.sort_values([\"SK_ID_CURR\", \"SK_ID_PREV\", \"NUM_INSTALMENT_NUMBER\"]).head()"
   ]
  },
  {
   "cell_type": "markdown",
   "metadata": {},
   "source": [
    "### Derived features\n",
    "\n",
    "* Number of underpayments (less than 50% of amount due)\n",
    "* Average payment size"
   ]
  },
  {
   "cell_type": "code",
   "execution_count": null,
   "metadata": {},
   "outputs": [],
   "source": [
    "def installment_agg_func(g):\n",
    "    d = {\"COUNT_UNDERPAYMENT\": np.sum(g[\"AMT_PAYMENT\"] / g[\"AMT_INSTALMENT\"] < 0.5), \n",
    "        \"AVG_PAYMENT_SIZE\": np.mean(g[\"AMT_PAYMENT\"])}\n",
    "    \n",
    "    return pd.Series(d)"
   ]
  },
  {
   "cell_type": "code",
   "execution_count": null,
   "metadata": {},
   "outputs": [],
   "source": [
    "installment_agg = installments.groupby(\"SK_ID_CURR\").apply(installment_agg_func).reset_index()\n",
    "installment_agg.head()"
   ]
  },
  {
   "cell_type": "markdown",
   "metadata": {},
   "source": [
    "### Join features"
   ]
  },
  {
   "cell_type": "code",
   "execution_count": null,
   "metadata": {},
   "outputs": [],
   "source": [
    "df = pd.merge(df, installment_agg, how=\"left\", on=\"SK_ID_CURR\")\n",
    "del installment_agg"
   ]
  },
  {
   "cell_type": "markdown",
   "metadata": {},
   "source": [
    "## Point of sale cash"
   ]
  },
  {
   "cell_type": "code",
   "execution_count": null,
   "metadata": {},
   "outputs": [],
   "source": [
    "pos_cash.sort_values([\"SK_ID_CURR\", \"SK_ID_PREV\"]).head()"
   ]
  },
  {
   "cell_type": "markdown",
   "metadata": {},
   "source": [
    "### Derived features\n",
    "\n",
    "* Worst days past due status\n",
    "* Worst days past due status with tolerance"
   ]
  },
  {
   "cell_type": "code",
   "execution_count": null,
   "metadata": {},
   "outputs": [],
   "source": [
    "def pos_cash_agg_func(g):\n",
    "    d = {\"MAX_POS_DPD\": np.max(g[\"SK_DPD\"]), \n",
    "        \"MAX_POS_DPD_DEF\": np.max(g[\"SK_DPD_DEF\"])}\n",
    "    \n",
    "    return pd.Series(d)"
   ]
  },
  {
   "cell_type": "code",
   "execution_count": null,
   "metadata": {},
   "outputs": [],
   "source": [
    "pos_cash_agg = pos_cash.groupby(\"SK_ID_CURR\").apply(pos_cash_agg_func).reset_index()\n",
    "pos_cash_agg.head()"
   ]
  },
  {
   "cell_type": "markdown",
   "metadata": {},
   "source": [
    "### Join features"
   ]
  },
  {
   "cell_type": "code",
   "execution_count": null,
   "metadata": {},
   "outputs": [],
   "source": [
    "df = pd.merge(df, pos_cash_agg, how=\"left\", on=\"SK_ID_CURR\")\n",
    "del pos_cash_agg"
   ]
  },
  {
   "cell_type": "markdown",
   "metadata": {},
   "source": [
    "## Previous application"
   ]
  },
  {
   "cell_type": "code",
   "execution_count": null,
   "metadata": {},
   "outputs": [],
   "source": [
    "previous_application.sort_values([\"SK_ID_CURR\", \"SK_ID_PREV\"]).head()"
   ]
  },
  {
   "cell_type": "markdown",
   "metadata": {},
   "source": [
    "### Derived features\n",
    "\n",
    "* Count of previous applications\n",
    "* Average and maximum credit amount requested\n",
    "* Averages involving down payment\n",
    "* Average proportion approved\n",
    "* Average interest rate of previous applications\n",
    "* Count or proportion of different loan purposes\n",
    "* Count or proportion of payment methods\n",
    "* Count or proportion of rejection reasons\n",
    "* Count or proportion of insurance requested\n",
    "* Count of walk-in applications\n",
    "* Average and maximum interest rate group"
   ]
  },
  {
   "cell_type": "code",
   "execution_count": null,
   "metadata": {},
   "outputs": [],
   "source": [
    "def previous_agg_func(g):\n",
    "    d = {\"COUNT_PREV_APP\": len(g), \n",
    "        \"AVG_PREV_REQ_AMOUNT\": np.mean(g[\"AMT_APPLICATION\"]), \n",
    "        \"MAX_PREV_REQ_AMOUNT\": np.max(g[\"AMT_APPLICATION\"]), \n",
    "        \"AVG_PREV_RATE_DOWNPAYMENT\": np.mean(g[\"RATE_DOWN_PAYMENT\"]), \n",
    "        \"AVG_PREV_PROP_APPROVED\": np.mean(g[\"AMT_CREDIT\"] / g[\"AMT_APPLICATION\"]), \n",
    "        \"AVG_PREV_INT_RATE\": np.mean(g[\"RATE_INTEREST_PRIMARY\"]), \n",
    "        \"SUM_PREV_URGENT_NEEDS\": np.sum(g[\"NAME_CASH_LOAN_PURPOSE\"] == \"Urgent needs\"), \n",
    "        \"SUM_PREV_REPAIRS\": np.sum(g[\"NAME_CASH_LOAN_PURPOSE\"] == \"Repairs\"), \n",
    "        \"SUM_PREV_OTHER\": np.sum(g[\"NAME_CASH_LOAN_PURPOSE\"] == \"Other\"), \n",
    "        \"SUM_PREV_LIMIT_REJECT\": np.sum(g[\"CODE_REJECT_REASON\"] == \"LIMIT\"), \n",
    "        \"SUM_PREV_HC_REJECT\": np.sum(g[\"CODE_REJECT_REASON\"] == \"HC\"), \n",
    "        \"SUM_PREV_INSURE_REQ\": np.sum(g[\"NFLAG_INSURED_ON_APPROVAL\"]), \n",
    "        \"COUNT_PREV_WALK_IN\": np.sum(g[\"NAME_PRODUCT_TYPE\"] == \"walk-in\"), \n",
    "        \"COUNT_PREV_HIGH_YIELD\": np.sum(g[\"NAME_YIELD_GROUP\"] == \"high\"), \n",
    "        \"COUNT_PREV_LOW_YIELD\": np.sum(g[\"NAME_YIELD_GROUP\"].apply(lambda x: x.startswith(\"low\")))}\n",
    "    \n",
    "    return pd.Series(d)"
   ]
  },
  {
   "cell_type": "code",
   "execution_count": null,
   "metadata": {},
   "outputs": [],
   "source": [
    "previous_agg = previous_application.groupby(\"SK_ID_CURR\").apply(previous_agg_func).reset_index()\n",
    "previous_agg.head()"
   ]
  },
  {
   "cell_type": "markdown",
   "metadata": {},
   "source": [
    "### Join features"
   ]
  },
  {
   "cell_type": "code",
   "execution_count": null,
   "metadata": {},
   "outputs": [],
   "source": [
    "df = pd.merge(df, previous_agg, how=\"left\", on=\"SK_ID_CURR\")\n",
    "df.drop(\"SK_ID_BUREAU\", axis=1, inplace=True)\n",
    "del previous_agg\n",
    "del application, bureau_balance, bureau, credit_card, installments, pos_cash, previous_application"
   ]
  }
 ],
 "metadata": {
  "kernelspec": {
   "display_name": "Python 3",
   "language": "python",
   "name": "python3"
  },
  "language_info": {
   "codemirror_mode": {
    "name": "ipython",
    "version": 3
   },
   "file_extension": ".py",
   "mimetype": "text/x-python",
   "name": "python",
   "nbconvert_exporter": "python",
   "pygments_lexer": "ipython3",
   "version": "3.6.4"
  }
 },
 "nbformat": 4,
 "nbformat_minor": 2
}
