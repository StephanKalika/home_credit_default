{
 "cells": [
  {
   "cell_type": "markdown",
   "metadata": {},
   "source": [
    "# Home Credit Default"
   ]
  },
  {
   "cell_type": "code",
   "execution_count": 3,
   "metadata": {},
   "outputs": [],
   "source": [
    "import numpy as np\n",
    "import pandas as pd\n",
    "import seaborn as sns\n",
    "import matplotlib.pyplot as plt\n",
    "from scipy.stats import iqr, randint, uniform\n",
    "import xgboost as xgb\n",
    "import lightgbm as lgb\n",
    "from sklearn.tree import DecisionTreeClassifier\n",
    "from sklearn.ensemble import RandomForestClassifier\n",
    "from sklearn.linear_model import LogisticRegressionCV\n",
    "from sklearn.preprocessing import Imputer, StandardScaler, RobustScaler\n",
    "from sklearn.model_selection import RandomizedSearchCV, GridSearchCV, train_test_split, cross_val_score\n",
    "from sklearn.metrics import roc_auc_score\n",
    "from skopt import gp_minimize\n",
    "from skopt.plots import plot_convergence, plot_objective\n",
    "import warnings\n",
    "import pickle\n",
    "import gc\n",
    "\n",
    "gc.enable()\n",
    "warnings.filterwarnings(\"ignore\")\n",
    "np.random.seed(333)"
   ]
  },
  {
   "cell_type": "markdown",
   "metadata": {},
   "source": [
    "### Load the data"
   ]
  },
  {
   "cell_type": "code",
   "execution_count": 4,
   "metadata": {},
   "outputs": [],
   "source": [
    "path = \"/Users/danielsaxton/home_credit_default_risk/\""
   ]
  },
  {
   "cell_type": "code",
   "execution_count": null,
   "metadata": {},
   "outputs": [],
   "source": [
    "application = pd.read_csv(path + \"application_train.csv\")\n",
    "bureau_balance = pd.read_csv(path + \"bureau_balance.csv\")\n",
    "bureau = pd.read_csv(path + \"bureau.csv\")\n",
    "credit_card = pd.read_csv(path + \"credit_card_balance.csv\")\n",
    "installments = pd.read_csv(path + \"installments_payments.csv\")\n",
    "pos_cash = pd.read_csv(path + \"POS_CASH_balance.csv\")\n",
    "previous_application = pd.read_csv(path + \"previous_application.csv\")"
   ]
  },
  {
   "cell_type": "markdown",
   "metadata": {},
   "source": [
    "### Subset to only those records matching with an application"
   ]
  },
  {
   "cell_type": "code",
   "execution_count": null,
   "metadata": {},
   "outputs": [],
   "source": [
    "app_key = set(application[\"SK_ID_CURR\"])\n",
    "bureau = bureau[bureau[\"SK_ID_CURR\"].isin(app_key)]\n",
    "bur_key = set(bureau[\"SK_ID_BUREAU\"])"
   ]
  },
  {
   "cell_type": "code",
   "execution_count": null,
   "metadata": {},
   "outputs": [],
   "source": [
    "bureau_balance = bureau_balance[bureau_balance[\"SK_ID_BUREAU\"].isin(bur_key)]\n",
    "credit_card = credit_card[credit_card[\"SK_ID_CURR\"].isin(app_key)]\n",
    "installments = installments[installments[\"SK_ID_CURR\"].isin(app_key)]\n",
    "pos_cash = pos_cash[pos_cash[\"SK_ID_CURR\"].isin(app_key)]\n",
    "previous_application = previous_application[previous_application[\"SK_ID_CURR\"].isin(app_key)]\n",
    "del app_key, bur_key\n",
    "gc.collect()"
   ]
  },
  {
   "cell_type": "markdown",
   "metadata": {},
   "source": [
    "# Feature construction"
   ]
  },
  {
   "cell_type": "markdown",
   "metadata": {},
   "source": [
    "## Application"
   ]
  },
  {
   "cell_type": "code",
   "execution_count": null,
   "metadata": {},
   "outputs": [],
   "source": [
    "application.head()"
   ]
  },
  {
   "cell_type": "code",
   "execution_count": null,
   "metadata": {},
   "outputs": [],
   "source": [
    "application.shape"
   ]
  },
  {
   "cell_type": "code",
   "execution_count": null,
   "metadata": {},
   "outputs": [],
   "source": [
    "application[\"ORGANIZATION_TYPE_3\"] = application[\"ORGANIZATION_TYPE\"].apply(lambda x: (\"type 3\" in x) or (\"Type 3\") in x).astype(int)\n",
    "application[\"ORGANIZATION_SELF_EMPLOYED\"] = (application[\"ORGANIZATION_TYPE\"] == \"Self employed\").astype(int)\n",
    "application[\"ORGANIZATION_XNA\"] = (application[\"ORGANIZATION_TYPE\"] == \"XNA\").astype(int)\n",
    "application.drop(\"ORGANIZATION_TYPE\", axis=1, inplace=True)"
   ]
  },
  {
   "cell_type": "markdown",
   "metadata": {},
   "source": [
    "## Previous application"
   ]
  },
  {
   "cell_type": "code",
   "execution_count": null,
   "metadata": {},
   "outputs": [],
   "source": [
    "previous_application.head()"
   ]
  },
  {
   "cell_type": "code",
   "execution_count": null,
   "metadata": {},
   "outputs": [],
   "source": [
    "previous_application.shape"
   ]
  },
  {
   "cell_type": "markdown",
   "metadata": {},
   "source": [
    "#### Create synthetic target within previous_application\n",
    "\n",
    "Use common features between application and previous_application to predict the probability of default for previous applications\n",
    "\n",
    "* `AMT_ANNUITY`\n",
    "* `AMT_CREDIT`\n",
    "* `AMT_GOODS_PRICE`\n",
    "* `HOUR_APPR_PROCESS_START`\n",
    "* `NAME_CONTRACT_TYPE`\n",
    "* `NAME_TYPE_SUITE`\n",
    "* `WEEKDAY_APPR_PROCESS_START`"
   ]
  },
  {
   "cell_type": "raw",
   "metadata": {},
   "source": [
    "cols = [\"AMT_CREDIT\", \n",
    "        \"AMT_GOODS_PRICE\", \n",
    "        \"HOUR_APPR_PROCESS_START\", \n",
    "        \"NAME_CONTRACT_TYPE\", \n",
    "        \"NAME_TYPE_SUITE\", \n",
    "        \"WEEKDAY_APPR_PROCESS_START\"]\n",
    "\n",
    "app_temp = pd.get_dummies(application[cols])\n",
    "\n",
    "app_temp.head()"
   ]
  },
  {
   "cell_type": "raw",
   "metadata": {},
   "source": [
    "impute = Imputer(strategy=\"median\")\n",
    "scale = StandardScaler()\n",
    "\n",
    "clf = LogisticRegressionCV(Cs=[np.exp(-i) for i in range(13)], \n",
    "                          penalty=\"l2\", \n",
    "                          scoring=\"roc_auc\")\n",
    "\n",
    "y_app_temp = app_temp.pop(\"TARGET\")\n",
    "\n",
    "clf.fit(scale.fit_transform(impute.fit_transform(app_temp)), y_app_temp)"
   ]
  },
  {
   "cell_type": "raw",
   "metadata": {},
   "source": [
    "with open(\"/Users/danielsaxton/home_credit_default_risk/linear_model.pkl\", \"wb\") as f:\n",
    "    pickle.dump(clf, f)"
   ]
  },
  {
   "cell_type": "markdown",
   "metadata": {},
   "source": [
    "### Create synthetic target within previous_application"
   ]
  },
  {
   "cell_type": "code",
   "execution_count": null,
   "metadata": {},
   "outputs": [],
   "source": [
    "with open(path + \"linear_model.pkl\", \"rb\") as f:\n",
    "    clf = pickle.load(f)\n",
    "    \n",
    "impute = Imputer(strategy=\"median\")\n",
    "scale = StandardScaler()"
   ]
  },
  {
   "cell_type": "code",
   "execution_count": null,
   "metadata": {},
   "outputs": [],
   "source": [
    "cols = [\"AMT_ANNUITY\", \n",
    "        \"AMT_CREDIT\", \n",
    "        \"AMT_GOODS_PRICE\", \n",
    "        \"HOUR_APPR_PROCESS_START\", \n",
    "        \"NAME_CONTRACT_TYPE\", \n",
    "        \"NAME_TYPE_SUITE\", \n",
    "        \"WEEKDAY_APPR_PROCESS_START\"]\n",
    "\n",
    "prev_temp = pd.get_dummies(previous_application[cols])\n",
    "\n",
    "dummy_cols = [\"AMT_CREDIT\",\n",
    "              \"AMT_GOODS_PRICE\",\n",
    "              \"HOUR_APPR_PROCESS_START\",\n",
    "              \"NAME_CONTRACT_TYPE_Cash loans\",\n",
    "              \"NAME_CONTRACT_TYPE_Revolving loans\",\n",
    "              \"NAME_TYPE_SUITE_Children\",\n",
    "              \"NAME_TYPE_SUITE_Family\",\n",
    "              \"NAME_TYPE_SUITE_Group of people\",\n",
    "              \"NAME_TYPE_SUITE_Other_A\",\n",
    "              \"NAME_TYPE_SUITE_Other_B\",\n",
    "              \"NAME_TYPE_SUITE_Spouse, partner\",\n",
    "              \"NAME_TYPE_SUITE_Unaccompanied\",\n",
    "              \"WEEKDAY_APPR_PROCESS_START_FRIDAY\",\n",
    "              \"WEEKDAY_APPR_PROCESS_START_MONDAY\",\n",
    "              \"WEEKDAY_APPR_PROCESS_START_SATURDAY\",\n",
    "              \"WEEKDAY_APPR_PROCESS_START_SUNDAY\",\n",
    "              \"WEEKDAY_APPR_PROCESS_START_THURSDAY\",\n",
    "              \"WEEKDAY_APPR_PROCESS_START_TUESDAY\",\n",
    "              \"WEEKDAY_APPR_PROCESS_START_WEDNESDAY\"]\n",
    "\n",
    "prev_temp.head()"
   ]
  },
  {
   "cell_type": "code",
   "execution_count": null,
   "metadata": {},
   "outputs": [],
   "source": [
    "previous_application[\"SYNTHETIC_TARGET\"] = clf.predict_proba(scale.fit_transform(impute.fit_transform(prev_temp[dummy_cols])))[:,1]\n",
    "del prev_temp\n",
    "gc.collect()"
   ]
  },
  {
   "cell_type": "markdown",
   "metadata": {},
   "source": [
    "### Derived features"
   ]
  },
  {
   "cell_type": "code",
   "execution_count": null,
   "metadata": {},
   "outputs": [],
   "source": [
    "previous_application[\"DAYS_FIRST_DRAWING_SENTINEL\"] = (previous_application[\"DAYS_FIRST_DRAWING\"] == 365243).astype(int)\n",
    "previous_application[\"DAYS_FIRST_DUE_SENTINEL\"] = (previous_application[\"DAYS_FIRST_DUE\"] == 365243).astype(int)\n",
    "previous_application[\"DAYS_LAST_DUE_1ST_VERSION_SENTINEL\"] = (previous_application[\"DAYS_LAST_DUE_1ST_VERSION\"] == 365243).astype(int)\n",
    "previous_application[\"DAYS_LAST_DUE_SENTINEL\"] = (previous_application[\"DAYS_LAST_DUE\"] == 365243).astype(int)\n",
    "previous_application[\"DAYS_TERMINATION_SENTINEL\"] = (previous_application[\"DAYS_TERMINATION\"] == 365243).astype(int)"
   ]
  },
  {
   "cell_type": "code",
   "execution_count": null,
   "metadata": {},
   "outputs": [],
   "source": [
    "def previous_agg_func(g):\n",
    "    d = {\"COUNT_PREV_APP\": len(g), \n",
    "        \"MIN_PREV_DAYS_TERMINATION\": np.nanmin(g[\"DAYS_TERMINATION\"]), \n",
    "        \"MAX_PREV_DAYS_TERMINATION\": np.nanmax(g[\"DAYS_TERMINATION\"]), \n",
    "        \"AVG_PREV_DAYS_TERMINATION\": np.nanmean(g[\"DAYS_TERMINATION\"]), \n",
    "        \"RANGE_PREV_DAYS_TERMINATION\": np.nanmax(g[\"DAYS_TERMINATION\"]) - np.nanmin(g[\"DAYS_TERMINATION\"]),  \n",
    "        \"MIN_PREV_AMT_CREDIT\": np.nanmin(g[\"AMT_CREDIT\"]),\n",
    "        \"MAX_PREV_AMT_CREDIT\": np.nanmax(g[\"AMT_CREDIT\"]),\n",
    "        \"AVG_PREV_AMT_CREDIT\": np.nanmean(g[\"AMT_CREDIT\"]),\n",
    "        \"MIN_PREV_AMT_CREDIT_WEIGHTED\": np.nanmin(g[\"AMT_CREDIT\"] / abs(g[\"DAYS_DECISION\"])),\n",
    "        \"MAX_PREV_AMT_CREDIT_WEIGHTED\": np.nanmax(g[\"AMT_CREDIT\"] / abs(g[\"DAYS_DECISION\"])),\n",
    "        \"AVG_PREV_AMT_CREDIT_WEIGHTED\": np.nanmean(g[\"AMT_CREDIT\"] / abs(g[\"DAYS_DECISION\"])), \n",
    "        \"MIN_PREV_AMT_CREDIT_DIV_ANNUITY\": np.nanmin(g[\"AMT_CREDIT\"] / g[\"AMT_ANNUITY\"]),\n",
    "        \"MAX_PREV_AMT_CREDIT_DIV_ANNUITY\": np.nanmax(g[\"AMT_CREDIT\"] / g[\"AMT_ANNUITY\"]),\n",
    "        \"AVG_PREV_AMT_CREDIT_DIV_ANNUITY\": np.nanmean(g[\"AMT_CREDIT\"] / g[\"AMT_ANNUITY\"]),\n",
    "        \"MIN_PREV_AMT_CREDIT_DIV_ANNUITY_WEIGHTED\": np.nanmin(g[\"AMT_CREDIT\"] / g[\"AMT_ANNUITY\"] / abs(g[\"DAYS_DECISION\"])),\n",
    "        \"MAX_PREV_AMT_CREDIT_DIV_ANNUITY_WEIGHTED\": np.nanmax(g[\"AMT_CREDIT\"] / g[\"AMT_ANNUITY\"] / abs(g[\"DAYS_DECISION\"])),\n",
    "        \"AVG_PREV_AMT_CREDIT_DIV_ANNUITY_WEIGHTED\": np.nanmean(g[\"AMT_CREDIT\"] / g[\"AMT_ANNUITY\"] / abs(g[\"DAYS_DECISION\"])),  \n",
    "        \"MAX_PREV_AMT_ANNUITY\": np.nanmin(g[\"AMT_ANNUITY\"]), \n",
    "        \"AVG_PREV_AMT_ANNUITY\": np.nanmean(g[\"AMT_ANNUITY\"]), \n",
    "        \"MAX_PREV_AMT_ANNUITY_WEIGHTED\": np.nanmin(g[\"AMT_ANNUITY\"] / abs(g[\"DAYS_DECISION\"])), \n",
    "        \"AVG_PREV_AMT_ANNUITY_WEIGHTED\": np.nanmean(g[\"AMT_ANNUITY\"] / abs(g[\"DAYS_DECISION\"])), \n",
    "        \"MIN_DAYS_DECISION\": np.nanmin(g[\"DAYS_DECISION\"]), \n",
    "        \"MAX_DAYS_DECISION\": np.nanmax(g[\"DAYS_DECISION\"]), \n",
    "        \"RANGE_DAYS_DECISION\": np.nanmax(g[\"DAYS_DECISION\"]) - np.nanmin(g[\"DAYS_DECISION\"]),\n",
    "        \"SUM_DAYS_LAST_DUE_NULL\": np.nansum(g[\"DAYS_LAST_DUE\"].isnull()), \n",
    "        \"AVG_DAYS_LAST_DUE_NULL\": np.nanmean(g[\"DAYS_LAST_DUE\"].isnull()), \n",
    "        \"AVG_PREV_REQ_AMOUNT_WEIGHTED\": np.nanmean(g[\"AMT_APPLICATION\"] / abs(g[\"DAYS_DECISION\"])), \n",
    "        \"MAX_PREV_REQ_AMOUNT_WEIGHTED\": np.nanmax(g[\"AMT_APPLICATION\"] / abs(g[\"DAYS_DECISION\"])), \n",
    "        \"AVG_PREV_REQ_AMOUNT\": np.nanmean(g[\"AMT_APPLICATION\"]), \n",
    "        \"MAX_PREV_REQ_AMOUNT\": np.nanmax(g[\"AMT_APPLICATION\"]), \n",
    "        \"AVG_PREV_RATE_DOWNPAYMENT_WEIGHTED\": np.nanmean(g[\"RATE_DOWN_PAYMENT\"] / abs(g[\"DAYS_DECISION\"])), \n",
    "        \"AVG_PREV_PROP_APPROVED_WEIGHTED\": np.nanmean(g[\"AMT_CREDIT\"] / g[\"AMT_APPLICATION\"] / abs(g[\"DAYS_DECISION\"])), \n",
    "        \"MAX_PREV_PROP_APPROVED_WEIGHTED\": np.nanmax(g[\"AMT_CREDIT\"] / g[\"AMT_APPLICATION\"] / abs(g[\"DAYS_DECISION\"])), \n",
    "        \"AVG_PREV_RATE_DOWNPAYMENT\": np.nanmean(g[\"RATE_DOWN_PAYMENT\"]), \n",
    "        \"AVG_PREV_PROP_APPROVED\": np.nanmean(g[\"AMT_CREDIT\"] / g[\"AMT_APPLICATION\"]), \n",
    "        \"MAX_PREV_PROP_APPROVED\": np.nanmax(g[\"AMT_CREDIT\"] / g[\"AMT_APPLICATION\"]), \n",
    "        \"MIN_PREV_PROP_APPROVED\": np.nanmin(g[\"AMT_CREDIT\"] / g[\"AMT_APPLICATION\"]), \n",
    "        \"AVG_PREV_REQ_AMOUNT\": np.nanmean(g[\"AMT_APPLICATION\"]), \n",
    "        \"MAX_PREV_REQ_AMOUNT\": np.nanmax(g[\"AMT_APPLICATION\"]), \n",
    "        \"AVG_PREV_RATE_DOWNPAYMENT\": np.nanmean(g[\"RATE_DOWN_PAYMENT\"]), \n",
    "        \"AVG_PREV_INT_RATE\": np.nanmean(g[\"RATE_INTEREST_PRIMARY\"]), \n",
    "        \"SUM_PREV_URGENT_NEEDS\": np.nansum(g[\"NAME_CASH_LOAN_PURPOSE\"] == \"Urgent needs\"), \n",
    "        \"SUM_PREV_REPAIRS\": np.nansum(g[\"NAME_CASH_LOAN_PURPOSE\"] == \"Repairs\"), \n",
    "        \"SUM_PREV_OTHER\": np.nansum(g[\"NAME_CASH_LOAN_PURPOSE\"] == \"Other\"), \n",
    "        \"SUM_PREV_LIMIT_REJECT\": np.nansum(g[\"CODE_REJECT_REASON\"] == \"LIMIT\"), \n",
    "        \"SUM_REFUSED_CONTRACT\": np.nansum(g[\"NAME_CONTRACT_STATUS\"] == \"Refused\"), \n",
    "        \"SUM_CANC_CONTRACT\": np.nansum(g[\"NAME_CONTRACT_STATUS\"] == \"Canceled\"), \n",
    "        \"SUM_APPR_CONTRACT\": np.nansum(g[\"NAME_CONTRACT_STATUS\"] == \"Approved\"), \n",
    "        \"SUM_PREV_HC_REJECT\": np.nansum(g[\"CODE_REJECT_REASON\"] == \"HC\"), \n",
    "        \"SUM_PREV_INSURE_REQ\": np.nansum(g[\"NFLAG_INSURED_ON_APPROVAL\"]), \n",
    "        \"AVG_NFLAG_INSURED_ON_APPROVAL_NULL\": np.nanmean(g[\"NFLAG_INSURED_ON_APPROVAL\"].isnull()), \n",
    "        \"COUNT_PREV_WALK_IN\": np.nansum(g[\"NAME_PRODUCT_TYPE\"] == \"walk-in\"), \n",
    "        \"COUNT_PREV_HIGH_YIELD\": np.nansum(g[\"NAME_YIELD_GROUP\"] == \"high\"), \n",
    "        \"COUNT_PREV_LOW_YIELD\": np.nansum(g[\"NAME_YIELD_GROUP\"].apply(lambda x: x.startswith(\"low\"))), \n",
    "        \"AVG_SYNTH_TARGET\": np.nanmean(g[\"SYNTHETIC_TARGET\"]), \n",
    "        \"SUM_SYNTH_TARGET_WEIGHTED\": np.nansum(g[\"SYNTHETIC_TARGET\"] / abs(g[\"DAYS_DECISION\"])), \n",
    "        \"SUM_SYNTH_TARGET\": np.nansum(g[\"SYNTHETIC_TARGET\"]), \n",
    "        \"MAX_SYNTH_TARGET\": np.nanmax(g[\"SYNTHETIC_TARGET\"]), \n",
    "        \"MIN_SYNTH_TARGET\": np.nanmin(g[\"SYNTHETIC_TARGET\"]), \n",
    "        \"RANGE_SYNTH_TARGET\": np.nanmax(g[\"SYNTHETIC_TARGET\"]) - np.min(g[\"SYNTHETIC_TARGET\"]), \n",
    "        \"SUM_DAYS_LAST_DUE_1ST_VERSION_EQ_DAYS_LAST_DUE\": np.nansum(g[\"DAYS_LAST_DUE_1ST_VERSION\"] == g[\"DAYS_LAST_DUE\"]), \n",
    "        \"SUM_DAYS_FIRST_DRAWING_SENTINEL\": np.nansum(g[\"DAYS_FIRST_DRAWING_SENTINEL\"]), \n",
    "        \"SUM_DAYS_FIRST_DRAWING_SENTINEL_WEIGHTED\": np.nansum(g[\"DAYS_FIRST_DRAWING_SENTINEL\"] / abs(g[\"DAYS_DECISION\"])), \n",
    "        \"MAX_DAYS_FIRST_DRAWING_SENTINEL_WEIGHTED\": np.nanmax(g[\"DAYS_FIRST_DRAWING_SENTINEL\"] / abs(g[\"DAYS_DECISION\"])),         \n",
    "        \"SUM_DAYS_LAST_DUE_LT_FIRST_VERSION\": np.nansum(g[\"DAYS_LAST_DUE\"] < g[\"DAYS_LAST_DUE_1ST_VERSION\"]), \n",
    "        \"SUM_DAYS_FIRST_DRAWING_DAYS_FIRST_DUE_SENTINEL\": np.nansum(g[\"DAYS_FIRST_DRAWING_SENTINEL\"] * g[\"DAYS_FIRST_DUE_SENTINEL\"]), \n",
    "        \"MAX_DAYS_FIRST_DRAWING_DAYS_DUE_SENTINEL\": np.nanmax(g[\"DAYS_FIRST_DRAWING_SENTINEL\"] * g[\"DAYS_FIRST_DUE_SENTINEL\"]), \n",
    "        \"MAX_DAYS_FIRST_SENTINEL_COMP_DAYS_LAST_SENTINEL\": np.nansum((1 - g[\"DAYS_FIRST_DUE_SENTINEL\"]) * g[\"DAYS_LAST_DUE_1ST_VERSION_SENTINEL\"])}\n",
    "    \n",
    "    return pd.Series(d)"
   ]
  },
  {
   "cell_type": "code",
   "execution_count": null,
   "metadata": {},
   "outputs": [],
   "source": [
    "previous_agg = previous_application.groupby(\"SK_ID_CURR\").apply(previous_agg_func).reset_index()\n",
    "previous_agg.head()"
   ]
  },
  {
   "cell_type": "markdown",
   "metadata": {},
   "source": [
    "### Join features"
   ]
  },
  {
   "cell_type": "code",
   "execution_count": null,
   "metadata": {},
   "outputs": [],
   "source": [
    "df = pd.merge(application, previous_agg, how=\"left\", on=\"SK_ID_CURR\")\n",
    "del previous_application, previous_agg\n",
    "gc.collect()"
   ]
  },
  {
   "cell_type": "markdown",
   "metadata": {},
   "source": [
    "## Bureau balance"
   ]
  },
  {
   "cell_type": "code",
   "execution_count": null,
   "metadata": {},
   "outputs": [],
   "source": [
    "bureau_balance[\"STATUS\"].value_counts()"
   ]
  },
  {
   "cell_type": "code",
   "execution_count": null,
   "metadata": {},
   "outputs": [],
   "source": [
    "bureau_balance[\"STATUS\"] = bureau_balance[\"STATUS\"].where(lambda x: x != \"X\").fillna(\"0\")\n",
    "bureau_balance[\"STATUS\"].value_counts()"
   ]
  },
  {
   "cell_type": "code",
   "execution_count": null,
   "metadata": {},
   "outputs": [],
   "source": [
    "bureau_balance.head()"
   ]
  },
  {
   "cell_type": "code",
   "execution_count": null,
   "metadata": {},
   "outputs": [],
   "source": [
    "bureau_balance.shape"
   ]
  },
  {
   "cell_type": "markdown",
   "metadata": {},
   "source": [
    "### Derived features"
   ]
  },
  {
   "cell_type": "code",
   "execution_count": null,
   "metadata": {},
   "outputs": [],
   "source": [
    "def bureau_balance_agg_func(g):\n",
    "    d = {\"LEN_BUREAU_BALANCE\": np.nansum(g[\"STATUS\"] != \"C\"), \n",
    "        \"SUM_CLOSED_BUREAU_BALANCE\": np.nansum(g[\"STATUS\"] == \"C\"), \n",
    "        \"SUM_CURRENT_BUREAU_BALANCE\": np.nansum(g[\"STATUS\"] == \"0\"), \n",
    "        \"SUM_DQ_BUREAU_BALANCE\": np.nansum(g[\"STATUS\"].isin([\"1\", \"2\", \"3\", \"3\", \"4\", \"5\"])),\n",
    "        \"WORST_DQ_BUREAU_BALANCE\": np.nanmax(g[\"STATUS\"].apply(lambda x: 0 if x == \"C\" else int(x))), \n",
    "        \"AVG_MONTHS_BALANCE_BUREAU_BALANCE\": np.nansum(abs(g[\"MONTHS_BALANCE\"]).where(g[\"STATUS\"] != \"C\")) / np.nansum(g[\"STATUS\"] != \"C\"), \n",
    "        \"RANGE_MONTHS_BALANCE_BUREAU_BALANCE\": np.nanmax(g[\"MONTHS_BALANCE\"].where(g[\"STATUS\"] != \"C\")) - np.nanmin(g[\"MONTHS_BALANCE\"].where(g[\"STATUS\"] != \"C\")), \n",
    "        \"MIN_MONTHS_BALANCE_BUREAU_BALANCE\": np.nanmin(g[\"MONTHS_BALANCE\"].where(g[\"STATUS\"] != \"C\")), \n",
    "        \"MAX_MONTHS_BALANCE_BUREAU_BALANCE\": np.nanmax(g[\"MONTHS_BALANCE\"].where(g[\"STATUS\"] != \"C\"))}\n",
    "    \n",
    "    return pd.Series(d)"
   ]
  },
  {
   "cell_type": "code",
   "execution_count": null,
   "metadata": {},
   "outputs": [],
   "source": [
    "bureau_balance_agg = bureau_balance.groupby(\"SK_ID_BUREAU\").apply(bureau_balance_agg_func).reset_index()\n",
    "bureau_balance_agg.head()"
   ]
  },
  {
   "cell_type": "markdown",
   "metadata": {},
   "source": [
    "### Join features"
   ]
  },
  {
   "cell_type": "code",
   "execution_count": null,
   "metadata": {},
   "outputs": [],
   "source": [
    "bureau_joined = pd.merge(bureau, \n",
    "                         bureau_balance_agg, \n",
    "                         how=\"left\", \n",
    "                         on=\"SK_ID_BUREAU\")"
   ]
  },
  {
   "cell_type": "markdown",
   "metadata": {},
   "source": [
    "## Bureau"
   ]
  },
  {
   "cell_type": "code",
   "execution_count": null,
   "metadata": {},
   "outputs": [],
   "source": [
    "bureau_joined.head()"
   ]
  },
  {
   "cell_type": "code",
   "execution_count": null,
   "metadata": {},
   "outputs": [],
   "source": [
    "bureau_joined.shape"
   ]
  },
  {
   "cell_type": "markdown",
   "metadata": {},
   "source": [
    "### Derived features"
   ]
  },
  {
   "cell_type": "code",
   "execution_count": null,
   "metadata": {},
   "outputs": [],
   "source": [
    "def bureau_agg_func(g):\n",
    "    d = {\"AVG_LEN_BUREAU_BALANCE\": np.nanmean(g[\"LEN_BUREAU_BALANCE\"]), \n",
    "        \"SUM_LEN_BUREAU_BALANCE\": np.nansum(g[\"LEN_BUREAU_BALANCE\"]), \n",
    "        \"PROP_CURRENT\": np.nansum(g[\"SUM_CURRENT_BUREAU_BALANCE\"]) / np.nansum(g[\"LEN_BUREAU_BALANCE\"]), \n",
    "        \"PROP_CLOSED\": np.nansum(g[\"SUM_CLOSED_BUREAU_BALANCE\"]) / np.nansum(g[\"LEN_BUREAU_BALANCE\"]), \n",
    "        \"PROP_CURRENT_WEIGHTED\": np.nansum(g[\"SUM_CURRENT_BUREAU_BALANCE\"]) / np.nansum(g[\"LEN_BUREAU_BALANCE\"]) / np.nansum(g[\"AVG_MONTHS_BALANCE_BUREAU_BALANCE\"]), \n",
    "        \"MAX_AVG_MONTHS_BALANCE_BUREAU_BALANCE\": np.nanmax(g[\"AVG_MONTHS_BALANCE_BUREAU_BALANCE\"]), \n",
    "        \"MIN_AVG_MONTHS_BALANCE_BUREAU_BALANCE\": np.nanmin(g[\"AVG_MONTHS_BALANCE_BUREAU_BALANCE\"]), \n",
    "        \"RANGE_AVG_MONTHS_BALANCE_BUREAU_BALANCE\": np.nanmax(g[\"AVG_MONTHS_BALANCE_BUREAU_BALANCE\"]) - np.nanmin(g[\"AVG_MONTHS_BALANCE_BUREAU_BALANCE\"]), \n",
    "        \"SUM_SUM_CURRENT_BUREAU_BALANCE\": np.nansum(g[\"SUM_CURRENT_BUREAU_BALANCE\"]), \n",
    "        \"AVG_PROP_CURRENT\": np.nanmean(g[\"SUM_CURRENT_BUREAU_BALANCE\"] / g[\"LEN_BUREAU_BALANCE\"]), \n",
    "        \"MIN_PROP_CURRENT\": np.nanmin(g[\"SUM_CURRENT_BUREAU_BALANCE\"] / g[\"LEN_BUREAU_BALANCE\"]), \n",
    "        \"AVG_PROP_DQ\": np.nanmean(g[\"SUM_DQ_BUREAU_BALANCE\"] / g[\"LEN_BUREAU_BALANCE\"]), \n",
    "        \"MAX_PROP_DQ\": np.nanmax(g[\"SUM_DQ_BUREAU_BALANCE\"] / g[\"LEN_BUREAU_BALANCE\"]),\n",
    "        \"AVG_PROP_CURRENT_WEIGHTED\": np.nanmean(g[\"SUM_CURRENT_BUREAU_BALANCE\"] / g[\"LEN_BUREAU_BALANCE\"] / g[\"AVG_MONTHS_BALANCE_BUREAU_BALANCE\"]), \n",
    "        \"MIN_PROP_CURRENT_WEIGHTED\": np.nanmin(g[\"SUM_CURRENT_BUREAU_BALANCE\"] / g[\"LEN_BUREAU_BALANCE\"] / g[\"AVG_MONTHS_BALANCE_BUREAU_BALANCE\"]), \n",
    "        \"AVG_PROP_DQ_WEIGHTED\": np.nanmean(g[\"SUM_DQ_BUREAU_BALANCE\"] / g[\"LEN_BUREAU_BALANCE\"] / g[\"AVG_MONTHS_BALANCE_BUREAU_BALANCE\"]), \n",
    "        \"MAX_PROP_DQ_WEIGHTED\": np.nanmax(g[\"SUM_DQ_BUREAU_BALANCE\"] / g[\"LEN_BUREAU_BALANCE\"] / g[\"AVG_MONTHS_BALANCE_BUREAU_BALANCE\"]), \n",
    "        \"AVG_PROP_CURRENT_WEIGHTED_AMT\": np.nanmean(g[\"AMT_CREDIT_SUM\"] * g[\"SUM_CURRENT_BUREAU_BALANCE\"] / g[\"LEN_BUREAU_BALANCE\"] / g[\"AVG_MONTHS_BALANCE_BUREAU_BALANCE\"]), \n",
    "        \"MIN_PROP_CURRENT_WEIGHTED_AMT\": np.nanmin(g[\"AMT_CREDIT_SUM\"] * g[\"SUM_CURRENT_BUREAU_BALANCE\"] / g[\"LEN_BUREAU_BALANCE\"] / g[\"AVG_MONTHS_BALANCE_BUREAU_BALANCE\"]), \n",
    "        \"AVG_PROP_DQ_WEIGHTED_AMT\": np.nanmean(g[\"AMT_CREDIT_SUM\"] * g[\"SUM_DQ_BUREAU_BALANCE\"] / g[\"LEN_BUREAU_BALANCE\"] / g[\"AVG_MONTHS_BALANCE_BUREAU_BALANCE\"]), \n",
    "        \"MAX_PROP_DQ_WEIGHTED_AMT\": np.nanmax(g[\"AMT_CREDIT_SUM\"] * g[\"SUM_DQ_BUREAU_BALANCE\"] / g[\"LEN_BUREAU_BALANCE\"] / g[\"AVG_MONTHS_BALANCE_BUREAU_BALANCE\"]),          \n",
    "        \"MAX_WORST_DQ_BUREAU_BALANCE\": np.nanmax(g[\"WORST_DQ_BUREAU_BALANCE\"]), \n",
    "        \"AVG_WORST_DQ_BUREAU_BALANCE\": np.nanmean(g[\"WORST_DQ_BUREAU_BALANCE\"]), \n",
    "        \"MAX_WORST_DQ_BUREAU_BALANCE_WEIGHTED\": np.nanmax(g[\"WORST_DQ_BUREAU_BALANCE\"] / g[\"AVG_MONTHS_BALANCE_BUREAU_BALANCE\"]), \n",
    "        \"AVG_WORST_DQ_BUREAU_BALANCE_WEIGHTED\": np.nanmean(g[\"WORST_DQ_BUREAU_BALANCE\"] / g[\"AVG_MONTHS_BALANCE_BUREAU_BALANCE\"]), \n",
    "        \"TOTAL_AMT_CREDIT_SUM_POS_DAYS\": np.nansum(g[\"AMT_CREDIT_SUM\"].where(g[\"DAYS_CREDIT_ENDDATE\"] > 0)),\n",
    "        \"SUM_DAYS_CREDIT_ENDDATE_POS_DAYS\": np.nansum(g[\"DAYS_CREDIT_ENDDATE\"].where(g[\"DAYS_CREDIT_ENDDATE\"] > 0)), \n",
    "        \"MAX_RANGE_MONTHS_BALANCE_BUREAU_BALANCE\": np.nanmax(g[\"RANGE_MONTHS_BALANCE_BUREAU_BALANCE\"]), \n",
    "        \"SUM_RANGE_MONTHS_BALANCE_BUREAU_BALANCE\": np.nanmax(g[\"RANGE_MONTHS_BALANCE_BUREAU_BALANCE\"]), \n",
    "        \"MIN_MIN_MONTHS_BALANCE_BUREAU_BALANCE\": np.nanmin(g[\"MIN_MONTHS_BALANCE_BUREAU_BALANCE\"]), \n",
    "        \"MIN_DAYS_CREDIT_ENDDATE\": np.nanmin(g[\"DAYS_CREDIT_ENDDATE\"]), \n",
    "        \"MAX_DAYS_CREDIT_ENDDATE\": np.nanmax(g[\"DAYS_CREDIT_ENDDATE\"]), \n",
    "        \"SUM_DAYS_CREDIT_ENDDATE\": np.nansum(g[\"DAYS_CREDIT_ENDDATE\"]), \n",
    "        \"SUM_NULL_DAYS_ENDDATE_FACT\": np.nansum(g[\"DAYS_ENDDATE_FACT\"].isnull()), \n",
    "        \"COUNT_BUREAU_RECORDS\": len(g), \n",
    "        \"COUNT_ACTIVE\": np.nansum(g[\"CREDIT_ACTIVE\"] == \"Active\"), \n",
    "        \"MAX_CREDIT_DAY_OVERDUE_WEIGHTED\": np.nanmax(g[\"CREDIT_DAY_OVERDUE\"] / abs(g[\"DAYS_CREDIT_UPDATE\"])), \n",
    "        \"SUM_CREDIT_DAY_OVERDUE_WEIGHTED\": np.nansum(g[\"CREDIT_DAY_OVERDUE\"] / abs(g[\"DAYS_CREDIT_UPDATE\"])), \n",
    "        \"MAX_CREDIT_DAY_OVERDUE\": np.nanmax(g[\"CREDIT_DAY_OVERDUE\"]), \n",
    "        \"SUM_CREDIT_DAY_OVERDUE\": np.nansum(g[\"CREDIT_DAY_OVERDUE\"]), \n",
    "        \"DAYS_SINCE_APPLIED\": - np.nanmax(g[\"DAYS_CREDIT\"]), \n",
    "        \"SUM_INVERSE_DAYS_CREDIT\": - np.nansum(1 / g[\"DAYS_CREDIT\"]), \n",
    "        \"MAX_AMT_CREDIT_MAX_OVERDUE_WEIGHTED\": np.nanmax(g[\"AMT_CREDIT_MAX_OVERDUE\"] / abs(g[\"DAYS_CREDIT_UPDATE\"])), \n",
    "        \"SUM_AMT_CREDIT_MAX_OVERDUE_WEIGHTED\": np.nansum(g[\"AMT_CREDIT_MAX_OVERDUE\"] / abs(g[\"DAYS_CREDIT_UPDATE\"])), \n",
    "        \"MAX_AMT_CREDIT_MAX_OVERDUE\": np.nanmax(g[\"AMT_CREDIT_MAX_OVERDUE\"]), \n",
    "        \"SUM_AMT_CREDIT_MAX_OVERDUE\": np.nansum(g[\"AMT_CREDIT_MAX_OVERDUE\"]), \n",
    "        \"SUM_CNT_CREDIT_PROLONG\": np.nansum(g[\"CNT_CREDIT_PROLONG\"]), \n",
    "        \"SUM_AMT_CREDIT_SUM_DEBT_WEIGHTED\": np.nansum(g[\"AMT_CREDIT_SUM_DEBT\"] / abs(g[\"DAYS_CREDIT_UPDATE\"])), \n",
    "        \"SUM_AMT_CREDIT_SUM_DEBT\": np.nansum(g[\"AMT_CREDIT_SUM_DEBT\"]),\n",
    "        \"BUREAU_UTILIZATION_AVG\": np.nanmean(g[\"AMT_CREDIT_SUM_DEBT\"] / g[\"AMT_CREDIT_SUM_LIMIT\"]), \n",
    "        \"BUREAU_UTILIZATION_MAX\": np.nanmax(g[\"AMT_CREDIT_SUM_DEBT\"] / g[\"AMT_CREDIT_SUM_LIMIT\"]), \n",
    "        \"BUREAU_PROP_SUM_OVERDUE_AVG\": np.nanmean(g[\"AMT_CREDIT_SUM_OVERDUE\"] / g[\"AMT_CREDIT_SUM_DEBT\"]), \n",
    "        \"BUREAU_PROP_SUM_OVERDUE_MAX\": np.nanmean(g[\"AMT_CREDIT_SUM_OVERDUE\"] / g[\"AMT_CREDIT_SUM_DEBT\"]),\n",
    "        \"BUREAU_PROP_MAX_OVERDUE_AVG\": np.nanmean(g[\"AMT_CREDIT_MAX_OVERDUE\"] / g[\"AMT_CREDIT_SUM_DEBT\"]), \n",
    "        \"BUREAU_PROP_MAX_OVERDUE_MAX\": np.nanmean(g[\"AMT_CREDIT_MAX_OVERDUE\"] / g[\"AMT_CREDIT_SUM_DEBT\"]),\n",
    "        \"MAX_DAYS_CREDIT_UPDATE\": np.nanmax(g[\"DAYS_CREDIT_UPDATE\"]), \n",
    "        \"RANGE_DAYS_CREDIT_UPDATE\": np.nanmax(g[\"DAYS_CREDIT_UPDATE\"]) - np.nanmin(g[\"DAYS_CREDIT_UPDATE\"]), \n",
    "        \"DAYS_CREDIT_RANGE\": np.nanmax(g[\"DAYS_CREDIT\"]) - np.nanmin(g[\"DAYS_CREDIT\"]), \n",
    "        \"TOTAL_AMT_CREDIT_SUM_WEIGHTED\": np.nansum(g[\"AMT_CREDIT_SUM\"] / abs(g[\"DAYS_CREDIT_UPDATE\"])),\n",
    "        \"TOTAL_AMT_CREDIT_SUM\": np.nansum(g[\"AMT_CREDIT_SUM\"]),\n",
    "        \"COUNT_CREDIT_CARD\": np.nansum(g[\"CREDIT_TYPE\"] == \"Credit card\"), \n",
    "        \"COUNT_CAR_LOAN\": np.nansum(g[\"CREDIT_TYPE\"] == \"Car loan\"), \n",
    "        \"COUNT_MORTGAGE\": np.nansum(g[\"CREDIT_TYPE\"] == \"Mortgage\"), \n",
    "        \"SUM_AMT_ANNUITY\": np.nansum(g[\"AMT_ANNUITY\"])}\n",
    "    \n",
    "    return pd.Series(d)"
   ]
  },
  {
   "cell_type": "code",
   "execution_count": null,
   "metadata": {},
   "outputs": [],
   "source": [
    "bureau_agg = bureau_joined.groupby(\"SK_ID_CURR\").apply(bureau_agg_func).reset_index()\n",
    "bureau_agg.head()"
   ]
  },
  {
   "cell_type": "markdown",
   "metadata": {},
   "source": [
    "### Join features"
   ]
  },
  {
   "cell_type": "code",
   "execution_count": null,
   "metadata": {},
   "outputs": [],
   "source": [
    "df = pd.merge(df, bureau_agg, how=\"left\", on=\"SK_ID_CURR\")\n",
    "del bureau_balance, bureau_balance_agg, bureau, bureau_agg, bureau_joined\n",
    "gc.collect()"
   ]
  },
  {
   "cell_type": "markdown",
   "metadata": {},
   "source": [
    "## Credit card"
   ]
  },
  {
   "cell_type": "code",
   "execution_count": null,
   "metadata": {},
   "outputs": [],
   "source": [
    "credit_card.head()"
   ]
  },
  {
   "cell_type": "code",
   "execution_count": null,
   "metadata": {},
   "outputs": [],
   "source": [
    "credit_card.shape"
   ]
  },
  {
   "cell_type": "markdown",
   "metadata": {},
   "source": [
    "### Derived features"
   ]
  },
  {
   "cell_type": "code",
   "execution_count": null,
   "metadata": {},
   "outputs": [],
   "source": [
    "def credit_card_agg_func(g):\n",
    "    mask6 = g[\"MONTHS_BALANCE\"] >= -6\n",
    "    mask12 = g[\"MONTHS_BALANCE\"] >= -12\n",
    "    \n",
    "    d = {\"STD_BALANCE_6M\": np.nanstd(g[\"AMT_BALANCE\"].where(mask6)), \n",
    "        \"STD_BALANCE_12M\": np.nanstd(g[\"AMT_BALANCE\"].where(mask12)), \n",
    "        \"NUM_CREDIT_CARD\": g[\"SK_ID_PREV\"].nunique(), \n",
    "        \"DIFF_AVG_BALANCE_6M_12M\": np.nanmean(g[\"AMT_BALANCE\"].where(mask6)) - np.nanmean(g[\"AMT_BALANCE\"].where(mask6 ^ mask12)),\n",
    "        \"AVG_BALANCE_6M\": np.nanmean(g[\"AMT_BALANCE\"].where(mask6)),\n",
    "        \"AVG_UTILIZATION_6M\": np.nanmean((g[\"AMT_BALANCE\"] / g[\"AMT_CREDIT_LIMIT_ACTUAL\"]).where(mask6)),\n",
    "        \"AVG_AMT_DRAWINGS_CURRENT_6M\": np.nanmean(g[\"AMT_DRAWINGS_CURRENT\"].where(mask6)),  \n",
    "         \n",
    "        \"AVG_BALANCE\": np.nanmean(g[\"AMT_BALANCE\"]), \n",
    "        \"MAX_BALANCE\": np.nanmax(g[\"AMT_BALANCE\"]), \n",
    "        \"SUM_BALANCE\": np.nansum(g[\"AMT_BALANCE\"]), \n",
    "        \"MAX_MONTHS_BALANCE\": np.nanmax(abs(g[\"MONTHS_BALANCE\"])), \n",
    "        \"MIN_MONTHS_BALANCE\": np.nanmin(abs(g[\"MONTHS_BALANCE\"])), \n",
    "        \"RANGE_MONTHS_BALANCE\": np.nanmax(g[\"MONTHS_BALANCE\"]) - np.nanmin(g[\"MONTHS_BALANCE\"]), \n",
    "        \"AVG_UTILIZATION\": np.nanmean(g[\"AMT_BALANCE\"] / g[\"AMT_CREDIT_LIMIT_ACTUAL\"]), \n",
    "        \"MAX_UTILIZATION\": np.nanmax(g[\"AMT_BALANCE\"] / g[\"AMT_CREDIT_LIMIT_ACTUAL\"]), \n",
    "        \"AVG_BALANCE_WEIGHTED\": np.nanmean(g[\"AMT_BALANCE\"] / abs(g[\"MONTHS_BALANCE\"])), \n",
    "        \"MAX_BALANCE_WEIGHTED\": np.nanmax(g[\"AMT_BALANCE\"] / abs(g[\"MONTHS_BALANCE\"])), \n",
    "        \"SUM_BALANCE_WEIGHTED\": np.nansum(g[\"AMT_BALANCE\"] / abs(g[\"MONTHS_BALANCE\"])), \n",
    "        \"AVG_UTILIZATION_WEIGHTED\": np.nanmean(g[\"AMT_BALANCE\"] / g[\"AMT_CREDIT_LIMIT_ACTUAL\"] / abs(g[\"MONTHS_BALANCE\"])), \n",
    "        \"MAX_UTILIZATION_WEIGHTED\": np.nanmax(g[\"AMT_BALANCE\"] / g[\"AMT_CREDIT_LIMIT_ACTUAL\"] / abs(g[\"MONTHS_BALANCE\"])), \n",
    "        \"MAX_DPD_WEIGHTED\": np.nanmax(g[\"SK_DPD\"] / abs(g[\"MONTHS_BALANCE\"])), \n",
    "        \"MAX_DPD_DEF_WEIGHTED\": np.nanmax(g[\"SK_DPD_DEF\"] / abs(g[\"MONTHS_BALANCE\"])), \n",
    "        \"SUM_CNT_DRAWINGS_CURRENT\": np.nansum(g[\"CNT_DRAWINGS_CURRENT\"]), \n",
    "        \"AVG_CNT_DRAWINGS_CURRENT\": np.nanmean(g[\"CNT_DRAWINGS_CURRENT\"]), \n",
    "        \"MAX_CNT_DRAWINGS_CURRENT\": np.nanmax(g[\"CNT_DRAWINGS_CURRENT\"]), \n",
    "        \"SUM_AMT_DRAWINGS_CURRENT\": np.nansum(g[\"AMT_DRAWINGS_CURRENT\"]), \n",
    "        \"AVG_AMT_DRAWINGS_CURRENT\": np.nanmean(g[\"AMT_DRAWINGS_CURRENT\"]), \n",
    "        \"MAX_AMT_DRAWINGS_CURRENT\": np.nanmax(g[\"AMT_DRAWINGS_CURRENT\"]), \n",
    "        \"MIN_AMT_PAYMENT_CURRENT_DIV_AMT_INST_MIN_REGULARITY\": np.nanmin(g[\"AMT_PAYMENT_CURRENT\"] / g[\"AMT_INST_MIN_REGULARITY\"]), \n",
    "        \"AVG_AMT_PAYMENT_CURRENT_DIV_AMT_INST_MIN_REGULARITY\": np.nanmean(g[\"AMT_PAYMENT_CURRENT\"] / g[\"AMT_INST_MIN_REGULARITY\"]), \n",
    "        \"MAX_AMT_PAYMENT_CURRENT_DIV_AMT_INST_MIN_REGULARITY\": np.nanmax(g[\"AMT_PAYMENT_CURRENT\"] / g[\"AMT_INST_MIN_REGULARITY\"])}\n",
    "    \n",
    "    return pd.Series(d)"
   ]
  },
  {
   "cell_type": "code",
   "execution_count": null,
   "metadata": {},
   "outputs": [],
   "source": [
    "credit_card_agg = credit_card.groupby(\"SK_ID_CURR\").apply(credit_card_agg_func).reset_index()\n",
    "credit_card_agg.head()"
   ]
  },
  {
   "cell_type": "markdown",
   "metadata": {},
   "source": [
    "### Join features"
   ]
  },
  {
   "cell_type": "code",
   "execution_count": null,
   "metadata": {},
   "outputs": [],
   "source": [
    "df = pd.merge(df, credit_card_agg, how=\"left\", on=\"SK_ID_CURR\")\n",
    "del credit_card, credit_card_agg\n",
    "gc.collect()"
   ]
  },
  {
   "cell_type": "markdown",
   "metadata": {},
   "source": [
    "## Installments"
   ]
  },
  {
   "cell_type": "code",
   "execution_count": null,
   "metadata": {},
   "outputs": [],
   "source": [
    "installments.head()"
   ]
  },
  {
   "cell_type": "code",
   "execution_count": null,
   "metadata": {},
   "outputs": [],
   "source": [
    "installments.shape"
   ]
  },
  {
   "cell_type": "markdown",
   "metadata": {},
   "source": [
    "### Derived features"
   ]
  },
  {
   "cell_type": "code",
   "execution_count": null,
   "metadata": {},
   "outputs": [],
   "source": [
    "def installment_agg_func(g):\n",
    "    mask6 = g[\"DAYS_ENTRY_PAYMENT\"] >= -180\n",
    "    mask12 = g[\"DAYS_ENTRY_PAYMENT\"] >= -360\n",
    "    \n",
    "    d = {\n",
    "        \"SUM_UNDERPAYMENT_6M\": np.nansum((g[\"AMT_INSTALMENT\"] - g[\"AMT_PAYMENT\"]).where(mask6)), \n",
    "        \"MAX_PAYMENT_SIZE_6M\": np.nanmax(g[\"AMT_PAYMENT\"].where(mask6)), \n",
    "        \"MIN_PAYMENT_SIZE_6M\": np.nanmin(g[\"AMT_PAYMENT\"].where(mask6)),\n",
    "        \n",
    "        \n",
    "        \"COUNT_UNDERPAYMENT\": np.nansum(g[\"AMT_PAYMENT\"] / g[\"AMT_INSTALMENT\"] < 0.5), \n",
    "        \"SUM_UNDERPAYMENT\": np.nansum(g[\"AMT_INSTALMENT\"] - g[\"AMT_PAYMENT\"]), \n",
    "        \"SUM_UNDERPAYMENT_WEIGHTED\": np.nansum((g[\"AMT_INSTALMENT\"] - g[\"AMT_PAYMENT\"]) / abs(g[\"DAYS_ENTRY_PAYMENT\"])), \n",
    "        \"MAX_UNDERPAYMENT\": np.nanmax(g[\"AMT_INSTALMENT\"] - g[\"AMT_PAYMENT\"]), \n",
    "        \"AVG_PAYMENT_SIZE_WEIGHTED\": np.nanmean(g[\"AMT_PAYMENT\"] / abs(g[\"DAYS_ENTRY_PAYMENT\"])), \n",
    "        \"AVG_PAYMENT_SIZE\": np.nanmean(g[\"AMT_PAYMENT\"]), \n",
    "        \"MAX_PAYMENT_SIZE_WEIGHTED\": np.nanmax(g[\"AMT_PAYMENT\"] / abs(g[\"DAYS_ENTRY_PAYMENT\"])), \n",
    "        \"MAX_PAYMENT_SIZE\": np.nanmax(g[\"AMT_PAYMENT\"]), \n",
    "        \"MIN_PAYMENT_SIZE_WEIGHTED\": np.nanmin(g[\"AMT_PAYMENT\"] / abs(g[\"DAYS_ENTRY_PAYMENT\"])), \n",
    "        \"MIN_PAYMENT_SIZE\": np.nanmin(g[\"AMT_PAYMENT\"]),\n",
    "        \"SUM_PAYMENT_WEIGHTED\": np.nansum(g[\"AMT_PAYMENT\"] / abs(g[\"DAYS_ENTRY_PAYMENT\"])), \n",
    "        \"SUM_PAYMENT\": np.nansum(g[\"AMT_PAYMENT\"]),\n",
    "        \"SUM_DAYS_ENTRY_PAYMENT_GT_DAYS_INSTALMENT\": np.nansum(g[\"DAYS_ENTRY_PAYMENT\"] > g[\"DAYS_INSTALMENT\"]), \n",
    "        \"MAX_DAYS_ENTRY_PAYMENT\": np.nanmax(g[\"DAYS_ENTRY_PAYMENT\"]), \n",
    "        \"MIN_DAYS_ENTRY_PAYMENT\": np.nanmin(g[\"DAYS_ENTRY_PAYMENT\"]), \n",
    "        \"RANGE_DAYS_ENTRY_PAYMENT\": np.nanmax(g[\"DAYS_ENTRY_PAYMENT\"]) - np.nanmin(g[\"DAYS_ENTRY_PAYMENT\"])}\n",
    "    \n",
    "    return pd.Series(d)"
   ]
  },
  {
   "cell_type": "code",
   "execution_count": null,
   "metadata": {},
   "outputs": [],
   "source": [
    "installment_agg = installments.groupby(\"SK_ID_CURR\").apply(installment_agg_func).reset_index()\n",
    "installment_agg.head()"
   ]
  },
  {
   "cell_type": "markdown",
   "metadata": {},
   "source": [
    "### Join features"
   ]
  },
  {
   "cell_type": "code",
   "execution_count": null,
   "metadata": {},
   "outputs": [],
   "source": [
    "df = pd.merge(df, installment_agg, how=\"left\", on=\"SK_ID_CURR\")\n",
    "del installments, installment_agg\n",
    "gc.collect()"
   ]
  },
  {
   "cell_type": "markdown",
   "metadata": {},
   "source": [
    "## Point of sale cash"
   ]
  },
  {
   "cell_type": "code",
   "execution_count": null,
   "metadata": {},
   "outputs": [],
   "source": [
    "pos_cash.head()"
   ]
  },
  {
   "cell_type": "code",
   "execution_count": null,
   "metadata": {},
   "outputs": [],
   "source": [
    "pos_cash.shape"
   ]
  },
  {
   "cell_type": "markdown",
   "metadata": {},
   "source": [
    "### Derived features"
   ]
  },
  {
   "cell_type": "code",
   "execution_count": null,
   "metadata": {},
   "outputs": [],
   "source": [
    "def pos_cash_agg_func(g):\n",
    "    d = {\"MAX_POS_DPD\": np.nanmax(g[\"SK_DPD\"]), \n",
    "        \"MAX_POS_DPD_DEF\": np.nanmax(g[\"SK_DPD_DEF\"]), \n",
    "        \"NUM_POS_CASH\": g[\"SK_ID_PREV\"].nunique()}\n",
    "    \n",
    "    return pd.Series(d)"
   ]
  },
  {
   "cell_type": "code",
   "execution_count": null,
   "metadata": {},
   "outputs": [],
   "source": [
    "pos_cash_agg = pos_cash.groupby(\"SK_ID_CURR\").apply(pos_cash_agg_func).reset_index()\n",
    "pos_cash_agg.head()"
   ]
  },
  {
   "cell_type": "markdown",
   "metadata": {},
   "source": [
    "### Join features"
   ]
  },
  {
   "cell_type": "code",
   "execution_count": null,
   "metadata": {},
   "outputs": [],
   "source": [
    "df = pd.merge(df, pos_cash_agg, how=\"left\", on=\"SK_ID_CURR\")\n",
    "del pos_cash, pos_cash_agg\n",
    "gc.collect()"
   ]
  },
  {
   "cell_type": "markdown",
   "metadata": {},
   "source": [
    "# Further construction and preprocessing"
   ]
  },
  {
   "cell_type": "code",
   "execution_count": null,
   "metadata": {},
   "outputs": [],
   "source": [
    "df[\"FLAG_OWN_CAR\"] = (df[\"FLAG_OWN_CAR\"] == \"Y\").astype(int)\n",
    "df[\"FLAG_OWN_REALTY\"] = (df[\"FLAG_OWN_REALTY\"] == \"Y\").astype(int)"
   ]
  },
  {
   "cell_type": "markdown",
   "metadata": {},
   "source": [
    "### Interactions between features"
   ]
  },
  {
   "cell_type": "code",
   "execution_count": null,
   "metadata": {},
   "outputs": [],
   "source": [
    "df[\"AMT_CREDIT_DIV_AMT_INCOME_TOTAL\"] = df[\"AMT_CREDIT\"] / df[\"AMT_INCOME_TOTAL\"]\n",
    "df[\"AMT_CREDIT_DIV_AMT_GOODS_PRICE\"] = df[\"AMT_CREDIT\"] / df[\"AMT_GOODS_PRICE\"]\n",
    "df[\"AMT_CREDIT_DIV_SUM_PAYMENT\"] = df[\"AMT_CREDIT\"] / df[\"SUM_PAYMENT\"]\n",
    "df[\"AMT_GOODS_PRICE_DIV_AMT_INCOME_TOTAL\"] = df[\"AMT_GOODS_PRICE\"] / df[\"AMT_INCOME_TOTAL\"]\n",
    "df[\"AMT_CREDIT_DIV_AMT_ANNUITY\"] = df[\"AMT_CREDIT\"] / df[\"AMT_ANNUITY\"]\n",
    "df[\"AMT_CREDIT_DIV_AVG_PREV_REQ_AMOUNT\"] = df[\"AMT_CREDIT\"] / df[\"AVG_PREV_REQ_AMOUNT\"]\n",
    "df[\"AMT_CREDIT_DIV_MAX_PREV_REQ_AMOUNT\"] = df[\"AMT_CREDIT\"] / df[\"MAX_PREV_REQ_AMOUNT\"]\n",
    "df[\"EXT_SOURCE_PROD\"] = df[\"EXT_SOURCE_1\"] * df[\"EXT_SOURCE_2\"] * df[\"EXT_SOURCE_3\"]\n",
    "df[\"DAYS_EMPLOYED_DIV_DAYS_BIRTH\"] = df[\"DAYS_EMPLOYED\"] / df[\"DAYS_BIRTH\"]\n",
    "df[\"AVG_PAYMENT_SIZE_DIV_AMT_INCOME_TOTAL\"] = df[\"AVG_PAYMENT_SIZE\"] / df[\"AMT_INCOME_TOTAL\"]\n",
    "df[\"AVG_PAYMENT_SIZE_DIV_AMT_CREDIT\"] = df[\"AVG_PAYMENT_SIZE\"] / df[\"AMT_CREDIT\"]\n",
    "df[\"AVG_PAYMENT_SIZE_DIV_AMT_ANNUITY\"] = df[\"AVG_PAYMENT_SIZE\"] / df[\"AMT_ANNUITY\"]\n",
    "df[\"DAYS_REGISTRATION_PLUS_DAYS_ID_PUBLISH\"] = df[\"DAYS_REGISTRATION\"] + df[\"DAYS_ID_PUBLISH\"]\n",
    "df[\"SUM_REFUSED_CONTRACT_DIV_SUM_APPR_CONTRACT\"] = df[\"SUM_REFUSED_CONTRACT\"] / df[\"SUM_APPR_CONTRACT\"]\n",
    "df[\"MAX_UTILIZATION_DIV_AVG_UTILIZATION\"] = df[\"MAX_UTILIZATION\"] / df[\"AVG_UTILIZATION\"]\n",
    "df[\"MAX_PREV_REQ_AMOUNT_DIV_AMT_CREDIT\"] = df[\"MAX_PREV_REQ_AMOUNT\"] / df[\"AMT_CREDIT\"]\n",
    "df[\"AMT_INCOME_TOTAL_DIV_DAYS_BIRTH\"] = df[\"AMT_INCOME_TOTAL\"] / df[\"DAYS_BIRTH\"]\n",
    "df[\"SUM_DAYS_ID_REG_PHONE\"] = df[\"DAYS_ID_PUBLISH\"] + df[\"DAYS_REGISTRATION\"] + df[\"DAYS_LAST_PHONE_CHANGE\"]\n",
    "df[\"SUM_REQ_CREDIT\"] = df[\"AMT_REQ_CREDIT_BUREAU_HOUR\"] + df[\"AMT_REQ_CREDIT_BUREAU_DAY\"] + df[\"AMT_REQ_CREDIT_BUREAU_WEEK\"] + df[\"AMT_REQ_CREDIT_BUREAU_MON\"] + df[\"AMT_REQ_CREDIT_BUREAU_QRT\"] + df[\"AMT_REQ_CREDIT_BUREAU_YEAR\"]\n",
    "df[\"DEF_30_PLUS_60_CNT_SOCIAL_CIRCLE\"] = df[\"DEF_30_CNT_SOCIAL_CIRCLE\"] + df[\"DEF_60_CNT_SOCIAL_CIRCLE\"]\n",
    "df[\"OWN_CAR_AGE_DIV_DAYS_BIRTH\"] = df[\"OWN_CAR_AGE\"] / df[\"DAYS_BIRTH\"]\n",
    "df[\"LANDAREA_DIV_TOTALAREA_MODE\"] = df[\"LANDAREA_MODE\"] / df[\"TOTALAREA_MODE\"]\n",
    "df[\"OWN_CAR_AGE_PLUS_DAYS_BIRTH\"] = df[\"OWN_CAR_AGE\"] + df[\"DAYS_BIRTH\"]\n",
    "df[\"AMT_ANNUITY_DIV_DAYS_BIRTH\"] = df[\"AMT_ANNUITY\"] / df[\"DAYS_BIRTH\"]\n",
    "df[\"AMT_ANNUITY_DIV_DAYS_EMPLOYED\"] = df[\"AMT_ANNUITY\"] / df[\"DAYS_EMPLOYED\"]\n",
    "df[\"AMT_ANNUITY_PROD_DAYS_EMPLOYED\"] = df[\"AMT_ANNUITY\"] * df[\"DAYS_EMPLOYED\"]\n",
    "df[\"DAYS_REGISTRATION_DIV_DAYS_ID_PUBLISH\"] = df[\"DAYS_REGISTRATION\"] / df[\"DAYS_ID_PUBLISH\"]\n",
    "df[\"DAYS_REGISTRATION_DIV_DAYS_LAST_PHONE_CHANGE\"] = df[\"DAYS_REGISTRATION\"] / df[\"DAYS_LAST_PHONE_CHANGE\"]\n",
    "df[\"REGION_RATING_CLIENT_W_CITY_DIV_REGION_POPULATION_RELATIVE\"] = df[\"REGION_RATING_CLIENT_W_CITY\"] / df[\"REGION_POPULATION_RELATIVE\"]\n",
    "df[\"REGION_RATING_CLIENT_W_CITY_DIV_REGION_POPULATION_RELATIVE\"] = df[\"REGION_RATING_CLIENT_W_CITY\"] * df[\"REGION_POPULATION_RELATIVE\"]\n",
    "df[\"SUM_REG_NOT_FLAG\"] = df[\"REG_REGION_NOT_LIVE_REGION\"] + df[\"REG_REGION_NOT_WORK_REGION\"] + df[\"LIVE_REGION_NOT_WORK_REGION\"] + df[\"REG_CITY_NOT_LIVE_CITY\"] + df[\"REG_CITY_NOT_WORK_CITY\"] + df[\"LIVE_CITY_NOT_WORK_CITY\"]\n",
    "df[\"SUM_AVG_BUILD\"] = df[\"APARTMENTS_AVG\"] + df[\"BASEMENTAREA_AVG\"] + df[\"YEARS_BEGINEXPLUATATION_AVG\"] + df[\"YEARS_BUILD_AVG\"] + df[\"COMMONAREA_AVG\"] + df[\"ELEVATORS_AVG\"] + df[\"ENTRANCES_AVG\"] + df[\"FLOORSMAX_AVG\"] + df[\"FLOORSMIN_AVG\"] + df[\"LANDAREA_AVG\"] + df[\"LIVINGAPARTMENTS_AVG\"] + df[\"LIVINGAREA_AVG\"] + df[\"NONLIVINGAPARTMENTS_AVG\"] + df[\"NONLIVINGAREA_AVG\"]\n",
    "df[\"SUM_MODE_BUILD\"] = df[\"APARTMENTS_MODE\"] + df[\"BASEMENTAREA_MODE\"] + df[\"YEARS_BEGINEXPLUATATION_MODE\"] + df[\"YEARS_BUILD_MODE\"] + df[\"COMMONAREA_MODE\"] + df[\"ELEVATORS_MODE\"] + df[\"ENTRANCES_MODE\"] + df[\"FLOORSMAX_MODE\"] + df[\"FLOORSMIN_MODE\"] + df[\"LANDAREA_MODE\"] + df[\"LIVINGAPARTMENTS_MODE\"] + df[\"LIVINGAREA_MODE\"] + df[\"NONLIVINGAPARTMENTS_MODE\"] + df[\"NONLIVINGAREA_MODE\"]\n",
    "df[\"SUM_MEDI_BUILD\"] = df[\"APARTMENTS_MEDI\"] + df[\"BASEMENTAREA_MEDI\"] + df[\"YEARS_BEGINEXPLUATATION_MEDI\"] + df[\"YEARS_BUILD_MEDI\"] + df[\"COMMONAREA_MEDI\"] + df[\"ELEVATORS_MEDI\"] + df[\"ENTRANCES_MEDI\"] + df[\"FLOORSMAX_MEDI\"] + df[\"FLOORSMIN_MEDI\"] + df[\"LANDAREA_MEDI\"] + df[\"LIVINGAPARTMENTS_MEDI\"] + df[\"LIVINGAREA_MEDI\"] + df[\"NONLIVINGAPARTMENTS_MEDI\"] + df[\"NONLIVINGAREA_MEDI\"]\n",
    "df[\"SUM_DOC_FLAG\"] = df[\"FLAG_DOCUMENT_2\"] + df[\"FLAG_DOCUMENT_3\"] + df[\"FLAG_DOCUMENT_4\"] + df[\"FLAG_DOCUMENT_5\"] + df[\"FLAG_DOCUMENT_6\"] + df[\"FLAG_DOCUMENT_7\"] + df[\"FLAG_DOCUMENT_8\"] + df[\"FLAG_DOCUMENT_9\"] + df[\"FLAG_DOCUMENT_10\"] + df[\"FLAG_DOCUMENT_11\"] + df[\"FLAG_DOCUMENT_12\"] + df[\"FLAG_DOCUMENT_13\"] + df[\"FLAG_DOCUMENT_14\"] + df[\"FLAG_DOCUMENT_15\"] + df[\"FLAG_DOCUMENT_16\"] + df[\"FLAG_DOCUMENT_17\"] + df[\"FLAG_DOCUMENT_18\"] + df[\"FLAG_DOCUMENT_19\"] + df[\"FLAG_DOCUMENT_20\"] + df[\"FLAG_DOCUMENT_21\"]\n",
    "df[\"CNT_CHILDREN_DIV_DAYS_BIRTH\"] = df[\"CNT_CHILDREN\"] / df[\"DAYS_BIRTH\"]\n",
    "df[\"CNT_CHILDREN_DIV_REGION_POPULATION_RELATIVE\"] = df[\"CNT_CHILDREN\"] / df[\"REGION_POPULATION_RELATIVE\"]\n",
    "df[\"FLAG_OWN_REALTY_PROD_REGION_POPULATION_RELATIVE\"] = df[\"FLAG_OWN_REALTY\"] * df[\"REGION_POPULATION_RELATIVE\"]\n",
    "df[\"FLAG_OWN_REALTY_DIV_REGION_POPULATION_RELATIVE\"] = df[\"FLAG_OWN_REALTY\"] / df[\"REGION_POPULATION_RELATIVE\"]\n",
    "df[\"FLAG_OWN_CAR_DIV_OWN_CAR_AGE\"] = df[\"FLAG_OWN_CAR\"] / df[\"OWN_CAR_AGE\"]\n",
    "df[\"EXT_SOURCE_1_DIV_DAYS_BIRTH\"] = df[\"EXT_SOURCE_1\"] / df[\"DAYS_BIRTH\"]\n",
    "df[\"EXT_SOURCE_1_PROD_DAYS_BIRTH\"] = df[\"EXT_SOURCE_1\"] * df[\"DAYS_BIRTH\"]\n",
    "\n",
    "df[\"TOTAL_AMT_CREDIT_SUM\"] / df[\"SUM_DAYS_CREDIT_ENDDATE\"]\n",
    "df[\"TOTAL_AMT_CREDIT_SUM_POS_DAYS\"] / df[\"SUM_DAYS_CREDIT_ENDDATE_POS_DAYS\"]"
   ]
  },
  {
   "cell_type": "markdown",
   "metadata": {},
   "source": [
    "### Remove infinite values"
   ]
  },
  {
   "cell_type": "code",
   "execution_count": null,
   "metadata": {},
   "outputs": [],
   "source": [
    "df.replace([-np.inf, np.inf], np.nan, inplace=True)"
   ]
  },
  {
   "cell_type": "markdown",
   "metadata": {},
   "source": [
    "### Remove income outliers"
   ]
  },
  {
   "cell_type": "code",
   "execution_count": null,
   "metadata": {},
   "outputs": [],
   "source": [
    "df.loc[df[\"AMT_INCOME_TOTAL\"] > 500000, \"AMT_INCOME_TOTAL\"] = np.nan"
   ]
  },
  {
   "cell_type": "markdown",
   "metadata": {},
   "source": [
    "### Handle special values for DAYS_EMPLOYED"
   ]
  },
  {
   "cell_type": "code",
   "execution_count": null,
   "metadata": {},
   "outputs": [],
   "source": [
    "df.loc[df[\"DAYS_EMPLOYED\"] > 0, \"DAYS_EMPLOYED\"] = np.nan"
   ]
  },
  {
   "cell_type": "code",
   "execution_count": null,
   "metadata": {},
   "outputs": [],
   "source": [
    "df.shape"
   ]
  },
  {
   "cell_type": "markdown",
   "metadata": {},
   "source": [
    "### Encode categorical features"
   ]
  },
  {
   "cell_type": "code",
   "execution_count": null,
   "metadata": {},
   "outputs": [],
   "source": [
    "df = pd.get_dummies(df, dummy_na=True)\n",
    "df.columns = df.columns.str.replace(\"\\s+\", \"_\")"
   ]
  },
  {
   "cell_type": "code",
   "execution_count": null,
   "metadata": {},
   "outputs": [],
   "source": [
    "df.head()"
   ]
  },
  {
   "cell_type": "code",
   "execution_count": null,
   "metadata": {},
   "outputs": [],
   "source": [
    "df.shape"
   ]
  },
  {
   "cell_type": "markdown",
   "metadata": {},
   "source": [
    "### Write preprocessed data to file"
   ]
  },
  {
   "cell_type": "code",
   "execution_count": null,
   "metadata": {},
   "outputs": [],
   "source": [
    "df.to_csv(path + \"preprocessed_train.csv\", index=False, header=True)"
   ]
  },
  {
   "cell_type": "markdown",
   "metadata": {},
   "source": [
    "# Modeling"
   ]
  },
  {
   "cell_type": "code",
   "execution_count": 5,
   "metadata": {},
   "outputs": [],
   "source": [
    "df = pd.read_csv(path + \"preprocessed_train.csv\")"
   ]
  },
  {
   "cell_type": "code",
   "execution_count": 6,
   "metadata": {},
   "outputs": [],
   "source": [
    "sk_id_curr = df.pop(\"SK_ID_CURR\")\n",
    "y = df.pop(\"TARGET\")"
   ]
  },
  {
   "cell_type": "markdown",
   "metadata": {},
   "source": [
    "## LightGBM"
   ]
  },
  {
   "cell_type": "markdown",
   "metadata": {},
   "source": [
    "### Select features"
   ]
  },
  {
   "cell_type": "code",
   "execution_count": 7,
   "metadata": {},
   "outputs": [
    {
     "data": {
      "text/plain": [
       "358"
      ]
     },
     "execution_count": 7,
     "metadata": {},
     "output_type": "execute_result"
    }
   ],
   "source": [
    "clf = lgb.LGBMClassifier(n_estimators=1000, num_leaves=23, subsample=0.5)\n",
    "clf.fit(df, y)\n",
    "\n",
    "lgb_cols = df.columns[clf.feature_importances_ > 0]\n",
    "len(lgb_cols)"
   ]
  },
  {
   "cell_type": "markdown",
   "metadata": {},
   "source": [
    "### Feature importance"
   ]
  },
  {
   "cell_type": "code",
   "execution_count": 8,
   "metadata": {},
   "outputs": [],
   "source": [
    "var_imp = pd.DataFrame({\"Feature\": df.columns, \"Importance\": clf.feature_importances_})[[\"Feature\", \"Importance\"]].sort_values(\"Importance\", ascending=False)"
   ]
  },
  {
   "cell_type": "code",
   "execution_count": 9,
   "metadata": {},
   "outputs": [],
   "source": [
    "def check_imp(lst):\n",
    "    return var_imp[var_imp[\"Feature\"].isin(lst)]"
   ]
  },
  {
   "cell_type": "markdown",
   "metadata": {},
   "source": [
    "Average importance over non-zero importance features"
   ]
  },
  {
   "cell_type": "code",
   "execution_count": 10,
   "metadata": {},
   "outputs": [
    {
     "data": {
      "text/plain": [
       "61"
      ]
     },
     "execution_count": 10,
     "metadata": {},
     "output_type": "execute_result"
    }
   ],
   "source": [
    "int(np.nanmean(var_imp[\"Importance\"].where(var_imp[\"Importance\"] > 0)))"
   ]
  },
  {
   "cell_type": "code",
   "execution_count": 13,
   "metadata": {},
   "outputs": [
    {
     "data": {
      "text/html": [
       "<div>\n",
       "<style scoped>\n",
       "    .dataframe tbody tr th:only-of-type {\n",
       "        vertical-align: middle;\n",
       "    }\n",
       "\n",
       "    .dataframe tbody tr th {\n",
       "        vertical-align: top;\n",
       "    }\n",
       "\n",
       "    .dataframe thead th {\n",
       "        text-align: right;\n",
       "    }\n",
       "</style>\n",
       "<table border=\"1\" class=\"dataframe\">\n",
       "  <thead>\n",
       "    <tr style=\"text-align: right;\">\n",
       "      <th></th>\n",
       "      <th>Feature</th>\n",
       "      <th>Importance</th>\n",
       "    </tr>\n",
       "  </thead>\n",
       "  <tbody>\n",
       "    <tr>\n",
       "      <th>266</th>\n",
       "      <td>SUM_UNDERPAYMENT</td>\n",
       "      <td>100</td>\n",
       "    </tr>\n",
       "  </tbody>\n",
       "</table>\n",
       "</div>"
      ],
      "text/plain": [
       "              Feature  Importance\n",
       "266  SUM_UNDERPAYMENT         100"
      ]
     },
     "execution_count": 13,
     "metadata": {},
     "output_type": "execute_result"
    }
   ],
   "source": [
    "check_imp([\"SUM_UNDERPAYMENT\"])"
   ]
  },
  {
   "cell_type": "code",
   "execution_count": 12,
   "metadata": {},
   "outputs": [
    {
     "data": {
      "text/html": [
       "<div>\n",
       "<style scoped>\n",
       "    .dataframe tbody tr th:only-of-type {\n",
       "        vertical-align: middle;\n",
       "    }\n",
       "\n",
       "    .dataframe tbody tr th {\n",
       "        vertical-align: top;\n",
       "    }\n",
       "\n",
       "    .dataframe thead th {\n",
       "        text-align: right;\n",
       "    }\n",
       "</style>\n",
       "<table border=\"1\" class=\"dataframe\">\n",
       "  <thead>\n",
       "    <tr style=\"text-align: right;\">\n",
       "      <th></th>\n",
       "      <th>Feature</th>\n",
       "      <th>Importance</th>\n",
       "    </tr>\n",
       "  </thead>\n",
       "  <tbody>\n",
       "    <tr>\n",
       "      <th>31</th>\n",
       "      <td>EXT_SOURCE_3</td>\n",
       "      <td>418</td>\n",
       "    </tr>\n",
       "    <tr>\n",
       "      <th>30</th>\n",
       "      <td>EXT_SOURCE_2</td>\n",
       "      <td>384</td>\n",
       "    </tr>\n",
       "    <tr>\n",
       "      <th>277</th>\n",
       "      <td>AMT_CREDIT_DIV_AMT_ANNUITY</td>\n",
       "      <td>320</td>\n",
       "    </tr>\n",
       "    <tr>\n",
       "      <th>9</th>\n",
       "      <td>DAYS_EMPLOYED</td>\n",
       "      <td>266</td>\n",
       "    </tr>\n",
       "    <tr>\n",
       "      <th>312</th>\n",
       "      <td>EXT_SOURCE_1_DIV_DAYS_BIRTH</td>\n",
       "      <td>266</td>\n",
       "    </tr>\n",
       "    <tr>\n",
       "      <th>300</th>\n",
       "      <td>DAYS_REGISTRATION_DIV_DAYS_LAST_PHONE_CHANGE</td>\n",
       "      <td>253</td>\n",
       "    </tr>\n",
       "    <tr>\n",
       "      <th>8</th>\n",
       "      <td>DAYS_BIRTH</td>\n",
       "      <td>249</td>\n",
       "    </tr>\n",
       "    <tr>\n",
       "      <th>204</th>\n",
       "      <td>MAX_DAYS_CREDIT_ENDDATE</td>\n",
       "      <td>217</td>\n",
       "    </tr>\n",
       "    <tr>\n",
       "      <th>11</th>\n",
       "      <td>DAYS_ID_PUBLISH</td>\n",
       "      <td>211</td>\n",
       "    </tr>\n",
       "    <tr>\n",
       "      <th>226</th>\n",
       "      <td>TOTAL_AMT_CREDIT_SUM</td>\n",
       "      <td>210</td>\n",
       "    </tr>\n",
       "    <tr>\n",
       "      <th>280</th>\n",
       "      <td>EXT_SOURCE_PROD</td>\n",
       "      <td>203</td>\n",
       "    </tr>\n",
       "    <tr>\n",
       "      <th>211</th>\n",
       "      <td>MIN_DAYS_CREDIT_ENDDATE</td>\n",
       "      <td>201</td>\n",
       "    </tr>\n",
       "    <tr>\n",
       "      <th>223</th>\n",
       "      <td>SUM_DAYS_CREDIT_ENDDATE</td>\n",
       "      <td>198</td>\n",
       "    </tr>\n",
       "    <tr>\n",
       "      <th>224</th>\n",
       "      <td>SUM_INVERSE_DAYS_CREDIT</td>\n",
       "      <td>195</td>\n",
       "    </tr>\n",
       "    <tr>\n",
       "      <th>119</th>\n",
       "      <td>AVG_PREV_PROP_APPROVED</td>\n",
       "      <td>195</td>\n",
       "    </tr>\n",
       "    <tr>\n",
       "      <th>256</th>\n",
       "      <td>MAX_PAYMENT_SIZE</td>\n",
       "      <td>190</td>\n",
       "    </tr>\n",
       "    <tr>\n",
       "      <th>205</th>\n",
       "      <td>MAX_DAYS_CREDIT_UPDATE</td>\n",
       "      <td>187</td>\n",
       "    </tr>\n",
       "    <tr>\n",
       "      <th>274</th>\n",
       "      <td>AMT_CREDIT_DIV_AMT_GOODS_PRICE</td>\n",
       "      <td>186</td>\n",
       "    </tr>\n",
       "    <tr>\n",
       "      <th>151</th>\n",
       "      <td>MIN_PREV_AMT_CREDIT_DIV_ANNUITY</td>\n",
       "      <td>185</td>\n",
       "    </tr>\n",
       "    <tr>\n",
       "      <th>260</th>\n",
       "      <td>MIN_PAYMENT_SIZE</td>\n",
       "      <td>183</td>\n",
       "    </tr>\n",
       "    <tr>\n",
       "      <th>114</th>\n",
       "      <td>AVG_PREV_AMT_CREDIT_DIV_ANNUITY</td>\n",
       "      <td>182</td>\n",
       "    </tr>\n",
       "    <tr>\n",
       "      <th>299</th>\n",
       "      <td>DAYS_REGISTRATION_DIV_DAYS_ID_PUBLISH</td>\n",
       "      <td>182</td>\n",
       "    </tr>\n",
       "    <tr>\n",
       "      <th>297</th>\n",
       "      <td>AMT_ANNUITY_DIV_DAYS_EMPLOYED</td>\n",
       "      <td>181</td>\n",
       "    </tr>\n",
       "    <tr>\n",
       "      <th>289</th>\n",
       "      <td>AMT_INCOME_TOTAL_DIV_DAYS_BIRTH</td>\n",
       "      <td>181</td>\n",
       "    </tr>\n",
       "    <tr>\n",
       "      <th>142</th>\n",
       "      <td>MAX_PREV_PROP_APPROVED</td>\n",
       "      <td>178</td>\n",
       "    </tr>\n",
       "    <tr>\n",
       "      <th>199</th>\n",
       "      <td>DAYS_SINCE_APPLIED</td>\n",
       "      <td>176</td>\n",
       "    </tr>\n",
       "    <tr>\n",
       "      <th>267</th>\n",
       "      <td>SUM_UNDERPAYMENT_WEIGHTED</td>\n",
       "      <td>166</td>\n",
       "    </tr>\n",
       "    <tr>\n",
       "      <th>125</th>\n",
       "      <td>AVG_SYNTH_TARGET</td>\n",
       "      <td>165</td>\n",
       "    </tr>\n",
       "    <tr>\n",
       "      <th>284</th>\n",
       "      <td>AVG_PAYMENT_SIZE_DIV_AMT_ANNUITY</td>\n",
       "      <td>164</td>\n",
       "    </tr>\n",
       "    <tr>\n",
       "      <th>5</th>\n",
       "      <td>AMT_ANNUITY</td>\n",
       "      <td>164</td>\n",
       "    </tr>\n",
       "    <tr>\n",
       "      <th>198</th>\n",
       "      <td>DAYS_CREDIT_RANGE</td>\n",
       "      <td>164</td>\n",
       "    </tr>\n",
       "    <tr>\n",
       "      <th>282</th>\n",
       "      <td>AVG_PAYMENT_SIZE_DIV_AMT_INCOME_TOTAL</td>\n",
       "      <td>163</td>\n",
       "    </tr>\n",
       "    <tr>\n",
       "      <th>156</th>\n",
       "      <td>MIN_SYNTH_TARGET</td>\n",
       "      <td>163</td>\n",
       "    </tr>\n",
       "    <tr>\n",
       "      <th>227</th>\n",
       "      <td>TOTAL_AMT_CREDIT_SUM_WEIGHTED</td>\n",
       "      <td>162</td>\n",
       "    </tr>\n",
       "    <tr>\n",
       "      <th>296</th>\n",
       "      <td>AMT_ANNUITY_DIV_DAYS_BIRTH</td>\n",
       "      <td>162</td>\n",
       "    </tr>\n",
       "    <tr>\n",
       "      <th>281</th>\n",
       "      <td>DAYS_EMPLOYED_DIV_DAYS_BIRTH</td>\n",
       "      <td>162</td>\n",
       "    </tr>\n",
       "    <tr>\n",
       "      <th>276</th>\n",
       "      <td>AMT_GOODS_PRICE_DIV_AMT_INCOME_TOTAL</td>\n",
       "      <td>157</td>\n",
       "    </tr>\n",
       "    <tr>\n",
       "      <th>121</th>\n",
       "      <td>AVG_PREV_RATE_DOWNPAYMENT</td>\n",
       "      <td>157</td>\n",
       "    </tr>\n",
       "    <tr>\n",
       "      <th>283</th>\n",
       "      <td>AVG_PAYMENT_SIZE_DIV_AMT_CREDIT</td>\n",
       "      <td>154</td>\n",
       "    </tr>\n",
       "    <tr>\n",
       "      <th>275</th>\n",
       "      <td>AMT_CREDIT_DIV_SUM_PAYMENT</td>\n",
       "      <td>153</td>\n",
       "    </tr>\n",
       "    <tr>\n",
       "      <th>290</th>\n",
       "      <td>SUM_DAYS_ID_REG_PHONE</td>\n",
       "      <td>152</td>\n",
       "    </tr>\n",
       "    <tr>\n",
       "      <th>278</th>\n",
       "      <td>AMT_CREDIT_DIV_AVG_PREV_REQ_AMOUNT</td>\n",
       "      <td>150</td>\n",
       "    </tr>\n",
       "    <tr>\n",
       "      <th>146</th>\n",
       "      <td>MAX_SYNTH_TARGET</td>\n",
       "      <td>150</td>\n",
       "    </tr>\n",
       "    <tr>\n",
       "      <th>262</th>\n",
       "      <td>RANGE_DAYS_ENTRY_PAYMENT</td>\n",
       "      <td>147</td>\n",
       "    </tr>\n",
       "    <tr>\n",
       "      <th>111</th>\n",
       "      <td>AVG_PREV_AMT_ANNUITY</td>\n",
       "      <td>146</td>\n",
       "    </tr>\n",
       "    <tr>\n",
       "      <th>255</th>\n",
       "      <td>MAX_DAYS_ENTRY_PAYMENT</td>\n",
       "      <td>146</td>\n",
       "    </tr>\n",
       "    <tr>\n",
       "      <th>155</th>\n",
       "      <td>MIN_PREV_PROP_APPROVED</td>\n",
       "      <td>146</td>\n",
       "    </tr>\n",
       "    <tr>\n",
       "      <th>218</th>\n",
       "      <td>SUM_AMT_CREDIT_SUM_DEBT</td>\n",
       "      <td>145</td>\n",
       "    </tr>\n",
       "    <tr>\n",
       "      <th>295</th>\n",
       "      <td>OWN_CAR_AGE_PLUS_DAYS_BIRTH</td>\n",
       "      <td>144</td>\n",
       "    </tr>\n",
       "    <tr>\n",
       "      <th>138</th>\n",
       "      <td>MAX_PREV_AMT_CREDIT_DIV_ANNUITY</td>\n",
       "      <td>144</td>\n",
       "    </tr>\n",
       "  </tbody>\n",
       "</table>\n",
       "</div>"
      ],
      "text/plain": [
       "                                          Feature  Importance\n",
       "31                                   EXT_SOURCE_3         418\n",
       "30                                   EXT_SOURCE_2         384\n",
       "277                    AMT_CREDIT_DIV_AMT_ANNUITY         320\n",
       "9                                   DAYS_EMPLOYED         266\n",
       "312                   EXT_SOURCE_1_DIV_DAYS_BIRTH         266\n",
       "300  DAYS_REGISTRATION_DIV_DAYS_LAST_PHONE_CHANGE         253\n",
       "8                                      DAYS_BIRTH         249\n",
       "204                       MAX_DAYS_CREDIT_ENDDATE         217\n",
       "11                                DAYS_ID_PUBLISH         211\n",
       "226                          TOTAL_AMT_CREDIT_SUM         210\n",
       "280                               EXT_SOURCE_PROD         203\n",
       "211                       MIN_DAYS_CREDIT_ENDDATE         201\n",
       "223                       SUM_DAYS_CREDIT_ENDDATE         198\n",
       "224                       SUM_INVERSE_DAYS_CREDIT         195\n",
       "119                        AVG_PREV_PROP_APPROVED         195\n",
       "256                              MAX_PAYMENT_SIZE         190\n",
       "205                        MAX_DAYS_CREDIT_UPDATE         187\n",
       "274                AMT_CREDIT_DIV_AMT_GOODS_PRICE         186\n",
       "151               MIN_PREV_AMT_CREDIT_DIV_ANNUITY         185\n",
       "260                              MIN_PAYMENT_SIZE         183\n",
       "114               AVG_PREV_AMT_CREDIT_DIV_ANNUITY         182\n",
       "299         DAYS_REGISTRATION_DIV_DAYS_ID_PUBLISH         182\n",
       "297                 AMT_ANNUITY_DIV_DAYS_EMPLOYED         181\n",
       "289               AMT_INCOME_TOTAL_DIV_DAYS_BIRTH         181\n",
       "142                        MAX_PREV_PROP_APPROVED         178\n",
       "199                            DAYS_SINCE_APPLIED         176\n",
       "267                     SUM_UNDERPAYMENT_WEIGHTED         166\n",
       "125                              AVG_SYNTH_TARGET         165\n",
       "284              AVG_PAYMENT_SIZE_DIV_AMT_ANNUITY         164\n",
       "5                                     AMT_ANNUITY         164\n",
       "198                             DAYS_CREDIT_RANGE         164\n",
       "282         AVG_PAYMENT_SIZE_DIV_AMT_INCOME_TOTAL         163\n",
       "156                              MIN_SYNTH_TARGET         163\n",
       "227                 TOTAL_AMT_CREDIT_SUM_WEIGHTED         162\n",
       "296                    AMT_ANNUITY_DIV_DAYS_BIRTH         162\n",
       "281                  DAYS_EMPLOYED_DIV_DAYS_BIRTH         162\n",
       "276          AMT_GOODS_PRICE_DIV_AMT_INCOME_TOTAL         157\n",
       "121                     AVG_PREV_RATE_DOWNPAYMENT         157\n",
       "283               AVG_PAYMENT_SIZE_DIV_AMT_CREDIT         154\n",
       "275                    AMT_CREDIT_DIV_SUM_PAYMENT         153\n",
       "290                         SUM_DAYS_ID_REG_PHONE         152\n",
       "278            AMT_CREDIT_DIV_AVG_PREV_REQ_AMOUNT         150\n",
       "146                              MAX_SYNTH_TARGET         150\n",
       "262                      RANGE_DAYS_ENTRY_PAYMENT         147\n",
       "111                          AVG_PREV_AMT_ANNUITY         146\n",
       "255                        MAX_DAYS_ENTRY_PAYMENT         146\n",
       "155                        MIN_PREV_PROP_APPROVED         146\n",
       "218                       SUM_AMT_CREDIT_SUM_DEBT         145\n",
       "295                   OWN_CAR_AGE_PLUS_DAYS_BIRTH         144\n",
       "138               MAX_PREV_AMT_CREDIT_DIV_ANNUITY         144"
      ]
     },
     "execution_count": 12,
     "metadata": {},
     "output_type": "execute_result"
    }
   ],
   "source": [
    "var_imp.head(50).tail(50)"
   ]
  },
  {
   "cell_type": "code",
   "execution_count": 14,
   "metadata": {},
   "outputs": [
    {
     "data": {
      "text/html": [
       "<div>\n",
       "<style scoped>\n",
       "    .dataframe tbody tr th:only-of-type {\n",
       "        vertical-align: middle;\n",
       "    }\n",
       "\n",
       "    .dataframe tbody tr th {\n",
       "        vertical-align: top;\n",
       "    }\n",
       "\n",
       "    .dataframe thead th {\n",
       "        text-align: right;\n",
       "    }\n",
       "</style>\n",
       "<table border=\"1\" class=\"dataframe\">\n",
       "  <thead>\n",
       "    <tr style=\"text-align: right;\">\n",
       "      <th></th>\n",
       "      <th>Feature</th>\n",
       "      <th>Importance</th>\n",
       "    </tr>\n",
       "  </thead>\n",
       "  <tbody>\n",
       "    <tr>\n",
       "      <th>349</th>\n",
       "      <td>NAME_FAMILY_STATUS_Unknown</td>\n",
       "      <td>0</td>\n",
       "    </tr>\n",
       "    <tr>\n",
       "      <th>92</th>\n",
       "      <td>FLAG_DOCUMENT_14</td>\n",
       "      <td>0</td>\n",
       "    </tr>\n",
       "    <tr>\n",
       "      <th>98</th>\n",
       "      <td>FLAG_DOCUMENT_20</td>\n",
       "      <td>0</td>\n",
       "    </tr>\n",
       "    <tr>\n",
       "      <th>97</th>\n",
       "      <td>FLAG_DOCUMENT_19</td>\n",
       "      <td>0</td>\n",
       "    </tr>\n",
       "    <tr>\n",
       "      <th>385</th>\n",
       "      <td>WEEKDAY_APPR_PROCESS_START_nan</td>\n",
       "      <td>0</td>\n",
       "    </tr>\n",
       "    <tr>\n",
       "      <th>386</th>\n",
       "      <td>FONDKAPREMONT_MODE_not_specified</td>\n",
       "      <td>0</td>\n",
       "    </tr>\n",
       "    <tr>\n",
       "      <th>95</th>\n",
       "      <td>FLAG_DOCUMENT_17</td>\n",
       "      <td>0</td>\n",
       "    </tr>\n",
       "    <tr>\n",
       "      <th>93</th>\n",
       "      <td>FLAG_DOCUMENT_15</td>\n",
       "      <td>0</td>\n",
       "    </tr>\n",
       "    <tr>\n",
       "      <th>90</th>\n",
       "      <td>FLAG_DOCUMENT_12</td>\n",
       "      <td>0</td>\n",
       "    </tr>\n",
       "    <tr>\n",
       "      <th>108</th>\n",
       "      <td>ORGANIZATION_XNA</td>\n",
       "      <td>0</td>\n",
       "    </tr>\n",
       "    <tr>\n",
       "      <th>88</th>\n",
       "      <td>FLAG_DOCUMENT_10</td>\n",
       "      <td>0</td>\n",
       "    </tr>\n",
       "    <tr>\n",
       "      <th>394</th>\n",
       "      <td>HOUSETYPE_MODE_nan</td>\n",
       "      <td>0</td>\n",
       "    </tr>\n",
       "    <tr>\n",
       "      <th>85</th>\n",
       "      <td>FLAG_DOCUMENT_7</td>\n",
       "      <td>0</td>\n",
       "    </tr>\n",
       "    <tr>\n",
       "      <th>82</th>\n",
       "      <td>FLAG_DOCUMENT_4</td>\n",
       "      <td>0</td>\n",
       "    </tr>\n",
       "    <tr>\n",
       "      <th>397</th>\n",
       "      <td>WALLSMATERIAL_MODE_Monolithic</td>\n",
       "      <td>0</td>\n",
       "    </tr>\n",
       "    <tr>\n",
       "      <th>80</th>\n",
       "      <td>FLAG_DOCUMENT_2</td>\n",
       "      <td>0</td>\n",
       "    </tr>\n",
       "    <tr>\n",
       "      <th>14</th>\n",
       "      <td>FLAG_EMP_PHONE</td>\n",
       "      <td>0</td>\n",
       "    </tr>\n",
       "    <tr>\n",
       "      <th>13</th>\n",
       "      <td>FLAG_MOBIL</td>\n",
       "      <td>0</td>\n",
       "    </tr>\n",
       "    <tr>\n",
       "      <th>402</th>\n",
       "      <td>WALLSMATERIAL_MODE_nan</td>\n",
       "      <td>0</td>\n",
       "    </tr>\n",
       "    <tr>\n",
       "      <th>403</th>\n",
       "      <td>EMERGENCYSTATE_MODE_No</td>\n",
       "      <td>0</td>\n",
       "    </tr>\n",
       "    <tr>\n",
       "      <th>107</th>\n",
       "      <td>ORGANIZATION_SELF_EMPLOYED</td>\n",
       "      <td>0</td>\n",
       "    </tr>\n",
       "    <tr>\n",
       "      <th>132</th>\n",
       "      <td>MAX_DAYS_FIRST_DRAWING_SENTINEL</td>\n",
       "      <td>0</td>\n",
       "    </tr>\n",
       "    <tr>\n",
       "      <th>110</th>\n",
       "      <td>AVG_NFLAG_INSURED_ON_APPROVAL_NULL</td>\n",
       "      <td>0</td>\n",
       "    </tr>\n",
       "    <tr>\n",
       "      <th>351</th>\n",
       "      <td>NAME_FAMILY_STATUS_nan</td>\n",
       "      <td>0</td>\n",
       "    </tr>\n",
       "    <tr>\n",
       "      <th>352</th>\n",
       "      <td>NAME_HOUSING_TYPE_Co-op_apartment</td>\n",
       "      <td>0</td>\n",
       "    </tr>\n",
       "    <tr>\n",
       "      <th>344</th>\n",
       "      <td>NAME_EDUCATION_TYPE_nan</td>\n",
       "      <td>0</td>\n",
       "    </tr>\n",
       "    <tr>\n",
       "      <th>338</th>\n",
       "      <td>NAME_INCOME_TYPE_nan</td>\n",
       "      <td>0</td>\n",
       "    </tr>\n",
       "    <tr>\n",
       "      <th>336</th>\n",
       "      <td>NAME_INCOME_TYPE_Unemployed</td>\n",
       "      <td>0</td>\n",
       "    </tr>\n",
       "    <tr>\n",
       "      <th>335</th>\n",
       "      <td>NAME_INCOME_TYPE_Student</td>\n",
       "      <td>0</td>\n",
       "    </tr>\n",
       "    <tr>\n",
       "      <th>333</th>\n",
       "      <td>NAME_INCOME_TYPE_Pensioner</td>\n",
       "      <td>0</td>\n",
       "    </tr>\n",
       "    <tr>\n",
       "      <th>358</th>\n",
       "      <td>NAME_HOUSING_TYPE_nan</td>\n",
       "      <td>0</td>\n",
       "    </tr>\n",
       "    <tr>\n",
       "      <th>332</th>\n",
       "      <td>NAME_INCOME_TYPE_Maternity_leave</td>\n",
       "      <td>0</td>\n",
       "    </tr>\n",
       "    <tr>\n",
       "      <th>330</th>\n",
       "      <td>NAME_INCOME_TYPE_Businessman</td>\n",
       "      <td>0</td>\n",
       "    </tr>\n",
       "    <tr>\n",
       "      <th>325</th>\n",
       "      <td>NAME_TYPE_SUITE_Other_A</td>\n",
       "      <td>0</td>\n",
       "    </tr>\n",
       "    <tr>\n",
       "      <th>324</th>\n",
       "      <td>NAME_TYPE_SUITE_Group_of_people</td>\n",
       "      <td>0</td>\n",
       "    </tr>\n",
       "    <tr>\n",
       "      <th>321</th>\n",
       "      <td>CODE_GENDER_nan</td>\n",
       "      <td>0</td>\n",
       "    </tr>\n",
       "    <tr>\n",
       "      <th>320</th>\n",
       "      <td>CODE_GENDER_XNA</td>\n",
       "      <td>0</td>\n",
       "    </tr>\n",
       "    <tr>\n",
       "      <th>317</th>\n",
       "      <td>NAME_CONTRACT_TYPE_nan</td>\n",
       "      <td>0</td>\n",
       "    </tr>\n",
       "    <tr>\n",
       "      <th>316</th>\n",
       "      <td>NAME_CONTRACT_TYPE_Revolving_loans</td>\n",
       "      <td>0</td>\n",
       "    </tr>\n",
       "    <tr>\n",
       "      <th>314</th>\n",
       "      <td>DAYS_EMPLOYED_SENTINEL</td>\n",
       "      <td>0</td>\n",
       "    </tr>\n",
       "    <tr>\n",
       "      <th>272</th>\n",
       "      <td>MIN_CNT_INSTALMENT_DIFF_CNT_INSTALMENT_FUTURE_...</td>\n",
       "      <td>0</td>\n",
       "    </tr>\n",
       "    <tr>\n",
       "      <th>190</th>\n",
       "      <td>BUREAU_PROP_SUM_OVERDUE_MAX</td>\n",
       "      <td>0</td>\n",
       "    </tr>\n",
       "    <tr>\n",
       "      <th>188</th>\n",
       "      <td>BUREAU_PROP_MAX_OVERDUE_MAX</td>\n",
       "      <td>0</td>\n",
       "    </tr>\n",
       "    <tr>\n",
       "      <th>169</th>\n",
       "      <td>SUM_NFLAG_INSURED_ON_APPROVAL_NULL</td>\n",
       "      <td>0</td>\n",
       "    </tr>\n",
       "    <tr>\n",
       "      <th>165</th>\n",
       "      <td>SUM_DAYS_FIRST_SENTINEL_COMP_DAYS_LAST_SENTINEL</td>\n",
       "      <td>0</td>\n",
       "    </tr>\n",
       "    <tr>\n",
       "      <th>149</th>\n",
       "      <td>MIN_PREV_AMT_ANNUITY_WEIGHTED</td>\n",
       "      <td>0</td>\n",
       "    </tr>\n",
       "    <tr>\n",
       "      <th>148</th>\n",
       "      <td>MIN_PREV_AMT_ANNUITY</td>\n",
       "      <td>0</td>\n",
       "    </tr>\n",
       "    <tr>\n",
       "      <th>0</th>\n",
       "      <td>FLAG_OWN_CAR</td>\n",
       "      <td>0</td>\n",
       "    </tr>\n",
       "  </tbody>\n",
       "</table>\n",
       "</div>"
      ],
      "text/plain": [
       "                                               Feature  Importance\n",
       "349                         NAME_FAMILY_STATUS_Unknown           0\n",
       "92                                    FLAG_DOCUMENT_14           0\n",
       "98                                    FLAG_DOCUMENT_20           0\n",
       "97                                    FLAG_DOCUMENT_19           0\n",
       "385                     WEEKDAY_APPR_PROCESS_START_nan           0\n",
       "386                   FONDKAPREMONT_MODE_not_specified           0\n",
       "95                                    FLAG_DOCUMENT_17           0\n",
       "93                                    FLAG_DOCUMENT_15           0\n",
       "90                                    FLAG_DOCUMENT_12           0\n",
       "108                                   ORGANIZATION_XNA           0\n",
       "88                                    FLAG_DOCUMENT_10           0\n",
       "394                                 HOUSETYPE_MODE_nan           0\n",
       "85                                     FLAG_DOCUMENT_7           0\n",
       "82                                     FLAG_DOCUMENT_4           0\n",
       "397                      WALLSMATERIAL_MODE_Monolithic           0\n",
       "80                                     FLAG_DOCUMENT_2           0\n",
       "14                                      FLAG_EMP_PHONE           0\n",
       "13                                          FLAG_MOBIL           0\n",
       "402                             WALLSMATERIAL_MODE_nan           0\n",
       "403                             EMERGENCYSTATE_MODE_No           0\n",
       "107                         ORGANIZATION_SELF_EMPLOYED           0\n",
       "132                    MAX_DAYS_FIRST_DRAWING_SENTINEL           0\n",
       "110                 AVG_NFLAG_INSURED_ON_APPROVAL_NULL           0\n",
       "351                             NAME_FAMILY_STATUS_nan           0\n",
       "352                  NAME_HOUSING_TYPE_Co-op_apartment           0\n",
       "344                            NAME_EDUCATION_TYPE_nan           0\n",
       "338                               NAME_INCOME_TYPE_nan           0\n",
       "336                        NAME_INCOME_TYPE_Unemployed           0\n",
       "335                           NAME_INCOME_TYPE_Student           0\n",
       "333                         NAME_INCOME_TYPE_Pensioner           0\n",
       "358                              NAME_HOUSING_TYPE_nan           0\n",
       "332                   NAME_INCOME_TYPE_Maternity_leave           0\n",
       "330                       NAME_INCOME_TYPE_Businessman           0\n",
       "325                            NAME_TYPE_SUITE_Other_A           0\n",
       "324                    NAME_TYPE_SUITE_Group_of_people           0\n",
       "321                                    CODE_GENDER_nan           0\n",
       "320                                    CODE_GENDER_XNA           0\n",
       "317                             NAME_CONTRACT_TYPE_nan           0\n",
       "316                 NAME_CONTRACT_TYPE_Revolving_loans           0\n",
       "314                             DAYS_EMPLOYED_SENTINEL           0\n",
       "272  MIN_CNT_INSTALMENT_DIFF_CNT_INSTALMENT_FUTURE_...           0\n",
       "190                        BUREAU_PROP_SUM_OVERDUE_MAX           0\n",
       "188                        BUREAU_PROP_MAX_OVERDUE_MAX           0\n",
       "169                 SUM_NFLAG_INSURED_ON_APPROVAL_NULL           0\n",
       "165    SUM_DAYS_FIRST_SENTINEL_COMP_DAYS_LAST_SENTINEL           0\n",
       "149                      MIN_PREV_AMT_ANNUITY_WEIGHTED           0\n",
       "148                               MIN_PREV_AMT_ANNUITY           0\n",
       "0                                         FLAG_OWN_CAR           0"
      ]
     },
     "execution_count": 14,
     "metadata": {},
     "output_type": "execute_result"
    }
   ],
   "source": [
    "var_imp.query(\"Importance == 0\")"
   ]
  },
  {
   "cell_type": "markdown",
   "metadata": {},
   "source": [
    "### LightGBM"
   ]
  },
  {
   "cell_type": "raw",
   "metadata": {},
   "source": [
    "params = {\"n_estimators\": 20000, \n",
    "          \"num_leaves\": 113, \n",
    "          \"learning_rate\": 0.005, \n",
    "          \"subsample\": 0.5, \n",
    "          \"colsample_bytree\": 0.5, \n",
    "          \"reg_lambda\": 0.9}"
   ]
  },
  {
   "cell_type": "code",
   "execution_count": null,
   "metadata": {},
   "outputs": [],
   "source": [
    "params = {\"n_estimators\": 20000, \n",
    "          \"num_leaves\": 113, \n",
    "          \"learning_rate\": 0.005, \n",
    "          \"subsample\": 0.5, \n",
    "          \"colsample_bytree\": 0.5, \n",
    "          \"reg_lambda\": 0.9}\n",
    "\n",
    "lgb_data = lgb.Dataset(data=df[lgb_cols], \n",
    "                       label=y)\n",
    "\n",
    "cv_result = lgb.cv(params=params, \n",
    "                   train_set=lgb_data, \n",
    "                   nfold=5, \n",
    "                   metrics=\"auc\", \n",
    "                   early_stopping_rounds=200, \n",
    "                   stratified=True, \n",
    "                   shuffle=True, \n",
    "                   verbose_eval=100, \n",
    "                   show_stdv=True, \n",
    "                   seed=123)\n",
    "\n",
    "cv_result = pd.DataFrame(cv_result)"
   ]
  },
  {
   "cell_type": "code",
   "execution_count": null,
   "metadata": {},
   "outputs": [],
   "source": [
    "cv_result.tail()"
   ]
  },
  {
   "cell_type": "markdown",
   "metadata": {},
   "source": [
    "### For submission"
   ]
  },
  {
   "cell_type": "code",
   "execution_count": null,
   "metadata": {},
   "outputs": [],
   "source": [
    "lgb_model = lgb.LGBMClassifier(n_estimators=4497, \n",
    "                         num_leaves=113, \n",
    "                         learning_rate=0.005, \n",
    "                         subsample=0.5, \n",
    "                         colsample_bytree=0.5, \n",
    "                         reg_lambda=0.9)\n",
    "\n",
    "lgb_model.fit(df[lgb_cols], y)"
   ]
  },
  {
   "cell_type": "markdown",
   "metadata": {},
   "source": [
    "## Score test data and generate submission"
   ]
  },
  {
   "cell_type": "code",
   "execution_count": null,
   "metadata": {},
   "outputs": [],
   "source": [
    "df = pd.read_csv(path + \"preprocessed_test.csv\")"
   ]
  },
  {
   "cell_type": "code",
   "execution_count": null,
   "metadata": {},
   "outputs": [],
   "source": [
    "df[\"NAME_INCOME_TYPE_Maternity_leave\"] = 0"
   ]
  },
  {
   "cell_type": "code",
   "execution_count": null,
   "metadata": {},
   "outputs": [],
   "source": [
    "submission = pd.DataFrame({\"SK_ID_CURR\": df[\"SK_ID_CURR\"], \n",
    "                           \"TARGET\": lgb_model.predict_proba(df[lgb_cols])[:,1]})\n",
    "\n",
    "submission.head()"
   ]
  },
  {
   "cell_type": "code",
   "execution_count": null,
   "metadata": {},
   "outputs": [],
   "source": [
    "submission.to_csv(path + \"submission.csv\", index=False)"
   ]
  }
 ],
 "metadata": {
  "kernelspec": {
   "display_name": "Python 3",
   "language": "python",
   "name": "python3"
  },
  "language_info": {
   "codemirror_mode": {
    "name": "ipython",
    "version": 3
   },
   "file_extension": ".py",
   "mimetype": "text/x-python",
   "name": "python",
   "nbconvert_exporter": "python",
   "pygments_lexer": "ipython3",
   "version": "3.6.4"
  }
 },
 "nbformat": 4,
 "nbformat_minor": 2
}
