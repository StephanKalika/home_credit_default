{
 "cells": [
  {
   "cell_type": "markdown",
   "metadata": {},
   "source": [
    "# Home Credit Ad Hoc Analysis"
   ]
  },
  {
   "cell_type": "code",
   "execution_count": 1,
   "metadata": {},
   "outputs": [],
   "source": [
    "import numpy as np\n",
    "import pandas as pd\n",
    "import seaborn as sns\n",
    "import matplotlib.pyplot as plt\n",
    "from scipy.stats import iqr, randint, uniform\n",
    "import lightgbm as lgb\n",
    "from sklearn.tree import DecisionTreeClassifier\n",
    "from sklearn.ensemble import RandomForestClassifier\n",
    "from sklearn.linear_model import LogisticRegressionCV\n",
    "from sklearn.preprocessing import Imputer, StandardScaler, RobustScaler\n",
    "from sklearn.model_selection import RandomizedSearchCV, GridSearchCV, train_test_split, cross_val_score\n",
    "from sklearn.metrics import roc_auc_score\n",
    "from skopt import gp_minimize\n",
    "from skopt.plots import plot_convergence, plot_objective\n",
    "from IPython.display import display\n",
    "import warnings\n",
    "import pickle\n",
    "import gc\n",
    "\n",
    "%load_ext autotime\n",
    "# %unload_ext autotime\n",
    "\n",
    "pd.options.display.max_columns = None\n",
    "warnings.filterwarnings(\"ignore\")\n",
    "gc.enable()\n",
    "np.random.seed(0)\n",
    "\n",
    "path = \"/Users/dsaxton/home_credit_default/\""
   ]
  },
  {
   "cell_type": "markdown",
   "metadata": {},
   "source": [
    "#### Application table"
   ]
  },
  {
   "cell_type": "code",
   "execution_count": null,
   "metadata": {},
   "outputs": [],
   "source": [
    "application_test = pd.read_csv(path + \"application_test.csv\")"
   ]
  },
  {
   "cell_type": "code",
   "execution_count": null,
   "metadata": {},
   "outputs": [],
   "source": [
    "application_train = pd.read_csv(path + \"application_train.csv\")"
   ]
  },
  {
   "cell_type": "markdown",
   "metadata": {},
   "source": [
    "#### Previous application and behavioral tables"
   ]
  },
  {
   "cell_type": "code",
   "execution_count": null,
   "metadata": {},
   "outputs": [],
   "source": [
    "bureau_balance = pd.read_csv(path + \"bureau_balance.csv\")\n",
    "bureau = pd.read_csv(path + \"bureau.csv\")\n",
    "credit_card = pd.read_csv(path + \"credit_card_balance.csv\")\n",
    "installments = pd.read_csv(path + \"installments_payments.csv\")\n",
    "pos_cash = pd.read_csv(path + \"POS_CASH_balance.csv\")\n",
    "previous_application = pd.read_csv(path + \"previous_application.csv\")"
   ]
  },
  {
   "cell_type": "markdown",
   "metadata": {},
   "source": [
    "#### Aggregate tables"
   ]
  },
  {
   "cell_type": "code",
   "execution_count": null,
   "metadata": {},
   "outputs": [],
   "source": [
    "bureau_agg = pd.read_csv(path + \"bureau_agg.csv\")"
   ]
  },
  {
   "cell_type": "code",
   "execution_count": null,
   "metadata": {},
   "outputs": [],
   "source": [
    "credit_card_agg = pd.read_csv(path + \"credit_card_agg.csv\")"
   ]
  },
  {
   "cell_type": "markdown",
   "metadata": {},
   "source": [
    "#### Joined table"
   ]
  },
  {
   "cell_type": "code",
   "execution_count": null,
   "metadata": {},
   "outputs": [],
   "source": [
    "df = pd.read_csv(path + \"preprocessed_train.csv\")"
   ]
  },
  {
   "cell_type": "markdown",
   "metadata": {},
   "source": [
    "# Feature construction sand box"
   ]
  },
  {
   "cell_type": "code",
   "execution_count": 2,
   "metadata": {},
   "outputs": [
    {
     "name": "stdout",
     "output_type": "stream",
     "text": [
      "time: 5.13 ms\n"
     ]
    }
   ],
   "source": [
    "def quick_model(X, y, usecols, n_estimators, num_leaves):\n",
    "    clf = lgb.LGBMClassifier(n_estimators=n_estimators, num_leaves=num_leaves)\n",
    "    clf.fit(X[cols], y)\n",
    "    var_imp = pd.DataFrame({\"Feature\": df[cols].columns, \"Importance\": clf.feature_importances_})[[\"Feature\", \"Importance\"]].sort_values(\"Importance\", ascending=False)\n",
    "    auc = round(cross_val_score(estimator=clf, X=X[cols], y=y, scoring=\"roc_auc\").mean(), 4)\n",
    "    \n",
    "    return {\"var_imp\": var_imp, \"auc\": auc}"
   ]
  },
  {
   "cell_type": "markdown",
   "metadata": {},
   "source": [
    "# Bureau"
   ]
  },
  {
   "cell_type": "code",
   "execution_count": 3,
   "metadata": {},
   "outputs": [
    {
     "name": "stdout",
     "output_type": "stream",
     "text": [
      "time: 10.4 ms\n"
     ]
    }
   ],
   "source": [
    "def bureau_agg_func(g):\n",
    "    mask6 = g[\"DAYS_CREDIT_UPDATE\"] >= -180\n",
    "    mask12 = g[\"DAYS_CREDIT_UPDATE\"] >= -360\n",
    "    mask24 = g[\"DAYS_CREDIT_UPDATE\"] >= -720\n",
    "    active = g[\"CREDIT_ACTIVE\"] == \"Active\"\n",
    "    \n",
    "    d = {\"MAX_BUREAU_UTILIZATION_6M\": np.nanmax((g[\"AMT_CREDIT_SUM_DEBT\"] / g[\"AMT_CREDIT_SUM\"]).where(mask6)), \n",
    "        \"MAX_BUREAU_UTILIZATION_12M\": np.nanmax((g[\"AMT_CREDIT_SUM_DEBT\"] / g[\"AMT_CREDIT_SUM\"]).where(mask12)), \n",
    "        \"COUNT_ACTIVE_6M\": np.nansum((g[\"CREDIT_ACTIVE\"] == \"Active\").where(mask6)), \n",
    "        \"COUNT_ACTIVE_12M\": np.nansum((g[\"CREDIT_ACTIVE\"] == \"Active\").where(mask12)), \n",
    "        \"COUNT_ACTIVE_24M\": np.nansum((g[\"CREDIT_ACTIVE\"] == \"Active\").where(mask24)), \n",
    "        \"DAYS_REMAINING_ACTIVE\": np.nansum(g[\"DAYS_CREDIT_ENDDATE\"].where(active)), \n",
    "        \"MAX_CREDIT_DAY_OVERDUE_6M\": np.nanmax(g[\"CREDIT_DAY_OVERDUE\"].where(mask6)), \n",
    "        \"MAX_CREDIT_DAY_OVERDUE_DIFF_6M_12M\": np.nanmax(g[\"CREDIT_DAY_OVERDUE\"].where(mask6)) - np.nanmax(g[\"CREDIT_DAY_OVERDUE\"].where(mask6 ^ mask12)), \n",
    "        \"BUREAU_UTILIZATION_DIFF_6M_12M\": np.nanmean((g[\"AMT_CREDIT_SUM_DEBT\"] / g[\"AMT_CREDIT_SUM_LIMIT\"]).where(active & mask6)) - np.nanmean((g[\"AMT_CREDIT_SUM_DEBT\"] / g[\"AMT_CREDIT_SUM_LIMIT\"]).where(active & (mask6 ^ mask12))), \n",
    "        \"BUREAU_UTILIZATION_DIFF_12M_24M\": np.nanmean((g[\"AMT_CREDIT_SUM_DEBT\"] / g[\"AMT_CREDIT_SUM_LIMIT\"]).where(active & mask12)) - np.nanmean((g[\"AMT_CREDIT_SUM_DEBT\"] / g[\"AMT_CREDIT_SUM_LIMIT\"]).where(active & (mask6 ^ mask24))), \n",
    "        \"BUREAU_SUM_DEBT_DIFF_6M_12M\": np.nansum(g[\"AMT_CREDIT_SUM_DEBT\"].where(active & mask6)) - np.nansum(g[\"AMT_CREDIT_SUM_DEBT\"].where(active & (mask6 ^ mask12))),\n",
    "        \"BUREAU_SUM_DEBT_DIFF_12M_24M\": np.nansum(g[\"AMT_CREDIT_SUM_DEBT\"].where(active & mask6)) - np.nansum(g[\"AMT_CREDIT_SUM_DEBT\"].where(active & (mask6 ^ mask12))),         \n",
    "        \"MAX_CNT_CREDIT_PROLONG\": np.nanmax(g[\"CNT_CREDIT_PROLONG\"])}\n",
    "    \n",
    "    return pd.Series(d)"
   ]
  },
  {
   "cell_type": "markdown",
   "metadata": {},
   "source": [
    "#### Process data and join"
   ]
  },
  {
   "cell_type": "code",
   "execution_count": 4,
   "metadata": {},
   "outputs": [
    {
     "name": "stdout",
     "output_type": "stream",
     "text": [
      "time: 1min 53s\n"
     ]
    }
   ],
   "source": [
    "df = pd.read_csv(path + \"application_train.csv\")\n",
    "df = df.sample(10000)\n",
    "\n",
    "bureau = pd.read_csv(path + \"bureau.csv\")\n",
    "bureau = bureau[bureau[\"SK_ID_CURR\"].isin(df[\"SK_ID_CURR\"])]\n",
    "bureau_balance_agg = pd.read_csv(path + \"bureau_balance_agg.csv\")\n",
    "\n",
    "bureau_balance_agg = bureau_balance_agg[bureau_balance_agg[\"SK_ID_BUREAU\"].isin(bureau[\"SK_ID_BUREAU\"])]\n",
    "bureau_joined = pd.merge(bureau, bureau_balance_agg, how=\"left\", on=\"SK_ID_BUREAU\")\n",
    "bureau_agg = bureau_joined.groupby(\"SK_ID_CURR\").apply(bureau_agg_func).reset_index()\n",
    "\n",
    "df = pd.merge(df, bureau_agg, how=\"left\", on=\"SK_ID_CURR\")"
   ]
  },
  {
   "cell_type": "markdown",
   "metadata": {},
   "source": [
    "#### Fit quick model"
   ]
  },
  {
   "cell_type": "code",
   "execution_count": 5,
   "metadata": {},
   "outputs": [
    {
     "name": "stdout",
     "output_type": "stream",
     "text": [
      "time: 2.06 ms\n"
     ]
    }
   ],
   "source": [
    "cols = [\"MAX_BUREAU_UTILIZATION_6M\", \n",
    "    \"MAX_BUREAU_UTILIZATION_12M\", \n",
    "    \"COUNT_ACTIVE_6M\", \n",
    "    \"COUNT_ACTIVE_12M\", \n",
    "    \"COUNT_ACTIVE_24M\", \n",
    "    \"DAYS_REMAINING_ACTIVE\", \n",
    "    \"MAX_CREDIT_DAY_OVERDUE_6M\", \n",
    "    \"MAX_CREDIT_DAY_OVERDUE_DIFF_6M_12M\", \n",
    "    \"BUREAU_UTILIZATION_DIFF_6M_12M\", \n",
    "    \"BUREAU_UTILIZATION_DIFF_12M_24M\", \n",
    "    \"BUREAU_SUM_DEBT_DIFF_6M_12M\", \n",
    "    \"BUREAU_SUM_DEBT_DIFF_12M_24M\", \n",
    "    \"MAX_CNT_CREDIT_PROLONG\"]"
   ]
  },
  {
   "cell_type": "code",
   "execution_count": 6,
   "metadata": {},
   "outputs": [
    {
     "name": "stdout",
     "output_type": "stream",
     "text": [
      "time: 30 s\n"
     ]
    }
   ],
   "source": [
    "result = quick_model(X=df, \n",
    "                     y=df[\"TARGET\"], \n",
    "                     usecols=cols, \n",
    "                     n_estimators=1000, \n",
    "                     num_leaves=23)"
   ]
  },
  {
   "cell_type": "code",
   "execution_count": 7,
   "metadata": {},
   "outputs": [
    {
     "data": {
      "text/plain": [
       "0.5131"
      ]
     },
     "execution_count": 7,
     "metadata": {},
     "output_type": "execute_result"
    },
    {
     "name": "stdout",
     "output_type": "stream",
     "text": [
      "time: 4.25 ms\n"
     ]
    }
   ],
   "source": [
    "result[\"auc\"]"
   ]
  },
  {
   "cell_type": "code",
   "execution_count": 8,
   "metadata": {},
   "outputs": [
    {
     "data": {
      "text/html": [
       "<div>\n",
       "<style scoped>\n",
       "    .dataframe tbody tr th:only-of-type {\n",
       "        vertical-align: middle;\n",
       "    }\n",
       "\n",
       "    .dataframe tbody tr th {\n",
       "        vertical-align: top;\n",
       "    }\n",
       "\n",
       "    .dataframe thead th {\n",
       "        text-align: right;\n",
       "    }\n",
       "</style>\n",
       "<table border=\"1\" class=\"dataframe\">\n",
       "  <thead>\n",
       "    <tr style=\"text-align: right;\">\n",
       "      <th></th>\n",
       "      <th>Feature</th>\n",
       "      <th>Importance</th>\n",
       "    </tr>\n",
       "  </thead>\n",
       "  <tbody>\n",
       "    <tr>\n",
       "      <th>5</th>\n",
       "      <td>DAYS_REMAINING_ACTIVE</td>\n",
       "      <td>6352</td>\n",
       "    </tr>\n",
       "    <tr>\n",
       "      <th>10</th>\n",
       "      <td>BUREAU_SUM_DEBT_DIFF_6M_12M</td>\n",
       "      <td>5577</td>\n",
       "    </tr>\n",
       "    <tr>\n",
       "      <th>0</th>\n",
       "      <td>MAX_BUREAU_UTILIZATION_6M</td>\n",
       "      <td>4219</td>\n",
       "    </tr>\n",
       "    <tr>\n",
       "      <th>1</th>\n",
       "      <td>MAX_BUREAU_UTILIZATION_12M</td>\n",
       "      <td>2092</td>\n",
       "    </tr>\n",
       "    <tr>\n",
       "      <th>4</th>\n",
       "      <td>COUNT_ACTIVE_24M</td>\n",
       "      <td>975</td>\n",
       "    </tr>\n",
       "    <tr>\n",
       "      <th>2</th>\n",
       "      <td>COUNT_ACTIVE_6M</td>\n",
       "      <td>956</td>\n",
       "    </tr>\n",
       "    <tr>\n",
       "      <th>7</th>\n",
       "      <td>MAX_CREDIT_DAY_OVERDUE_DIFF_6M_12M</td>\n",
       "      <td>695</td>\n",
       "    </tr>\n",
       "    <tr>\n",
       "      <th>3</th>\n",
       "      <td>COUNT_ACTIVE_12M</td>\n",
       "      <td>497</td>\n",
       "    </tr>\n",
       "    <tr>\n",
       "      <th>6</th>\n",
       "      <td>MAX_CREDIT_DAY_OVERDUE_6M</td>\n",
       "      <td>301</td>\n",
       "    </tr>\n",
       "    <tr>\n",
       "      <th>9</th>\n",
       "      <td>BUREAU_UTILIZATION_DIFF_12M_24M</td>\n",
       "      <td>150</td>\n",
       "    </tr>\n",
       "    <tr>\n",
       "      <th>12</th>\n",
       "      <td>MAX_CNT_CREDIT_PROLONG</td>\n",
       "      <td>143</td>\n",
       "    </tr>\n",
       "    <tr>\n",
       "      <th>8</th>\n",
       "      <td>BUREAU_UTILIZATION_DIFF_6M_12M</td>\n",
       "      <td>43</td>\n",
       "    </tr>\n",
       "    <tr>\n",
       "      <th>11</th>\n",
       "      <td>BUREAU_SUM_DEBT_DIFF_12M_24M</td>\n",
       "      <td>0</td>\n",
       "    </tr>\n",
       "  </tbody>\n",
       "</table>\n",
       "</div>"
      ],
      "text/plain": [
       "                               Feature  Importance\n",
       "5                DAYS_REMAINING_ACTIVE        6352\n",
       "10         BUREAU_SUM_DEBT_DIFF_6M_12M        5577\n",
       "0            MAX_BUREAU_UTILIZATION_6M        4219\n",
       "1           MAX_BUREAU_UTILIZATION_12M        2092\n",
       "4                     COUNT_ACTIVE_24M         975\n",
       "2                      COUNT_ACTIVE_6M         956\n",
       "7   MAX_CREDIT_DAY_OVERDUE_DIFF_6M_12M         695\n",
       "3                     COUNT_ACTIVE_12M         497\n",
       "6            MAX_CREDIT_DAY_OVERDUE_6M         301\n",
       "9      BUREAU_UTILIZATION_DIFF_12M_24M         150\n",
       "12              MAX_CNT_CREDIT_PROLONG         143\n",
       "8       BUREAU_UTILIZATION_DIFF_6M_12M          43\n",
       "11        BUREAU_SUM_DEBT_DIFF_12M_24M           0"
      ]
     },
     "execution_count": 8,
     "metadata": {},
     "output_type": "execute_result"
    },
    {
     "name": "stdout",
     "output_type": "stream",
     "text": [
      "time: 8.4 ms\n"
     ]
    }
   ],
   "source": [
    "result[\"var_imp\"]"
   ]
  },
  {
   "cell_type": "code",
   "execution_count": 10,
   "metadata": {},
   "outputs": [
    {
     "data": {
      "text/plain": [
       "<matplotlib.axes._subplots.AxesSubplot at 0x118e237b8>"
      ]
     },
     "execution_count": 10,
     "metadata": {},
     "output_type": "execute_result"
    },
    {
     "data": {
      "image/png": "[encoded data removed]",
      "text/plain": [
       "<Figure size 432x288 with 1 Axes>"
      ]
     },
     "metadata": {},
     "output_type": "display_data"
    },
    {
     "name": "stdout",
     "output_type": "stream",
     "text": [
      "time: 139 ms\n"
     ]
    }
   ],
   "source": [
    "sns.boxplot(x=\"TARGET\", \n",
    "           y=\"DAYS_REMAINING_ACTIVE\", \n",
    "           data=df, \n",
    "           showfliers=False)"
   ]
  },
  {
   "cell_type": "code",
   "execution_count": 11,
   "metadata": {},
   "outputs": [
    {
     "data": {
      "text/plain": [
       "<matplotlib.axes._subplots.AxesSubplot at 0x112495da0>"
      ]
     },
     "execution_count": 11,
     "metadata": {},
     "output_type": "execute_result"
    },
    {
     "data": {
      "image/png": "[encoded data removed]",
      "text/plain": [
       "<Figure size 432x288 with 1 Axes>"
      ]
     },
     "metadata": {},
     "output_type": "display_data"
    },
    {
     "name": "stdout",
     "output_type": "stream",
     "text": [
      "time: 124 ms\n"
     ]
    }
   ],
   "source": [
    "sns.boxplot(x=\"TARGET\", \n",
    "           y=\"BUREAU_SUM_DEBT_DIFF_6M_12M\", \n",
    "           data=df, \n",
    "           showfliers=False)"
   ]
  },
  {
   "cell_type": "markdown",
   "metadata": {},
   "source": [
    "## Credit card"
   ]
  },
  {
   "cell_type": "code",
   "execution_count": 12,
   "metadata": {},
   "outputs": [
    {
     "name": "stdout",
     "output_type": "stream",
     "text": [
      "time: 68.9 ms\n"
     ]
    }
   ],
   "source": [
    "def credit_card_agg_func(g):\n",
    "    mask6 = g[\"MONTHS_BALANCE\"] >= -6\n",
    "    mask12 = g[\"MONTHS_BALANCE\"] >= -12\n",
    "    mask24 = g[\"MONTHS_BALANCE\"] >= -24\n",
    "    \n",
    "    d = {\"MAX_CREDIT_CARD_SK_DPD_6M\": np.nanmax(g[\"SK_DPD\"].where(mask6)), \n",
    "        \"MAX_CREDIT_CARD_SK_DPD_12M\": np.nanmax(g[\"SK_DPD\"].where(mask12)),\n",
    "        \"MAX_AMT_DRAWINGS_CURRENT_6M\": np.nanmax(g[\"AMT_DRAWINGS_CURRENT\"].where(mask6)), \n",
    "        \"MAX_AMT_DRAWINGS_CURRENT_12M\": np.nanmax(g[\"AMT_DRAWINGS_CURRENT\"].where(mask12)), \n",
    "        \"MAX_AMT_INST_MIN_REGULARITY_6M\": np.nanmax(g[\"AMT_INST_MIN_REGULARITY\"].where(mask6)), \n",
    "        \"MAX_AMT_INST_MIN_REGULARITY_12M\": np.nanmax(g[\"AMT_INST_MIN_REGULARITY\"].where(mask12)), \n",
    "        \"MAX_CNT_DRAWINGS_POS_CURRENT_6M\": np.nanmax(g[\"CNT_DRAWINGS_POS_CURRENT\"].where(mask6)), \n",
    "        \"MAX_CNT_DRAWINGS_POS_CURRENT_12M\": np.nanmax(g[\"CNT_DRAWINGS_POS_CURRENT\"].where(mask12)), \n",
    "        \"MAX_AMT_DRAWINGS_CURRENT_DIFF_12M_24M\": np.nanmax(g[\"CNT_DRAWINGS_POS_CURRENT\"].where(mask6)) - np.nanmax(g[\"CNT_DRAWINGS_POS_CURRENT\"].where(mask12 ^ mask24)), \n",
    "        \"SUM_CC_PAYMENT_DIFF_6M\": np.nansum((g[\"AMT_PAYMENT_TOTAL_CURRENT\"] - g[\"AMT_INST_MIN_REGULARITY\"]).where(mask6)), \n",
    "        \"SUM_CC_PAYMENT_DIFF_12M\": np.nansum((g[\"AMT_PAYMENT_TOTAL_CURRENT\"] - g[\"AMT_INST_MIN_REGULARITY\"]).where(mask12))} \n",
    "    \n",
    "    return pd.Series(d)"
   ]
  },
  {
   "cell_type": "markdown",
   "metadata": {},
   "source": [
    "#### Process data and join"
   ]
  },
  {
   "cell_type": "code",
   "execution_count": 13,
   "metadata": {},
   "outputs": [
    {
     "name": "stdout",
     "output_type": "stream",
     "text": [
      "time: 37.4 s\n"
     ]
    }
   ],
   "source": [
    "df = pd.read_csv(path + \"application_train.csv\")\n",
    "df = df.sample(10000)\n",
    "\n",
    "credit_card = pd.read_csv(path + \"credit_card_balance.csv\")\n",
    "credit_card = credit_card[credit_card[\"SK_ID_CURR\"].isin(df[\"SK_ID_CURR\"])]\n",
    "credit_card_agg = credit_card.groupby(\"SK_ID_CURR\").apply(credit_card_agg_func).reset_index()\n",
    "df = pd.merge(df, credit_card_agg, how=\"left\", on=\"SK_ID_CURR\")"
   ]
  },
  {
   "cell_type": "code",
   "execution_count": 14,
   "metadata": {},
   "outputs": [
    {
     "name": "stdout",
     "output_type": "stream",
     "text": [
      "time: 1.9 ms\n"
     ]
    }
   ],
   "source": [
    "cols = [\"MAX_CREDIT_CARD_SK_DPD_6M\", \n",
    "        \"MAX_CREDIT_CARD_SK_DPD_12M\", \n",
    "        \"MAX_AMT_DRAWINGS_CURRENT_6M\", \n",
    "        \"MAX_AMT_DRAWINGS_CURRENT_12M\", \n",
    "        \"MAX_AMT_INST_MIN_REGULARITY_6M\", \n",
    "        \"MAX_AMT_INST_MIN_REGULARITY_12M\", \n",
    "        \"MAX_CNT_DRAWINGS_POS_CURRENT_6M\", \n",
    "        \"MAX_CNT_DRAWINGS_POS_CURRENT_12M\", \n",
    "        \"MAX_AMT_DRAWINGS_CURRENT_DIFF_12M_24M\", \n",
    "        \"SUM_CC_PAYMENT_DIFF_6M\", \n",
    "        \"SUM_CC_PAYMENT_DIFF_12M\"]"
   ]
  },
  {
   "cell_type": "code",
   "execution_count": 16,
   "metadata": {},
   "outputs": [
    {
     "name": "stdout",
     "output_type": "stream",
     "text": [
      "time: 20.4 s\n"
     ]
    }
   ],
   "source": [
    "result = quick_model(X=df, \n",
    "           y=df[\"TARGET\"], \n",
    "           usecols=cols, \n",
    "           n_estimators=1000, \n",
    "           num_leaves=23)"
   ]
  },
  {
   "cell_type": "code",
   "execution_count": 17,
   "metadata": {},
   "outputs": [
    {
     "data": {
      "text/plain": [
       "0.4855"
      ]
     },
     "execution_count": 17,
     "metadata": {},
     "output_type": "execute_result"
    },
    {
     "name": "stdout",
     "output_type": "stream",
     "text": [
      "time: 2.56 ms\n"
     ]
    }
   ],
   "source": [
    "result[\"auc\"]"
   ]
  },
  {
   "cell_type": "code",
   "execution_count": 18,
   "metadata": {},
   "outputs": [
    {
     "data": {
      "text/html": [
       "<div>\n",
       "<style scoped>\n",
       "    .dataframe tbody tr th:only-of-type {\n",
       "        vertical-align: middle;\n",
       "    }\n",
       "\n",
       "    .dataframe tbody tr th {\n",
       "        vertical-align: top;\n",
       "    }\n",
       "\n",
       "    .dataframe thead th {\n",
       "        text-align: right;\n",
       "    }\n",
       "</style>\n",
       "<table border=\"1\" class=\"dataframe\">\n",
       "  <thead>\n",
       "    <tr style=\"text-align: right;\">\n",
       "      <th></th>\n",
       "      <th>Feature</th>\n",
       "      <th>Importance</th>\n",
       "    </tr>\n",
       "  </thead>\n",
       "  <tbody>\n",
       "    <tr>\n",
       "      <th>10</th>\n",
       "      <td>SUM_CC_PAYMENT_DIFF_12M</td>\n",
       "      <td>4459</td>\n",
       "    </tr>\n",
       "    <tr>\n",
       "      <th>3</th>\n",
       "      <td>MAX_AMT_DRAWINGS_CURRENT_12M</td>\n",
       "      <td>3538</td>\n",
       "    </tr>\n",
       "    <tr>\n",
       "      <th>9</th>\n",
       "      <td>SUM_CC_PAYMENT_DIFF_6M</td>\n",
       "      <td>3409</td>\n",
       "    </tr>\n",
       "    <tr>\n",
       "      <th>2</th>\n",
       "      <td>MAX_AMT_DRAWINGS_CURRENT_6M</td>\n",
       "      <td>2437</td>\n",
       "    </tr>\n",
       "    <tr>\n",
       "      <th>5</th>\n",
       "      <td>MAX_AMT_INST_MIN_REGULARITY_12M</td>\n",
       "      <td>1806</td>\n",
       "    </tr>\n",
       "    <tr>\n",
       "      <th>8</th>\n",
       "      <td>MAX_AMT_DRAWINGS_CURRENT_DIFF_12M_24M</td>\n",
       "      <td>1687</td>\n",
       "    </tr>\n",
       "    <tr>\n",
       "      <th>4</th>\n",
       "      <td>MAX_AMT_INST_MIN_REGULARITY_6M</td>\n",
       "      <td>1656</td>\n",
       "    </tr>\n",
       "    <tr>\n",
       "      <th>7</th>\n",
       "      <td>MAX_CNT_DRAWINGS_POS_CURRENT_12M</td>\n",
       "      <td>1063</td>\n",
       "    </tr>\n",
       "    <tr>\n",
       "      <th>6</th>\n",
       "      <td>MAX_CNT_DRAWINGS_POS_CURRENT_6M</td>\n",
       "      <td>889</td>\n",
       "    </tr>\n",
       "    <tr>\n",
       "      <th>1</th>\n",
       "      <td>MAX_CREDIT_CARD_SK_DPD_12M</td>\n",
       "      <td>725</td>\n",
       "    </tr>\n",
       "    <tr>\n",
       "      <th>0</th>\n",
       "      <td>MAX_CREDIT_CARD_SK_DPD_6M</td>\n",
       "      <td>331</td>\n",
       "    </tr>\n",
       "  </tbody>\n",
       "</table>\n",
       "</div>"
      ],
      "text/plain": [
       "                                  Feature  Importance\n",
       "10                SUM_CC_PAYMENT_DIFF_12M        4459\n",
       "3            MAX_AMT_DRAWINGS_CURRENT_12M        3538\n",
       "9                  SUM_CC_PAYMENT_DIFF_6M        3409\n",
       "2             MAX_AMT_DRAWINGS_CURRENT_6M        2437\n",
       "5         MAX_AMT_INST_MIN_REGULARITY_12M        1806\n",
       "8   MAX_AMT_DRAWINGS_CURRENT_DIFF_12M_24M        1687\n",
       "4          MAX_AMT_INST_MIN_REGULARITY_6M        1656\n",
       "7        MAX_CNT_DRAWINGS_POS_CURRENT_12M        1063\n",
       "6         MAX_CNT_DRAWINGS_POS_CURRENT_6M         889\n",
       "1              MAX_CREDIT_CARD_SK_DPD_12M         725\n",
       "0               MAX_CREDIT_CARD_SK_DPD_6M         331"
      ]
     },
     "execution_count": 18,
     "metadata": {},
     "output_type": "execute_result"
    },
    {
     "name": "stdout",
     "output_type": "stream",
     "text": [
      "time: 7.12 ms\n"
     ]
    }
   ],
   "source": [
    "result[\"var_imp\"].head(20)"
   ]
  },
  {
   "cell_type": "code",
   "execution_count": 19,
   "metadata": {},
   "outputs": [
    {
     "data": {
      "text/plain": [
       "<matplotlib.axes._subplots.AxesSubplot at 0x111a876a0>"
      ]
     },
     "execution_count": 19,
     "metadata": {},
     "output_type": "execute_result"
    },
    {
     "data": {
      "image/png": "[encoded data removed]",
      "text/plain": [
       "<Figure size 432x288 with 1 Axes>"
      ]
     },
     "metadata": {},
     "output_type": "display_data"
    },
    {
     "name": "stdout",
     "output_type": "stream",
     "text": [
      "time: 114 ms\n"
     ]
    }
   ],
   "source": [
    "sns.boxplot(x=\"TARGET\", \n",
    "           y=\"SUM_CC_PAYMENT_DIFF_12M\", \n",
    "           data=df, \n",
    "           showfliers=False)"
   ]
  },
  {
   "cell_type": "code",
   "execution_count": 20,
   "metadata": {},
   "outputs": [
    {
     "data": {
      "text/plain": [
       "<matplotlib.axes._subplots.AxesSubplot at 0x1110c4630>"
      ]
     },
     "execution_count": 20,
     "metadata": {},
     "output_type": "execute_result"
    },
    {
     "data": {
      "image/png": "[encoded data removed]",
      "text/plain": [
       "<Figure size 432x288 with 1 Axes>"
      ]
     },
     "metadata": {},
     "output_type": "display_data"
    },
    {
     "name": "stdout",
     "output_type": "stream",
     "text": [
      "time: 120 ms\n"
     ]
    }
   ],
   "source": [
    "sns.boxplot(x=\"TARGET\", \n",
    "           y=\"MAX_AMT_DRAWINGS_CURRENT_12M\", \n",
    "           data=df, \n",
    "           showfliers=False)"
   ]
  }
 ],
 "metadata": {
  "kernelspec": {
   "display_name": "Python 3",
   "language": "python",
   "name": "python3"
  },
  "language_info": {
   "codemirror_mode": {
    "name": "ipython",
    "version": 3
   },
   "file_extension": ".py",
   "mimetype": "text/x-python",
   "name": "python",
   "nbconvert_exporter": "python",
   "pygments_lexer": "ipython3",
   "version": "3.6.5"
  }
 },
 "nbformat": 4,
 "nbformat_minor": 2
}
