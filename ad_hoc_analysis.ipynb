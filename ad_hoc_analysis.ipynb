{
 "cells": [
  {
   "cell_type": "markdown",
   "metadata": {},
   "source": [
    "# Home Credit Ad Hoc Analysis and Feature Construction"
   ]
  },
  {
   "cell_type": "code",
   "execution_count": 1,
   "metadata": {},
   "outputs": [],
   "source": [
    "import numpy as np\n",
    "import pandas as pd\n",
    "import seaborn as sns\n",
    "import matplotlib.pyplot as plt\n",
    "from scipy.stats import iqr, randint, uniform\n",
    "import lightgbm as lgb\n",
    "from sklearn.tree import DecisionTreeClassifier\n",
    "from sklearn.ensemble import RandomForestClassifier\n",
    "from sklearn.linear_model import LogisticRegressionCV\n",
    "from sklearn.preprocessing import Imputer, StandardScaler, RobustScaler\n",
    "from sklearn.model_selection import RandomizedSearchCV, GridSearchCV, train_test_split, cross_val_score\n",
    "from sklearn.metrics import roc_auc_score\n",
    "from skopt import gp_minimize\n",
    "from skopt.plots import plot_convergence, plot_objective\n",
    "from IPython.display import display\n",
    "import warnings\n",
    "import pickle\n",
    "import gc\n",
    "\n",
    "%load_ext autotime\n",
    "# %unload_ext autotime\n",
    "\n",
    "pd.options.display.max_columns = None\n",
    "warnings.filterwarnings(\"ignore\")\n",
    "gc.enable()\n",
    "np.random.seed(0)\n",
    "\n",
    "path = \"/Users/dsaxton/home_credit_default/\""
   ]
  },
  {
   "cell_type": "markdown",
   "metadata": {},
   "source": [
    "#### Full data"
   ]
  },
  {
   "cell_type": "code",
   "execution_count": 74,
   "metadata": {},
   "outputs": [
    {
     "name": "stdout",
     "output_type": "stream",
     "text": [
      "time: 48.3 s\n"
     ]
    }
   ],
   "source": [
    "df = pd.read_csv(path + \"preprocessed_train.csv\")"
   ]
  },
  {
   "cell_type": "code",
   "execution_count": 77,
   "metadata": {},
   "outputs": [
    {
     "data": {
      "text/plain": [
       "0    0.0\n",
       "1    0.0\n",
       "2    0.0\n",
       "3    0.0\n",
       "4    0.0\n",
       "Name: SUM_UNDERPAYMENT_12M, dtype: float64"
      ]
     },
     "execution_count": 77,
     "metadata": {},
     "output_type": "execute_result"
    },
    {
     "name": "stdout",
     "output_type": "stream",
     "text": [
      "time: 3.45 ms\n"
     ]
    }
   ],
   "source": [
    "df[\"SUM_UNDERPAYMENT_12M\"].head()"
   ]
  },
  {
   "cell_type": "markdown",
   "metadata": {},
   "source": [
    "#### Application tables"
   ]
  },
  {
   "cell_type": "code",
   "execution_count": null,
   "metadata": {},
   "outputs": [],
   "source": [
    "application_test = pd.read_csv(path + \"application_test.csv\")"
   ]
  },
  {
   "cell_type": "code",
   "execution_count": null,
   "metadata": {},
   "outputs": [],
   "source": [
    "application_train = pd.read_csv(path + \"application_train.csv\")"
   ]
  },
  {
   "cell_type": "markdown",
   "metadata": {},
   "source": [
    "#### Previous application and behavioral tables"
   ]
  },
  {
   "cell_type": "code",
   "execution_count": null,
   "metadata": {},
   "outputs": [],
   "source": [
    "bureau_balance = pd.read_csv(path + \"bureau_balance.csv\")\n",
    "bureau = pd.read_csv(path + \"bureau.csv\")\n",
    "credit_card = pd.read_csv(path + \"credit_card_balance.csv\")\n",
    "installments = pd.read_csv(path + \"installments_payments.csv\")\n",
    "pos_cash = pd.read_csv(path + \"POS_CASH_balance.csv\")\n",
    "previous_application = pd.read_csv(path + \"previous_application.csv\")"
   ]
  },
  {
   "cell_type": "markdown",
   "metadata": {},
   "source": [
    "#### Aggregate tables"
   ]
  },
  {
   "cell_type": "code",
   "execution_count": null,
   "metadata": {},
   "outputs": [],
   "source": [
    "bureau_agg = pd.read_csv(path + \"bureau_agg.csv\")"
   ]
  },
  {
   "cell_type": "code",
   "execution_count": null,
   "metadata": {},
   "outputs": [],
   "source": [
    "credit_card_agg = pd.read_csv(path + \"credit_card_agg.csv\")"
   ]
  },
  {
   "cell_type": "markdown",
   "metadata": {},
   "source": [
    "# Feature construction sand box"
   ]
  },
  {
   "cell_type": "code",
   "execution_count": 160,
   "metadata": {},
   "outputs": [
    {
     "name": "stdout",
     "output_type": "stream",
     "text": [
      "time: 4 ms\n"
     ]
    }
   ],
   "source": [
    "def quick_model(X, y, n_estimators, num_leaves, usecols, dropcols=[],  folds=5):\n",
    "    take = [c for c in usecols if c not in dropcols]\n",
    "    clf = lgb.LGBMClassifier(n_estimators=n_estimators, num_leaves=num_leaves)\n",
    "    clf.fit(X[take], y)\n",
    "    var_imp = pd.DataFrame({\"Feature\": X[take].columns, \"Importance\": clf.feature_importances_})[[\"Feature\", \"Importance\"]].sort_values(\"Importance\", ascending=False)\n",
    "    cv_result = cross_val_score(estimator=clf, X=X[take], y=y, scoring=\"roc_auc\", cv=folds)\n",
    "    auc_mean = round(cv_result.mean(), 4)\n",
    "    auc_std = round(cv_result.std() / np.sqrt(folds), 4)\n",
    "    \n",
    "    return {\"var_imp\": var_imp, \"auc_mean\": auc_mean, \"auc_std\": auc_std}"
   ]
  },
  {
   "cell_type": "markdown",
   "metadata": {},
   "source": [
    "# Bureau"
   ]
  },
  {
   "cell_type": "markdown",
   "metadata": {},
   "source": [
    "#### Load data"
   ]
  },
  {
   "cell_type": "code",
   "execution_count": 66,
   "metadata": {},
   "outputs": [
    {
     "name": "stdout",
     "output_type": "stream",
     "text": [
      "time: 26.7 s\n"
     ]
    }
   ],
   "source": [
    "# pull in performance data\n",
    "df = pd.read_csv(path + \"preprocessed_train.csv\", usecols=[\"SK_ID_CURR\", \"TARGET\"])\n",
    "\n",
    "# load raw bureau data for calculating new aggregates\n",
    "bureau = pd.read_csv(path + \"bureau.csv\")\n",
    "bureau = bureau[bureau[\"SK_ID_CURR\"].isin(df[\"SK_ID_CURR\"])]\n",
    "\n",
    "# load bureau_balance_agg and join with raw bureau\n",
    "bureau_balance_agg = pd.read_csv(path + \"bureau_balance_agg.csv\")\n",
    "bureau_balance_agg = bureau_balance_agg[bureau_balance_agg[\"SK_ID_BUREAU\"].isin(bureau[\"SK_ID_BUREAU\"])]\n",
    "\n",
    "bureau_joined = pd.merge(bureau, bureau_balance_agg, how=\"left\", on=\"SK_ID_BUREAU\")"
   ]
  },
  {
   "cell_type": "code",
   "execution_count": 67,
   "metadata": {},
   "outputs": [
    {
     "name": "stdout",
     "output_type": "stream",
     "text": [
      "time: 12 ms\n"
     ]
    }
   ],
   "source": [
    "def bureau_agg_func(g):\n",
    "    mask6 = g[\"DAYS_CREDIT_UPDATE\"] >= -180\n",
    "    mask12 = g[\"DAYS_CREDIT_UPDATE\"] >= -360\n",
    "    mask24 = g[\"DAYS_CREDIT_UPDATE\"] >= -720\n",
    "    active = g[\"CREDIT_ACTIVE\"] == \"Active\"\n",
    "    \n",
    "    d = {}\n",
    "    \n",
    "    return pd.Series(d)"
   ]
  },
  {
   "cell_type": "markdown",
   "metadata": {},
   "source": [
    "#### Process data and join"
   ]
  },
  {
   "cell_type": "code",
   "execution_count": 68,
   "metadata": {},
   "outputs": [
    {
     "name": "stdout",
     "output_type": "stream",
     "text": [
      "time: 1min 45s\n"
     ]
    }
   ],
   "source": [
    "# calculate new aggregates\n",
    "bureau_agg_new = bureau_joined.groupby(\"SK_ID_CURR\").apply(bureau_agg_func).reset_index()\n",
    "\n",
    "# load old aggregates and join\n",
    "bureau_agg = pd.read_csv(path + \"bureau_agg.csv\")\n",
    "bureau_agg = pd.merge(bureau_agg, bureau_agg_new, how=\"left\", on=\"SK_ID_CURR\")\n",
    "\n",
    "# merge with performance data\n",
    "df = pd.merge(df, bureau_agg, how=\"left\", on=\"SK_ID_CURR\")"
   ]
  },
  {
   "cell_type": "markdown",
   "metadata": {},
   "source": [
    "#### Fit quick model"
   ]
  },
  {
   "cell_type": "code",
   "execution_count": 69,
   "metadata": {},
   "outputs": [
    {
     "name": "stdout",
     "output_type": "stream",
     "text": [
      "time: 1.02 ms\n"
     ]
    }
   ],
   "source": [
    "cols = []"
   ]
  },
  {
   "cell_type": "code",
   "execution_count": null,
   "metadata": {},
   "outputs": [],
   "source": [
    "result = quick_model(X=df, \n",
    "                     y=df[\"TARGET\"], \n",
    "                     usecols=cols, \n",
    "                     n_estimators=1000, \n",
    "                     num_leaves=23, \n",
    "                     folds=3)"
   ]
  },
  {
   "cell_type": "code",
   "execution_count": null,
   "metadata": {},
   "outputs": [],
   "source": [
    "result[\"auc_mean\"]"
   ]
  },
  {
   "cell_type": "code",
   "execution_count": null,
   "metadata": {},
   "outputs": [],
   "source": [
    "result[\"auc_std\"]"
   ]
  },
  {
   "cell_type": "code",
   "execution_count": null,
   "metadata": {},
   "outputs": [],
   "source": [
    "result[\"var_imp\"]"
   ]
  },
  {
   "cell_type": "code",
   "execution_count": 10,
   "metadata": {},
   "outputs": [
    {
     "data": {
      "text/plain": [
       "<matplotlib.axes._subplots.AxesSubplot at 0x118e237b8>"
      ]
     },
     "execution_count": 10,
     "metadata": {},
     "output_type": "execute_result"
    },
    {
     "data": {
      "image/png": "[encoded data removed]",
      "text/plain": [
       "<Figure size 432x288 with 1 Axes>"
      ]
     },
     "metadata": {},
     "output_type": "display_data"
    },
    {
     "name": "stdout",
     "output_type": "stream",
     "text": [
      "time: 139 ms\n"
     ]
    }
   ],
   "source": [
    "sns.boxplot(x=\"TARGET\", \n",
    "           y=\"DAYS_REMAINING_ACTIVE\", \n",
    "           data=df, \n",
    "           showfliers=False)"
   ]
  },
  {
   "cell_type": "markdown",
   "metadata": {},
   "source": [
    "# Previous application"
   ]
  },
  {
   "cell_type": "markdown",
   "metadata": {},
   "source": [
    "#### Load data"
   ]
  },
  {
   "cell_type": "code",
   "execution_count": 136,
   "metadata": {},
   "outputs": [
    {
     "name": "stdout",
     "output_type": "stream",
     "text": [
      "time: 14 s\n"
     ]
    }
   ],
   "source": [
    "# pull in performance data\n",
    "df = pd.read_csv(path + \"preprocessed_train.csv\", usecols=[\"SK_ID_CURR\", \"TARGET\"])\n",
    "df = df.sample(10000)\n",
    "\n",
    "# load raw bureau data for calculating new aggregates\n",
    "previous_application = pd.read_csv(path + \"previous_application.csv\")\n",
    "previous_application = previous_application[previous_application[\"SK_ID_CURR\"].isin(df[\"SK_ID_CURR\"])]"
   ]
  },
  {
   "cell_type": "code",
   "execution_count": 137,
   "metadata": {},
   "outputs": [
    {
     "name": "stdout",
     "output_type": "stream",
     "text": [
      "time: 1.91 ms\n"
     ]
    }
   ],
   "source": [
    "def previous_agg_func(g):\n",
    "    mask12 = g[\"DAYS_DECISION\"] >= -360\n",
    "    mask24 = g[\"DAYS_DECISION\"] >= -720\n",
    "\n",
    "    d = {}\n",
    "\n",
    "    return pd.Series(d)"
   ]
  },
  {
   "cell_type": "markdown",
   "metadata": {},
   "source": [
    "#### Process data and join"
   ]
  },
  {
   "cell_type": "code",
   "execution_count": 138,
   "metadata": {},
   "outputs": [
    {
     "name": "stdout",
     "output_type": "stream",
     "text": [
      "time: 23.2 s\n"
     ]
    }
   ],
   "source": [
    "# calculate new aggregates\n",
    "previous_agg_new = previous_application.groupby(\"SK_ID_CURR\").apply(previous_agg_func).reset_index()\n",
    "new_cols = previous_agg_new.columns.tolist()\n",
    "\n",
    "# load old aggregates and join\n",
    "previous_agg = pd.read_csv(path + \"previous_agg.csv\")\n",
    "previous_agg = pd.merge(previous_agg, previous_agg_new, how=\"left\", on=\"SK_ID_CURR\")\n",
    "\n",
    "# merge with performance data\n",
    "df_new = pd.merge(df, previous_agg, how=\"left\", on=\"SK_ID_CURR\")"
   ]
  },
  {
   "cell_type": "markdown",
   "metadata": {},
   "source": [
    "#### Fit quick model"
   ]
  },
  {
   "cell_type": "code",
   "execution_count": 139,
   "metadata": {},
   "outputs": [
    {
     "name": "stdout",
     "output_type": "stream",
     "text": [
      "time: 6.17 ms\n"
     ]
    }
   ],
   "source": [
    "cols = df_new.drop([\"TARGET\", \"SK_ID_CURR\"], axis=1).columns.tolist()"
   ]
  },
  {
   "cell_type": "code",
   "execution_count": 163,
   "metadata": {},
   "outputs": [
    {
     "name": "stdout",
     "output_type": "stream",
     "text": [
      "time: 15.7 s\n"
     ]
    }
   ],
   "source": [
    "result = quick_model(X=df_new, \n",
    "                     y=df_new[\"TARGET\"], \n",
    "                     usecols=cols, \n",
    "                     # dropcols=new_cols, \n",
    "                     n_estimators=500, \n",
    "                     num_leaves=23, \n",
    "                     folds=3)"
   ]
  },
  {
   "cell_type": "markdown",
   "metadata": {},
   "source": [
    "#### CV AUC"
   ]
  },
  {
   "cell_type": "code",
   "execution_count": 164,
   "metadata": {},
   "outputs": [
    {
     "data": {
      "text/plain": [
       "0.5686"
      ]
     },
     "execution_count": 164,
     "metadata": {},
     "output_type": "execute_result"
    },
    {
     "name": "stdout",
     "output_type": "stream",
     "text": [
      "time: 2.3 ms\n"
     ]
    }
   ],
   "source": [
    "result[\"auc_mean\"]"
   ]
  },
  {
   "cell_type": "markdown",
   "metadata": {},
   "source": [
    "#### Average importance"
   ]
  },
  {
   "cell_type": "code",
   "execution_count": 165,
   "metadata": {},
   "outputs": [
    {
     "data": {
      "text/plain": [
       "155"
      ]
     },
     "execution_count": 165,
     "metadata": {},
     "output_type": "execute_result"
    },
    {
     "name": "stdout",
     "output_type": "stream",
     "text": [
      "time: 2.76 ms\n"
     ]
    }
   ],
   "source": [
    "round(result[\"var_imp\"][\"Importance\"].mean())"
   ]
  },
  {
   "cell_type": "markdown",
   "metadata": {},
   "source": [
    "#### Importance of new features"
   ]
  },
  {
   "cell_type": "code",
   "execution_count": 149,
   "metadata": {},
   "outputs": [
    {
     "data": {
      "text/html": [
       "<div>\n",
       "<style scoped>\n",
       "    .dataframe tbody tr th:only-of-type {\n",
       "        vertical-align: middle;\n",
       "    }\n",
       "\n",
       "    .dataframe tbody tr th {\n",
       "        vertical-align: top;\n",
       "    }\n",
       "\n",
       "    .dataframe thead th {\n",
       "        text-align: right;\n",
       "    }\n",
       "</style>\n",
       "<table border=\"1\" class=\"dataframe\">\n",
       "  <thead>\n",
       "    <tr style=\"text-align: right;\">\n",
       "      <th></th>\n",
       "      <th>Feature</th>\n",
       "      <th>Importance</th>\n",
       "    </tr>\n",
       "  </thead>\n",
       "  <tbody>\n",
       "    <tr>\n",
       "      <th>69</th>\n",
       "      <td>MIN_PREV_AMT_ANNUITY_24M</td>\n",
       "      <td>259</td>\n",
       "    </tr>\n",
       "    <tr>\n",
       "      <th>68</th>\n",
       "      <td>MIN_PREV_AMT_ANNUITY_12M</td>\n",
       "      <td>145</td>\n",
       "    </tr>\n",
       "    <tr>\n",
       "      <th>70</th>\n",
       "      <td>MIN_PREV_PROP_APPROVED_12M</td>\n",
       "      <td>73</td>\n",
       "    </tr>\n",
       "  </tbody>\n",
       "</table>\n",
       "</div>"
      ],
      "text/plain": [
       "                       Feature  Importance\n",
       "69    MIN_PREV_AMT_ANNUITY_24M         259\n",
       "68    MIN_PREV_AMT_ANNUITY_12M         145\n",
       "70  MIN_PREV_PROP_APPROVED_12M          73"
      ]
     },
     "execution_count": 149,
     "metadata": {},
     "output_type": "execute_result"
    },
    {
     "name": "stdout",
     "output_type": "stream",
     "text": [
      "time: 5.84 ms\n"
     ]
    }
   ],
   "source": [
    "result[\"var_imp\"][result[\"var_imp\"][\"Feature\"].isin(new_cols)]"
   ]
  },
  {
   "cell_type": "markdown",
   "metadata": {},
   "source": [
    "#### Importance of top features"
   ]
  },
  {
   "cell_type": "code",
   "execution_count": 169,
   "metadata": {},
   "outputs": [
    {
     "data": {
      "text/html": [
       "<div>\n",
       "<style scoped>\n",
       "    .dataframe tbody tr th:only-of-type {\n",
       "        vertical-align: middle;\n",
       "    }\n",
       "\n",
       "    .dataframe tbody tr th {\n",
       "        vertical-align: top;\n",
       "    }\n",
       "\n",
       "    .dataframe thead th {\n",
       "        text-align: right;\n",
       "    }\n",
       "</style>\n",
       "<table border=\"1\" class=\"dataframe\">\n",
       "  <thead>\n",
       "    <tr style=\"text-align: right;\">\n",
       "      <th></th>\n",
       "      <th>Feature</th>\n",
       "      <th>Importance</th>\n",
       "    </tr>\n",
       "  </thead>\n",
       "  <tbody>\n",
       "    <tr>\n",
       "      <th>16</th>\n",
       "      <td>MIN_PREV_AMT_CREDIT_DIV_ANNUITY</td>\n",
       "      <td>342</td>\n",
       "    </tr>\n",
       "    <tr>\n",
       "      <th>24</th>\n",
       "      <td>MAX_PREV_AMT_ANNUITY_WEIGHTED</td>\n",
       "      <td>315</td>\n",
       "    </tr>\n",
       "    <tr>\n",
       "      <th>58</th>\n",
       "      <td>MAX_SYNTH_TARGET</td>\n",
       "      <td>290</td>\n",
       "    </tr>\n",
       "    <tr>\n",
       "      <th>59</th>\n",
       "      <td>MIN_SYNTH_TARGET</td>\n",
       "      <td>288</td>\n",
       "    </tr>\n",
       "    <tr>\n",
       "      <th>0</th>\n",
       "      <td>AVG_SYNTH_TARGET_12M</td>\n",
       "      <td>286</td>\n",
       "    </tr>\n",
       "    <tr>\n",
       "      <th>35</th>\n",
       "      <td>AVG_PREV_RATE_DOWNPAYMENT_WEIGHTED</td>\n",
       "      <td>285</td>\n",
       "    </tr>\n",
       "    <tr>\n",
       "      <th>22</th>\n",
       "      <td>MAX_PREV_AMT_ANNUITY</td>\n",
       "      <td>272</td>\n",
       "    </tr>\n",
       "    <tr>\n",
       "      <th>23</th>\n",
       "      <td>AVG_PREV_AMT_ANNUITY</td>\n",
       "      <td>265</td>\n",
       "    </tr>\n",
       "    <tr>\n",
       "      <th>55</th>\n",
       "      <td>AVG_SYNTH_TARGET</td>\n",
       "      <td>263</td>\n",
       "    </tr>\n",
       "    <tr>\n",
       "      <th>38</th>\n",
       "      <td>AVG_PREV_RATE_DOWNPAYMENT</td>\n",
       "      <td>260</td>\n",
       "    </tr>\n",
       "  </tbody>\n",
       "</table>\n",
       "</div>"
      ],
      "text/plain": [
       "                               Feature  Importance\n",
       "16     MIN_PREV_AMT_CREDIT_DIV_ANNUITY         342\n",
       "24       MAX_PREV_AMT_ANNUITY_WEIGHTED         315\n",
       "58                    MAX_SYNTH_TARGET         290\n",
       "59                    MIN_SYNTH_TARGET         288\n",
       "0                 AVG_SYNTH_TARGET_12M         286\n",
       "35  AVG_PREV_RATE_DOWNPAYMENT_WEIGHTED         285\n",
       "22                MAX_PREV_AMT_ANNUITY         272\n",
       "23                AVG_PREV_AMT_ANNUITY         265\n",
       "55                    AVG_SYNTH_TARGET         263\n",
       "38           AVG_PREV_RATE_DOWNPAYMENT         260"
      ]
     },
     "execution_count": 169,
     "metadata": {},
     "output_type": "execute_result"
    },
    {
     "name": "stdout",
     "output_type": "stream",
     "text": [
      "time: 6.21 ms\n"
     ]
    }
   ],
   "source": [
    "result[\"var_imp\"].head(10)"
   ]
  },
  {
   "cell_type": "code",
   "execution_count": 167,
   "metadata": {},
   "outputs": [
    {
     "data": {
      "text/plain": [
       "<matplotlib.axes._subplots.AxesSubplot at 0x11f9f8978>"
      ]
     },
     "execution_count": 167,
     "metadata": {},
     "output_type": "execute_result"
    },
    {
     "data": {
      "image/png": "[encoded data removed]",
      "text/plain": [
       "<Figure size 432x288 with 1 Axes>"
      ]
     },
     "metadata": {},
     "output_type": "display_data"
    },
    {
     "name": "stdout",
     "output_type": "stream",
     "text": [
      "time: 117 ms\n"
     ]
    }
   ],
   "source": [
    "sns.boxplot(x=\"TARGET\", \n",
    "           y=\"MIN_PREV_AMT_ANNUITY_24M\", \n",
    "           data=df_new, \n",
    "           showfliers=False)"
   ]
  }
 ],
 "metadata": {
  "kernelspec": {
   "display_name": "Python 3",
   "language": "python",
   "name": "python3"
  },
  "language_info": {
   "codemirror_mode": {
    "name": "ipython",
    "version": 3
   },
   "file_extension": ".py",
   "mimetype": "text/x-python",
   "name": "python",
   "nbconvert_exporter": "python",
   "pygments_lexer": "ipython3",
   "version": "3.6.5"
  }
 },
 "nbformat": 4,
 "nbformat_minor": 2
}
